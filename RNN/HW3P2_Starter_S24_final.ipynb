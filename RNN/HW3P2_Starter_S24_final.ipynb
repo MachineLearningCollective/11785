{
 "cells": [
  {
   "cell_type": "markdown",
   "metadata": {
    "id": "UR4qfYrVoO4v"
   },
   "source": [
    "# Installs"
   ]
  },
  {
   "cell_type": "code",
   "execution_count": 1,
   "metadata": {
    "id": "mA9qZoIDcx-h"
   },
   "outputs": [
    {
     "name": "stdout",
     "output_type": "stream",
     "text": [
      "\u001b[33mWARNING: Running pip as the 'root' user can result in broken permissions and conflicting behaviour with the system package manager. It is recommended to use a virtual environment instead: https://pip.pypa.io/warnings/venv\u001b[0m\n",
      "Note: you may need to restart the kernel to use updated packages.\n"
     ]
    }
   ],
   "source": [
    "%pip install torch==1.13.1+cu117 torchvision==0.14.1+cu117 torchtext==0.14.1 torchaudio==0.13.1 torchdata==0.5.1 --extra-index-url https://download.pytorch.org/whl/cu117 -q"
   ]
  },
  {
   "cell_type": "code",
   "execution_count": 1,
   "metadata": {},
   "outputs": [
    {
     "name": "stdout",
     "output_type": "stream",
     "text": [
      "1.13.1+cu117\n",
      "11.7\n"
     ]
    }
   ],
   "source": [
    "import torch\n",
    "print(torch.__version__)\n",
    "print(torch.version.cuda)"
   ]
  },
  {
   "cell_type": "markdown",
   "metadata": {
    "id": "ONgAWhqdoYy-"
   },
   "source": [
    "\n",
    "This may take a while"
   ]
  },
  {
   "cell_type": "code",
   "execution_count": 2,
   "metadata": {
    "colab": {
     "base_uri": "https://localhost:8080/"
    },
    "id": "SS7a7xeEoaV9",
    "outputId": "7c7e9007-7343-46d8-ea75-a9565f78122d"
   },
   "outputs": [
    {
     "name": "stdout",
     "output_type": "stream",
     "text": [
      "\u001b[33mWARNING: Running pip as the 'root' user can result in broken permissions and conflicting behaviour with the system package manager. It is recommended to use a virtual environment instead: https://pip.pypa.io/warnings/venv\u001b[0m\n",
      "\u001b[33mWARNING: Running pip as the 'root' user can result in broken permissions and conflicting behaviour with the system package manager. It is recommended to use a virtual environment instead: https://pip.pypa.io/warnings/venv\u001b[0m\n",
      "Cloning into 'ctcdecode'...\n",
      "remote: Enumerating objects: 1102, done.\u001b[K\n",
      "remote: Counting objects: 100% (39/39), done.\u001b[K\n",
      "remote: Compressing objects: 100% (25/25), done.\u001b[K\n",
      "remote: Total 1102 (delta 16), reused 32 (delta 14), pack-reused 1063\u001b[K\n",
      "Receiving objects: 100% (1102/1102), 782.27 KiB | 1.40 MiB/s, done.\n",
      "Resolving deltas: 100% (529/529), done.\n",
      "Submodule 'third_party/ThreadPool' (https://github.com/progschj/ThreadPool.git) registered for path 'third_party/ThreadPool'\n",
      "Submodule 'third_party/kenlm' (https://github.com/kpu/kenlm.git) registered for path 'third_party/kenlm'\n",
      "Cloning into '/root/ctcdecode/third_party/ThreadPool'...\n",
      "remote: Enumerating objects: 82, done.        \n",
      "remote: Counting objects: 100% (26/26), done.        \n",
      "remote: Compressing objects: 100% (9/9), done.        \n",
      "remote: Total 82 (delta 19), reused 17 (delta 17), pack-reused 56        \n",
      "Cloning into '/root/ctcdecode/third_party/kenlm'...\n",
      "remote: Enumerating objects: 14165, done.        \n",
      "remote: Counting objects: 100% (478/478), done.        \n",
      "remote: Compressing objects: 100% (332/332), done.        \n",
      "remote: Total 14165 (delta 163), reused 409 (delta 132), pack-reused 13687        \n",
      "Receiving objects: 100% (14165/14165), 5.91 MiB | 7.00 MiB/s, done.\n",
      "Resolving deltas: 100% (8043/8043), done.\n",
      "Submodule path 'third_party/ThreadPool': checked out '9a42ec1329f259a5f4881a291db1dcb8f2ad9040'\n",
      "Submodule path 'third_party/kenlm': checked out '35835f1ac4884126458ac89f9bf6dd9ccad561e0'\n",
      "Looking in indexes: http://mirrors.aliyun.com/pypi/simple\n",
      "Requirement already satisfied: wget in ./miniconda3/lib/python3.8/site-packages (3.2)\n",
      "\u001b[33mWARNING: Running pip as the 'root' user can result in broken permissions and conflicting behaviour with the system package manager. It is recommended to use a virtual environment instead: https://pip.pypa.io/warnings/venv\u001b[0m\n",
      "/root/ctcdecode\n",
      "Looking in indexes: http://mirrors.aliyun.com/pypi/simple\n",
      "Processing /root/ctcdecode\n",
      "\u001b[33m  DEPRECATION: A future pip version will change local packages to be built in-place without first copying to a temporary directory. We recommend you use --use-feature=in-tree-build to test your packages with this new behavior before it becomes the default.\n",
      "   pip 21.3 will remove support for this functionality. You can find discussion regarding this at https://github.com/pypa/pip/issues/7555.\u001b[0m\n",
      "^C\n",
      "\u001b[31mERROR: Operation cancelled by user\u001b[0m\n",
      "/root\n"
     ]
    }
   ],
   "source": [
    "!pip install wandb --quiet\n",
    "!pip install python-Levenshtein -q\n",
    "!git clone --recursive https://github.com/parlance/ctcdecode.git\n",
    "!pip install wget\n",
    "%cd ctcdecode\n",
    "!pip install . \n",
    "%cd ..\n"
   ]
  },
  {
   "cell_type": "code",
   "execution_count": null,
   "metadata": {
    "colab": {
     "base_uri": "https://localhost:8080/"
    },
    "id": "HKLIou7YPo2Q",
    "outputId": "44521b8b-a5a5-45ee-fbac-d3387eece19d"
   },
   "outputs": [
    {
     "name": "stdout",
     "output_type": "stream",
     "text": [
      "Collecting torchsummaryx==1.1.0\n",
      "  Downloading torchsummaryX-1.1.0-py3-none-any.whl (2.9 kB)\n",
      "Installing collected packages: torchsummaryx\n",
      "  Attempting uninstall: torchsummaryx\n",
      "    Found existing installation: torchsummaryX 1.3.0\n",
      "    Uninstalling torchsummaryX-1.3.0:\n",
      "      Successfully uninstalled torchsummaryX-1.3.0\n",
      "Successfully installed torchsummaryx-1.1.0\n"
     ]
    }
   ],
   "source": [
    "'''\n",
    "If torchsummaryX doesn't work, please run this cell. Alternatively, please refer to Piazza post @209 for more assistance:\n",
    "'''\n",
    "\n",
    "!pip install torchsummaryx==1.1.0"
   ]
  },
  {
   "cell_type": "markdown",
   "metadata": {
    "id": "IWVONJxCobPc"
   },
   "source": [
    "# Imports"
   ]
  },
  {
   "cell_type": "code",
   "execution_count": 3,
   "metadata": {
    "colab": {
     "base_uri": "https://localhost:8080/"
    },
    "id": "78ZTCIXoof2f",
    "outputId": "9fc6903c-569b-4510-f529-fca37f0d8c31"
   },
   "outputs": [
    {
     "name": "stdout",
     "output_type": "stream",
     "text": [
      "Looking in indexes: http://mirrors.aliyun.com/pypi/simple\n",
      "Requirement already satisfied: scikit-learn in ./miniconda3/lib/python3.8/site-packages (1.3.2)\n",
      "Requirement already satisfied: numpy<2.0,>=1.17.3 in ./miniconda3/lib/python3.8/site-packages (from scikit-learn) (1.22.4)\n",
      "Requirement already satisfied: scipy>=1.5.0 in ./miniconda3/lib/python3.8/site-packages (from scikit-learn) (1.10.1)\n",
      "Requirement already satisfied: threadpoolctl>=2.0.0 in ./miniconda3/lib/python3.8/site-packages (from scikit-learn) (3.4.0)\n",
      "Requirement already satisfied: joblib>=1.1.1 in ./miniconda3/lib/python3.8/site-packages (from scikit-learn) (1.3.2)\n",
      "\u001b[33mWARNING: Running pip as the 'root' user can result in broken permissions and conflicting behaviour with the system package manager. It is recommended to use a virtual environment instead: https://pip.pypa.io/warnings/venv\u001b[0m\n",
      "Note: you may need to restart the kernel to use updated packages.\n"
     ]
    }
   ],
   "source": [
    "import torch\n",
    "import random\n",
    "import numpy as np\n",
    "import torch.nn as nn\n",
    "import torch.nn.functional as F\n",
    "# from torchsummaryX import summary\n",
    "from torch.utils.data import Dataset, DataLoader\n",
    "from torch.nn.utils.rnn import pad_sequence, pack_padded_sequence, pad_packed_sequence\n",
    "\n",
    "import torchaudio.transforms as tat\n",
    "%pip install scikit-learn\n",
    "\n",
    "from sklearn.metrics import accuracy_score\n",
    "import gc"
   ]
  },
  {
   "cell_type": "code",
   "execution_count": 5,
   "metadata": {},
   "outputs": [
    {
     "name": "stdout",
     "output_type": "stream",
     "text": [
      "Looking in indexes: http://mirrors.aliyun.com/pypi/simple\n",
      "Requirement already satisfied: pandas in ./miniconda3/lib/python3.8/site-packages (2.0.3)\n",
      "Requirement already satisfied: numpy>=1.20.3 in ./miniconda3/lib/python3.8/site-packages (from pandas) (1.22.4)\n",
      "Requirement already satisfied: tzdata>=2022.1 in ./miniconda3/lib/python3.8/site-packages (from pandas) (2024.1)\n",
      "Requirement already satisfied: pytz>=2020.1 in ./miniconda3/lib/python3.8/site-packages (from pandas) (2022.1)\n",
      "Requirement already satisfied: python-dateutil>=2.8.2 in ./miniconda3/lib/python3.8/site-packages (from pandas) (2.8.2)\n",
      "Requirement already satisfied: six>=1.5 in ./miniconda3/lib/python3.8/site-packages (from python-dateutil>=2.8.2->pandas) (1.16.0)\n",
      "\u001b[33mWARNING: Running pip as the 'root' user can result in broken permissions and conflicting behaviour with the system package manager. It is recommended to use a virtual environment instead: https://pip.pypa.io/warnings/venv\u001b[0m\n",
      "Note: you may need to restart the kernel to use updated packages.\n",
      "Device:  cuda\n"
     ]
    }
   ],
   "source": [
    "%pip install pandas\n",
    "import zipfile\n",
    "import pandas as pd\n",
    "from tqdm import tqdm\n",
    "import os\n",
    "import datetime\n",
    "\n",
    "# imports for decoding and distance calculation\n",
    "import ctcdecode\n",
    "import Levenshtein\n",
    "from ctcdecode import CTCBeamDecoder\n",
    "\n",
    "import warnings\n",
    "warnings.filterwarnings('ignore')\n",
    "\n",
    "device = 'cuda' if torch.cuda.is_available() else 'cpu'\n",
    "print(\"Device: \", device)"
   ]
  },
  {
   "cell_type": "code",
   "execution_count": 17,
   "metadata": {},
   "outputs": [],
   "source": [
    "!unzip -q ctcdecode.zip"
   ]
  },
  {
   "cell_type": "code",
   "execution_count": 22,
   "metadata": {},
   "outputs": [
    {
     "name": "stdout",
     "output_type": "stream",
     "text": [
      "/root/ctcdecode\n",
      "Looking in indexes: http://mirrors.aliyun.com/pypi/simple\n",
      "Processing /root/ctcdecode\n",
      "\u001b[33m  DEPRECATION: A future pip version will change local packages to be built in-place without first copying to a temporary directory. We recommend you use --use-feature=in-tree-build to test your packages with this new behavior before it becomes the default.\n",
      "   pip 21.3 will remove support for this functionality. You can find discussion regarding this at https://github.com/pypa/pip/issues/7555.\u001b[0m\n",
      "Building wheels for collected packages: ctcdecode\n",
      "  Building wheel for ctcdecode (setup.py) ... \u001b[?25ldone\n",
      "\u001b[?25h  Created wheel for ctcdecode: filename=ctcdecode-1.0.3-cp38-cp38-linux_x86_64.whl size=19364771 sha256=995d0b77c7f8a136973241e7e57d9438a26671cb703e37994fb846fb2f7d7077\n",
      "  Stored in directory: /tmp/pip-ephem-wheel-cache-wc9l5704/wheels/8f/2b/b0/cca02b3548a37d4e1eacd178a2e51b858adf4d3e7d021bfb8a\n",
      "Successfully built ctcdecode\n",
      "Installing collected packages: ctcdecode\n",
      "Successfully installed ctcdecode-1.0.3\n",
      "\u001b[33mWARNING: Running pip as the 'root' user can result in broken permissions and conflicting behaviour with the system package manager. It is recommended to use a virtual environment instead: https://pip.pypa.io/warnings/venv\u001b[0m\n",
      "/root\n"
     ]
    }
   ],
   "source": [
    "%cd ctcdecode\n",
    "!pip install . \n",
    "%cd .."
   ]
  },
  {
   "cell_type": "code",
   "execution_count": 1,
   "metadata": {},
   "outputs": [
    {
     "name": "stdout",
     "output_type": "stream",
     "text": [
      "Device:  cuda\n"
     ]
    }
   ],
   "source": [
    "import torch\n",
    "import random\n",
    "import numpy as np\n",
    "import torch.nn as nn\n",
    "import torch.nn.functional as F\n",
    "# from torchsummaryX import summary\n",
    "from torch.utils.data import Dataset, DataLoader\n",
    "from torch.nn.utils.rnn import pad_sequence, pack_padded_sequence, pad_packed_sequence\n",
    "\n",
    "import torchaudio.transforms as tat\n",
    "\n",
    "from sklearn.metrics import accuracy_score\n",
    "import gc\n",
    "\n",
    "import zipfile\n",
    "import pandas as pd\n",
    "from tqdm import tqdm\n",
    "import os\n",
    "import datetime\n",
    "\n",
    "# imports for decoding and distance calculation\n",
    "import ctcdecode\n",
    "import Levenshtein\n",
    "from ctcdecode import CTCBeamDecoder\n",
    "\n",
    "import warnings\n",
    "warnings.filterwarnings('ignore')\n",
    "\n",
    "device = 'cuda' if torch.cuda.is_available() else 'cpu'\n",
    "print(\"Device: \", device)"
   ]
  },
  {
   "cell_type": "markdown",
   "metadata": {
    "id": "gg3-yJ8tok34",
    "tags": []
   },
   "source": [
    "# Kaggle Setup"
   ]
  },
  {
   "cell_type": "code",
   "execution_count": 4,
   "metadata": {
    "colab": {
     "base_uri": "https://localhost:8080/"
    },
    "id": "AdUelfGhom1m",
    "outputId": "82066f18-0851-486f-f15b-493379f02e05"
   },
   "outputs": [
    {
     "name": "stdout",
     "output_type": "stream",
     "text": [
      "Collecting kaggle==1.5.8\n",
      "  Using cached kaggle-1.5.8-py3-none-any.whl\n",
      "Installing collected packages: kaggle\n",
      "  Attempting uninstall: kaggle\n",
      "    Found existing installation: kaggle 1.5.8\n",
      "    Uninstalling kaggle-1.5.8:\n",
      "      Successfully uninstalled kaggle-1.5.8\n",
      "Successfully installed kaggle-1.5.8\n",
      "mkdir: cannot create directory ‘/root/.kaggle’: File exists\n"
     ]
    }
   ],
   "source": [
    "# TODO: Use the same Kaggle code from HW1P2\n",
    "!pip install --upgrade --force-reinstall --no-deps kaggle==1.5.8\n",
    "!mkdir /root/.kaggle\n",
    "\n",
    "with open(\"/root/.kaggle/kaggle.json\", \"w+\") as f:\n",
    "    f.write('{\"username\":\"***\",\"key\":\"******\"}')\n",
    "\n",
    "!chmod 600 /root/.kaggle/kaggle.json"
   ]
  },
  {
   "cell_type": "code",
   "execution_count": null,
   "metadata": {
    "colab": {
     "base_uri": "https://localhost:8080/"
    },
    "id": "dSjBwfXeoq4B",
    "outputId": "b9342de8-1698-4647-be64-77943e833a7f"
   },
   "outputs": [
    {
     "name": "stdout",
     "output_type": "stream",
     "text": [
      "Downloading hw3p2asr-s24.zip to /content\n",
      " 99% 3.71G/3.74G [00:13<00:00, 345MB/s]\n",
      "100% 3.74G/3.74G [00:13<00:00, 301MB/s]\n"
     ]
    }
   ],
   "source": [
    "!kaggle competitions download -c hw3p2asr-s24"
   ]
  },
  {
   "cell_type": "code",
   "execution_count": 8,
   "metadata": {
    "colab": {
     "base_uri": "https://localhost:8080/"
    },
    "id": "_ruxWP60LCQA",
    "outputId": "b66a9385-dcf9-4b83-e0b2-7368b1c29410"
   },
   "outputs": [
    {
     "name": "stdout",
     "output_type": "stream",
     "text": [
      "/root/autodl-tmp\n",
      "11-785-s24-hw3p2.zip  dev-clean  test-clean  train-clean-100\n",
      "/root\n"
     ]
    }
   ],
   "source": [
    "'''\n",
    "This will take a couple minutes, but you should see at least the following:\n",
    "11-785-s24-hw3p2  ctcdecode  hw3p2asr-s24.zip  sample_data\n",
    "'''\n",
    "%cd autodl-tmp\n",
    "!unzip -q 11-785-s24-hw3p2.zip\n",
    "!ls\n",
    "%cd .."
   ]
  },
  {
   "cell_type": "markdown",
   "metadata": {
    "id": "R9v5ewZDMpYA"
   },
   "source": [
    "# Google Drive"
   ]
  },
  {
   "cell_type": "code",
   "execution_count": null,
   "metadata": {
    "id": "4Cp-716IMZRd"
   },
   "outputs": [],
   "source": [
    "from google.colab import drive\n",
    "drive.mount('/content/gdrive')"
   ]
  },
  {
   "cell_type": "markdown",
   "metadata": {
    "id": "2ORNHnSFroP0"
   },
   "source": [
    "# Dataset and Dataloader"
   ]
  },
  {
   "cell_type": "code",
   "execution_count": 2,
   "metadata": {
    "id": "k0v7wHRWrqH6"
   },
   "outputs": [],
   "source": [
    "# ARPABET PHONEME MAPPING\n",
    "# DO NOT CHANGE\n",
    "\n",
    "CMUdict_ARPAbet = {\n",
    "    \"\" : \" \",\n",
    "    \"[SIL]\": \"-\", \"NG\": \"G\", \"F\" : \"f\", \"M\" : \"m\", \"AE\": \"@\",\n",
    "    \"R\"    : \"r\", \"UW\": \"u\", \"N\" : \"n\", \"IY\": \"i\", \"AW\": \"W\",\n",
    "    \"V\"    : \"v\", \"UH\": \"U\", \"OW\": \"o\", \"AA\": \"a\", \"ER\": \"R\",\n",
    "    \"HH\"   : \"h\", \"Z\" : \"z\", \"K\" : \"k\", \"CH\": \"C\", \"W\" : \"w\",\n",
    "    \"EY\"   : \"e\", \"ZH\": \"Z\", \"T\" : \"t\", \"EH\": \"E\", \"Y\" : \"y\",\n",
    "    \"AH\"   : \"A\", \"B\" : \"b\", \"P\" : \"p\", \"TH\": \"T\", \"DH\": \"D\",\n",
    "    \"AO\"   : \"c\", \"G\" : \"g\", \"L\" : \"l\", \"JH\": \"j\", \"OY\": \"O\",\n",
    "    \"SH\"   : \"S\", \"D\" : \"d\", \"AY\": \"Y\", \"S\" : \"s\", \"IH\": \"I\",\n",
    "    \"[SOS]\": \"[SOS]\", \"[EOS]\": \"[EOS]\"\n",
    "}\n",
    "\n",
    "CMUdict = list(CMUdict_ARPAbet.keys())\n",
    "ARPAbet = list(CMUdict_ARPAbet.values())\n",
    "\n",
    "\n",
    "PHONEMES = CMUdict[:-2]\n",
    "LABELS = ARPAbet[:-2]"
   ]
  },
  {
   "cell_type": "code",
   "execution_count": null,
   "metadata": {
    "colab": {
     "base_uri": "https://localhost:8080/"
    },
    "id": "eN2kcxwXLLBb",
    "outputId": "a2912ad7-dbf9-4bf9-b96d-68d734548a0d"
   },
   "outputs": [
    {
     "name": "stdout",
     "output_type": "stream",
     "text": [
      "['b', 'I', 'k', 'S', 'a']\n"
     ]
    }
   ],
   "source": [
    "# You might want to play around with the mapping as a sanity check here\n",
    "phonemes_sequence = ['B', 'IH', 'K', 'SH', 'AA']\n",
    "\n",
    "# 映射音素序列到相应的ARPAbet位置\n",
    "arpabet_sequence = [CMUdict_ARPAbet[phoneme] for phoneme in phonemes_sequence]\n",
    "\n",
    "# 打印结果\n",
    "print(arpabet_sequence)"
   ]
  },
  {
   "cell_type": "code",
   "execution_count": null,
   "metadata": {
    "colab": {
     "base_uri": "https://localhost:8080/"
    },
    "id": "3M561b-ny92L",
    "outputId": "ff5328d4-5766-448e-e0a9-bc895dceb65a"
   },
   "outputs": [
    {
     "name": "stdout",
     "output_type": "stream",
     "text": [
      "28539\n"
     ]
    }
   ],
   "source": [
    "mfcc_dir = \"/content/11-785-s24-hw3p2/train-clean-100/mfcc\"\n",
    "mfcc_files = sorted([file for file in os.listdir(mfcc_dir) if os.path.isfile(os.path.join(mfcc_dir, file))])\n",
    "length = len(mfcc_files)\n",
    "print(length)"
   ]
  },
  {
   "cell_type": "markdown",
   "metadata": {
    "id": "agmNBKf4JrLV"
   },
   "source": [
    "### Train Data"
   ]
  },
  {
   "cell_type": "code",
   "execution_count": 3,
   "metadata": {
    "id": "82JDAMZoCrV2"
   },
   "outputs": [],
   "source": [
    "import torch\n",
    "import numpy as np\n",
    "import os\n",
    "from torch.nn.utils.rnn import pad_sequence\n",
    "import torchaudio.transforms as tat\n",
    "from torch.nn import Sequential\n",
    "\n",
    "class AudioDataset(torch.utils.data.Dataset):\n",
    "    def __init__(self, root, phonemes, partition = \"train-clean-100\"):\n",
    "        \"\"\"\n",
    "        Initializes the audio dataset.\n",
    "\n",
    "        Parameters:\n",
    "        - root: The root directory where the dataset is stored.\n",
    "        - phonemes: A list of phonemes used in the dataset.\n",
    "        - partition: The dataset partition to use (e.g., 'train-clean-100').\n",
    "        \"\"\"\n",
    "        self.phonemes = phonemes\n",
    "\n",
    "        self.mfcc_dir = os.path.join(root, partition, \"mfcc\")\n",
    "        self.transcript_dir = os.path.join(root, partition, \"transcript\")\n",
    "\n",
    "        self.mfcc_files = sorted(os.listdir(self.mfcc_dir))\n",
    "        self.transcript_files = sorted(os.listdir(self.transcript_dir))\n",
    "\n",
    "        assert len(self.mfcc_files) == len(self.transcript_files), \"Mismatch between MFCC and transcript file counts.\"\n",
    "        self.length = len(self.mfcc_files)\n",
    "\n",
    "        self.mfccs, self.transcripts = [], []\n",
    "        for i in range(self.length):\n",
    "            # load mfcc\n",
    "            mfcc = np.load(os.path.join(self.mfcc_dir, self.mfcc_files[i]))\n",
    "            # Cepstral normalization\n",
    "            mfcc = (mfcc - np.mean(mfcc, axis=0)) / np.std(mfcc, axis=0)\n",
    "            #  load transcript\n",
    "            transcript_path  = os.path.join(self.transcript_dir, self.transcript_files[i])\n",
    "            transcript = np.load(transcript_path)[1:-1]  # Exclude [SOS] and [EOS]\n",
    "            # transform\n",
    "            transcript_indices = np.vectorize(self.phonemes.index)(transcript)\n",
    "\n",
    "            # append\n",
    "            self.mfccs.append(mfcc)\n",
    "            self.transcripts.append(transcript_indices)\n",
    "\n",
    "    def __len__(self):\n",
    "        return self.length\n",
    "\n",
    "    def __getitem__(self, ind):\n",
    "        mfcc = torch.FloatTensor(self.mfccs[ind])\n",
    "        transcript = torch.tensor(self.transcripts[ind])\n",
    "        return mfcc, transcript\n",
    "\n",
    "\n",
    "    def collate_fn(self, batch):\n",
    "        '''\n",
    "        TODO:\n",
    "        1.  Extract the features and labels from 'batch'\n",
    "        2.  We will additionally need to pad both features and labels,\n",
    "            look at pytorch's docs for pad_sequence\n",
    "        3.  This is a good place to perform transforms, if you so wish.\n",
    "            Performing them on batches will speed the process up a bit.\n",
    "        4.  Return batch of features, labels, lenghts of features,\n",
    "            and lengths of labels.\n",
    "        '''\n",
    "        # batch of input mfcc coefficients\n",
    "        batch_mfcc = []\n",
    "        batch_transcript = []\n",
    "        for mfcc, labels in batch:\n",
    "            batch_mfcc.append(mfcc)\n",
    "            batch_transcript.append(labels)\n",
    "\n",
    "        # HINT: CHECK OUT -> pad_sequence (imported above)\n",
    "        # Also be sure to check the input format (batch_first)\n",
    "        batch_mfcc_pad = pad_sequence(batch_mfcc, batch_first=True)\n",
    "        lengths_mfcc = torch.tensor([len(seq) for seq in batch_mfcc])\n",
    "\n",
    "        batch_transcript_pad = pad_sequence(batch_transcript, batch_first=True, padding_value=0)\n",
    "        lengths_transcript = torch.tensor([len(seq) for seq in batch_transcript])\n",
    "\n",
    "        # You may apply some transformation, Time and Frequency masking, here in the collate function;\n",
    "        # Food for thought -> Why are we applying the transformation here and not in the __getitem__?\n",
    "        #                  -> Would we apply transformation on the validation set as well?\n",
    "        #                  -> Is the order of axes / dimensions as expected for the transform functions?\n",
    "        data_augmentation = Sequential(\n",
    "            PermuteBlock(),\n",
    "            tat.FrequencyMasking(freq_mask_param=10),   # Frequency masking\n",
    "            tat.TimeMasking(time_mask_param=25),        # Time masking\n",
    "            PermuteBlock()\n",
    "        )\n",
    "        batch_mfcc_pad_augmented = data_augmentation(batch_mfcc_pad)\n",
    "        # Return the following values: padded features, padded labels, actual length of features, actual length of the labels\n",
    "        return batch_mfcc_pad_augmented, batch_transcript_pad, torch.tensor(lengths_mfcc), torch.tensor(lengths_transcript)\n"
   ]
  },
  {
   "cell_type": "code",
   "execution_count": 4,
   "metadata": {
    "id": "f87Ngzkt4IMq"
   },
   "outputs": [],
   "source": [
    "class AudioDatasetValid(torch.utils.data.Dataset):\n",
    "    def __init__(self, root, phonemes, partition = \"dev-clean\"):\n",
    "        \"\"\"\n",
    "        Initializes the audio dataset.\n",
    "\n",
    "        Parameters:\n",
    "        - root: The root directory where the dataset is stored.\n",
    "        - phonemes: A list of phonemes used in the dataset.\n",
    "        - partition: The dataset partition to use (e.g., 'train-clean-100').\n",
    "        \"\"\"\n",
    "        self.phonemes = phonemes\n",
    "        self.mfcc_dir = os.path.join(root, partition, \"mfcc\")\n",
    "        self.transcript_dir = os.path.join(root, partition, \"transcript\")\n",
    "\n",
    "        self.mfcc_files = sorted(os.listdir(self.mfcc_dir))\n",
    "        self.transcript_files = sorted(os.listdir(self.transcript_dir))\n",
    "\n",
    "        self.length = len(self.mfcc_files)\n",
    "\n",
    "        self.mfccs, self.transcripts = [], []\n",
    "        for i in range(self.length):\n",
    "            # load mfcc\n",
    "            mfcc = np.load(os.path.join(self.mfcc_dir, self.mfcc_files[i]))\n",
    "            # Cepstral normalization\n",
    "            mfcc = (mfcc - np.mean(mfcc, axis=0)) / np.std(mfcc, axis=0)\n",
    "\n",
    "            transcript_path  = os.path.join(self.transcript_dir, self.transcript_files[i])\n",
    "            transcript = np.load(transcript_path)[1:-1]  # Exclude [SOS] and [EOS]\n",
    "            # transform\n",
    "            transcript_indices = np.vectorize(self.phonemes.index)(transcript)\n",
    "\n",
    "            # append\n",
    "            self.mfccs.append(mfcc)\n",
    "            self.transcripts.append(transcript_indices)\n",
    "\n",
    "    def __len__(self):\n",
    "        return self.length\n",
    "\n",
    "    def __getitem__(self, ind):\n",
    "        mfcc = torch.FloatTensor(self.mfccs[ind])\n",
    "        transcript = torch.tensor(self.transcripts[ind])\n",
    "        return mfcc, transcript\n",
    "\n",
    "\n",
    "    def collate_fn(self, batch):\n",
    "        '''\n",
    "        TODO:\n",
    "        1.  Extract the features and labels from 'batch'\n",
    "        2.  We will additionally need to pad both features and labels,\n",
    "            look at pytorch's docs for pad_sequence\n",
    "        3.  This is a good place to perform transforms, if you so wish.\n",
    "            Performing them on batches will speed the process up a bit.\n",
    "        4.  Return batch of features, labels, lenghts of features,\n",
    "            and lengths of labels.\n",
    "        '''\n",
    "        # batch of input mfcc coefficients\n",
    "        batch_mfcc = []\n",
    "        batch_transcript = []\n",
    "        for mfcc, labels in batch:\n",
    "            batch_mfcc.append(mfcc)\n",
    "            batch_transcript.append(labels)\n",
    "\n",
    "        # HINT: CHECK OUT -> pad_sequence (imported above)\n",
    "        # Also be sure to check the input format (batch_first)\n",
    "        batch_mfcc_pad = pad_sequence(batch_mfcc, batch_first=True)\n",
    "        lengths_mfcc = torch.tensor([len(seq) for seq in batch_mfcc])\n",
    "\n",
    "        # HINT: CHECK OUT -> pad_sequence (imported above)\n",
    "        # Also be sure to check the input format (batch_first)\n",
    "        batch_mfcc_pad = pad_sequence(batch_mfcc, batch_first=True)\n",
    "        lengths_mfcc = torch.tensor([len(seq) for seq in batch_mfcc])\n",
    "\n",
    "        batch_transcript_pad = pad_sequence(batch_transcript, batch_first=True, padding_value=0)\n",
    "        lengths_transcript = torch.tensor([len(seq) for seq in batch_transcript])\n",
    "\n",
    "        # You may apply some transformation, Time and Frequency masking, here in the collate function;\n",
    "        # Food for thought -> Why are we applying the transformation here and not in the __getitem__?\n",
    "        #                  -> Would we apply transformation on the validation set as well?\n",
    "        #                  -> Is the order of axes / dimensions as expected for the transform functions?\n",
    "\n",
    "        # Return the following values: padded features, padded labels, actual length of features, actual length of the labels\n",
    "        return batch_mfcc_pad, batch_transcript_pad, torch.tensor(lengths_mfcc), torch.tensor(lengths_transcript)\n"
   ]
  },
  {
   "cell_type": "markdown",
   "metadata": {
    "id": "hqDrxeHfJw4g"
   },
   "source": [
    "### Test Data"
   ]
  },
  {
   "cell_type": "code",
   "execution_count": 5,
   "metadata": {
    "id": "HrLS1wfVJppA"
   },
   "outputs": [],
   "source": [
    "# Test Dataloader\n",
    "#TODO\n",
    "\n",
    "class AudioDatasetTest(torch.utils.data.Dataset):\n",
    "    def __init__(self, root, partition=\"test-clean\"):\n",
    "        \"\"\"\n",
    "        Initializes the audio dataset for the test set.\n",
    "\n",
    "        Parameters:\n",
    "        - root: The root directory where the dataset is stored.\n",
    "        - partition: The dataset partition to use, default is 'test'.\n",
    "        \"\"\"\n",
    "        self.mfcc_dir = os.path.join(root, partition, \"mfcc\")\n",
    "        mfcc_files = sorted(os.listdir(self.mfcc_dir))\n",
    "\n",
    "        self.mfccs = []\n",
    "        for mfcc_file in mfcc_files:\n",
    "            mfcc_path = os.path.join(self.mfcc_dir, mfcc_file)\n",
    "            mfcc = np.load(mfcc_path)\n",
    "            mfcc = (mfcc - np.mean(mfcc, axis=0)) / np.std(mfcc, axis=0)  # Cepstral normalization\n",
    "\n",
    "            self.mfccs.append(mfcc)\n",
    "\n",
    "    def __len__(self):\n",
    "        return len(self.mfccs)\n",
    "\n",
    "    def __getitem__(self, ind):\n",
    "        mfcc = self.mfccs[ind]\n",
    "        mfcc_tensor = torch.FloatTensor(mfcc)\n",
    "        return mfcc_tensor\n",
    "\n",
    "    def test_collate_fn(self, batch):\n",
    "        # batch only mfccs\n",
    "        batch_mfcc = [item for item in batch]\n",
    "        lengths_mfcc = []\n",
    "\n",
    "        # pad with pad sequence\n",
    "        batch_mfcc_pad = pad_sequence(batch_mfcc, batch_first=True)\n",
    "\n",
    "        lengths_mfcc = [len(mfcc) for mfcc in batch_mfcc]\n",
    "\n",
    "        return batch_mfcc_pad, torch.tensor(lengths_mfcc)"
   ]
  },
  {
   "cell_type": "markdown",
   "metadata": {
    "id": "Pt-veYcdL6Fe"
   },
   "source": [
    "### Config - Hyperparameters"
   ]
  },
  {
   "cell_type": "code",
   "execution_count": 10,
   "metadata": {
    "id": "MN82c3KpLup8"
   },
   "outputs": [],
   "source": [
    "root = 'autodl-tmp/'\n",
    "\n",
    "# Feel free to add more items here\n",
    "config = {\n",
    "    \"beam_width\" : 3,\n",
    "    \"lr\"         : 2e-3,\n",
    "    \"epochs\"     : 50,\n",
    "    \"batch_size\" : 64  # Increase if your device can handle it\n",
    "}\n",
    "\n",
    "# You may pass this as a parameter to the dataset class above\n",
    "# This will help modularize your implementation\n",
    "transforms = [] # set of tranformations"
   ]
  },
  {
   "cell_type": "markdown",
   "metadata": {
    "id": "NmuPk9J6L8dz"
   },
   "source": [
    "### Data loaders"
   ]
  },
  {
   "cell_type": "code",
   "execution_count": 73,
   "metadata": {
    "colab": {
     "base_uri": "https://localhost:8080/"
    },
    "id": "3_kG0gU2x4hH",
    "outputId": "ea1d60b4-6b8f-4f47-a608-fd3a811c064b"
   },
   "outputs": [
    {
     "data": {
      "text/plain": [
       "1570"
      ]
     },
     "execution_count": 73,
     "metadata": {},
     "output_type": "execute_result"
    }
   ],
   "source": [
    "# get me RAMMM!!!!\n",
    "import gc\n",
    "gc.collect()"
   ]
  },
  {
   "cell_type": "code",
   "execution_count": 11,
   "metadata": {
    "id": "4mzoYfTKu14s"
   },
   "outputs": [],
   "source": [
    "# Create objects for the dataset class\n",
    "train_data = AudioDataset(root,\n",
    "                          phonemes= PHONEMES,\n",
    "                          partition=\"train-clean-100\")\n",
    "\n",
    "val_data =  AudioDatasetValid(root,\n",
    "                         phonemes= PHONEMES,\n",
    "                         partition=\"dev-clean\")\n",
    "\n",
    "test_data = AudioDatasetTest(root,\n",
    "                             partition=\"test-clean\" )\n"
   ]
  },
  {
   "cell_type": "code",
   "execution_count": 12,
   "metadata": {
    "colab": {
     "base_uri": "https://localhost:8080/"
    },
    "id": "BLvHdKm45dU6",
    "outputId": "626a31ad-a545-435f-e7a2-3323eea7afc1"
   },
   "outputs": [
    {
     "name": "stdout",
     "output_type": "stream",
     "text": [
      "Batch size:  64\n",
      "Train dataset samples = 28539, batches = 446\n",
      "Val dataset samples = 2703, batches = 43\n",
      "Test dataset samples = 2620, batches = 2620\n"
     ]
    }
   ],
   "source": [
    "# Do NOT forget to pass in the collate function as parameter while creating the dataloader\n",
    "train_loader = DataLoader(train_data,\n",
    "                          batch_size=config['batch_size'],\n",
    "                          shuffle=True,\n",
    "                          num_workers = 4,\n",
    "                          collate_fn=train_data.collate_fn)\n",
    "\n",
    "val_loader = DataLoader(val_data,\n",
    "                        batch_size=config['batch_size'],\n",
    "                        shuffle=False,\n",
    "                        num_workers = 2,\n",
    "                        collate_fn=val_data.collate_fn)\n",
    "\n",
    "test_loader = DataLoader(test_data,\n",
    "                         batch_size= 1,\n",
    "                         shuffle=False,\n",
    "                         collate_fn=test_data.test_collate_fn)\n",
    "\n",
    "print(\"Batch size: \", config['batch_size'])\n",
    "print(\"Train dataset samples = {}, batches = {}\".format(train_data.__len__(), len(train_loader)))\n",
    "print(\"Val dataset samples = {}, batches = {}\".format(val_data.__len__(), len(val_loader)))\n",
    "print(\"Test dataset samples = {}, batches = {}\".format(test_data.__len__(), len(test_loader)))"
   ]
  },
  {
   "cell_type": "code",
   "execution_count": 14,
   "metadata": {
    "id": "qd4BEX_yMUzz"
   },
   "outputs": [],
   "source": [
    "# Utils for network\n",
    "torch.cuda.empty_cache()\n",
    "class PermuteBlock(torch.nn.Module):\n",
    "    def forward(self, x):\n",
    "        return x.transpose(1, 2)"
   ]
  },
  {
   "cell_type": "code",
   "execution_count": 15,
   "metadata": {
    "colab": {
     "base_uri": "https://localhost:8080/"
    },
    "id": "cXMtwyviKaxK",
    "outputId": "a7738c76-f558-4fc1-8992-783ce5fef4b3"
   },
   "outputs": [
    {
     "name": "stdout",
     "output_type": "stream",
     "text": [
      "torch.Size([64, 1699, 27]) torch.Size([64, 213]) torch.Size([64]) torch.Size([64])\n"
     ]
    }
   ],
   "source": [
    "# sanity check\n",
    "for data in train_loader:\n",
    "    x, y, lx, ly = data\n",
    "    print(x.shape, y.shape, lx.shape, ly.shape)\n",
    "    break"
   ]
  },
  {
   "cell_type": "markdown",
   "metadata": {
    "id": "wSexxhdfMUzx"
   },
   "source": [
    "# NETWORK"
   ]
  },
  {
   "cell_type": "markdown",
   "metadata": {
    "id": "HLad4pChcuvX"
   },
   "source": [
    "## Basic\n",
    "\n",
    "This is a basic block for understanding, you can skip this and move to pBLSTM one"
   ]
  },
  {
   "cell_type": "code",
   "execution_count": 16,
   "metadata": {
    "id": "VHCu1yh3NMqV"
   },
   "outputs": [],
   "source": [
    "torch.cuda.empty_cache()\n",
    "\n",
    "class Network(nn.Module):\n",
    "\n",
    "    def __init__(self):\n",
    "\n",
    "        super(Network, self).__init__()\n",
    "\n",
    "        # Adding some sort of embedding layer or feature extractor might help performance.\n",
    "        self.embedding = torch.nn.Sequential(\n",
    "            PermuteBlock(),\n",
    "            nn.Conv1d(in_channels= 27, out_channels =64, kernel_size = 3, stride = 1, padding = 1),\n",
    "            nn.BatchNorm1d(num_features =64),\n",
    "            nn.GELU(),\n",
    "            nn.Conv1d(in_channels=64, out_channels = 128, kernel_size = 3, stride = 1, padding = 1),\n",
    "            nn.BatchNorm1d(num_features =128),\n",
    "            # nn.GELU(),\n",
    "            PermuteBlock())\n",
    "\n",
    "        # TODO : look up the documentation. You might need to pass some additional parameters.\n",
    "        self.lstm = nn.LSTM(input_size = 128, hidden_size = 400, num_layers = 4,\n",
    "                            bidirectional = True)\n",
    "\n",
    "        self.classification = nn.Sequential(\n",
    "            #TODO: Linear layer with in_features from the lstm module above and out_features = OUT_SIZE\n",
    "            nn.Linear(800, 41)\n",
    "        )\n",
    "\n",
    "\n",
    "        self.logSoftmax = nn.LogSoftmax(dim = -1) #TODO: Apply a log softmax here. Which dimension would apply it on ?\n",
    "\n",
    "    def forward(self, x, lx):\n",
    "        #TODO\n",
    "        # The forward function takes 2 parameter inputs here. Why?\n",
    "        # Refer to the handout for hints\n",
    "        x = self.embedding(x)\n",
    "        clamped_lx = lx.clamp(max=x.shape[1]) # to match the embedding\n",
    "        x = pack_padded_sequence(x, clamped_lx, batch_first=True, enforce_sorted=False)\n",
    "\n",
    "        x , hidden= self.lstm(x)\n",
    "        output, input_sizes = pad_packed_sequence(x, batch_first = True)\n",
    "        output = self.classification(output)\n",
    "        out = self.logSoftmax(output)\n",
    "\n",
    "        return out,lx"
   ]
  },
  {
   "cell_type": "markdown",
   "metadata": {
    "id": "tUThsowyQdN7"
   },
   "source": [
    "## Initialize Basic Network\n",
    "(If trying out the basic Network)"
   ]
  },
  {
   "cell_type": "code",
   "execution_count": 17,
   "metadata": {
    "colab": {
     "base_uri": "https://localhost:8080/",
     "height": 1000
    },
    "id": "CGoiXd70tb5z",
    "outputId": "a9d38f4a-bb8d-4b76-eb52-d6014194659c"
   },
   "outputs": [],
   "source": [
    "# torch.cuda.empty_cache()\n",
    "torch.cuda.empty_cache()\n",
    "\n",
    "model = Network().to(device)\n",
    "#model = nn.DataParallel(model)\n",
    "#summary(model, x.to(device), lx) # x and lx come from the sanity check above :)"
   ]
  },
  {
   "cell_type": "markdown",
   "metadata": {
    "id": "e-qb7wnAzCZl",
    "jp-MarkdownHeadingCollapsed": true,
    "tags": []
   },
   "source": [
    "## ASR Network"
   ]
  },
  {
   "cell_type": "markdown",
   "metadata": {
    "id": "PB6eh3gnMUzy"
   },
   "source": [
    "### Pyramid Bi-LSTM (pBLSTM)"
   ]
  },
  {
   "cell_type": "code",
   "execution_count": null,
   "metadata": {
    "id": "OmdyXI6KMUzz"
   },
   "outputs": [],
   "source": [
    "class pBLSTM(torch.nn.Module):\n",
    "\n",
    "    '''\n",
    "    Pyramidal BiLSTM\n",
    "    Read the write up/paper and understand the concepts and then write your implementation here.\n",
    "\n",
    "    At each step,\n",
    "    1. Pad your input if it is packed (Unpack it)\n",
    "    2. Reduce the input length dimension by concatenating feature dimension\n",
    "        (Tip: Write down the shapes and understand)\n",
    "        (i) How should  you deal with odd/even length input?\n",
    "        (ii) How should you deal with input length array (x_lens) after truncating the input?\n",
    "    3. Pack your input\n",
    "    4. Pass it into LSTM layer\n",
    "\n",
    "    To make our implementation modular, we pass 1 layer at a time.\n",
    "    '''\n",
    "\n",
    "    def __init__(self, input_size, hidden_size):\n",
    "        super(pBLSTM, self).__init__()\n",
    "\n",
    "        self.blstm = # TODO: Initialize a single layer bidirectional LSTM with the given input_size and hidden_size\n",
    "\n",
    "    def forward(self, x_packed): # x_packed is a PackedSequence\n",
    "\n",
    "        # TODO: Pad Packed Sequence\n",
    "\n",
    "        # Call self.trunc_reshape() which downsamples the time steps of x and increases the feature dimensions as mentioned above\n",
    "        # self.trunc_reshape will return 2 outputs. What are they? Think about what quantites are changing.\n",
    "        # TODO: Pack Padded Sequence. What output(s) would you get?\n",
    "        # TODO: Pass the sequence through bLSTM\n",
    "\n",
    "        # What do you return?\n",
    "\n",
    "        return NotImplemented\n",
    "\n",
    "    def trunc_reshape(self, x, x_lens):\n",
    "        # TODO: If you have odd number of timesteps, how can you handle it? (Hint: You can exclude them)\n",
    "        # TODO: Reshape x. When reshaping x, you have to reduce number of timesteps by a downsampling factor while increasing number of features by the same factor\n",
    "        # TODO: Reduce lengths by the same downsampling factor\n",
    "        return x, x_lens"
   ]
  },
  {
   "cell_type": "markdown",
   "metadata": {
    "id": "g3ZQ75OcMUz0"
   },
   "source": [
    "### Encoder"
   ]
  },
  {
   "cell_type": "code",
   "execution_count": null,
   "metadata": {
    "id": "GEzw5_xmMUz0"
   },
   "outputs": [],
   "source": [
    "class Encoder(torch.nn.Module):\n",
    "    '''\n",
    "    The Encoder takes utterances as inputs and returns latent feature representations\n",
    "    '''\n",
    "    def __init__(self, input_size, encoder_hidden_size):\n",
    "        super(Encoder, self).__init__()\n",
    "\n",
    "\n",
    "        self.embedding = #TODO: You can use CNNs as Embedding layer to extract features. Keep in mind the Input dimensions and expected dimension of Pytorch CNN.\n",
    "\n",
    "        self.pBLSTMs = torch.nn.Sequential( # How many pBLSTMs are required?\n",
    "            # TODO: Fill this up with pBLSTMs - What should the input_size be?\n",
    "            # Hint: You are downsampling timesteps by a factor of 2, upsampling features by a factor of 2 and the LSTM is bidirectional)\n",
    "            # Optional: Dropout/Locked Dropout after each pBLSTM (Not needed for early submission)\n",
    "            # https://github.com/salesforce/awd-lstm-lm/blob/dfd3cb0235d2caf2847a4d53e1cbd495b781b5d2/locked_dropout.py#L5\n",
    "            # ...\n",
    "            # ...\n",
    "        )\n",
    "\n",
    "    def forward(self, x, x_lens):\n",
    "        # Where are x and x_lens coming from? The dataloader\n",
    "        #TODO: Call the embedding layer\n",
    "        # TODO: Pack Padded Sequence\n",
    "        # TODO: Pass Sequence through the pyramidal Bi-LSTM layer\n",
    "        # TODO: Pad Packed Sequence\n",
    "\n",
    "\n",
    "        # Remember the number of output(s) each function returns\n",
    "\n",
    "        return encoder_outputs, encoder_lens"
   ]
  },
  {
   "cell_type": "markdown",
   "metadata": {
    "id": "kg82HXa3MUz1"
   },
   "source": [
    "### Decoder"
   ]
  },
  {
   "cell_type": "code",
   "execution_count": null,
   "metadata": {
    "id": "PQIRxdNTMUz1"
   },
   "outputs": [],
   "source": [
    "class Decoder(torch.nn.Module):\n",
    "\n",
    "    def __init__(self, embed_size, output_size= 41):\n",
    "        super().__init__()\n",
    "\n",
    "        self.mlp = torch.nn.Sequential(\n",
    "            PermuteBlock(), torch.nn.BatchNorm1d(embed_size), PermuteBlock(),\n",
    "            #TODO define your MLP arch. Refer HW1P2\n",
    "            #Use Permute Block before and after BatchNorm1d() to match the size\n",
    "        )\n",
    "\n",
    "        self.softmax = torch.nn.LogSoftmax(dim=2)\n",
    "\n",
    "    def forward(self, encoder_out):\n",
    "        #TODO call your MLP\n",
    "        #TODO Think what should be the final output of the decoder for the classification\n",
    "\n",
    "        return out"
   ]
  },
  {
   "cell_type": "code",
   "execution_count": null,
   "metadata": {
    "id": "qmHf6pFiMUz1"
   },
   "outputs": [],
   "source": [
    "class ASRModel(torch.nn.Module):\n",
    "\n",
    "    def __init__(self, input_size, embed_size= 192, output_size= len(PHONEMES)):\n",
    "        super().__init__()\n",
    "\n",
    "        self.augmentations  = torch.nn.Sequential(\n",
    "            #TODO Add Time Masking/ Frequency Masking\n",
    "            #Hint: See how to use PermuteBlock() function defined above\n",
    "        )\n",
    "        self.encoder        =# TODO: Initialize Encoder\n",
    "        self.decoder        =# TODO: Initialize Decoder\n",
    "\n",
    "\n",
    "\n",
    "    def forward(self, x, lengths_x):\n",
    "\n",
    "        if self.training:\n",
    "            x = self.augmentations(x)\n",
    "\n",
    "        encoder_out, encoder_lens   = self.encoder(x, lengths_x)\n",
    "        decoder_out                 = self.decoder(encoder_out)\n",
    "\n",
    "        return decoder_out, encoder_lens"
   ]
  },
  {
   "cell_type": "markdown",
   "metadata": {
    "id": "EV7DMPDoMUz2",
    "jp-MarkdownHeadingCollapsed": true,
    "tags": []
   },
   "source": [
    "## Initialize ASR Network"
   ]
  },
  {
   "cell_type": "code",
   "execution_count": null,
   "metadata": {
    "id": "kj6ZvzKBzlFI"
   },
   "outputs": [],
   "source": [
    "import os\n",
    "os.environ['CUDA_LAUNCH_BLOCKING'] = '1'"
   ]
  },
  {
   "cell_type": "code",
   "execution_count": null,
   "metadata": {
    "colab": {
     "base_uri": "https://localhost:8080/",
     "height": 1000
    },
    "id": "oaaDsnnLMUz2",
    "outputId": "1f9a1b81-c9c3-4528-be0f-dc517f7c8831"
   },
   "outputs": [
    {
     "name": "stdout",
     "output_type": "stream",
     "text": [
      "ASRModel(\n",
      "  (augmentations): Sequential()\n",
      "  (encoder): Encoder(\n",
      "    (embedding): Conv1d(27, 128, kernel_size=(3,), stride=(1,), padding=(1,))\n",
      "    (pBLSTMs): ModuleList(\n",
      "      (0): pBLSTM(\n",
      "        (blstm): LSTM(256, 128, batch_first=True, bidirectional=True)\n",
      "      )\n",
      "    )\n",
      "  )\n",
      "  (decoder): Decoder(\n",
      "    (mlp): Sequential(\n",
      "      (0): Linear(in_features=256, out_features=128, bias=True)\n",
      "      (1): ReLU()\n",
      "      (2): Linear(in_features=128, out_features=41, bias=True)\n",
      "    )\n",
      "    (softmax): LogSoftmax(dim=2)\n",
      "  )\n",
      ")\n",
      "===================================================================================\n",
      "                                Kernel Shape     Output Shape    Params  \\\n",
      "Layer                                                                     \n",
      "0_augmentations                            -   [32, 1645, 27]         -   \n",
      "1_encoder.Conv1d_embedding      [27, 128, 3]  [32, 128, 1645]   10.496k   \n",
      "2_encoder.pBLSTMs.0.LSTM_blstm             -     [20150, 256]  395.264k   \n",
      "3_decoder.mlp.Linear_0            [256, 128]   [32, 822, 128]   32.896k   \n",
      "4_decoder.mlp.ReLU_1                       -   [32, 822, 128]         -   \n",
      "5_decoder.mlp.Linear_2             [128, 41]    [32, 822, 41]    5.289k   \n",
      "6_decoder.LogSoftmax_softmax               -    [32, 822, 41]         -   \n",
      "\n",
      "                                Mult-Adds  \n",
      "Layer                                      \n",
      "0_augmentations                         -  \n",
      "1_encoder.Conv1d_embedding      17.05536M  \n",
      "2_encoder.pBLSTMs.0.LSTM_blstm   393.216k  \n",
      "3_decoder.mlp.Linear_0            32.768k  \n",
      "4_decoder.mlp.ReLU_1                    -  \n",
      "5_decoder.mlp.Linear_2             5.248k  \n",
      "6_decoder.LogSoftmax_softmax            -  \n",
      "-----------------------------------------------------------------------------------\n",
      "                          Totals\n",
      "Total params            443.945k\n",
      "Trainable params        443.945k\n",
      "Non-trainable params         0.0\n",
      "Mult-Adds             17.486592M\n",
      "===================================================================================\n"
     ]
    },
    {
     "data": {
      "application/vnd.google.colaboratory.intrinsic+json": {
       "repr_error": "unhashable type: 'list'",
       "type": "dataframe"
      },
      "text/html": [
       "\n",
       "  <div id=\"df-005937f3-eb9c-4567-b48c-dd144d8731a7\" class=\"colab-df-container\">\n",
       "    <div>\n",
       "<style scoped>\n",
       "    .dataframe tbody tr th:only-of-type {\n",
       "        vertical-align: middle;\n",
       "    }\n",
       "\n",
       "    .dataframe tbody tr th {\n",
       "        vertical-align: top;\n",
       "    }\n",
       "\n",
       "    .dataframe thead th {\n",
       "        text-align: right;\n",
       "    }\n",
       "</style>\n",
       "<table border=\"1\" class=\"dataframe\">\n",
       "  <thead>\n",
       "    <tr style=\"text-align: right;\">\n",
       "      <th></th>\n",
       "      <th>Kernel Shape</th>\n",
       "      <th>Output Shape</th>\n",
       "      <th>Params</th>\n",
       "      <th>Mult-Adds</th>\n",
       "    </tr>\n",
       "    <tr>\n",
       "      <th>Layer</th>\n",
       "      <th></th>\n",
       "      <th></th>\n",
       "      <th></th>\n",
       "      <th></th>\n",
       "    </tr>\n",
       "  </thead>\n",
       "  <tbody>\n",
       "    <tr>\n",
       "      <th>0_augmentations</th>\n",
       "      <td>-</td>\n",
       "      <td>[32, 1645, 27]</td>\n",
       "      <td>NaN</td>\n",
       "      <td>NaN</td>\n",
       "    </tr>\n",
       "    <tr>\n",
       "      <th>1_encoder.Conv1d_embedding</th>\n",
       "      <td>[27, 128, 3]</td>\n",
       "      <td>[32, 128, 1645]</td>\n",
       "      <td>10496.0</td>\n",
       "      <td>17055360.0</td>\n",
       "    </tr>\n",
       "    <tr>\n",
       "      <th>2_encoder.pBLSTMs.0.LSTM_blstm</th>\n",
       "      <td>-</td>\n",
       "      <td>[20150, 256]</td>\n",
       "      <td>395264.0</td>\n",
       "      <td>393216.0</td>\n",
       "    </tr>\n",
       "    <tr>\n",
       "      <th>3_decoder.mlp.Linear_0</th>\n",
       "      <td>[256, 128]</td>\n",
       "      <td>[32, 822, 128]</td>\n",
       "      <td>32896.0</td>\n",
       "      <td>32768.0</td>\n",
       "    </tr>\n",
       "    <tr>\n",
       "      <th>4_decoder.mlp.ReLU_1</th>\n",
       "      <td>-</td>\n",
       "      <td>[32, 822, 128]</td>\n",
       "      <td>NaN</td>\n",
       "      <td>NaN</td>\n",
       "    </tr>\n",
       "    <tr>\n",
       "      <th>5_decoder.mlp.Linear_2</th>\n",
       "      <td>[128, 41]</td>\n",
       "      <td>[32, 822, 41]</td>\n",
       "      <td>5289.0</td>\n",
       "      <td>5248.0</td>\n",
       "    </tr>\n",
       "    <tr>\n",
       "      <th>6_decoder.LogSoftmax_softmax</th>\n",
       "      <td>-</td>\n",
       "      <td>[32, 822, 41]</td>\n",
       "      <td>NaN</td>\n",
       "      <td>NaN</td>\n",
       "    </tr>\n",
       "  </tbody>\n",
       "</table>\n",
       "</div>\n",
       "    <div class=\"colab-df-buttons\">\n",
       "\n",
       "  <div class=\"colab-df-container\">\n",
       "    <button class=\"colab-df-convert\" onclick=\"convertToInteractive('df-005937f3-eb9c-4567-b48c-dd144d8731a7')\"\n",
       "            title=\"Convert this dataframe to an interactive table.\"\n",
       "            style=\"display:none;\">\n",
       "\n",
       "  <svg xmlns=\"http://www.w3.org/2000/svg\" height=\"24px\" viewBox=\"0 -960 960 960\">\n",
       "    <path d=\"M120-120v-720h720v720H120Zm60-500h600v-160H180v160Zm220 220h160v-160H400v160Zm0 220h160v-160H400v160ZM180-400h160v-160H180v160Zm440 0h160v-160H620v160ZM180-180h160v-160H180v160Zm440 0h160v-160H620v160Z\"/>\n",
       "  </svg>\n",
       "    </button>\n",
       "\n",
       "  <style>\n",
       "    .colab-df-container {\n",
       "      display:flex;\n",
       "      gap: 12px;\n",
       "    }\n",
       "\n",
       "    .colab-df-convert {\n",
       "      background-color: #E8F0FE;\n",
       "      border: none;\n",
       "      border-radius: 50%;\n",
       "      cursor: pointer;\n",
       "      display: none;\n",
       "      fill: #1967D2;\n",
       "      height: 32px;\n",
       "      padding: 0 0 0 0;\n",
       "      width: 32px;\n",
       "    }\n",
       "\n",
       "    .colab-df-convert:hover {\n",
       "      background-color: #E2EBFA;\n",
       "      box-shadow: 0px 1px 2px rgba(60, 64, 67, 0.3), 0px 1px 3px 1px rgba(60, 64, 67, 0.15);\n",
       "      fill: #174EA6;\n",
       "    }\n",
       "\n",
       "    .colab-df-buttons div {\n",
       "      margin-bottom: 4px;\n",
       "    }\n",
       "\n",
       "    [theme=dark] .colab-df-convert {\n",
       "      background-color: #3B4455;\n",
       "      fill: #D2E3FC;\n",
       "    }\n",
       "\n",
       "    [theme=dark] .colab-df-convert:hover {\n",
       "      background-color: #434B5C;\n",
       "      box-shadow: 0px 1px 3px 1px rgba(0, 0, 0, 0.15);\n",
       "      filter: drop-shadow(0px 1px 2px rgba(0, 0, 0, 0.3));\n",
       "      fill: #FFFFFF;\n",
       "    }\n",
       "  </style>\n",
       "\n",
       "    <script>\n",
       "      const buttonEl =\n",
       "        document.querySelector('#df-005937f3-eb9c-4567-b48c-dd144d8731a7 button.colab-df-convert');\n",
       "      buttonEl.style.display =\n",
       "        google.colab.kernel.accessAllowed ? 'block' : 'none';\n",
       "\n",
       "      async function convertToInteractive(key) {\n",
       "        const element = document.querySelector('#df-005937f3-eb9c-4567-b48c-dd144d8731a7');\n",
       "        const dataTable =\n",
       "          await google.colab.kernel.invokeFunction('convertToInteractive',\n",
       "                                                    [key], {});\n",
       "        if (!dataTable) return;\n",
       "\n",
       "        const docLinkHtml = 'Like what you see? Visit the ' +\n",
       "          '<a target=\"_blank\" href=https://colab.research.google.com/notebooks/data_table.ipynb>data table notebook</a>'\n",
       "          + ' to learn more about interactive tables.';\n",
       "        element.innerHTML = '';\n",
       "        dataTable['output_type'] = 'display_data';\n",
       "        await google.colab.output.renderOutput(dataTable, element);\n",
       "        const docLink = document.createElement('div');\n",
       "        docLink.innerHTML = docLinkHtml;\n",
       "        element.appendChild(docLink);\n",
       "      }\n",
       "    </script>\n",
       "  </div>\n",
       "\n",
       "\n",
       "<div id=\"df-6eb5cf3d-0387-422c-875c-8c7ee31447e8\">\n",
       "  <button class=\"colab-df-quickchart\" onclick=\"quickchart('df-6eb5cf3d-0387-422c-875c-8c7ee31447e8')\"\n",
       "            title=\"Suggest charts\"\n",
       "            style=\"display:none;\">\n",
       "\n",
       "<svg xmlns=\"http://www.w3.org/2000/svg\" height=\"24px\"viewBox=\"0 0 24 24\"\n",
       "     width=\"24px\">\n",
       "    <g>\n",
       "        <path d=\"M19 3H5c-1.1 0-2 .9-2 2v14c0 1.1.9 2 2 2h14c1.1 0 2-.9 2-2V5c0-1.1-.9-2-2-2zM9 17H7v-7h2v7zm4 0h-2V7h2v10zm4 0h-2v-4h2v4z\"/>\n",
       "    </g>\n",
       "</svg>\n",
       "  </button>\n",
       "\n",
       "<style>\n",
       "  .colab-df-quickchart {\n",
       "      --bg-color: #E8F0FE;\n",
       "      --fill-color: #1967D2;\n",
       "      --hover-bg-color: #E2EBFA;\n",
       "      --hover-fill-color: #174EA6;\n",
       "      --disabled-fill-color: #AAA;\n",
       "      --disabled-bg-color: #DDD;\n",
       "  }\n",
       "\n",
       "  [theme=dark] .colab-df-quickchart {\n",
       "      --bg-color: #3B4455;\n",
       "      --fill-color: #D2E3FC;\n",
       "      --hover-bg-color: #434B5C;\n",
       "      --hover-fill-color: #FFFFFF;\n",
       "      --disabled-bg-color: #3B4455;\n",
       "      --disabled-fill-color: #666;\n",
       "  }\n",
       "\n",
       "  .colab-df-quickchart {\n",
       "    background-color: var(--bg-color);\n",
       "    border: none;\n",
       "    border-radius: 50%;\n",
       "    cursor: pointer;\n",
       "    display: none;\n",
       "    fill: var(--fill-color);\n",
       "    height: 32px;\n",
       "    padding: 0;\n",
       "    width: 32px;\n",
       "  }\n",
       "\n",
       "  .colab-df-quickchart:hover {\n",
       "    background-color: var(--hover-bg-color);\n",
       "    box-shadow: 0 1px 2px rgba(60, 64, 67, 0.3), 0 1px 3px 1px rgba(60, 64, 67, 0.15);\n",
       "    fill: var(--button-hover-fill-color);\n",
       "  }\n",
       "\n",
       "  .colab-df-quickchart-complete:disabled,\n",
       "  .colab-df-quickchart-complete:disabled:hover {\n",
       "    background-color: var(--disabled-bg-color);\n",
       "    fill: var(--disabled-fill-color);\n",
       "    box-shadow: none;\n",
       "  }\n",
       "\n",
       "  .colab-df-spinner {\n",
       "    border: 2px solid var(--fill-color);\n",
       "    border-color: transparent;\n",
       "    border-bottom-color: var(--fill-color);\n",
       "    animation:\n",
       "      spin 1s steps(1) infinite;\n",
       "  }\n",
       "\n",
       "  @keyframes spin {\n",
       "    0% {\n",
       "      border-color: transparent;\n",
       "      border-bottom-color: var(--fill-color);\n",
       "      border-left-color: var(--fill-color);\n",
       "    }\n",
       "    20% {\n",
       "      border-color: transparent;\n",
       "      border-left-color: var(--fill-color);\n",
       "      border-top-color: var(--fill-color);\n",
       "    }\n",
       "    30% {\n",
       "      border-color: transparent;\n",
       "      border-left-color: var(--fill-color);\n",
       "      border-top-color: var(--fill-color);\n",
       "      border-right-color: var(--fill-color);\n",
       "    }\n",
       "    40% {\n",
       "      border-color: transparent;\n",
       "      border-right-color: var(--fill-color);\n",
       "      border-top-color: var(--fill-color);\n",
       "    }\n",
       "    60% {\n",
       "      border-color: transparent;\n",
       "      border-right-color: var(--fill-color);\n",
       "    }\n",
       "    80% {\n",
       "      border-color: transparent;\n",
       "      border-right-color: var(--fill-color);\n",
       "      border-bottom-color: var(--fill-color);\n",
       "    }\n",
       "    90% {\n",
       "      border-color: transparent;\n",
       "      border-bottom-color: var(--fill-color);\n",
       "    }\n",
       "  }\n",
       "</style>\n",
       "\n",
       "  <script>\n",
       "    async function quickchart(key) {\n",
       "      const quickchartButtonEl =\n",
       "        document.querySelector('#' + key + ' button');\n",
       "      quickchartButtonEl.disabled = true;  // To prevent multiple clicks.\n",
       "      quickchartButtonEl.classList.add('colab-df-spinner');\n",
       "      try {\n",
       "        const charts = await google.colab.kernel.invokeFunction(\n",
       "            'suggestCharts', [key], {});\n",
       "      } catch (error) {\n",
       "        console.error('Error during call to suggestCharts:', error);\n",
       "      }\n",
       "      quickchartButtonEl.classList.remove('colab-df-spinner');\n",
       "      quickchartButtonEl.classList.add('colab-df-quickchart-complete');\n",
       "    }\n",
       "    (() => {\n",
       "      let quickchartButtonEl =\n",
       "        document.querySelector('#df-6eb5cf3d-0387-422c-875c-8c7ee31447e8 button');\n",
       "      quickchartButtonEl.style.display =\n",
       "        google.colab.kernel.accessAllowed ? 'block' : 'none';\n",
       "    })();\n",
       "  </script>\n",
       "</div>\n",
       "    </div>\n",
       "  </div>\n"
      ],
      "text/plain": [
       "                                Kernel Shape     Output Shape    Params  \\\n",
       "Layer                                                                     \n",
       "0_augmentations                            -   [32, 1645, 27]       NaN   \n",
       "1_encoder.Conv1d_embedding      [27, 128, 3]  [32, 128, 1645]   10496.0   \n",
       "2_encoder.pBLSTMs.0.LSTM_blstm             -     [20150, 256]  395264.0   \n",
       "3_decoder.mlp.Linear_0            [256, 128]   [32, 822, 128]   32896.0   \n",
       "4_decoder.mlp.ReLU_1                       -   [32, 822, 128]       NaN   \n",
       "5_decoder.mlp.Linear_2             [128, 41]    [32, 822, 41]    5289.0   \n",
       "6_decoder.LogSoftmax_softmax               -    [32, 822, 41]       NaN   \n",
       "\n",
       "                                 Mult-Adds  \n",
       "Layer                                       \n",
       "0_augmentations                        NaN  \n",
       "1_encoder.Conv1d_embedding      17055360.0  \n",
       "2_encoder.pBLSTMs.0.LSTM_blstm    393216.0  \n",
       "3_decoder.mlp.Linear_0             32768.0  \n",
       "4_decoder.mlp.ReLU_1                   NaN  \n",
       "5_decoder.mlp.Linear_2              5248.0  \n",
       "6_decoder.LogSoftmax_softmax           NaN  "
      ]
     },
     "execution_count": 21,
     "metadata": {},
     "output_type": "execute_result"
    }
   ],
   "source": [
    "input_size = 27\n",
    "embed_size = 128\n",
    "\n",
    "model = ASRModel(\n",
    "    input_size  = input_size,\n",
    "    embed_size  = embed_size,\n",
    "    output_size = len(PHONEMES)\n",
    ").to(device)\n",
    "print(model)\n",
    "summary(model, x.to(device), lx)"
   ]
  },
  {
   "cell_type": "markdown",
   "metadata": {
    "id": "IBwunYpyugFg"
   },
   "source": [
    "# Training Config\n",
    "Initialize Loss Criterion, Optimizer, CTC Beam Decoder, Scheduler, Scaler (Mixed-Precision), etc."
   ]
  },
  {
   "cell_type": "code",
   "execution_count": 18,
   "metadata": {
    "id": "iGoozH2nd6KB"
   },
   "outputs": [],
   "source": [
    "#TODO\n",
    "\n",
    "criterion = torch.nn.CTCLoss(blank=0, reduction='mean').to(device)\n",
    "# CTC Loss: https://pytorch.org/docs/stable/generated/torch.nn.CTCLoss.html\n",
    "# Refer to the handout for hints\n",
    "\n",
    "optimizer = torch.optim.AdamW(model.parameters(), lr= config['lr'])\n",
    "\n",
    "# Declare the decoder. Use the CTC Beam Decoder to decode phonemes\n",
    "# CTC Beam Decoder Doc: https://github.com/parlance/ctcdecode\n",
    "decoder = CTCBeamDecoder(LABELS, beam_width = config[\"beam_width\"], log_probs_input = True)\n",
    "\n",
    "scheduler = torch.optim.lr_scheduler.ReduceLROnPlateau(optimizer, mode = 'min', patience = 1, threshold=1e-2, factor = 0.5)\n",
    "\n",
    "# Mixed Precision, if you need it\n",
    "scaler = torch.cuda.amp.GradScaler()"
   ]
  },
  {
   "cell_type": "markdown",
   "metadata": {
    "id": "Jmc6_4eWL2Xp"
   },
   "source": [
    "# Decode Prediction"
   ]
  },
  {
   "cell_type": "code",
   "execution_count": 34,
   "metadata": {
    "id": "aZ6WZoz920pD"
   },
   "outputs": [],
   "source": [
    "def decode_prediction(output, output_lens, decoder, PHONEME_MAP=LABELS):\n",
    "    # decode(self, probs, seq_lens)\n",
    "    \n",
    "\n",
    "    beam_results, beam_scores, timesteps, out_seq_len = decoder.decode(output, seq_lens=output_lens)\n",
    "\n",
    "    pred_strings = []\n",
    "\n",
    "    for i in range(output_lens.shape[0]):\n",
    "        pred = beam_results[i][0][:out_seq_len[i][0]]  # 取最可能的序列（第一个）\n",
    "        pred_string = ''.join([PHONEME_MAP[n] for n in pred])\n",
    "        pred_strings.append(pred_string)\n",
    "\n",
    "    return pred_strings\n",
    "\n",
    "import Levenshtein\n",
    "\n",
    "def calculate_levenshtein(output, label, output_lens, label_lens, decoder, PHONEME_MAP=LABELS):\n",
    "    \n",
    "    print(output.shape)\n",
    "    \n",
    "    if output.shape[0] != 64 and output.shape[0] != 1:\n",
    "        output = torch.permute(output, (1, 0, 2))\n",
    "        print(f\"Adjusted output shape: {output.shape}\")    \n",
    "    \n",
    "    dist            = 0\n",
    "    batch_size      = label.shape[0]\n",
    "    \n",
    "    pred_strings = decode_prediction(output, output_lens, decoder, PHONEME_MAP)\n",
    "\n",
    "    for i in range(batch_size):\n",
    "        label_seq = label[i][:label_lens[i]].tolist()  # 确保将tensor转换为list\n",
    "        label_string = ''.join([PHONEME_MAP[n] for n in label_seq])\n",
    "\n",
    "        # 对于pred_string，我们已经在decode_prediction中完成了转换\n",
    "        pred_string = pred_strings[i]\n",
    "\n",
    "        dist += Levenshtein.distance(pred_string, label_string)\n",
    "\n",
    "    dist /= batch_size  # Average distance\n",
    "    return dist\n",
    "\n"
   ]
  },
  {
   "cell_type": "markdown",
   "metadata": {
    "id": "0Qk9iZud1LXT"
   },
   "source": [
    "# Test Implementation"
   ]
  },
  {
   "cell_type": "code",
   "execution_count": 20,
   "metadata": {
    "colab": {
     "base_uri": "https://localhost:8080/"
    },
    "id": "GnTLL-5gMBrY",
    "outputId": "9d37c724-2968-46af-be27-4dbcedf982b1"
   },
   "outputs": [
    {
     "name": "stdout",
     "output_type": "stream",
     "text": [
      "torch.Size([64, 2936, 41])\n",
      "torch.Size([2936, 64, 41]) torch.Size([64, 265])\n",
      "tensor(35.5930, device='cuda:0', grad_fn=<MeanBackward0>)\n",
      "253.984375\n"
     ]
    }
   ],
   "source": [
    "# test code to check shapes\n",
    "\n",
    "model.eval()\n",
    "for i, data in enumerate(val_loader, 0):\n",
    "    x, y, lx, ly = data\n",
    "    x, y = x.to(device), y.to(device)\n",
    "    h, lh = model(x, lx)\n",
    "    print(h.shape)\n",
    "    h = torch.permute(h, (1, 0, 2))\n",
    "    print(h.shape, y.shape)\n",
    "    loss = criterion(h, y, lh, ly)\n",
    "    print(loss)\n",
    "\n",
    "    print(calculate_levenshtein(h, y, lx, ly, decoder, LABELS))\n",
    "\n",
    "    break"
   ]
  },
  {
   "cell_type": "markdown",
   "metadata": {
    "id": "rd5aNaLVoR_g"
   },
   "source": [
    "# WandB\n",
    "\n",
    "You will need to fetch your api key from wandb.ai"
   ]
  },
  {
   "cell_type": "code",
   "execution_count": null,
   "metadata": {
    "colab": {
     "base_uri": "https://localhost:8080/"
    },
    "id": "PiDduMaDIARE",
    "outputId": "cc3572d8-2c2b-4d14-db1d-5c6204662d42"
   },
   "outputs": [
    {
     "name": "stderr",
     "output_type": "stream",
     "text": [
      "Failed to detect the name of this notebook, you can set it manually with the WANDB_NOTEBOOK_NAME environment variable to enable code saving.\n",
      "\u001b[34m\u001b[1mwandb\u001b[0m: Currently logged in as: \u001b[33mhuiyanx\u001b[0m. Use \u001b[1m`wandb login --relogin`\u001b[0m to force relogin\n",
      "\u001b[34m\u001b[1mwandb\u001b[0m: \u001b[33mWARNING\u001b[0m If you're specifying your api key in code, ensure this code is not shared publicly.\n",
      "\u001b[34m\u001b[1mwandb\u001b[0m: \u001b[33mWARNING\u001b[0m Consider setting the WANDB_API_KEY environment variable, or running `wandb login` from the command line.\n",
      "\u001b[34m\u001b[1mwandb\u001b[0m: Appending key for api.wandb.ai to your netrc file: /root/.netrc\n"
     ]
    },
    {
     "data": {
      "text/plain": [
       "True"
      ]
     },
     "execution_count": 21,
     "metadata": {},
     "output_type": "execute_result"
    }
   ],
   "source": [
    "import wandb\n",
    "wandb.login(key=\"0b52cf4a980eb59babb2048eeca50fdeb9de90ac\") #API Key is"
   ]
  },
  {
   "cell_type": "code",
   "execution_count": 39,
   "metadata": {
    "colab": {
     "base_uri": "https://localhost:8080/",
     "height": 121
    },
    "id": "4s52yBOvICPZ",
    "outputId": "81fea141-d33c-4863-8c6c-2f7768cc703d"
   },
   "outputs": [
    {
     "data": {
      "application/vnd.jupyter.widget-view+json": {
       "model_id": "9de6bb5b8af840c7a2c10eb4e99c23c9",
       "version_major": 2,
       "version_minor": 0
      },
      "text/plain": [
       "VBox(children=(Label(value='Waiting for wandb.init()...\\r'), FloatProgress(value=0.011112466206153233, max=1.0…"
      ]
     },
     "metadata": {},
     "output_type": "display_data"
    },
    {
     "data": {
      "text/html": [
       "Tracking run with wandb version 0.16.4"
      ],
      "text/plain": [
       "<IPython.core.display.HTML object>"
      ]
     },
     "metadata": {},
     "output_type": "display_data"
    },
    {
     "data": {
      "text/html": [
       "Run data is saved locally in <code>/root/wandb/run-20240324_030511-748pdj5f</code>"
      ],
      "text/plain": [
       "<IPython.core.display.HTML object>"
      ]
     },
     "metadata": {},
     "output_type": "display_data"
    },
    {
     "data": {
      "text/html": [
       "Syncing run <strong><a href='https://wandb.ai/huiyanx/hw3p2-ablations/runs/748pdj5f' target=\"_blank\">cnn_lstm_1_continue2</a></strong> to <a href='https://wandb.ai/huiyanx/hw3p2-ablations' target=\"_blank\">Weights & Biases</a> (<a href='https://wandb.me/run' target=\"_blank\">docs</a>)<br/>"
      ],
      "text/plain": [
       "<IPython.core.display.HTML object>"
      ]
     },
     "metadata": {},
     "output_type": "display_data"
    },
    {
     "data": {
      "text/html": [
       " View project at <a href='https://wandb.ai/huiyanx/hw3p2-ablations' target=\"_blank\">https://wandb.ai/huiyanx/hw3p2-ablations</a>"
      ],
      "text/plain": [
       "<IPython.core.display.HTML object>"
      ]
     },
     "metadata": {},
     "output_type": "display_data"
    },
    {
     "data": {
      "text/html": [
       " View run at <a href='https://wandb.ai/huiyanx/hw3p2-ablations/runs/748pdj5f' target=\"_blank\">https://wandb.ai/huiyanx/hw3p2-ablations/runs/748pdj5f</a>"
      ],
      "text/plain": [
       "<IPython.core.display.HTML object>"
      ]
     },
     "metadata": {},
     "output_type": "display_data"
    }
   ],
   "source": [
    "run = wandb.init(\n",
    "    name = \"cnn_lstm_1_continue2\", ## Wandb creates random run names if you skip this field\n",
    "    reinit = True, ### Allows reinitalizing runs when you re-run this cell\n",
    "    # run_id = ### Insert specific run id here if you want to resume a previous run\n",
    "    # resume = \"must\" ### You need this to resume previous runs, but comment out reinit = True when using this\n",
    "    project = \"hw3p2-ablations\", ### Project should be created in your wandb account\n",
    "    config = config ### Wandb Config for your run\n",
    ")"
   ]
  },
  {
   "cell_type": "markdown",
   "metadata": {
    "id": "6fLLj5KIMMOe"
   },
   "source": [
    "# Train Functions"
   ]
  },
  {
   "cell_type": "code",
   "execution_count": 25,
   "metadata": {
    "id": "ri87MAdhMUz5"
   },
   "outputs": [],
   "source": [
    "from tqdm import tqdm\n",
    "\n",
    "def train_model(model, train_loader, criterion, optimizer):\n",
    "\n",
    "    model.train()\n",
    "    batch_bar = tqdm(total=len(train_loader), dynamic_ncols=True, leave=False, position=0, desc='Train')\n",
    "\n",
    "    total_loss = 0\n",
    "\n",
    "    for i, data in enumerate(train_loader):\n",
    "        optimizer.zero_grad()\n",
    "\n",
    "        x, y, lx, ly = data\n",
    "        x, y = x.to(device), y.to(device)\n",
    "\n",
    "        with torch.cuda.amp.autocast():\n",
    "            h, lh = model(x, lx)\n",
    "            h = torch.permute(h, (1, 0, 2))\n",
    "            loss = criterion(h, y, lh, ly)\n",
    "\n",
    "        total_loss += loss.item()\n",
    "\n",
    "        batch_bar.set_postfix(\n",
    "            loss=\"{:.04f}\".format(float(total_loss / (i + 1))),\n",
    "            lr=\"{:.06f}\".format(float(optimizer.param_groups[0]['lr'])))\n",
    "\n",
    "        batch_bar.update() # Update tqdm bar\n",
    "\n",
    "        # Another couple things you need for FP16.\n",
    "        scaler.scale(loss).backward() # This is a replacement for loss.backward()\n",
    "        scaler.step(optimizer) # This is a replacement for optimizer.step()\n",
    "        scaler.update() # This is something added just for FP16\n",
    "\n",
    "        del x, y, lx, ly, h, lh, loss\n",
    "        torch.cuda.empty_cache()\n",
    "\n",
    "    batch_bar.close() # You need this to close the tqdm bar\n",
    "\n",
    "    return total_loss / len(train_loader)\n",
    "\n",
    "\n",
    "def validate_model(model, val_loader, decoder, phoneme_map= LABELS):\n",
    "\n",
    "    model.eval()\n",
    "    batch_bar = tqdm(total=len(val_loader), dynamic_ncols=True, position=0, leave=False, desc='Val')\n",
    "\n",
    "    total_loss = 0\n",
    "    vdist = 0\n",
    "\n",
    "    for i, data in enumerate(val_loader):\n",
    "\n",
    "        x, y, lx, ly = data\n",
    "        x, y = x.to(device), y.to(device)\n",
    "\n",
    "        with torch.inference_mode():\n",
    "            h, lh = model(x, lx)\n",
    "            h = torch.permute(h, (1, 0, 2))\n",
    "            loss = criterion(h, y, lh, ly)\n",
    "\n",
    "        total_loss += float(loss)\n",
    "        vdist += calculate_levenshtein(h, y, lh, ly, decoder, phoneme_map)\n",
    "\n",
    "        batch_bar.set_postfix(loss=\"{:.04f}\".format(float(total_loss / (i + 1))), dist=\"{:.04f}\".format(float(vdist / (i + 1))))\n",
    "\n",
    "        batch_bar.update()\n",
    "\n",
    "        del x, y, lx, ly, h, lh, loss\n",
    "        torch.cuda.empty_cache()\n",
    "\n",
    "    batch_bar.close()\n",
    "    total_loss = total_loss/len(val_loader)\n",
    "    val_dist = vdist/len(val_loader)\n",
    "    return total_loss, val_dist"
   ]
  },
  {
   "cell_type": "markdown",
   "metadata": {
    "id": "qpYExu4vT4_g"
   },
   "source": [
    "## Training Setup"
   ]
  },
  {
   "cell_type": "code",
   "execution_count": 26,
   "metadata": {
    "id": "husa5_EYMUz6"
   },
   "outputs": [],
   "source": [
    "def save_model(model, optimizer, scheduler, metric, epoch, path):\n",
    "    torch.save(\n",
    "        {'model_state_dict'         : model.state_dict(),\n",
    "         'optimizer_state_dict'     : optimizer.state_dict(),\n",
    "         'scheduler_state_dict'     : scheduler.state_dict(),\n",
    "         metric[0]                  : metric[1],\n",
    "         'epoch'                    : epoch},\n",
    "         path\n",
    "    )\n",
    "\n",
    "def load_model(path, model, metric= 'valid_acc', optimizer= None, scheduler= None):\n",
    "\n",
    "    checkpoint = torch.load(path)\n",
    "    model.load_state_dict(checkpoint['model_state_dict'])\n",
    "\n",
    "    if optimizer != None:\n",
    "        optimizer.load_state_dict(checkpoint['optimizer_state_dict'])\n",
    "    if scheduler != None:\n",
    "        scheduler.load_state_dict(checkpoint['scheduler_state_dict'])\n",
    "\n",
    "    epoch   = checkpoint['epoch']\n",
    "    metric  = checkpoint[metric]\n",
    "\n",
    "    return [model, optimizer, scheduler, epoch, metric]"
   ]
  },
  {
   "cell_type": "code",
   "execution_count": 40,
   "metadata": {
    "id": "tExvyl1BIdMC"
   },
   "outputs": [],
   "source": [
    "# This is for checkpointing, if you're doing it over multiple sessions\n",
    "\n",
    "last_epoch_completed = 31\n",
    "start = last_epoch_completed\n",
    "end = config[\"epochs\"]\n",
    "best_lev_dist = float(\"inf\") # if you're restarting from some checkpoint, use what you saw there.\n",
    "epoch_model_path = 'epoch_model.pth'#TODO set the model path( Optional, you can just store best one. Make sure to make the changes below )\n",
    "best_model_path = 'best_model.pth'#TODO set best model path"
   ]
  },
  {
   "cell_type": "code",
   "execution_count": 41,
   "metadata": {},
   "outputs": [],
   "source": [
    "best = load_model(best_model_path,model,'valid_dist')\n",
    "model = best[0]"
   ]
  },
  {
   "cell_type": "code",
   "execution_count": 42,
   "metadata": {
    "colab": {
     "base_uri": "https://localhost:8080/",
     "height": 280
    },
    "id": "JR43E28rM9Ak",
    "outputId": "fbe29e38-4361-4eff-b532-9f183bd80c0e"
   },
   "outputs": [
    {
     "name": "stderr",
     "output_type": "stream",
     "text": [
      "                                              \r"
     ]
    },
    {
     "name": "stdout",
     "output_type": "stream",
     "text": [
      "\n",
      "Epoch: 32/50\n"
     ]
    },
    {
     "name": "stderr",
     "output_type": "stream",
     "text": [
      "Val:   0%|          | 0/43 [00:00<?, ?it/s]                                       "
     ]
    },
    {
     "name": "stdout",
     "output_type": "stream",
     "text": [
      "torch.Size([2936, 64, 41])\n",
      "Adjusted output shape: torch.Size([64, 2936, 41])\n"
     ]
    },
    {
     "name": "stderr",
     "output_type": "stream",
     "text": [
      "Val:   2%|▏         | 1/43 [00:01<00:51,  1.22s/it, dist=7.7500, loss=0.5019]"
     ]
    },
    {
     "name": "stdout",
     "output_type": "stream",
     "text": [
      "torch.Size([1631, 64, 41])\n",
      "Adjusted output shape: torch.Size([64, 1631, 41])\n"
     ]
    },
    {
     "name": "stderr",
     "output_type": "stream",
     "text": [
      "Val:   5%|▍         | 2/43 [00:01<00:31,  1.32it/s, dist=6.0859, loss=0.4030]"
     ]
    },
    {
     "name": "stdout",
     "output_type": "stream",
     "text": [
      "torch.Size([1987, 64, 41])\n",
      "Adjusted output shape: torch.Size([64, 1987, 41])\n"
     ]
    },
    {
     "name": "stderr",
     "output_type": "stream",
     "text": [
      "Val:   7%|▋         | 3/43 [00:02<00:26,  1.50it/s, dist=5.9167, loss=0.3525]"
     ]
    },
    {
     "name": "stdout",
     "output_type": "stream",
     "text": [
      "torch.Size([2707, 64, 41])\n",
      "Adjusted output shape: torch.Size([64, 2707, 41])\n"
     ]
    },
    {
     "name": "stderr",
     "output_type": "stream",
     "text": [
      "Val:   9%|▉         | 4/43 [00:02<00:26,  1.48it/s, dist=6.2109, loss=0.3546]"
     ]
    },
    {
     "name": "stdout",
     "output_type": "stream",
     "text": [
      "torch.Size([2658, 64, 41])\n",
      "Adjusted output shape: torch.Size([64, 2658, 41])\n"
     ]
    },
    {
     "name": "stderr",
     "output_type": "stream",
     "text": [
      "Val:  12%|█▏        | 5/43 [00:03<00:25,  1.52it/s, dist=6.0906, loss=0.3355]"
     ]
    },
    {
     "name": "stdout",
     "output_type": "stream",
     "text": [
      "torch.Size([2282, 64, 41])\n",
      "Adjusted output shape: torch.Size([64, 2282, 41])\n"
     ]
    },
    {
     "name": "stderr",
     "output_type": "stream",
     "text": [
      "Val:  14%|█▍        | 6/43 [00:04<00:23,  1.59it/s, dist=6.2083, loss=0.3302]"
     ]
    },
    {
     "name": "stdout",
     "output_type": "stream",
     "text": [
      "torch.Size([2784, 64, 41])\n",
      "Adjusted output shape: torch.Size([64, 2784, 41])\n"
     ]
    },
    {
     "name": "stderr",
     "output_type": "stream",
     "text": [
      "Val:  16%|█▋        | 7/43 [00:04<00:22,  1.58it/s, dist=6.0759, loss=0.3301]"
     ]
    },
    {
     "name": "stdout",
     "output_type": "stream",
     "text": [
      "torch.Size([2052, 64, 41])\n",
      "Adjusted output shape: torch.Size([64, 2052, 41])\n"
     ]
    },
    {
     "name": "stderr",
     "output_type": "stream",
     "text": [
      "Val:  19%|█▊        | 8/43 [00:05<00:20,  1.71it/s, dist=5.7676, loss=0.3294]"
     ]
    },
    {
     "name": "stdout",
     "output_type": "stream",
     "text": [
      "torch.Size([3133, 64, 41])\n",
      "Adjusted output shape: torch.Size([64, 3133, 41])\n"
     ]
    },
    {
     "name": "stderr",
     "output_type": "stream",
     "text": [
      "Val:  21%|██        | 9/43 [00:06<00:21,  1.55it/s, dist=5.7274, loss=0.3216]"
     ]
    },
    {
     "name": "stdout",
     "output_type": "stream",
     "text": [
      "torch.Size([2277, 64, 41])\n",
      "Adjusted output shape: torch.Size([64, 2277, 41])\n"
     ]
    },
    {
     "name": "stderr",
     "output_type": "stream",
     "text": [
      "Val:  23%|██▎       | 10/43 [00:06<00:21,  1.55it/s, dist=5.7953, loss=0.3182]"
     ]
    },
    {
     "name": "stdout",
     "output_type": "stream",
     "text": [
      "torch.Size([1546, 64, 41])\n",
      "Adjusted output shape: torch.Size([64, 1546, 41])\n"
     ]
    },
    {
     "name": "stderr",
     "output_type": "stream",
     "text": [
      "Val:  26%|██▌       | 11/43 [00:07<00:19,  1.67it/s, dist=5.5597, loss=0.3066]"
     ]
    },
    {
     "name": "stdout",
     "output_type": "stream",
     "text": [
      "torch.Size([2264, 64, 41])\n",
      "Adjusted output shape: torch.Size([64, 2264, 41])\n"
     ]
    },
    {
     "name": "stderr",
     "output_type": "stream",
     "text": [
      "Val:  28%|██▊       | 12/43 [00:07<00:18,  1.69it/s, dist=5.6328, loss=0.3059]"
     ]
    },
    {
     "name": "stdout",
     "output_type": "stream",
     "text": [
      "torch.Size([1757, 64, 41])\n",
      "Adjusted output shape: torch.Size([64, 1757, 41])\n"
     ]
    },
    {
     "name": "stderr",
     "output_type": "stream",
     "text": [
      "Val:  30%|███       | 13/43 [00:08<00:16,  1.78it/s, dist=5.6154, loss=0.3024]"
     ]
    },
    {
     "name": "stdout",
     "output_type": "stream",
     "text": [
      "torch.Size([1641, 64, 41])\n",
      "Adjusted output shape: torch.Size([64, 1641, 41])\n"
     ]
    },
    {
     "name": "stderr",
     "output_type": "stream",
     "text": [
      "Val:  33%|███▎      | 14/43 [00:08<00:15,  1.89it/s, dist=5.3951, loss=0.2921]"
     ]
    },
    {
     "name": "stdout",
     "output_type": "stream",
     "text": [
      "torch.Size([2476, 64, 41])\n",
      "Adjusted output shape: torch.Size([64, 2476, 41])\n"
     ]
    },
    {
     "name": "stderr",
     "output_type": "stream",
     "text": [
      "Val:  35%|███▍      | 15/43 [00:09<00:15,  1.84it/s, dist=5.2500, loss=0.2845]"
     ]
    },
    {
     "name": "stdout",
     "output_type": "stream",
     "text": [
      "torch.Size([2465, 64, 41])\n",
      "Adjusted output shape: torch.Size([64, 2465, 41])\n"
     ]
    },
    {
     "name": "stderr",
     "output_type": "stream",
     "text": [
      "Val:  37%|███▋      | 16/43 [00:09<00:15,  1.72it/s, dist=5.3633, loss=0.2911]"
     ]
    },
    {
     "name": "stdout",
     "output_type": "stream",
     "text": [
      "torch.Size([3244, 64, 41])\n",
      "Adjusted output shape: torch.Size([64, 3244, 41])\n"
     ]
    },
    {
     "name": "stderr",
     "output_type": "stream",
     "text": [
      "Val:  40%|███▉      | 17/43 [00:10<00:17,  1.51it/s, dist=5.4871, loss=0.2901]"
     ]
    },
    {
     "name": "stdout",
     "output_type": "stream",
     "text": [
      "torch.Size([2853, 64, 41])\n",
      "Adjusted output shape: torch.Size([64, 2853, 41])\n"
     ]
    },
    {
     "name": "stderr",
     "output_type": "stream",
     "text": [
      "Val:  42%|████▏     | 18/43 [00:11<00:16,  1.55it/s, dist=5.3750, loss=0.2856]"
     ]
    },
    {
     "name": "stdout",
     "output_type": "stream",
     "text": [
      "torch.Size([2795, 64, 41])\n",
      "Adjusted output shape: torch.Size([64, 2795, 41])\n"
     ]
    },
    {
     "name": "stderr",
     "output_type": "stream",
     "text": [
      "Val:  44%|████▍     | 19/43 [00:12<00:15,  1.55it/s, dist=5.3429, loss=0.2867]"
     ]
    },
    {
     "name": "stdout",
     "output_type": "stream",
     "text": [
      "torch.Size([2027, 64, 41])\n",
      "Adjusted output shape: torch.Size([64, 2027, 41])\n"
     ]
    },
    {
     "name": "stderr",
     "output_type": "stream",
     "text": [
      "Val:  47%|████▋     | 20/43 [00:12<00:15,  1.51it/s, dist=5.3172, loss=0.2830]"
     ]
    },
    {
     "name": "stdout",
     "output_type": "stream",
     "text": [
      "torch.Size([2686, 64, 41])\n",
      "Adjusted output shape: torch.Size([64, 2686, 41])\n"
     ]
    },
    {
     "name": "stderr",
     "output_type": "stream",
     "text": [
      "Val:  49%|████▉     | 21/43 [00:13<00:15,  1.46it/s, dist=5.3943, loss=0.2856]"
     ]
    },
    {
     "name": "stdout",
     "output_type": "stream",
     "text": [
      "torch.Size([2068, 64, 41])\n",
      "Adjusted output shape: torch.Size([64, 2068, 41])\n"
     ]
    },
    {
     "name": "stderr",
     "output_type": "stream",
     "text": [
      "Val:  51%|█████     | 22/43 [00:13<00:13,  1.58it/s, dist=5.3026, loss=0.2831]"
     ]
    },
    {
     "name": "stdout",
     "output_type": "stream",
     "text": [
      "torch.Size([1543, 64, 41])\n",
      "Adjusted output shape: torch.Size([64, 1543, 41])\n"
     ]
    },
    {
     "name": "stderr",
     "output_type": "stream",
     "text": [
      "Val:  53%|█████▎    | 23/43 [00:14<00:11,  1.76it/s, dist=5.2500, loss=0.2830]"
     ]
    },
    {
     "name": "stdout",
     "output_type": "stream",
     "text": [
      "torch.Size([3260, 64, 41])\n",
      "Adjusted output shape: torch.Size([64, 3260, 41])\n"
     ]
    },
    {
     "name": "stderr",
     "output_type": "stream",
     "text": [
      "Val:  56%|█████▌    | 24/43 [00:15<00:12,  1.48it/s, dist=5.4297, loss=0.2836]"
     ]
    },
    {
     "name": "stdout",
     "output_type": "stream",
     "text": [
      "torch.Size([3210, 64, 41])\n",
      "Adjusted output shape: torch.Size([64, 3210, 41])\n"
     ]
    },
    {
     "name": "stderr",
     "output_type": "stream",
     "text": [
      "Val:  58%|█████▊    | 25/43 [00:16<00:12,  1.43it/s, dist=5.4850, loss=0.2849]"
     ]
    },
    {
     "name": "stdout",
     "output_type": "stream",
     "text": [
      "torch.Size([2084, 64, 41])\n",
      "Adjusted output shape: torch.Size([64, 2084, 41])\n"
     ]
    },
    {
     "name": "stderr",
     "output_type": "stream",
     "text": [
      "Val:  60%|██████    | 26/43 [00:16<00:11,  1.48it/s, dist=5.6136, loss=0.2868]"
     ]
    },
    {
     "name": "stdout",
     "output_type": "stream",
     "text": [
      "torch.Size([2158, 64, 41])\n",
      "Adjusted output shape: torch.Size([64, 2158, 41])\n"
     ]
    },
    {
     "name": "stderr",
     "output_type": "stream",
     "text": [
      "Val:  63%|██████▎   | 27/43 [00:17<00:09,  1.62it/s, dist=5.5984, loss=0.2899]"
     ]
    },
    {
     "name": "stdout",
     "output_type": "stream",
     "text": [
      "torch.Size([1591, 64, 41])\n",
      "Adjusted output shape: torch.Size([64, 1591, 41])\n"
     ]
    },
    {
     "name": "stderr",
     "output_type": "stream",
     "text": [
      "Val:  65%|██████▌   | 28/43 [00:17<00:08,  1.76it/s, dist=5.5368, loss=0.2895]"
     ]
    },
    {
     "name": "stdout",
     "output_type": "stream",
     "text": [
      "torch.Size([1783, 64, 41])\n",
      "Adjusted output shape: torch.Size([64, 1783, 41])\n"
     ]
    },
    {
     "name": "stderr",
     "output_type": "stream",
     "text": [
      "Val:  67%|██████▋   | 29/43 [00:18<00:07,  1.88it/s, dist=5.4477, loss=0.2868]"
     ]
    },
    {
     "name": "stdout",
     "output_type": "stream",
     "text": [
      "torch.Size([1776, 64, 41])\n",
      "Adjusted output shape: torch.Size([64, 1776, 41])\n"
     ]
    },
    {
     "name": "stderr",
     "output_type": "stream",
     "text": [
      "Val:  70%|██████▉   | 30/43 [00:18<00:06,  1.93it/s, dist=5.4500, loss=0.2884]"
     ]
    },
    {
     "name": "stdout",
     "output_type": "stream",
     "text": [
      "torch.Size([2078, 64, 41])\n",
      "Adjusted output shape: torch.Size([64, 2078, 41])\n"
     ]
    },
    {
     "name": "stderr",
     "output_type": "stream",
     "text": [
      "Val:  72%|███████▏  | 31/43 [00:19<00:06,  1.94it/s, dist=5.3906, loss=0.2880]"
     ]
    },
    {
     "name": "stdout",
     "output_type": "stream",
     "text": [
      "torch.Size([1443, 64, 41])\n",
      "Adjusted output shape: torch.Size([64, 1443, 41])\n"
     ]
    },
    {
     "name": "stderr",
     "output_type": "stream",
     "text": [
      "Val:  74%|███████▍  | 32/43 [00:19<00:05,  2.08it/s, dist=5.4810, loss=0.2958]"
     ]
    },
    {
     "name": "stdout",
     "output_type": "stream",
     "text": [
      "torch.Size([1906, 64, 41])\n",
      "Adjusted output shape: torch.Size([64, 1906, 41])\n"
     ]
    },
    {
     "name": "stderr",
     "output_type": "stream",
     "text": [
      "Val:  77%|███████▋  | 33/43 [00:20<00:05,  1.95it/s, dist=5.5043, loss=0.2995]"
     ]
    },
    {
     "name": "stdout",
     "output_type": "stream",
     "text": [
      "torch.Size([2189, 64, 41])\n",
      "Adjusted output shape: torch.Size([64, 2189, 41])\n"
     ]
    },
    {
     "name": "stderr",
     "output_type": "stream",
     "text": [
      "Val:  79%|███████▉  | 34/43 [00:20<00:04,  1.88it/s, dist=5.4421, loss=0.2969]"
     ]
    },
    {
     "name": "stdout",
     "output_type": "stream",
     "text": [
      "torch.Size([2095, 64, 41])\n",
      "Adjusted output shape: torch.Size([64, 2095, 41])\n"
     ]
    },
    {
     "name": "stderr",
     "output_type": "stream",
     "text": [
      "Val:  81%|████████▏ | 35/43 [00:21<00:04,  1.79it/s, dist=5.4759, loss=0.2974]"
     ]
    },
    {
     "name": "stdout",
     "output_type": "stream",
     "text": [
      "torch.Size([1511, 64, 41])\n",
      "Adjusted output shape: torch.Size([64, 1511, 41])\n"
     ]
    },
    {
     "name": "stderr",
     "output_type": "stream",
     "text": [
      "Val:  84%|████████▎ | 36/43 [00:21<00:03,  1.85it/s, dist=5.5117, loss=0.3011]"
     ]
    },
    {
     "name": "stdout",
     "output_type": "stream",
     "text": [
      "torch.Size([1813, 64, 41])\n",
      "Adjusted output shape: torch.Size([64, 1813, 41])\n"
     ]
    },
    {
     "name": "stderr",
     "output_type": "stream",
     "text": [
      "Val:  86%|████████▌ | 37/43 [00:22<00:03,  1.93it/s, dist=5.5583, loss=0.3057]"
     ]
    },
    {
     "name": "stdout",
     "output_type": "stream",
     "text": [
      "torch.Size([2890, 64, 41])\n",
      "Adjusted output shape: torch.Size([64, 2890, 41])\n"
     ]
    },
    {
     "name": "stderr",
     "output_type": "stream",
     "text": [
      "Val:  88%|████████▊ | 38/43 [00:22<00:02,  1.78it/s, dist=5.5271, loss=0.3052]"
     ]
    },
    {
     "name": "stdout",
     "output_type": "stream",
     "text": [
      "torch.Size([1518, 64, 41])\n",
      "Adjusted output shape: torch.Size([64, 1518, 41])\n"
     ]
    },
    {
     "name": "stderr",
     "output_type": "stream",
     "text": [
      "Val:  91%|█████████ | 39/43 [00:23<00:02,  1.90it/s, dist=5.4884, loss=0.3041]"
     ]
    },
    {
     "name": "stdout",
     "output_type": "stream",
     "text": [
      "torch.Size([1804, 64, 41])\n",
      "Adjusted output shape: torch.Size([64, 1804, 41])\n"
     ]
    },
    {
     "name": "stderr",
     "output_type": "stream",
     "text": [
      "Val:  93%|█████████▎| 40/43 [00:23<00:01,  1.95it/s, dist=5.4340, loss=0.3012]"
     ]
    },
    {
     "name": "stdout",
     "output_type": "stream",
     "text": [
      "torch.Size([1592, 64, 41])\n",
      "Adjusted output shape: torch.Size([64, 1592, 41])\n"
     ]
    },
    {
     "name": "stderr",
     "output_type": "stream",
     "text": [
      "Val:  95%|█████████▌| 41/43 [00:24<00:01,  1.96it/s, dist=5.4101, loss=0.3004]"
     ]
    },
    {
     "name": "stdout",
     "output_type": "stream",
     "text": [
      "torch.Size([2340, 64, 41])\n",
      "Adjusted output shape: torch.Size([64, 2340, 41])\n"
     ]
    },
    {
     "name": "stderr",
     "output_type": "stream",
     "text": [
      "Val: 100%|██████████| 43/43 [00:25<00:00,  1.93it/s, dist=5.5496, loss=0.3075]"
     ]
    },
    {
     "name": "stdout",
     "output_type": "stream",
     "text": [
      "torch.Size([3166, 15, 41])\n",
      "Adjusted output shape: torch.Size([15, 3166, 41])\n"
     ]
    },
    {
     "name": "stderr",
     "output_type": "stream",
     "text": [
      "                                                                              \r"
     ]
    },
    {
     "name": "stdout",
     "output_type": "stream",
     "text": [
      "\tTrain Loss 0.1136\t Learning Rate 0.0002500\n",
      "\tVal Dist 5.5496%\t Val Loss 0.3075\n",
      "Saved epoch model\n",
      "Saved best model\n",
      "\n",
      "Epoch: 33/50\n"
     ]
    },
    {
     "name": "stderr",
     "output_type": "stream",
     "text": [
      "Val:   0%|          | 0/43 [00:00<?, ?it/s]                                       "
     ]
    },
    {
     "name": "stdout",
     "output_type": "stream",
     "text": [
      "torch.Size([2936, 64, 41])\n",
      "Adjusted output shape: torch.Size([64, 2936, 41])\n"
     ]
    },
    {
     "name": "stderr",
     "output_type": "stream",
     "text": [
      "Val:   2%|▏         | 1/43 [00:01<00:46,  1.12s/it, dist=7.4062, loss=0.5081]"
     ]
    },
    {
     "name": "stdout",
     "output_type": "stream",
     "text": [
      "torch.Size([1631, 64, 41])\n",
      "Adjusted output shape: torch.Size([64, 1631, 41])\n"
     ]
    },
    {
     "name": "stderr",
     "output_type": "stream",
     "text": [
      "Val:   5%|▍         | 2/43 [00:01<00:28,  1.45it/s, dist=5.9531, loss=0.4116]"
     ]
    },
    {
     "name": "stdout",
     "output_type": "stream",
     "text": [
      "torch.Size([1987, 64, 41])\n",
      "Adjusted output shape: torch.Size([64, 1987, 41])\n"
     ]
    },
    {
     "name": "stderr",
     "output_type": "stream",
     "text": [
      "Val:   7%|▋         | 3/43 [00:01<00:23,  1.68it/s, dist=5.9896, loss=0.3612]"
     ]
    },
    {
     "name": "stdout",
     "output_type": "stream",
     "text": [
      "torch.Size([2707, 64, 41])\n",
      "Adjusted output shape: torch.Size([64, 2707, 41])\n"
     ]
    },
    {
     "name": "stderr",
     "output_type": "stream",
     "text": [
      "Val:   9%|▉         | 4/43 [00:02<00:23,  1.65it/s, dist=6.2969, loss=0.3626]"
     ]
    },
    {
     "name": "stdout",
     "output_type": "stream",
     "text": [
      "torch.Size([2658, 64, 41])\n",
      "Adjusted output shape: torch.Size([64, 2658, 41])\n"
     ]
    },
    {
     "name": "stderr",
     "output_type": "stream",
     "text": [
      "Val:  12%|█▏        | 5/43 [00:03<00:22,  1.66it/s, dist=6.0938, loss=0.3428]"
     ]
    },
    {
     "name": "stdout",
     "output_type": "stream",
     "text": [
      "torch.Size([2282, 64, 41])\n",
      "Adjusted output shape: torch.Size([64, 2282, 41])\n"
     ]
    },
    {
     "name": "stderr",
     "output_type": "stream",
     "text": [
      "Val:  14%|█▍        | 6/43 [00:03<00:21,  1.71it/s, dist=6.2135, loss=0.3379]"
     ]
    },
    {
     "name": "stdout",
     "output_type": "stream",
     "text": [
      "torch.Size([2784, 64, 41])\n",
      "Adjusted output shape: torch.Size([64, 2784, 41])\n"
     ]
    },
    {
     "name": "stderr",
     "output_type": "stream",
     "text": [
      "Val:  16%|█▋        | 7/43 [00:04<00:21,  1.70it/s, dist=6.0982, loss=0.3386]"
     ]
    },
    {
     "name": "stdout",
     "output_type": "stream",
     "text": [
      "torch.Size([2052, 64, 41])\n",
      "Adjusted output shape: torch.Size([64, 2052, 41])\n"
     ]
    },
    {
     "name": "stderr",
     "output_type": "stream",
     "text": [
      "Val:  19%|█▊        | 8/43 [00:04<00:19,  1.80it/s, dist=5.7852, loss=0.3368]"
     ]
    },
    {
     "name": "stdout",
     "output_type": "stream",
     "text": [
      "torch.Size([3133, 64, 41])\n",
      "Adjusted output shape: torch.Size([64, 3133, 41])\n"
     ]
    },
    {
     "name": "stderr",
     "output_type": "stream",
     "text": [
      "Val:  21%|██        | 9/43 [00:05<00:20,  1.65it/s, dist=5.6910, loss=0.3276]"
     ]
    },
    {
     "name": "stdout",
     "output_type": "stream",
     "text": [
      "torch.Size([2277, 64, 41])\n",
      "Adjusted output shape: torch.Size([64, 2277, 41])\n"
     ]
    },
    {
     "name": "stderr",
     "output_type": "stream",
     "text": [
      "Val:  26%|██▌       | 11/43 [00:06<00:17,  1.80it/s, dist=5.5483, loss=0.3116]"
     ]
    },
    {
     "name": "stdout",
     "output_type": "stream",
     "text": [
      "torch.Size([1546, 64, 41])\n",
      "Adjusted output shape: torch.Size([64, 1546, 41])\n",
      "torch.Size([2264, 64, 41])\n",
      "Adjusted output shape: torch.Size([64, 2264, 41])\n"
     ]
    },
    {
     "name": "stderr",
     "output_type": "stream",
     "text": [
      "Val:  28%|██▊       | 12/43 [00:07<00:17,  1.79it/s, dist=5.5872, loss=0.3110]"
     ]
    },
    {
     "name": "stdout",
     "output_type": "stream",
     "text": [
      "torch.Size([1757, 64, 41])\n",
      "Adjusted output shape: torch.Size([64, 1757, 41])\n"
     ]
    },
    {
     "name": "stderr",
     "output_type": "stream",
     "text": [
      "Val:  30%|███       | 13/43 [00:07<00:16,  1.86it/s, dist=5.5721, loss=0.3072]"
     ]
    },
    {
     "name": "stdout",
     "output_type": "stream",
     "text": [
      "torch.Size([1641, 64, 41])\n",
      "Adjusted output shape: torch.Size([64, 1641, 41])\n"
     ]
    },
    {
     "name": "stderr",
     "output_type": "stream",
     "text": [
      "Val:  33%|███▎      | 14/43 [00:08<00:14,  1.96it/s, dist=5.3616, loss=0.2968]"
     ]
    },
    {
     "name": "stdout",
     "output_type": "stream",
     "text": [
      "torch.Size([2476, 64, 41])\n",
      "Adjusted output shape: torch.Size([64, 2476, 41])\n"
     ]
    },
    {
     "name": "stderr",
     "output_type": "stream",
     "text": [
      "Val:  35%|███▍      | 15/43 [00:08<00:14,  1.90it/s, dist=5.2302, loss=0.2889]"
     ]
    },
    {
     "name": "stdout",
     "output_type": "stream",
     "text": [
      "torch.Size([2465, 64, 41])\n",
      "Adjusted output shape: torch.Size([64, 2465, 41])\n"
     ]
    },
    {
     "name": "stderr",
     "output_type": "stream",
     "text": [
      "Val:  37%|███▋      | 16/43 [00:09<00:15,  1.74it/s, dist=5.3428, loss=0.2957]"
     ]
    },
    {
     "name": "stdout",
     "output_type": "stream",
     "text": [
      "torch.Size([3244, 64, 41])\n",
      "Adjusted output shape: torch.Size([64, 3244, 41])\n"
     ]
    },
    {
     "name": "stderr",
     "output_type": "stream",
     "text": [
      "Val:  40%|███▉      | 17/43 [00:10<00:17,  1.48it/s, dist=5.4596, loss=0.2943]"
     ]
    },
    {
     "name": "stdout",
     "output_type": "stream",
     "text": [
      "torch.Size([2853, 64, 41])\n",
      "Adjusted output shape: torch.Size([64, 2853, 41])\n"
     ]
    },
    {
     "name": "stderr",
     "output_type": "stream",
     "text": [
      "Val:  42%|████▏     | 18/43 [00:10<00:16,  1.52it/s, dist=5.3507, loss=0.2903]"
     ]
    },
    {
     "name": "stdout",
     "output_type": "stream",
     "text": [
      "torch.Size([2795, 64, 41])\n",
      "Adjusted output shape: torch.Size([64, 2795, 41])\n"
     ]
    },
    {
     "name": "stderr",
     "output_type": "stream",
     "text": [
      "Val:  44%|████▍     | 19/43 [00:11<00:15,  1.58it/s, dist=5.3232, loss=0.2929]"
     ]
    },
    {
     "name": "stdout",
     "output_type": "stream",
     "text": [
      "torch.Size([2027, 64, 41])\n",
      "Adjusted output shape: torch.Size([64, 2027, 41])\n"
     ]
    },
    {
     "name": "stderr",
     "output_type": "stream",
     "text": [
      "Val:  47%|████▋     | 20/43 [00:12<00:14,  1.59it/s, dist=5.3016, loss=0.2890]"
     ]
    },
    {
     "name": "stdout",
     "output_type": "stream",
     "text": [
      "torch.Size([2686, 64, 41])\n",
      "Adjusted output shape: torch.Size([64, 2686, 41])\n"
     ]
    },
    {
     "name": "stderr",
     "output_type": "stream",
     "text": [
      "Val:  51%|█████     | 22/43 [00:13<00:12,  1.71it/s, dist=5.2898, loss=0.2887]"
     ]
    },
    {
     "name": "stdout",
     "output_type": "stream",
     "text": [
      "torch.Size([2068, 64, 41])\n",
      "Adjusted output shape: torch.Size([64, 2068, 41])\n",
      "torch.Size([1543, 64, 41])\n",
      "Adjusted output shape: torch.Size([64, 1543, 41])\n"
     ]
    },
    {
     "name": "stderr",
     "output_type": "stream",
     "text": [
      "Val:  53%|█████▎    | 23/43 [00:13<00:10,  1.86it/s, dist=5.2398, loss=0.2880]"
     ]
    },
    {
     "name": "stdout",
     "output_type": "stream",
     "text": [
      "torch.Size([3260, 64, 41])\n",
      "Adjusted output shape: torch.Size([64, 3260, 41])\n"
     ]
    },
    {
     "name": "stderr",
     "output_type": "stream",
     "text": [
      "Val:  56%|█████▌    | 24/43 [00:14<00:12,  1.56it/s, dist=5.4154, loss=0.2892]"
     ]
    },
    {
     "name": "stdout",
     "output_type": "stream",
     "text": [
      "torch.Size([3210, 64, 41])\n",
      "Adjusted output shape: torch.Size([64, 3210, 41])\n"
     ]
    },
    {
     "name": "stderr",
     "output_type": "stream",
     "text": [
      "Val:  58%|█████▊    | 25/43 [00:15<00:11,  1.51it/s, dist=5.4819, loss=0.2905]"
     ]
    },
    {
     "name": "stdout",
     "output_type": "stream",
     "text": [
      "torch.Size([2084, 64, 41])\n",
      "Adjusted output shape: torch.Size([64, 2084, 41])\n"
     ]
    },
    {
     "name": "stderr",
     "output_type": "stream",
     "text": [
      "Val:  60%|██████    | 26/43 [00:15<00:10,  1.57it/s, dist=5.6016, loss=0.2923]"
     ]
    },
    {
     "name": "stdout",
     "output_type": "stream",
     "text": [
      "torch.Size([2158, 64, 41])\n",
      "Adjusted output shape: torch.Size([64, 2158, 41])\n"
     ]
    },
    {
     "name": "stderr",
     "output_type": "stream",
     "text": [
      "Val:  63%|██████▎   | 27/43 [00:16<00:09,  1.71it/s, dist=5.5862, loss=0.2946]"
     ]
    },
    {
     "name": "stdout",
     "output_type": "stream",
     "text": [
      "torch.Size([1591, 64, 41])\n",
      "Adjusted output shape: torch.Size([64, 1591, 41])\n"
     ]
    },
    {
     "name": "stderr",
     "output_type": "stream",
     "text": [
      "Val:  65%|██████▌   | 28/43 [00:16<00:08,  1.82it/s, dist=5.5262, loss=0.2945]"
     ]
    },
    {
     "name": "stdout",
     "output_type": "stream",
     "text": [
      "torch.Size([1783, 64, 41])\n",
      "Adjusted output shape: torch.Size([64, 1783, 41])\n"
     ]
    },
    {
     "name": "stderr",
     "output_type": "stream",
     "text": [
      "Val:  67%|██████▋   | 29/43 [00:17<00:07,  1.90it/s, dist=5.4380, loss=0.2919]"
     ]
    },
    {
     "name": "stdout",
     "output_type": "stream",
     "text": [
      "torch.Size([1776, 64, 41])\n",
      "Adjusted output shape: torch.Size([64, 1776, 41])\n"
     ]
    },
    {
     "name": "stderr",
     "output_type": "stream",
     "text": [
      "Val:  70%|██████▉   | 30/43 [00:17<00:06,  1.91it/s, dist=5.4469, loss=0.2938]"
     ]
    },
    {
     "name": "stdout",
     "output_type": "stream",
     "text": [
      "torch.Size([2078, 64, 41])\n",
      "Adjusted output shape: torch.Size([64, 2078, 41])\n"
     ]
    },
    {
     "name": "stderr",
     "output_type": "stream",
     "text": [
      "Val:  72%|███████▏  | 31/43 [00:18<00:06,  1.95it/s, dist=5.3775, loss=0.2928]"
     ]
    },
    {
     "name": "stdout",
     "output_type": "stream",
     "text": [
      "torch.Size([1443, 64, 41])\n",
      "Adjusted output shape: torch.Size([64, 1443, 41])\n"
     ]
    },
    {
     "name": "stderr",
     "output_type": "stream",
     "text": [
      "Val:  74%|███████▍  | 32/43 [00:18<00:05,  2.05it/s, dist=5.4731, loss=0.3004]"
     ]
    },
    {
     "name": "stdout",
     "output_type": "stream",
     "text": [
      "torch.Size([1906, 64, 41])\n",
      "Adjusted output shape: torch.Size([64, 1906, 41])\n"
     ]
    },
    {
     "name": "stderr",
     "output_type": "stream",
     "text": [
      "Val:  77%|███████▋  | 33/43 [00:19<00:05,  1.90it/s, dist=5.4915, loss=0.3037]"
     ]
    },
    {
     "name": "stdout",
     "output_type": "stream",
     "text": [
      "torch.Size([2189, 64, 41])\n",
      "Adjusted output shape: torch.Size([64, 2189, 41])\n"
     ]
    },
    {
     "name": "stderr",
     "output_type": "stream",
     "text": [
      "Val:  79%|███████▉  | 34/43 [00:19<00:04,  1.87it/s, dist=5.4338, loss=0.3008]"
     ]
    },
    {
     "name": "stdout",
     "output_type": "stream",
     "text": [
      "torch.Size([2095, 64, 41])\n",
      "Adjusted output shape: torch.Size([64, 2095, 41])\n"
     ]
    },
    {
     "name": "stderr",
     "output_type": "stream",
     "text": [
      "Val:  81%|████████▏ | 35/43 [00:20<00:04,  1.83it/s, dist=5.4589, loss=0.3012]"
     ]
    },
    {
     "name": "stdout",
     "output_type": "stream",
     "text": [
      "torch.Size([1511, 64, 41])\n",
      "Adjusted output shape: torch.Size([64, 1511, 41])\n"
     ]
    },
    {
     "name": "stderr",
     "output_type": "stream",
     "text": [
      "Val:  84%|████████▎ | 36/43 [00:20<00:03,  1.93it/s, dist=5.5004, loss=0.3053]"
     ]
    },
    {
     "name": "stdout",
     "output_type": "stream",
     "text": [
      "torch.Size([1813, 64, 41])\n",
      "Adjusted output shape: torch.Size([64, 1813, 41])\n"
     ]
    },
    {
     "name": "stderr",
     "output_type": "stream",
     "text": [
      "Val:  86%|████████▌ | 37/43 [00:21<00:02,  2.02it/s, dist=5.5460, loss=0.3096]"
     ]
    },
    {
     "name": "stdout",
     "output_type": "stream",
     "text": [
      "torch.Size([2890, 64, 41])\n",
      "Adjusted output shape: torch.Size([64, 2890, 41])\n"
     ]
    },
    {
     "name": "stderr",
     "output_type": "stream",
     "text": [
      "Val:  88%|████████▊ | 38/43 [00:21<00:02,  1.92it/s, dist=5.5197, loss=0.3092]"
     ]
    },
    {
     "name": "stdout",
     "output_type": "stream",
     "text": [
      "torch.Size([1518, 64, 41])\n",
      "Adjusted output shape: torch.Size([64, 1518, 41])\n"
     ]
    },
    {
     "name": "stderr",
     "output_type": "stream",
     "text": [
      "Val:  91%|█████████ | 39/43 [00:22<00:01,  2.03it/s, dist=5.4772, loss=0.3080]"
     ]
    },
    {
     "name": "stdout",
     "output_type": "stream",
     "text": [
      "torch.Size([1804, 64, 41])\n",
      "Adjusted output shape: torch.Size([64, 1804, 41])\n"
     ]
    },
    {
     "name": "stderr",
     "output_type": "stream",
     "text": [
      "Val:  93%|█████████▎| 40/43 [00:22<00:01,  2.06it/s, dist=5.4242, loss=0.3054]"
     ]
    },
    {
     "name": "stdout",
     "output_type": "stream",
     "text": [
      "torch.Size([1592, 64, 41])\n",
      "Adjusted output shape: torch.Size([64, 1592, 41])\n"
     ]
    },
    {
     "name": "stderr",
     "output_type": "stream",
     "text": [
      "Val:  95%|█████████▌| 41/43 [00:23<00:00,  2.10it/s, dist=5.4062, loss=0.3046]"
     ]
    },
    {
     "name": "stdout",
     "output_type": "stream",
     "text": [
      "torch.Size([2340, 64, 41])\n",
      "Adjusted output shape: torch.Size([64, 2340, 41])\n"
     ]
    },
    {
     "name": "stderr",
     "output_type": "stream",
     "text": [
      "Val: 100%|██████████| 43/43 [00:24<00:00,  2.03it/s, dist=5.5532, loss=0.3110]"
     ]
    },
    {
     "name": "stdout",
     "output_type": "stream",
     "text": [
      "torch.Size([3166, 15, 41])\n",
      "Adjusted output shape: torch.Size([15, 3166, 41])\n"
     ]
    },
    {
     "name": "stderr",
     "output_type": "stream",
     "text": [
      "                                                                              \r"
     ]
    },
    {
     "name": "stdout",
     "output_type": "stream",
     "text": [
      "\tTrain Loss 0.1093\t Learning Rate 0.0002500\n",
      "\tVal Dist 5.5532%\t Val Loss 0.3110\n",
      "Saved epoch model\n",
      "\n",
      "Epoch: 34/50\n"
     ]
    },
    {
     "name": "stderr",
     "output_type": "stream",
     "text": [
      "Val:   0%|          | 0/43 [00:00<?, ?it/s]                                       "
     ]
    },
    {
     "name": "stdout",
     "output_type": "stream",
     "text": [
      "torch.Size([2936, 64, 41])\n",
      "Adjusted output shape: torch.Size([64, 2936, 41])\n"
     ]
    },
    {
     "name": "stderr",
     "output_type": "stream",
     "text": [
      "Val:   2%|▏         | 1/43 [00:01<00:49,  1.17s/it, dist=7.9219, loss=0.5402]"
     ]
    },
    {
     "name": "stdout",
     "output_type": "stream",
     "text": [
      "torch.Size([1631, 64, 41])\n",
      "Adjusted output shape: torch.Size([64, 1631, 41])\n"
     ]
    },
    {
     "name": "stderr",
     "output_type": "stream",
     "text": [
      "Val:   5%|▍         | 2/43 [00:01<00:30,  1.34it/s, dist=6.2266, loss=0.4303]"
     ]
    },
    {
     "name": "stdout",
     "output_type": "stream",
     "text": [
      "torch.Size([1987, 64, 41])\n",
      "Adjusted output shape: torch.Size([64, 1987, 41])\n"
     ]
    },
    {
     "name": "stderr",
     "output_type": "stream",
     "text": [
      "Val:   7%|▋         | 3/43 [00:02<00:26,  1.49it/s, dist=6.0990, loss=0.3748]"
     ]
    },
    {
     "name": "stdout",
     "output_type": "stream",
     "text": [
      "torch.Size([2707, 64, 41])\n",
      "Adjusted output shape: torch.Size([64, 2707, 41])\n"
     ]
    },
    {
     "name": "stderr",
     "output_type": "stream",
     "text": [
      "Val:   9%|▉         | 4/43 [00:02<00:25,  1.54it/s, dist=6.3828, loss=0.3729]"
     ]
    },
    {
     "name": "stdout",
     "output_type": "stream",
     "text": [
      "torch.Size([2658, 64, 41])\n",
      "Adjusted output shape: torch.Size([64, 2658, 41])\n"
     ]
    },
    {
     "name": "stderr",
     "output_type": "stream",
     "text": [
      "Val:  12%|█▏        | 5/43 [00:03<00:23,  1.61it/s, dist=6.1656, loss=0.3524]"
     ]
    },
    {
     "name": "stdout",
     "output_type": "stream",
     "text": [
      "torch.Size([2282, 64, 41])\n",
      "Adjusted output shape: torch.Size([64, 2282, 41])\n"
     ]
    },
    {
     "name": "stderr",
     "output_type": "stream",
     "text": [
      "Val:  14%|█▍        | 6/43 [00:03<00:21,  1.71it/s, dist=6.2370, loss=0.3457]"
     ]
    },
    {
     "name": "stdout",
     "output_type": "stream",
     "text": [
      "torch.Size([2784, 64, 41])\n",
      "Adjusted output shape: torch.Size([64, 2784, 41])\n"
     ]
    },
    {
     "name": "stderr",
     "output_type": "stream",
     "text": [
      "Val:  16%|█▋        | 7/43 [00:04<00:21,  1.66it/s, dist=6.1071, loss=0.3458]"
     ]
    },
    {
     "name": "stdout",
     "output_type": "stream",
     "text": [
      "torch.Size([2052, 64, 41])\n",
      "Adjusted output shape: torch.Size([64, 2052, 41])\n"
     ]
    },
    {
     "name": "stderr",
     "output_type": "stream",
     "text": [
      "Val:  19%|█▊        | 8/43 [00:05<00:19,  1.78it/s, dist=5.8086, loss=0.3449]"
     ]
    },
    {
     "name": "stdout",
     "output_type": "stream",
     "text": [
      "torch.Size([3133, 64, 41])\n",
      "Adjusted output shape: torch.Size([64, 3133, 41])\n"
     ]
    },
    {
     "name": "stderr",
     "output_type": "stream",
     "text": [
      "Val:  21%|██        | 9/43 [00:05<00:21,  1.60it/s, dist=5.7292, loss=0.3353]"
     ]
    },
    {
     "name": "stdout",
     "output_type": "stream",
     "text": [
      "torch.Size([2277, 64, 41])\n",
      "Adjusted output shape: torch.Size([64, 2277, 41])\n"
     ]
    },
    {
     "name": "stderr",
     "output_type": "stream",
     "text": [
      "Val:  23%|██▎       | 10/43 [00:06<00:20,  1.58it/s, dist=5.8203, loss=0.3310]"
     ]
    },
    {
     "name": "stdout",
     "output_type": "stream",
     "text": [
      "torch.Size([1546, 64, 41])\n",
      "Adjusted output shape: torch.Size([64, 1546, 41])\n"
     ]
    },
    {
     "name": "stderr",
     "output_type": "stream",
     "text": [
      "Val:  26%|██▌       | 11/43 [00:06<00:18,  1.74it/s, dist=5.5639, loss=0.3185]"
     ]
    },
    {
     "name": "stdout",
     "output_type": "stream",
     "text": [
      "torch.Size([2264, 64, 41])\n",
      "Adjusted output shape: torch.Size([64, 2264, 41])\n"
     ]
    },
    {
     "name": "stderr",
     "output_type": "stream",
     "text": [
      "Val:  28%|██▊       | 12/43 [00:07<00:17,  1.74it/s, dist=5.6042, loss=0.3177]"
     ]
    },
    {
     "name": "stdout",
     "output_type": "stream",
     "text": [
      "torch.Size([1757, 64, 41])\n",
      "Adjusted output shape: torch.Size([64, 1757, 41])\n"
     ]
    },
    {
     "name": "stderr",
     "output_type": "stream",
     "text": [
      "Val:  30%|███       | 13/43 [00:07<00:16,  1.82it/s, dist=5.5986, loss=0.3138]"
     ]
    },
    {
     "name": "stdout",
     "output_type": "stream",
     "text": [
      "torch.Size([1641, 64, 41])\n",
      "Adjusted output shape: torch.Size([64, 1641, 41])\n"
     ]
    },
    {
     "name": "stderr",
     "output_type": "stream",
     "text": [
      "Val:  33%|███▎      | 14/43 [00:08<00:14,  1.95it/s, dist=5.3828, loss=0.3031]"
     ]
    },
    {
     "name": "stdout",
     "output_type": "stream",
     "text": [
      "torch.Size([2476, 64, 41])\n",
      "Adjusted output shape: torch.Size([64, 2476, 41])\n"
     ]
    },
    {
     "name": "stderr",
     "output_type": "stream",
     "text": [
      "Val:  35%|███▍      | 15/43 [00:08<00:15,  1.83it/s, dist=5.2479, loss=0.2950]"
     ]
    },
    {
     "name": "stdout",
     "output_type": "stream",
     "text": [
      "torch.Size([2465, 64, 41])\n",
      "Adjusted output shape: torch.Size([64, 2465, 41])\n"
     ]
    },
    {
     "name": "stderr",
     "output_type": "stream",
     "text": [
      "Val:  37%|███▋      | 16/43 [00:09<00:15,  1.76it/s, dist=5.3623, loss=0.3021]"
     ]
    },
    {
     "name": "stdout",
     "output_type": "stream",
     "text": [
      "torch.Size([3244, 64, 41])\n",
      "Adjusted output shape: torch.Size([64, 3244, 41])\n"
     ]
    },
    {
     "name": "stderr",
     "output_type": "stream",
     "text": [
      "Val:  40%|███▉      | 17/43 [00:10<00:17,  1.50it/s, dist=5.4798, loss=0.3005]"
     ]
    },
    {
     "name": "stdout",
     "output_type": "stream",
     "text": [
      "torch.Size([2853, 64, 41])\n",
      "Adjusted output shape: torch.Size([64, 2853, 41])\n"
     ]
    },
    {
     "name": "stderr",
     "output_type": "stream",
     "text": [
      "Val:  42%|████▏     | 18/43 [00:11<00:16,  1.55it/s, dist=5.3767, loss=0.2964]"
     ]
    },
    {
     "name": "stdout",
     "output_type": "stream",
     "text": [
      "torch.Size([2795, 64, 41])\n",
      "Adjusted output shape: torch.Size([64, 2795, 41])\n"
     ]
    },
    {
     "name": "stderr",
     "output_type": "stream",
     "text": [
      "Val:  44%|████▍     | 19/43 [00:11<00:15,  1.56it/s, dist=5.3512, loss=0.2984]"
     ]
    },
    {
     "name": "stdout",
     "output_type": "stream",
     "text": [
      "torch.Size([2027, 64, 41])\n",
      "Adjusted output shape: torch.Size([64, 2027, 41])\n"
     ]
    },
    {
     "name": "stderr",
     "output_type": "stream",
     "text": [
      "Val:  47%|████▋     | 20/43 [00:12<00:14,  1.57it/s, dist=5.3289, loss=0.2943]"
     ]
    },
    {
     "name": "stdout",
     "output_type": "stream",
     "text": [
      "torch.Size([2686, 64, 41])\n",
      "Adjusted output shape: torch.Size([64, 2686, 41])\n"
     ]
    },
    {
     "name": "stderr",
     "output_type": "stream",
     "text": [
      "Val:  49%|████▉     | 21/43 [00:13<00:14,  1.52it/s, dist=5.4211, loss=0.2969]"
     ]
    },
    {
     "name": "stdout",
     "output_type": "stream",
     "text": [
      "torch.Size([2068, 64, 41])\n",
      "Adjusted output shape: torch.Size([64, 2068, 41])\n"
     ]
    },
    {
     "name": "stderr",
     "output_type": "stream",
     "text": [
      "Val:  51%|█████     | 22/43 [00:13<00:12,  1.65it/s, dist=5.3288, loss=0.2946]"
     ]
    },
    {
     "name": "stdout",
     "output_type": "stream",
     "text": [
      "torch.Size([1543, 64, 41])\n",
      "Adjusted output shape: torch.Size([64, 1543, 41])\n"
     ]
    },
    {
     "name": "stderr",
     "output_type": "stream",
     "text": [
      "Val:  53%|█████▎    | 23/43 [00:13<00:11,  1.80it/s, dist=5.2806, loss=0.2953]"
     ]
    },
    {
     "name": "stdout",
     "output_type": "stream",
     "text": [
      "torch.Size([3260, 64, 41])\n",
      "Adjusted output shape: torch.Size([64, 3260, 41])\n"
     ]
    },
    {
     "name": "stderr",
     "output_type": "stream",
     "text": [
      "Val:  56%|█████▌    | 24/43 [00:14<00:12,  1.50it/s, dist=5.4544, loss=0.2961]"
     ]
    },
    {
     "name": "stdout",
     "output_type": "stream",
     "text": [
      "torch.Size([3210, 64, 41])\n",
      "Adjusted output shape: torch.Size([64, 3210, 41])\n"
     ]
    },
    {
     "name": "stderr",
     "output_type": "stream",
     "text": [
      "Val:  58%|█████▊    | 25/43 [00:15<00:12,  1.44it/s, dist=5.5144, loss=0.2977]"
     ]
    },
    {
     "name": "stdout",
     "output_type": "stream",
     "text": [
      "torch.Size([2084, 64, 41])\n",
      "Adjusted output shape: torch.Size([64, 2084, 41])\n"
     ]
    },
    {
     "name": "stderr",
     "output_type": "stream",
     "text": [
      "Val:  60%|██████    | 26/43 [00:16<00:11,  1.50it/s, dist=5.6286, loss=0.2992]"
     ]
    },
    {
     "name": "stdout",
     "output_type": "stream",
     "text": [
      "torch.Size([2158, 64, 41])\n",
      "Adjusted output shape: torch.Size([64, 2158, 41])\n"
     ]
    },
    {
     "name": "stderr",
     "output_type": "stream",
     "text": [
      "Val:  63%|██████▎   | 27/43 [00:16<00:09,  1.63it/s, dist=5.6105, loss=0.3017]"
     ]
    },
    {
     "name": "stdout",
     "output_type": "stream",
     "text": [
      "torch.Size([1591, 64, 41])\n",
      "Adjusted output shape: torch.Size([64, 1591, 41])\n"
     ]
    },
    {
     "name": "stderr",
     "output_type": "stream",
     "text": [
      "Val:  65%|██████▌   | 28/43 [00:17<00:08,  1.76it/s, dist=5.5558, loss=0.3014]"
     ]
    },
    {
     "name": "stdout",
     "output_type": "stream",
     "text": [
      "torch.Size([1783, 64, 41])\n",
      "Adjusted output shape: torch.Size([64, 1783, 41])\n"
     ]
    },
    {
     "name": "stderr",
     "output_type": "stream",
     "text": [
      "Val:  67%|██████▋   | 29/43 [00:17<00:07,  1.91it/s, dist=5.4639, loss=0.2986]"
     ]
    },
    {
     "name": "stdout",
     "output_type": "stream",
     "text": [
      "torch.Size([1776, 64, 41])\n",
      "Adjusted output shape: torch.Size([64, 1776, 41])\n"
     ]
    },
    {
     "name": "stderr",
     "output_type": "stream",
     "text": [
      "Val:  70%|██████▉   | 30/43 [00:18<00:06,  1.95it/s, dist=5.4651, loss=0.2999]"
     ]
    },
    {
     "name": "stdout",
     "output_type": "stream",
     "text": [
      "torch.Size([2078, 64, 41])\n",
      "Adjusted output shape: torch.Size([64, 2078, 41])\n"
     ]
    },
    {
     "name": "stderr",
     "output_type": "stream",
     "text": [
      "Val:  74%|███████▍  | 32/43 [00:18<00:05,  2.17it/s, dist=5.5020, loss=0.3076]"
     ]
    },
    {
     "name": "stdout",
     "output_type": "stream",
     "text": [
      "torch.Size([1443, 64, 41])\n",
      "Adjusted output shape: torch.Size([64, 1443, 41])\n",
      "torch.Size([1906, 64, 41])\n",
      "Adjusted output shape: torch.Size([64, 1906, 41])\n"
     ]
    },
    {
     "name": "stderr",
     "output_type": "stream",
     "text": [
      "Val:  77%|███████▋  | 33/43 [00:19<00:04,  2.07it/s, dist=5.5270, loss=0.3110]"
     ]
    },
    {
     "name": "stdout",
     "output_type": "stream",
     "text": [
      "torch.Size([2189, 64, 41])\n",
      "Adjusted output shape: torch.Size([64, 2189, 41])\n"
     ]
    },
    {
     "name": "stderr",
     "output_type": "stream",
     "text": [
      "Val:  79%|███████▉  | 34/43 [00:20<00:04,  2.01it/s, dist=5.4637, loss=0.3081]"
     ]
    },
    {
     "name": "stdout",
     "output_type": "stream",
     "text": [
      "torch.Size([2095, 64, 41])\n",
      "Adjusted output shape: torch.Size([64, 2095, 41])\n"
     ]
    },
    {
     "name": "stderr",
     "output_type": "stream",
     "text": [
      "Val:  81%|████████▏ | 35/43 [00:20<00:04,  1.94it/s, dist=5.4915, loss=0.3084]"
     ]
    },
    {
     "name": "stdout",
     "output_type": "stream",
     "text": [
      "torch.Size([1511, 64, 41])\n",
      "Adjusted output shape: torch.Size([64, 1511, 41])\n"
     ]
    },
    {
     "name": "stderr",
     "output_type": "stream",
     "text": [
      "Val:  84%|████████▎ | 36/43 [00:21<00:03,  2.03it/s, dist=5.5321, loss=0.3124]"
     ]
    },
    {
     "name": "stdout",
     "output_type": "stream",
     "text": [
      "torch.Size([1813, 64, 41])\n",
      "Adjusted output shape: torch.Size([64, 1813, 41])\n"
     ]
    },
    {
     "name": "stderr",
     "output_type": "stream",
     "text": [
      "Val:  86%|████████▌ | 37/43 [00:21<00:02,  2.07it/s, dist=5.5676, loss=0.3163]"
     ]
    },
    {
     "name": "stdout",
     "output_type": "stream",
     "text": [
      "torch.Size([2890, 64, 41])\n",
      "Adjusted output shape: torch.Size([64, 2890, 41])\n"
     ]
    },
    {
     "name": "stderr",
     "output_type": "stream",
     "text": [
      "Val:  88%|████████▊ | 38/43 [00:22<00:02,  1.94it/s, dist=5.5345, loss=0.3156]"
     ]
    },
    {
     "name": "stdout",
     "output_type": "stream",
     "text": [
      "torch.Size([1518, 64, 41])\n",
      "Adjusted output shape: torch.Size([64, 1518, 41])\n"
     ]
    },
    {
     "name": "stderr",
     "output_type": "stream",
     "text": [
      "Val:  91%|█████████ | 39/43 [00:22<00:01,  2.04it/s, dist=5.4936, loss=0.3143]"
     ]
    },
    {
     "name": "stdout",
     "output_type": "stream",
     "text": [
      "torch.Size([1804, 64, 41])\n",
      "Adjusted output shape: torch.Size([64, 1804, 41])\n"
     ]
    },
    {
     "name": "stderr",
     "output_type": "stream",
     "text": [
      "Val:  93%|█████████▎| 40/43 [00:22<00:01,  2.06it/s, dist=5.4398, loss=0.3115]"
     ]
    },
    {
     "name": "stdout",
     "output_type": "stream",
     "text": [
      "torch.Size([1592, 64, 41])\n",
      "Adjusted output shape: torch.Size([64, 1592, 41])\n"
     ]
    },
    {
     "name": "stderr",
     "output_type": "stream",
     "text": [
      "Val:  95%|█████████▌| 41/43 [00:23<00:00,  2.08it/s, dist=5.4188, loss=0.3107]"
     ]
    },
    {
     "name": "stdout",
     "output_type": "stream",
     "text": [
      "torch.Size([2340, 64, 41])\n",
      "Adjusted output shape: torch.Size([64, 2340, 41])\n"
     ]
    },
    {
     "name": "stderr",
     "output_type": "stream",
     "text": [
      "Val: 100%|██████████| 43/43 [00:24<00:00,  1.93it/s, dist=5.5602, loss=0.3175]"
     ]
    },
    {
     "name": "stdout",
     "output_type": "stream",
     "text": [
      "torch.Size([3166, 15, 41])\n",
      "Adjusted output shape: torch.Size([15, 3166, 41])\n"
     ]
    },
    {
     "name": "stderr",
     "output_type": "stream",
     "text": [
      "                                                                              \r"
     ]
    },
    {
     "name": "stdout",
     "output_type": "stream",
     "text": [
      "\tTrain Loss 0.1048\t Learning Rate 0.0001250\n",
      "\tVal Dist 5.5602%\t Val Loss 0.3175\n",
      "Saved epoch model\n",
      "\n",
      "Epoch: 35/50\n"
     ]
    },
    {
     "name": "stderr",
     "output_type": "stream",
     "text": [
      "Val:   0%|          | 0/43 [00:00<?, ?it/s]                                       "
     ]
    },
    {
     "name": "stdout",
     "output_type": "stream",
     "text": [
      "torch.Size([2936, 64, 41])\n",
      "Adjusted output shape: torch.Size([64, 2936, 41])\n"
     ]
    },
    {
     "name": "stderr",
     "output_type": "stream",
     "text": [
      "Val:   2%|▏         | 1/43 [00:01<00:51,  1.22s/it, dist=7.7500, loss=0.5482]"
     ]
    },
    {
     "name": "stdout",
     "output_type": "stream",
     "text": [
      "torch.Size([1631, 64, 41])\n",
      "Adjusted output shape: torch.Size([64, 1631, 41])\n"
     ]
    },
    {
     "name": "stderr",
     "output_type": "stream",
     "text": [
      "Val:   5%|▍         | 2/43 [00:01<00:31,  1.29it/s, dist=6.1250, loss=0.4305]"
     ]
    },
    {
     "name": "stdout",
     "output_type": "stream",
     "text": [
      "torch.Size([1987, 64, 41])\n",
      "Adjusted output shape: torch.Size([64, 1987, 41])\n"
     ]
    },
    {
     "name": "stderr",
     "output_type": "stream",
     "text": [
      "Val:   7%|▋         | 3/43 [00:02<00:27,  1.43it/s, dist=6.0521, loss=0.3755]"
     ]
    },
    {
     "name": "stdout",
     "output_type": "stream",
     "text": [
      "torch.Size([2707, 64, 41])\n",
      "Adjusted output shape: torch.Size([64, 2707, 41])\n"
     ]
    },
    {
     "name": "stderr",
     "output_type": "stream",
     "text": [
      "Val:   9%|▉         | 4/43 [00:02<00:26,  1.49it/s, dist=6.3008, loss=0.3709]"
     ]
    },
    {
     "name": "stdout",
     "output_type": "stream",
     "text": [
      "torch.Size([2658, 64, 41])\n",
      "Adjusted output shape: torch.Size([64, 2658, 41])\n"
     ]
    },
    {
     "name": "stderr",
     "output_type": "stream",
     "text": [
      "Val:  12%|█▏        | 5/43 [00:03<00:25,  1.51it/s, dist=6.1562, loss=0.3514]"
     ]
    },
    {
     "name": "stdout",
     "output_type": "stream",
     "text": [
      "torch.Size([2282, 64, 41])\n",
      "Adjusted output shape: torch.Size([64, 2282, 41])\n"
     ]
    },
    {
     "name": "stderr",
     "output_type": "stream",
     "text": [
      "Val:  14%|█▍        | 6/43 [00:04<00:23,  1.57it/s, dist=6.2656, loss=0.3465]"
     ]
    },
    {
     "name": "stdout",
     "output_type": "stream",
     "text": [
      "torch.Size([2784, 64, 41])\n",
      "Adjusted output shape: torch.Size([64, 2784, 41])\n"
     ]
    },
    {
     "name": "stderr",
     "output_type": "stream",
     "text": [
      "Val:  16%|█▋        | 7/43 [00:04<00:22,  1.61it/s, dist=6.1272, loss=0.3471]"
     ]
    },
    {
     "name": "stdout",
     "output_type": "stream",
     "text": [
      "torch.Size([2052, 64, 41])\n",
      "Adjusted output shape: torch.Size([64, 2052, 41])\n"
     ]
    },
    {
     "name": "stderr",
     "output_type": "stream",
     "text": [
      "Val:  19%|█▊        | 8/43 [00:05<00:19,  1.75it/s, dist=5.8457, loss=0.3473]"
     ]
    },
    {
     "name": "stdout",
     "output_type": "stream",
     "text": [
      "torch.Size([3133, 64, 41])\n",
      "Adjusted output shape: torch.Size([64, 3133, 41])\n"
     ]
    },
    {
     "name": "stderr",
     "output_type": "stream",
     "text": [
      "Val:  21%|██        | 9/43 [00:05<00:21,  1.62it/s, dist=5.7569, loss=0.3379]"
     ]
    },
    {
     "name": "stdout",
     "output_type": "stream",
     "text": [
      "torch.Size([2277, 64, 41])\n",
      "Adjusted output shape: torch.Size([64, 2277, 41])\n"
     ]
    },
    {
     "name": "stderr",
     "output_type": "stream",
     "text": [
      "Val:  23%|██▎       | 10/43 [00:06<00:20,  1.59it/s, dist=5.8391, loss=0.3328]"
     ]
    },
    {
     "name": "stdout",
     "output_type": "stream",
     "text": [
      "torch.Size([1546, 64, 41])\n",
      "Adjusted output shape: torch.Size([64, 1546, 41])\n"
     ]
    },
    {
     "name": "stderr",
     "output_type": "stream",
     "text": [
      "Val:  26%|██▌       | 11/43 [00:06<00:17,  1.78it/s, dist=5.5767, loss=0.3194]"
     ]
    },
    {
     "name": "stdout",
     "output_type": "stream",
     "text": [
      "torch.Size([2264, 64, 41])\n",
      "Adjusted output shape: torch.Size([64, 2264, 41])\n"
     ]
    },
    {
     "name": "stderr",
     "output_type": "stream",
     "text": [
      "Val:  28%|██▊       | 12/43 [00:07<00:17,  1.77it/s, dist=5.6250, loss=0.3189]"
     ]
    },
    {
     "name": "stdout",
     "output_type": "stream",
     "text": [
      "torch.Size([1757, 64, 41])\n",
      "Adjusted output shape: torch.Size([64, 1757, 41])\n"
     ]
    },
    {
     "name": "stderr",
     "output_type": "stream",
     "text": [
      "Val:  30%|███       | 13/43 [00:08<00:16,  1.83it/s, dist=5.6322, loss=0.3147]"
     ]
    },
    {
     "name": "stdout",
     "output_type": "stream",
     "text": [
      "torch.Size([1641, 64, 41])\n",
      "Adjusted output shape: torch.Size([64, 1641, 41])\n"
     ]
    },
    {
     "name": "stderr",
     "output_type": "stream",
     "text": [
      "Val:  33%|███▎      | 14/43 [00:08<00:14,  1.99it/s, dist=5.4174, loss=0.3044]"
     ]
    },
    {
     "name": "stdout",
     "output_type": "stream",
     "text": [
      "torch.Size([2476, 64, 41])\n",
      "Adjusted output shape: torch.Size([64, 2476, 41])\n"
     ]
    },
    {
     "name": "stderr",
     "output_type": "stream",
     "text": [
      "Val:  35%|███▍      | 15/43 [00:08<00:14,  1.97it/s, dist=5.2865, loss=0.2961]"
     ]
    },
    {
     "name": "stdout",
     "output_type": "stream",
     "text": [
      "torch.Size([2465, 64, 41])\n",
      "Adjusted output shape: torch.Size([64, 2465, 41])\n"
     ]
    },
    {
     "name": "stderr",
     "output_type": "stream",
     "text": [
      "Val:  37%|███▋      | 16/43 [00:09<00:14,  1.88it/s, dist=5.3994, loss=0.3024]"
     ]
    },
    {
     "name": "stdout",
     "output_type": "stream",
     "text": [
      "torch.Size([3244, 64, 41])\n",
      "Adjusted output shape: torch.Size([64, 3244, 41])\n"
     ]
    },
    {
     "name": "stderr",
     "output_type": "stream",
     "text": [
      "Val:  40%|███▉      | 17/43 [00:10<00:16,  1.61it/s, dist=5.5175, loss=0.3008]"
     ]
    },
    {
     "name": "stdout",
     "output_type": "stream",
     "text": [
      "torch.Size([2853, 64, 41])\n",
      "Adjusted output shape: torch.Size([64, 2853, 41])\n"
     ]
    },
    {
     "name": "stderr",
     "output_type": "stream",
     "text": [
      "Val:  42%|████▏     | 18/43 [00:10<00:15,  1.63it/s, dist=5.4184, loss=0.2969]"
     ]
    },
    {
     "name": "stdout",
     "output_type": "stream",
     "text": [
      "torch.Size([2795, 64, 41])\n",
      "Adjusted output shape: torch.Size([64, 2795, 41])\n"
     ]
    },
    {
     "name": "stderr",
     "output_type": "stream",
     "text": [
      "Val:  44%|████▍     | 19/43 [00:11<00:14,  1.71it/s, dist=5.3873, loss=0.2985]"
     ]
    },
    {
     "name": "stdout",
     "output_type": "stream",
     "text": [
      "torch.Size([2027, 64, 41])\n",
      "Adjusted output shape: torch.Size([64, 2027, 41])\n"
     ]
    },
    {
     "name": "stderr",
     "output_type": "stream",
     "text": [
      "Val:  47%|████▋     | 20/43 [00:12<00:13,  1.72it/s, dist=5.3664, loss=0.2945]"
     ]
    },
    {
     "name": "stdout",
     "output_type": "stream",
     "text": [
      "torch.Size([2686, 64, 41])\n",
      "Adjusted output shape: torch.Size([64, 2686, 41])\n"
     ]
    },
    {
     "name": "stderr",
     "output_type": "stream",
     "text": [
      "Val:  49%|████▉     | 21/43 [00:12<00:13,  1.61it/s, dist=5.4509, loss=0.2972]"
     ]
    },
    {
     "name": "stdout",
     "output_type": "stream",
     "text": [
      "torch.Size([2068, 64, 41])\n",
      "Adjusted output shape: torch.Size([64, 2068, 41])\n"
     ]
    },
    {
     "name": "stderr",
     "output_type": "stream",
     "text": [
      "Val:  51%|█████     | 22/43 [00:13<00:12,  1.70it/s, dist=5.3544, loss=0.2947]"
     ]
    },
    {
     "name": "stdout",
     "output_type": "stream",
     "text": [
      "torch.Size([1543, 64, 41])\n",
      "Adjusted output shape: torch.Size([64, 1543, 41])\n"
     ]
    },
    {
     "name": "stderr",
     "output_type": "stream",
     "text": [
      "Val:  53%|█████▎    | 23/43 [00:13<00:10,  1.90it/s, dist=5.3057, loss=0.2951]"
     ]
    },
    {
     "name": "stdout",
     "output_type": "stream",
     "text": [
      "torch.Size([3260, 64, 41])\n",
      "Adjusted output shape: torch.Size([64, 3260, 41])\n"
     ]
    },
    {
     "name": "stderr",
     "output_type": "stream",
     "text": [
      "Val:  56%|█████▌    | 24/43 [00:14<00:11,  1.59it/s, dist=5.4753, loss=0.2956]"
     ]
    },
    {
     "name": "stdout",
     "output_type": "stream",
     "text": [
      "torch.Size([3210, 64, 41])\n",
      "Adjusted output shape: torch.Size([64, 3210, 41])\n"
     ]
    },
    {
     "name": "stderr",
     "output_type": "stream",
     "text": [
      "Val:  58%|█████▊    | 25/43 [00:15<00:11,  1.52it/s, dist=5.5381, loss=0.2970]"
     ]
    },
    {
     "name": "stdout",
     "output_type": "stream",
     "text": [
      "torch.Size([2084, 64, 41])\n",
      "Adjusted output shape: torch.Size([64, 2084, 41])\n"
     ]
    },
    {
     "name": "stderr",
     "output_type": "stream",
     "text": [
      "Val:  60%|██████    | 26/43 [00:15<00:10,  1.57it/s, dist=5.6569, loss=0.2990]"
     ]
    },
    {
     "name": "stdout",
     "output_type": "stream",
     "text": [
      "torch.Size([2158, 64, 41])\n",
      "Adjusted output shape: torch.Size([64, 2158, 41])\n"
     ]
    },
    {
     "name": "stderr",
     "output_type": "stream",
     "text": [
      "Val:  63%|██████▎   | 27/43 [00:16<00:09,  1.70it/s, dist=5.6354, loss=0.3012]"
     ]
    },
    {
     "name": "stdout",
     "output_type": "stream",
     "text": [
      "torch.Size([1591, 64, 41])\n",
      "Adjusted output shape: torch.Size([64, 1591, 41])\n"
     ]
    },
    {
     "name": "stderr",
     "output_type": "stream",
     "text": [
      "Val:  65%|██████▌   | 28/43 [00:16<00:08,  1.83it/s, dist=5.5737, loss=0.3009]"
     ]
    },
    {
     "name": "stdout",
     "output_type": "stream",
     "text": [
      "torch.Size([1783, 64, 41])\n",
      "Adjusted output shape: torch.Size([64, 1783, 41])\n"
     ]
    },
    {
     "name": "stderr",
     "output_type": "stream",
     "text": [
      "Val:  67%|██████▋   | 29/43 [00:17<00:07,  1.95it/s, dist=5.4790, loss=0.2981]"
     ]
    },
    {
     "name": "stdout",
     "output_type": "stream",
     "text": [
      "torch.Size([1776, 64, 41])\n",
      "Adjusted output shape: torch.Size([64, 1776, 41])\n"
     ]
    },
    {
     "name": "stderr",
     "output_type": "stream",
     "text": [
      "Val:  70%|██████▉   | 30/43 [00:17<00:06,  2.04it/s, dist=5.4786, loss=0.2993]"
     ]
    },
    {
     "name": "stdout",
     "output_type": "stream",
     "text": [
      "torch.Size([2078, 64, 41])\n",
      "Adjusted output shape: torch.Size([64, 2078, 41])\n"
     ]
    },
    {
     "name": "stderr",
     "output_type": "stream",
     "text": [
      "Val:  72%|███████▏  | 31/43 [00:18<00:05,  2.03it/s, dist=5.4199, loss=0.2990]"
     ]
    },
    {
     "name": "stdout",
     "output_type": "stream",
     "text": [
      "torch.Size([1443, 64, 41])\n",
      "Adjusted output shape: torch.Size([64, 1443, 41])\n"
     ]
    },
    {
     "name": "stderr",
     "output_type": "stream",
     "text": [
      "Val:  74%|███████▍  | 32/43 [00:18<00:05,  2.14it/s, dist=5.5244, loss=0.3074]"
     ]
    },
    {
     "name": "stdout",
     "output_type": "stream",
     "text": [
      "torch.Size([1906, 64, 41])\n",
      "Adjusted output shape: torch.Size([64, 1906, 41])\n"
     ]
    },
    {
     "name": "stderr",
     "output_type": "stream",
     "text": [
      "Val:  77%|███████▋  | 33/43 [00:19<00:04,  2.12it/s, dist=5.5431, loss=0.3110]"
     ]
    },
    {
     "name": "stdout",
     "output_type": "stream",
     "text": [
      "torch.Size([2189, 64, 41])\n",
      "Adjusted output shape: torch.Size([64, 2189, 41])\n"
     ]
    },
    {
     "name": "stderr",
     "output_type": "stream",
     "text": [
      "Val:  79%|███████▉  | 34/43 [00:19<00:04,  2.12it/s, dist=5.4761, loss=0.3079]"
     ]
    },
    {
     "name": "stdout",
     "output_type": "stream",
     "text": [
      "torch.Size([2095, 64, 41])\n",
      "Adjusted output shape: torch.Size([64, 2095, 41])\n"
     ]
    },
    {
     "name": "stderr",
     "output_type": "stream",
     "text": [
      "Val:  81%|████████▏ | 35/43 [00:20<00:03,  2.05it/s, dist=5.5036, loss=0.3079]"
     ]
    },
    {
     "name": "stdout",
     "output_type": "stream",
     "text": [
      "torch.Size([1511, 64, 41])\n",
      "Adjusted output shape: torch.Size([64, 1511, 41])\n"
     ]
    },
    {
     "name": "stderr",
     "output_type": "stream",
     "text": [
      "Val:  84%|████████▎ | 36/43 [00:20<00:03,  2.14it/s, dist=5.5399, loss=0.3118]"
     ]
    },
    {
     "name": "stdout",
     "output_type": "stream",
     "text": [
      "torch.Size([1813, 64, 41])\n",
      "Adjusted output shape: torch.Size([64, 1813, 41])\n"
     ]
    },
    {
     "name": "stderr",
     "output_type": "stream",
     "text": [
      "Val:  86%|████████▌ | 37/43 [00:20<00:02,  2.15it/s, dist=5.5735, loss=0.3158]"
     ]
    },
    {
     "name": "stdout",
     "output_type": "stream",
     "text": [
      "torch.Size([2890, 64, 41])\n",
      "Adjusted output shape: torch.Size([64, 2890, 41])\n"
     ]
    },
    {
     "name": "stderr",
     "output_type": "stream",
     "text": [
      "Val:  91%|█████████ | 39/43 [00:21<00:01,  2.20it/s, dist=5.5000, loss=0.3138]"
     ]
    },
    {
     "name": "stdout",
     "output_type": "stream",
     "text": [
      "torch.Size([1518, 64, 41])\n",
      "Adjusted output shape: torch.Size([64, 1518, 41])\n",
      "torch.Size([1804, 64, 41])\n",
      "Adjusted output shape: torch.Size([64, 1804, 41])\n"
     ]
    },
    {
     "name": "stderr",
     "output_type": "stream",
     "text": [
      "Val:  93%|█████████▎| 40/43 [00:22<00:01,  2.20it/s, dist=5.4465, loss=0.3109]"
     ]
    },
    {
     "name": "stdout",
     "output_type": "stream",
     "text": [
      "torch.Size([1592, 64, 41])\n",
      "Adjusted output shape: torch.Size([64, 1592, 41])\n"
     ]
    },
    {
     "name": "stderr",
     "output_type": "stream",
     "text": [
      "Val:  95%|█████████▌| 41/43 [00:22<00:00,  2.22it/s, dist=5.4253, loss=0.3102]"
     ]
    },
    {
     "name": "stdout",
     "output_type": "stream",
     "text": [
      "torch.Size([2340, 64, 41])\n",
      "Adjusted output shape: torch.Size([64, 2340, 41])\n"
     ]
    },
    {
     "name": "stderr",
     "output_type": "stream",
     "text": [
      "Val: 100%|██████████| 43/43 [00:23<00:00,  2.09it/s, dist=5.5655, loss=0.3170]"
     ]
    },
    {
     "name": "stdout",
     "output_type": "stream",
     "text": [
      "torch.Size([3166, 15, 41])\n",
      "Adjusted output shape: torch.Size([15, 3166, 41])\n"
     ]
    },
    {
     "name": "stderr",
     "output_type": "stream",
     "text": [
      "                                                                              \r"
     ]
    },
    {
     "name": "stdout",
     "output_type": "stream",
     "text": [
      "\tTrain Loss 0.1125\t Learning Rate 0.0001250\n",
      "\tVal Dist 5.5655%\t Val Loss 0.3170\n",
      "Saved epoch model\n",
      "\n",
      "Epoch: 36/50\n"
     ]
    },
    {
     "name": "stderr",
     "output_type": "stream",
     "text": [
      "Val:   0%|          | 0/43 [00:00<?, ?it/s]                                       "
     ]
    },
    {
     "name": "stdout",
     "output_type": "stream",
     "text": [
      "torch.Size([2936, 64, 41])\n",
      "Adjusted output shape: torch.Size([64, 2936, 41])\n"
     ]
    },
    {
     "name": "stderr",
     "output_type": "stream",
     "text": [
      "Val:   2%|▏         | 1/43 [00:01<00:48,  1.15s/it, dist=7.6875, loss=0.5303]"
     ]
    },
    {
     "name": "stdout",
     "output_type": "stream",
     "text": [
      "torch.Size([1631, 64, 41])\n",
      "Adjusted output shape: torch.Size([64, 1631, 41])\n"
     ]
    },
    {
     "name": "stderr",
     "output_type": "stream",
     "text": [
      "Val:   5%|▍         | 2/43 [00:01<00:30,  1.34it/s, dist=6.0703, loss=0.4209]"
     ]
    },
    {
     "name": "stdout",
     "output_type": "stream",
     "text": [
      "torch.Size([1987, 64, 41])\n",
      "Adjusted output shape: torch.Size([64, 1987, 41])\n"
     ]
    },
    {
     "name": "stderr",
     "output_type": "stream",
     "text": [
      "Val:   7%|▋         | 3/43 [00:02<00:26,  1.51it/s, dist=5.9740, loss=0.3710]"
     ]
    },
    {
     "name": "stdout",
     "output_type": "stream",
     "text": [
      "torch.Size([2707, 64, 41])\n",
      "Adjusted output shape: torch.Size([64, 2707, 41])\n"
     ]
    },
    {
     "name": "stderr",
     "output_type": "stream",
     "text": [
      "Val:   9%|▉         | 4/43 [00:02<00:26,  1.50it/s, dist=6.2188, loss=0.3696]"
     ]
    },
    {
     "name": "stdout",
     "output_type": "stream",
     "text": [
      "torch.Size([2658, 64, 41])\n",
      "Adjusted output shape: torch.Size([64, 2658, 41])\n"
     ]
    },
    {
     "name": "stderr",
     "output_type": "stream",
     "text": [
      "Val:  12%|█▏        | 5/43 [00:03<00:25,  1.52it/s, dist=6.0500, loss=0.3485]"
     ]
    },
    {
     "name": "stdout",
     "output_type": "stream",
     "text": [
      "torch.Size([2282, 64, 41])\n",
      "Adjusted output shape: torch.Size([64, 2282, 41])\n"
     ]
    },
    {
     "name": "stderr",
     "output_type": "stream",
     "text": [
      "Val:  14%|█▍        | 6/43 [00:04<00:23,  1.57it/s, dist=6.1719, loss=0.3430]"
     ]
    },
    {
     "name": "stdout",
     "output_type": "stream",
     "text": [
      "torch.Size([2784, 64, 41])\n",
      "Adjusted output shape: torch.Size([64, 2784, 41])\n"
     ]
    },
    {
     "name": "stderr",
     "output_type": "stream",
     "text": [
      "Val:  16%|█▋        | 7/43 [00:04<00:22,  1.58it/s, dist=6.0268, loss=0.3419]"
     ]
    },
    {
     "name": "stdout",
     "output_type": "stream",
     "text": [
      "torch.Size([2052, 64, 41])\n",
      "Adjusted output shape: torch.Size([64, 2052, 41])\n"
     ]
    },
    {
     "name": "stderr",
     "output_type": "stream",
     "text": [
      "Val:  19%|█▊        | 8/43 [00:05<00:20,  1.69it/s, dist=5.7266, loss=0.3411]"
     ]
    },
    {
     "name": "stdout",
     "output_type": "stream",
     "text": [
      "torch.Size([3133, 64, 41])\n",
      "Adjusted output shape: torch.Size([64, 3133, 41])\n"
     ]
    },
    {
     "name": "stderr",
     "output_type": "stream",
     "text": [
      "Val:  21%|██        | 9/43 [00:06<00:22,  1.51it/s, dist=5.6597, loss=0.3317]"
     ]
    },
    {
     "name": "stdout",
     "output_type": "stream",
     "text": [
      "torch.Size([2277, 64, 41])\n",
      "Adjusted output shape: torch.Size([64, 2277, 41])\n"
     ]
    },
    {
     "name": "stderr",
     "output_type": "stream",
     "text": [
      "Val:  23%|██▎       | 10/43 [00:06<00:22,  1.49it/s, dist=5.7500, loss=0.3273]"
     ]
    },
    {
     "name": "stdout",
     "output_type": "stream",
     "text": [
      "torch.Size([1546, 64, 41])\n",
      "Adjusted output shape: torch.Size([64, 1546, 41])\n"
     ]
    },
    {
     "name": "stderr",
     "output_type": "stream",
     "text": [
      "Val:  26%|██▌       | 11/43 [00:07<00:19,  1.66it/s, dist=5.4943, loss=0.3143]"
     ]
    },
    {
     "name": "stdout",
     "output_type": "stream",
     "text": [
      "torch.Size([2264, 64, 41])\n",
      "Adjusted output shape: torch.Size([64, 2264, 41])\n"
     ]
    },
    {
     "name": "stderr",
     "output_type": "stream",
     "text": [
      "Val:  28%|██▊       | 12/43 [00:07<00:18,  1.66it/s, dist=5.5443, loss=0.3138]"
     ]
    },
    {
     "name": "stdout",
     "output_type": "stream",
     "text": [
      "torch.Size([1757, 64, 41])\n",
      "Adjusted output shape: torch.Size([64, 1757, 41])\n"
     ]
    },
    {
     "name": "stderr",
     "output_type": "stream",
     "text": [
      "Val:  30%|███       | 13/43 [00:08<00:17,  1.73it/s, dist=5.5421, loss=0.3099]"
     ]
    },
    {
     "name": "stdout",
     "output_type": "stream",
     "text": [
      "torch.Size([1641, 64, 41])\n",
      "Adjusted output shape: torch.Size([64, 1641, 41])\n"
     ]
    },
    {
     "name": "stderr",
     "output_type": "stream",
     "text": [
      "Val:  33%|███▎      | 14/43 [00:08<00:15,  1.86it/s, dist=5.3315, loss=0.2993]"
     ]
    },
    {
     "name": "stdout",
     "output_type": "stream",
     "text": [
      "torch.Size([2476, 64, 41])\n",
      "Adjusted output shape: torch.Size([64, 2476, 41])\n"
     ]
    },
    {
     "name": "stderr",
     "output_type": "stream",
     "text": [
      "Val:  35%|███▍      | 15/43 [00:09<00:15,  1.84it/s, dist=5.1927, loss=0.2910]"
     ]
    },
    {
     "name": "stdout",
     "output_type": "stream",
     "text": [
      "torch.Size([2465, 64, 41])\n",
      "Adjusted output shape: torch.Size([64, 2465, 41])\n"
     ]
    },
    {
     "name": "stderr",
     "output_type": "stream",
     "text": [
      "Val:  37%|███▋      | 16/43 [00:09<00:15,  1.69it/s, dist=5.3018, loss=0.2975]"
     ]
    },
    {
     "name": "stdout",
     "output_type": "stream",
     "text": [
      "torch.Size([3244, 64, 41])\n",
      "Adjusted output shape: torch.Size([64, 3244, 41])\n"
     ]
    },
    {
     "name": "stderr",
     "output_type": "stream",
     "text": [
      "Val:  40%|███▉      | 17/43 [00:10<00:18,  1.41it/s, dist=5.4210, loss=0.2962]"
     ]
    },
    {
     "name": "stdout",
     "output_type": "stream",
     "text": [
      "torch.Size([2853, 64, 41])\n",
      "Adjusted output shape: torch.Size([64, 2853, 41])\n"
     ]
    },
    {
     "name": "stderr",
     "output_type": "stream",
     "text": [
      "Val:  42%|████▏     | 18/43 [00:11<00:17,  1.43it/s, dist=5.3238, loss=0.2920]"
     ]
    },
    {
     "name": "stdout",
     "output_type": "stream",
     "text": [
      "torch.Size([2795, 64, 41])\n",
      "Adjusted output shape: torch.Size([64, 2795, 41])\n"
     ]
    },
    {
     "name": "stderr",
     "output_type": "stream",
     "text": [
      "Val:  44%|████▍     | 19/43 [00:12<00:16,  1.46it/s, dist=5.2952, loss=0.2937]"
     ]
    },
    {
     "name": "stdout",
     "output_type": "stream",
     "text": [
      "torch.Size([2027, 64, 41])\n",
      "Adjusted output shape: torch.Size([64, 2027, 41])\n"
     ]
    },
    {
     "name": "stderr",
     "output_type": "stream",
     "text": [
      "Val:  47%|████▋     | 20/43 [00:13<00:15,  1.45it/s, dist=5.2805, loss=0.2897]"
     ]
    },
    {
     "name": "stdout",
     "output_type": "stream",
     "text": [
      "torch.Size([2686, 64, 41])\n",
      "Adjusted output shape: torch.Size([64, 2686, 41])\n"
     ]
    },
    {
     "name": "stderr",
     "output_type": "stream",
     "text": [
      "Val:  49%|████▉     | 21/43 [00:13<00:15,  1.41it/s, dist=5.3601, loss=0.2923]"
     ]
    },
    {
     "name": "stdout",
     "output_type": "stream",
     "text": [
      "torch.Size([2068, 64, 41])\n",
      "Adjusted output shape: torch.Size([64, 2068, 41])\n"
     ]
    },
    {
     "name": "stderr",
     "output_type": "stream",
     "text": [
      "Val:  51%|█████     | 22/43 [00:14<00:13,  1.54it/s, dist=5.2635, loss=0.2895]"
     ]
    },
    {
     "name": "stdout",
     "output_type": "stream",
     "text": [
      "torch.Size([1543, 64, 41])\n",
      "Adjusted output shape: torch.Size([64, 1543, 41])\n"
     ]
    },
    {
     "name": "stderr",
     "output_type": "stream",
     "text": [
      "Val:  53%|█████▎    | 23/43 [00:14<00:12,  1.65it/s, dist=5.2160, loss=0.2899]"
     ]
    },
    {
     "name": "stdout",
     "output_type": "stream",
     "text": [
      "torch.Size([3260, 64, 41])\n",
      "Adjusted output shape: torch.Size([64, 3260, 41])\n"
     ]
    },
    {
     "name": "stderr",
     "output_type": "stream",
     "text": [
      "Val:  56%|█████▌    | 24/43 [00:15<00:13,  1.39it/s, dist=5.3854, loss=0.2911]"
     ]
    },
    {
     "name": "stdout",
     "output_type": "stream",
     "text": [
      "torch.Size([3210, 64, 41])\n",
      "Adjusted output shape: torch.Size([64, 3210, 41])\n"
     ]
    },
    {
     "name": "stderr",
     "output_type": "stream",
     "text": [
      "Val:  58%|█████▊    | 25/43 [00:16<00:13,  1.37it/s, dist=5.4331, loss=0.2925]"
     ]
    },
    {
     "name": "stdout",
     "output_type": "stream",
     "text": [
      "torch.Size([2084, 64, 41])\n",
      "Adjusted output shape: torch.Size([64, 2084, 41])\n"
     ]
    },
    {
     "name": "stderr",
     "output_type": "stream",
     "text": [
      "Val:  60%|██████    | 26/43 [00:17<00:11,  1.43it/s, dist=5.5655, loss=0.2943]"
     ]
    },
    {
     "name": "stdout",
     "output_type": "stream",
     "text": [
      "torch.Size([2158, 64, 41])\n",
      "Adjusted output shape: torch.Size([64, 2158, 41])\n"
     ]
    },
    {
     "name": "stderr",
     "output_type": "stream",
     "text": [
      "Val:  63%|██████▎   | 27/43 [00:17<00:10,  1.53it/s, dist=5.5388, loss=0.2962]"
     ]
    },
    {
     "name": "stdout",
     "output_type": "stream",
     "text": [
      "torch.Size([1591, 64, 41])\n",
      "Adjusted output shape: torch.Size([64, 1591, 41])\n"
     ]
    },
    {
     "name": "stderr",
     "output_type": "stream",
     "text": [
      "Val:  65%|██████▌   | 28/43 [00:18<00:09,  1.66it/s, dist=5.4777, loss=0.2961]"
     ]
    },
    {
     "name": "stdout",
     "output_type": "stream",
     "text": [
      "torch.Size([1783, 64, 41])\n",
      "Adjusted output shape: torch.Size([64, 1783, 41])\n"
     ]
    },
    {
     "name": "stderr",
     "output_type": "stream",
     "text": [
      "Val:  67%|██████▋   | 29/43 [00:18<00:07,  1.78it/s, dist=5.3890, loss=0.2936]"
     ]
    },
    {
     "name": "stdout",
     "output_type": "stream",
     "text": [
      "torch.Size([1776, 64, 41])\n",
      "Adjusted output shape: torch.Size([64, 1776, 41])\n"
     ]
    },
    {
     "name": "stderr",
     "output_type": "stream",
     "text": [
      "Val:  70%|██████▉   | 30/43 [00:19<00:07,  1.77it/s, dist=5.3922, loss=0.2951]"
     ]
    },
    {
     "name": "stdout",
     "output_type": "stream",
     "text": [
      "torch.Size([2078, 64, 41])\n",
      "Adjusted output shape: torch.Size([64, 2078, 41])\n"
     ]
    },
    {
     "name": "stderr",
     "output_type": "stream",
     "text": [
      "Val:  72%|███████▏  | 31/43 [00:19<00:06,  1.79it/s, dist=5.3251, loss=0.2947]"
     ]
    },
    {
     "name": "stdout",
     "output_type": "stream",
     "text": [
      "torch.Size([1443, 64, 41])\n",
      "Adjusted output shape: torch.Size([64, 1443, 41])\n"
     ]
    },
    {
     "name": "stderr",
     "output_type": "stream",
     "text": [
      "Val:  74%|███████▍  | 32/43 [00:20<00:05,  1.91it/s, dist=5.4219, loss=0.3028]"
     ]
    },
    {
     "name": "stdout",
     "output_type": "stream",
     "text": [
      "torch.Size([1906, 64, 41])\n",
      "Adjusted output shape: torch.Size([64, 1906, 41])\n"
     ]
    },
    {
     "name": "stderr",
     "output_type": "stream",
     "text": [
      "Val:  77%|███████▋  | 33/43 [00:20<00:05,  1.82it/s, dist=5.4427, loss=0.3063]"
     ]
    },
    {
     "name": "stdout",
     "output_type": "stream",
     "text": [
      "torch.Size([2189, 64, 41])\n",
      "Adjusted output shape: torch.Size([64, 2189, 41])\n"
     ]
    },
    {
     "name": "stderr",
     "output_type": "stream",
     "text": [
      "Val:  79%|███████▉  | 34/43 [00:21<00:04,  1.81it/s, dist=5.3764, loss=0.3034]"
     ]
    },
    {
     "name": "stdout",
     "output_type": "stream",
     "text": [
      "torch.Size([2095, 64, 41])\n",
      "Adjusted output shape: torch.Size([64, 2095, 41])\n"
     ]
    },
    {
     "name": "stderr",
     "output_type": "stream",
     "text": [
      "Val:  81%|████████▏ | 35/43 [00:22<00:04,  1.73it/s, dist=5.4107, loss=0.3037]"
     ]
    },
    {
     "name": "stdout",
     "output_type": "stream",
     "text": [
      "torch.Size([1511, 64, 41])\n",
      "Adjusted output shape: torch.Size([64, 1511, 41])\n"
     ]
    },
    {
     "name": "stderr",
     "output_type": "stream",
     "text": [
      "Val:  84%|████████▎ | 36/43 [00:22<00:03,  1.84it/s, dist=5.4488, loss=0.3077]"
     ]
    },
    {
     "name": "stdout",
     "output_type": "stream",
     "text": [
      "torch.Size([1813, 64, 41])\n",
      "Adjusted output shape: torch.Size([64, 1813, 41])\n"
     ]
    },
    {
     "name": "stderr",
     "output_type": "stream",
     "text": [
      "Val:  86%|████████▌ | 37/43 [00:22<00:03,  1.93it/s, dist=5.4886, loss=0.3121]"
     ]
    },
    {
     "name": "stdout",
     "output_type": "stream",
     "text": [
      "torch.Size([2890, 64, 41])\n",
      "Adjusted output shape: torch.Size([64, 2890, 41])\n"
     ]
    },
    {
     "name": "stderr",
     "output_type": "stream",
     "text": [
      "Val:  88%|████████▊ | 38/43 [00:23<00:02,  1.79it/s, dist=5.4539, loss=0.3114]"
     ]
    },
    {
     "name": "stdout",
     "output_type": "stream",
     "text": [
      "torch.Size([1518, 64, 41])\n",
      "Adjusted output shape: torch.Size([64, 1518, 41])\n"
     ]
    },
    {
     "name": "stderr",
     "output_type": "stream",
     "text": [
      "Val:  91%|█████████ | 39/43 [00:24<00:02,  1.91it/s, dist=5.4131, loss=0.3101]"
     ]
    },
    {
     "name": "stdout",
     "output_type": "stream",
     "text": [
      "torch.Size([1804, 64, 41])\n",
      "Adjusted output shape: torch.Size([64, 1804, 41])\n"
     ]
    },
    {
     "name": "stderr",
     "output_type": "stream",
     "text": [
      "Val:  93%|█████████▎| 40/43 [00:24<00:01,  1.92it/s, dist=5.3578, loss=0.3072]"
     ]
    },
    {
     "name": "stdout",
     "output_type": "stream",
     "text": [
      "torch.Size([1592, 64, 41])\n",
      "Adjusted output shape: torch.Size([64, 1592, 41])\n"
     ]
    },
    {
     "name": "stderr",
     "output_type": "stream",
     "text": [
      "Val:  95%|█████████▌| 41/43 [00:25<00:01,  1.96it/s, dist=5.3392, loss=0.3066]"
     ]
    },
    {
     "name": "stdout",
     "output_type": "stream",
     "text": [
      "torch.Size([2340, 64, 41])\n",
      "Adjusted output shape: torch.Size([64, 2340, 41])\n"
     ]
    },
    {
     "name": "stderr",
     "output_type": "stream",
     "text": [
      "Val: 100%|██████████| 43/43 [00:26<00:00,  1.83it/s, dist=5.4818, loss=0.3133]"
     ]
    },
    {
     "name": "stdout",
     "output_type": "stream",
     "text": [
      "torch.Size([3166, 15, 41])\n",
      "Adjusted output shape: torch.Size([15, 3166, 41])\n"
     ]
    },
    {
     "name": "stderr",
     "output_type": "stream",
     "text": [
      "                                                                              \r"
     ]
    },
    {
     "name": "stdout",
     "output_type": "stream",
     "text": [
      "\tTrain Loss 0.0991\t Learning Rate 0.0000625\n",
      "\tVal Dist 5.4818%\t Val Loss 0.3133\n",
      "Saved epoch model\n",
      "Saved best model\n",
      "\n",
      "Epoch: 37/50\n"
     ]
    },
    {
     "name": "stderr",
     "output_type": "stream",
     "text": [
      "Val:   0%|          | 0/43 [00:00<?, ?it/s]                                       "
     ]
    },
    {
     "name": "stdout",
     "output_type": "stream",
     "text": [
      "torch.Size([2936, 64, 41])\n",
      "Adjusted output shape: torch.Size([64, 2936, 41])\n"
     ]
    },
    {
     "name": "stderr",
     "output_type": "stream",
     "text": [
      "Val:   2%|▏         | 1/43 [00:01<00:49,  1.19s/it, dist=7.8750, loss=0.5438]"
     ]
    },
    {
     "name": "stdout",
     "output_type": "stream",
     "text": [
      "torch.Size([1631, 64, 41])\n",
      "Adjusted output shape: torch.Size([64, 1631, 41])\n"
     ]
    },
    {
     "name": "stderr",
     "output_type": "stream",
     "text": [
      "Val:   5%|▍         | 2/43 [00:01<00:31,  1.31it/s, dist=6.2422, loss=0.4330]"
     ]
    },
    {
     "name": "stdout",
     "output_type": "stream",
     "text": [
      "torch.Size([1987, 64, 41])\n",
      "Adjusted output shape: torch.Size([64, 1987, 41])\n"
     ]
    },
    {
     "name": "stderr",
     "output_type": "stream",
     "text": [
      "Val:   7%|▋         | 3/43 [00:02<00:27,  1.47it/s, dist=6.0990, loss=0.3785]"
     ]
    },
    {
     "name": "stdout",
     "output_type": "stream",
     "text": [
      "torch.Size([2707, 64, 41])\n",
      "Adjusted output shape: torch.Size([64, 2707, 41])\n"
     ]
    },
    {
     "name": "stderr",
     "output_type": "stream",
     "text": [
      "Val:   9%|▉         | 4/43 [00:02<00:26,  1.49it/s, dist=6.2891, loss=0.3740]"
     ]
    },
    {
     "name": "stdout",
     "output_type": "stream",
     "text": [
      "torch.Size([2658, 64, 41])\n",
      "Adjusted output shape: torch.Size([64, 2658, 41])\n"
     ]
    },
    {
     "name": "stderr",
     "output_type": "stream",
     "text": [
      "Val:  12%|█▏        | 5/43 [00:03<00:26,  1.45it/s, dist=6.1344, loss=0.3543]"
     ]
    },
    {
     "name": "stdout",
     "output_type": "stream",
     "text": [
      "torch.Size([2282, 64, 41])\n",
      "Adjusted output shape: torch.Size([64, 2282, 41])\n"
     ]
    },
    {
     "name": "stderr",
     "output_type": "stream",
     "text": [
      "Val:  14%|█▍        | 6/43 [00:04<00:24,  1.50it/s, dist=6.2318, loss=0.3484]"
     ]
    },
    {
     "name": "stdout",
     "output_type": "stream",
     "text": [
      "torch.Size([2784, 64, 41])\n",
      "Adjusted output shape: torch.Size([64, 2784, 41])\n"
     ]
    },
    {
     "name": "stderr",
     "output_type": "stream",
     "text": [
      "Val:  16%|█▋        | 7/43 [00:04<00:24,  1.50it/s, dist=6.0737, loss=0.3483]"
     ]
    },
    {
     "name": "stdout",
     "output_type": "stream",
     "text": [
      "torch.Size([2052, 64, 41])\n",
      "Adjusted output shape: torch.Size([64, 2052, 41])\n"
     ]
    },
    {
     "name": "stderr",
     "output_type": "stream",
     "text": [
      "Val:  19%|█▊        | 8/43 [00:05<00:21,  1.61it/s, dist=5.7637, loss=0.3476]"
     ]
    },
    {
     "name": "stdout",
     "output_type": "stream",
     "text": [
      "torch.Size([3133, 64, 41])\n",
      "Adjusted output shape: torch.Size([64, 3133, 41])\n"
     ]
    },
    {
     "name": "stderr",
     "output_type": "stream",
     "text": [
      "Val:  21%|██        | 9/43 [00:06<00:23,  1.44it/s, dist=5.6788, loss=0.3379]"
     ]
    },
    {
     "name": "stdout",
     "output_type": "stream",
     "text": [
      "torch.Size([2277, 64, 41])\n",
      "Adjusted output shape: torch.Size([64, 2277, 41])\n"
     ]
    },
    {
     "name": "stderr",
     "output_type": "stream",
     "text": [
      "Val:  23%|██▎       | 10/43 [00:07<00:23,  1.42it/s, dist=5.7703, loss=0.3331]"
     ]
    },
    {
     "name": "stdout",
     "output_type": "stream",
     "text": [
      "torch.Size([1546, 64, 41])\n",
      "Adjusted output shape: torch.Size([64, 1546, 41])\n"
     ]
    },
    {
     "name": "stderr",
     "output_type": "stream",
     "text": [
      "Val:  26%|██▌       | 11/43 [00:07<00:20,  1.59it/s, dist=5.5071, loss=0.3198]"
     ]
    },
    {
     "name": "stdout",
     "output_type": "stream",
     "text": [
      "torch.Size([2264, 64, 41])\n",
      "Adjusted output shape: torch.Size([64, 2264, 41])\n"
     ]
    },
    {
     "name": "stderr",
     "output_type": "stream",
     "text": [
      "Val:  28%|██▊       | 12/43 [00:08<00:19,  1.61it/s, dist=5.5456, loss=0.3191]"
     ]
    },
    {
     "name": "stdout",
     "output_type": "stream",
     "text": [
      "torch.Size([1757, 64, 41])\n",
      "Adjusted output shape: torch.Size([64, 1757, 41])\n"
     ]
    },
    {
     "name": "stderr",
     "output_type": "stream",
     "text": [
      "Val:  30%|███       | 13/43 [00:08<00:18,  1.66it/s, dist=5.5469, loss=0.3149]"
     ]
    },
    {
     "name": "stdout",
     "output_type": "stream",
     "text": [
      "torch.Size([1641, 64, 41])\n",
      "Adjusted output shape: torch.Size([64, 1641, 41])\n"
     ]
    },
    {
     "name": "stderr",
     "output_type": "stream",
     "text": [
      "Val:  33%|███▎      | 14/43 [00:09<00:15,  1.81it/s, dist=5.3292, loss=0.3044]"
     ]
    },
    {
     "name": "stdout",
     "output_type": "stream",
     "text": [
      "torch.Size([2476, 64, 41])\n",
      "Adjusted output shape: torch.Size([64, 2476, 41])\n"
     ]
    },
    {
     "name": "stderr",
     "output_type": "stream",
     "text": [
      "Val:  35%|███▍      | 15/43 [00:09<00:15,  1.81it/s, dist=5.1896, loss=0.2961]"
     ]
    },
    {
     "name": "stdout",
     "output_type": "stream",
     "text": [
      "torch.Size([2465, 64, 41])\n",
      "Adjusted output shape: torch.Size([64, 2465, 41])\n"
     ]
    },
    {
     "name": "stderr",
     "output_type": "stream",
     "text": [
      "Val:  37%|███▋      | 16/43 [00:10<00:15,  1.69it/s, dist=5.2939, loss=0.3028]"
     ]
    },
    {
     "name": "stdout",
     "output_type": "stream",
     "text": [
      "torch.Size([3244, 64, 41])\n",
      "Adjusted output shape: torch.Size([64, 3244, 41])\n"
     ]
    },
    {
     "name": "stderr",
     "output_type": "stream",
     "text": [
      "Val:  40%|███▉      | 17/43 [00:11<00:18,  1.43it/s, dist=5.4090, loss=0.3013]"
     ]
    },
    {
     "name": "stdout",
     "output_type": "stream",
     "text": [
      "torch.Size([2853, 64, 41])\n",
      "Adjusted output shape: torch.Size([64, 2853, 41])\n"
     ]
    },
    {
     "name": "stderr",
     "output_type": "stream",
     "text": [
      "Val:  42%|████▏     | 18/43 [00:11<00:17,  1.45it/s, dist=5.3125, loss=0.2970]"
     ]
    },
    {
     "name": "stdout",
     "output_type": "stream",
     "text": [
      "torch.Size([2795, 64, 41])\n",
      "Adjusted output shape: torch.Size([64, 2795, 41])\n"
     ]
    },
    {
     "name": "stderr",
     "output_type": "stream",
     "text": [
      "Val:  44%|████▍     | 19/43 [00:12<00:16,  1.45it/s, dist=5.2755, loss=0.2989]"
     ]
    },
    {
     "name": "stdout",
     "output_type": "stream",
     "text": [
      "torch.Size([2027, 64, 41])\n",
      "Adjusted output shape: torch.Size([64, 2027, 41])\n"
     ]
    },
    {
     "name": "stderr",
     "output_type": "stream",
     "text": [
      "Val:  47%|████▋     | 20/43 [00:13<00:16,  1.41it/s, dist=5.2516, loss=0.2946]"
     ]
    },
    {
     "name": "stdout",
     "output_type": "stream",
     "text": [
      "torch.Size([2686, 64, 41])\n",
      "Adjusted output shape: torch.Size([64, 2686, 41])\n"
     ]
    },
    {
     "name": "stderr",
     "output_type": "stream",
     "text": [
      "Val:  49%|████▉     | 21/43 [00:14<00:16,  1.35it/s, dist=5.3348, loss=0.2972]"
     ]
    },
    {
     "name": "stdout",
     "output_type": "stream",
     "text": [
      "torch.Size([2068, 64, 41])\n",
      "Adjusted output shape: torch.Size([64, 2068, 41])\n"
     ]
    },
    {
     "name": "stderr",
     "output_type": "stream",
     "text": [
      "Val:  51%|█████     | 22/43 [00:14<00:14,  1.46it/s, dist=5.2386, loss=0.2943]"
     ]
    },
    {
     "name": "stdout",
     "output_type": "stream",
     "text": [
      "torch.Size([1543, 64, 41])\n",
      "Adjusted output shape: torch.Size([64, 1543, 41])\n"
     ]
    },
    {
     "name": "stderr",
     "output_type": "stream",
     "text": [
      "Val:  53%|█████▎    | 23/43 [00:15<00:12,  1.60it/s, dist=5.1957, loss=0.2944]"
     ]
    },
    {
     "name": "stdout",
     "output_type": "stream",
     "text": [
      "torch.Size([3260, 64, 41])\n",
      "Adjusted output shape: torch.Size([64, 3260, 41])\n"
     ]
    },
    {
     "name": "stderr",
     "output_type": "stream",
     "text": [
      "Val:  56%|█████▌    | 24/43 [00:16<00:14,  1.33it/s, dist=5.3724, loss=0.2956]"
     ]
    },
    {
     "name": "stdout",
     "output_type": "stream",
     "text": [
      "torch.Size([3210, 64, 41])\n",
      "Adjusted output shape: torch.Size([64, 3210, 41])\n"
     ]
    },
    {
     "name": "stderr",
     "output_type": "stream",
     "text": [
      "Val:  58%|█████▊    | 25/43 [00:17<00:13,  1.30it/s, dist=5.4175, loss=0.2971]"
     ]
    },
    {
     "name": "stdout",
     "output_type": "stream",
     "text": [
      "torch.Size([2084, 64, 41])\n",
      "Adjusted output shape: torch.Size([64, 2084, 41])\n"
     ]
    },
    {
     "name": "stderr",
     "output_type": "stream",
     "text": [
      "Val:  60%|██████    | 26/43 [00:17<00:12,  1.40it/s, dist=5.5391, loss=0.2988]"
     ]
    },
    {
     "name": "stdout",
     "output_type": "stream",
     "text": [
      "torch.Size([2158, 64, 41])\n",
      "Adjusted output shape: torch.Size([64, 2158, 41])\n"
     ]
    },
    {
     "name": "stderr",
     "output_type": "stream",
     "text": [
      "Val:  63%|██████▎   | 27/43 [00:18<00:10,  1.54it/s, dist=5.5214, loss=0.3008]"
     ]
    },
    {
     "name": "stdout",
     "output_type": "stream",
     "text": [
      "torch.Size([1591, 64, 41])\n",
      "Adjusted output shape: torch.Size([64, 1591, 41])\n"
     ]
    },
    {
     "name": "stderr",
     "output_type": "stream",
     "text": [
      "Val:  65%|██████▌   | 28/43 [00:18<00:09,  1.66it/s, dist=5.4604, loss=0.3007]"
     ]
    },
    {
     "name": "stdout",
     "output_type": "stream",
     "text": [
      "torch.Size([1783, 64, 41])\n",
      "Adjusted output shape: torch.Size([64, 1783, 41])\n"
     ]
    },
    {
     "name": "stderr",
     "output_type": "stream",
     "text": [
      "Val:  67%|██████▋   | 29/43 [00:19<00:08,  1.74it/s, dist=5.3728, loss=0.2980]"
     ]
    },
    {
     "name": "stdout",
     "output_type": "stream",
     "text": [
      "torch.Size([1776, 64, 41])\n",
      "Adjusted output shape: torch.Size([64, 1776, 41])\n"
     ]
    },
    {
     "name": "stderr",
     "output_type": "stream",
     "text": [
      "Val:  70%|██████▉   | 30/43 [00:19<00:07,  1.78it/s, dist=5.3745, loss=0.2995]"
     ]
    },
    {
     "name": "stdout",
     "output_type": "stream",
     "text": [
      "torch.Size([2078, 64, 41])\n",
      "Adjusted output shape: torch.Size([64, 2078, 41])\n"
     ]
    },
    {
     "name": "stderr",
     "output_type": "stream",
     "text": [
      "Val:  72%|███████▏  | 31/43 [00:20<00:06,  1.79it/s, dist=5.3115, loss=0.2990]"
     ]
    },
    {
     "name": "stdout",
     "output_type": "stream",
     "text": [
      "torch.Size([1443, 64, 41])\n",
      "Adjusted output shape: torch.Size([64, 1443, 41])\n"
     ]
    },
    {
     "name": "stderr",
     "output_type": "stream",
     "text": [
      "Val:  74%|███████▍  | 32/43 [00:20<00:05,  1.93it/s, dist=5.4097, loss=0.3072]"
     ]
    },
    {
     "name": "stdout",
     "output_type": "stream",
     "text": [
      "torch.Size([1906, 64, 41])\n",
      "Adjusted output shape: torch.Size([64, 1906, 41])\n"
     ]
    },
    {
     "name": "stderr",
     "output_type": "stream",
     "text": [
      "Val:  77%|███████▋  | 33/43 [00:21<00:05,  1.87it/s, dist=5.4380, loss=0.3108]"
     ]
    },
    {
     "name": "stdout",
     "output_type": "stream",
     "text": [
      "torch.Size([2189, 64, 41])\n",
      "Adjusted output shape: torch.Size([64, 2189, 41])\n"
     ]
    },
    {
     "name": "stderr",
     "output_type": "stream",
     "text": [
      "Val:  79%|███████▉  | 34/43 [00:21<00:04,  1.82it/s, dist=5.3727, loss=0.3078]"
     ]
    },
    {
     "name": "stdout",
     "output_type": "stream",
     "text": [
      "torch.Size([2095, 64, 41])\n",
      "Adjusted output shape: torch.Size([64, 2095, 41])\n"
     ]
    },
    {
     "name": "stderr",
     "output_type": "stream",
     "text": [
      "Val:  81%|████████▏ | 35/43 [00:22<00:04,  1.74it/s, dist=5.4045, loss=0.3079]"
     ]
    },
    {
     "name": "stdout",
     "output_type": "stream",
     "text": [
      "torch.Size([1511, 64, 41])\n",
      "Adjusted output shape: torch.Size([64, 1511, 41])\n"
     ]
    },
    {
     "name": "stderr",
     "output_type": "stream",
     "text": [
      "Val:  84%|████████▎ | 36/43 [00:22<00:03,  1.80it/s, dist=5.4440, loss=0.3122]"
     ]
    },
    {
     "name": "stdout",
     "output_type": "stream",
     "text": [
      "torch.Size([1813, 64, 41])\n",
      "Adjusted output shape: torch.Size([64, 1813, 41])\n"
     ]
    },
    {
     "name": "stderr",
     "output_type": "stream",
     "text": [
      "Val:  86%|████████▌ | 37/43 [00:23<00:03,  1.87it/s, dist=5.4856, loss=0.3165]"
     ]
    },
    {
     "name": "stdout",
     "output_type": "stream",
     "text": [
      "torch.Size([2890, 64, 41])\n",
      "Adjusted output shape: torch.Size([64, 2890, 41])\n"
     ]
    },
    {
     "name": "stderr",
     "output_type": "stream",
     "text": [
      "Val:  88%|████████▊ | 38/43 [00:24<00:02,  1.72it/s, dist=5.4531, loss=0.3158]"
     ]
    },
    {
     "name": "stdout",
     "output_type": "stream",
     "text": [
      "torch.Size([1518, 64, 41])\n",
      "Adjusted output shape: torch.Size([64, 1518, 41])\n"
     ]
    },
    {
     "name": "stderr",
     "output_type": "stream",
     "text": [
      "Val:  91%|█████████ | 39/43 [00:24<00:02,  1.81it/s, dist=5.4115, loss=0.3144]"
     ]
    },
    {
     "name": "stdout",
     "output_type": "stream",
     "text": [
      "torch.Size([1804, 64, 41])\n",
      "Adjusted output shape: torch.Size([64, 1804, 41])\n"
     ]
    },
    {
     "name": "stderr",
     "output_type": "stream",
     "text": [
      "Val:  93%|█████████▎| 40/43 [00:25<00:01,  1.83it/s, dist=5.3586, loss=0.3115]"
     ]
    },
    {
     "name": "stdout",
     "output_type": "stream",
     "text": [
      "torch.Size([1592, 64, 41])\n",
      "Adjusted output shape: torch.Size([64, 1592, 41])\n"
     ]
    },
    {
     "name": "stderr",
     "output_type": "stream",
     "text": [
      "Val:  95%|█████████▌| 41/43 [00:25<00:01,  1.86it/s, dist=5.3384, loss=0.3108]"
     ]
    },
    {
     "name": "stdout",
     "output_type": "stream",
     "text": [
      "torch.Size([2340, 64, 41])\n",
      "Adjusted output shape: torch.Size([64, 2340, 41])\n"
     ]
    },
    {
     "name": "stderr",
     "output_type": "stream",
     "text": [
      "Val: 100%|██████████| 43/43 [00:26<00:00,  1.85it/s, dist=5.4821, loss=0.3179]"
     ]
    },
    {
     "name": "stdout",
     "output_type": "stream",
     "text": [
      "torch.Size([3166, 15, 41])\n",
      "Adjusted output shape: torch.Size([15, 3166, 41])\n"
     ]
    },
    {
     "name": "stderr",
     "output_type": "stream",
     "text": [
      "                                                                              \r"
     ]
    },
    {
     "name": "stdout",
     "output_type": "stream",
     "text": [
      "\tTrain Loss 0.0877\t Learning Rate 0.0000625\n",
      "\tVal Dist 5.4821%\t Val Loss 0.3179\n",
      "Saved epoch model\n",
      "\n",
      "Epoch: 38/50\n"
     ]
    },
    {
     "name": "stderr",
     "output_type": "stream",
     "text": [
      "Val:   0%|          | 0/43 [00:00<?, ?it/s]                                       "
     ]
    },
    {
     "name": "stdout",
     "output_type": "stream",
     "text": [
      "torch.Size([2936, 64, 41])\n",
      "Adjusted output shape: torch.Size([64, 2936, 41])\n"
     ]
    },
    {
     "name": "stderr",
     "output_type": "stream",
     "text": [
      "Val:   2%|▏         | 1/43 [00:01<00:48,  1.16s/it, dist=8.0938, loss=0.5419]"
     ]
    },
    {
     "name": "stdout",
     "output_type": "stream",
     "text": [
      "torch.Size([1631, 64, 41])\n",
      "Adjusted output shape: torch.Size([64, 1631, 41])\n"
     ]
    },
    {
     "name": "stderr",
     "output_type": "stream",
     "text": [
      "Val:   5%|▍         | 2/43 [00:01<00:30,  1.33it/s, dist=6.2734, loss=0.4288]"
     ]
    },
    {
     "name": "stdout",
     "output_type": "stream",
     "text": [
      "torch.Size([1987, 64, 41])\n",
      "Adjusted output shape: torch.Size([64, 1987, 41])\n"
     ]
    },
    {
     "name": "stderr",
     "output_type": "stream",
     "text": [
      "Val:   7%|▋         | 3/43 [00:02<00:26,  1.49it/s, dist=6.1667, loss=0.3750]"
     ]
    },
    {
     "name": "stdout",
     "output_type": "stream",
     "text": [
      "torch.Size([2707, 64, 41])\n",
      "Adjusted output shape: torch.Size([64, 2707, 41])\n"
     ]
    },
    {
     "name": "stderr",
     "output_type": "stream",
     "text": [
      "Val:   9%|▉         | 4/43 [00:02<00:26,  1.50it/s, dist=6.3711, loss=0.3721]"
     ]
    },
    {
     "name": "stdout",
     "output_type": "stream",
     "text": [
      "torch.Size([2658, 64, 41])\n",
      "Adjusted output shape: torch.Size([64, 2658, 41])\n"
     ]
    },
    {
     "name": "stderr",
     "output_type": "stream",
     "text": [
      "Val:  12%|█▏        | 5/43 [00:03<00:25,  1.51it/s, dist=6.2062, loss=0.3545]"
     ]
    },
    {
     "name": "stdout",
     "output_type": "stream",
     "text": [
      "torch.Size([2282, 64, 41])\n",
      "Adjusted output shape: torch.Size([64, 2282, 41])\n"
     ]
    },
    {
     "name": "stderr",
     "output_type": "stream",
     "text": [
      "Val:  14%|█▍        | 6/43 [00:04<00:23,  1.57it/s, dist=6.2734, loss=0.3491]"
     ]
    },
    {
     "name": "stdout",
     "output_type": "stream",
     "text": [
      "torch.Size([2784, 64, 41])\n",
      "Adjusted output shape: torch.Size([64, 2784, 41])\n"
     ]
    },
    {
     "name": "stderr",
     "output_type": "stream",
     "text": [
      "Val:  16%|█▋        | 7/43 [00:04<00:22,  1.60it/s, dist=6.1183, loss=0.3504]"
     ]
    },
    {
     "name": "stdout",
     "output_type": "stream",
     "text": [
      "torch.Size([2052, 64, 41])\n",
      "Adjusted output shape: torch.Size([64, 2052, 41])\n"
     ]
    },
    {
     "name": "stderr",
     "output_type": "stream",
     "text": [
      "Val:  19%|█▊        | 8/43 [00:05<00:19,  1.76it/s, dist=5.8184, loss=0.3505]"
     ]
    },
    {
     "name": "stdout",
     "output_type": "stream",
     "text": [
      "torch.Size([3133, 64, 41])\n",
      "Adjusted output shape: torch.Size([64, 3133, 41])\n"
     ]
    },
    {
     "name": "stderr",
     "output_type": "stream",
     "text": [
      "Val:  21%|██        | 9/43 [00:05<00:21,  1.59it/s, dist=5.7274, loss=0.3406]"
     ]
    },
    {
     "name": "stdout",
     "output_type": "stream",
     "text": [
      "torch.Size([2277, 64, 41])\n",
      "Adjusted output shape: torch.Size([64, 2277, 41])\n"
     ]
    },
    {
     "name": "stderr",
     "output_type": "stream",
     "text": [
      "Val:  23%|██▎       | 10/43 [00:06<00:21,  1.56it/s, dist=5.8016, loss=0.3349]"
     ]
    },
    {
     "name": "stdout",
     "output_type": "stream",
     "text": [
      "torch.Size([1546, 64, 41])\n",
      "Adjusted output shape: torch.Size([64, 1546, 41])\n"
     ]
    },
    {
     "name": "stderr",
     "output_type": "stream",
     "text": [
      "Val:  26%|██▌       | 11/43 [00:07<00:18,  1.73it/s, dist=5.5412, loss=0.3215]"
     ]
    },
    {
     "name": "stdout",
     "output_type": "stream",
     "text": [
      "torch.Size([2264, 64, 41])\n",
      "Adjusted output shape: torch.Size([64, 2264, 41])\n"
     ]
    },
    {
     "name": "stderr",
     "output_type": "stream",
     "text": [
      "Val:  28%|██▊       | 12/43 [00:07<00:17,  1.75it/s, dist=5.5938, loss=0.3208]"
     ]
    },
    {
     "name": "stdout",
     "output_type": "stream",
     "text": [
      "torch.Size([1757, 64, 41])\n",
      "Adjusted output shape: torch.Size([64, 1757, 41])\n"
     ]
    },
    {
     "name": "stderr",
     "output_type": "stream",
     "text": [
      "Val:  30%|███       | 13/43 [00:08<00:16,  1.81it/s, dist=5.5841, loss=0.3168]"
     ]
    },
    {
     "name": "stdout",
     "output_type": "stream",
     "text": [
      "torch.Size([1641, 64, 41])\n",
      "Adjusted output shape: torch.Size([64, 1641, 41])\n"
     ]
    },
    {
     "name": "stderr",
     "output_type": "stream",
     "text": [
      "Val:  33%|███▎      | 14/43 [00:08<00:15,  1.92it/s, dist=5.3661, loss=0.3061]"
     ]
    },
    {
     "name": "stdout",
     "output_type": "stream",
     "text": [
      "torch.Size([2476, 64, 41])\n",
      "Adjusted output shape: torch.Size([64, 2476, 41])\n"
     ]
    },
    {
     "name": "stderr",
     "output_type": "stream",
     "text": [
      "Val:  35%|███▍      | 15/43 [00:09<00:14,  1.89it/s, dist=5.2229, loss=0.2976]"
     ]
    },
    {
     "name": "stdout",
     "output_type": "stream",
     "text": [
      "torch.Size([2465, 64, 41])\n",
      "Adjusted output shape: torch.Size([64, 2465, 41])\n"
     ]
    },
    {
     "name": "stderr",
     "output_type": "stream",
     "text": [
      "Val:  37%|███▋      | 16/43 [00:09<00:15,  1.78it/s, dist=5.3242, loss=0.3044]"
     ]
    },
    {
     "name": "stdout",
     "output_type": "stream",
     "text": [
      "torch.Size([3244, 64, 41])\n",
      "Adjusted output shape: torch.Size([64, 3244, 41])\n"
     ]
    },
    {
     "name": "stderr",
     "output_type": "stream",
     "text": [
      "Val:  40%|███▉      | 17/43 [00:10<00:17,  1.50it/s, dist=5.4504, loss=0.3029]"
     ]
    },
    {
     "name": "stdout",
     "output_type": "stream",
     "text": [
      "torch.Size([2853, 64, 41])\n",
      "Adjusted output shape: torch.Size([64, 2853, 41])\n"
     ]
    },
    {
     "name": "stderr",
     "output_type": "stream",
     "text": [
      "Val:  42%|████▏     | 18/43 [00:11<00:16,  1.52it/s, dist=5.3559, loss=0.2988]"
     ]
    },
    {
     "name": "stdout",
     "output_type": "stream",
     "text": [
      "torch.Size([2795, 64, 41])\n",
      "Adjusted output shape: torch.Size([64, 2795, 41])\n"
     ]
    },
    {
     "name": "stderr",
     "output_type": "stream",
     "text": [
      "Val:  44%|████▍     | 19/43 [00:11<00:15,  1.55it/s, dist=5.3232, loss=0.3015]"
     ]
    },
    {
     "name": "stdout",
     "output_type": "stream",
     "text": [
      "torch.Size([2027, 64, 41])\n",
      "Adjusted output shape: torch.Size([64, 2027, 41])\n"
     ]
    },
    {
     "name": "stderr",
     "output_type": "stream",
     "text": [
      "Val:  47%|████▋     | 20/43 [00:12<00:15,  1.51it/s, dist=5.2977, loss=0.2972]"
     ]
    },
    {
     "name": "stdout",
     "output_type": "stream",
     "text": [
      "torch.Size([2686, 64, 41])\n",
      "Adjusted output shape: torch.Size([64, 2686, 41])\n"
     ]
    },
    {
     "name": "stderr",
     "output_type": "stream",
     "text": [
      "Val:  49%|████▉     | 21/43 [00:13<00:15,  1.46it/s, dist=5.3802, loss=0.2998]"
     ]
    },
    {
     "name": "stdout",
     "output_type": "stream",
     "text": [
      "torch.Size([2068, 64, 41])\n",
      "Adjusted output shape: torch.Size([64, 2068, 41])\n"
     ]
    },
    {
     "name": "stderr",
     "output_type": "stream",
     "text": [
      "Val:  51%|█████     | 22/43 [00:13<00:13,  1.58it/s, dist=5.2891, loss=0.2970]"
     ]
    },
    {
     "name": "stdout",
     "output_type": "stream",
     "text": [
      "torch.Size([1543, 64, 41])\n",
      "Adjusted output shape: torch.Size([64, 1543, 41])\n"
     ]
    },
    {
     "name": "stderr",
     "output_type": "stream",
     "text": [
      "Val:  53%|█████▎    | 23/43 [00:14<00:11,  1.74it/s, dist=5.2466, loss=0.2972]"
     ]
    },
    {
     "name": "stdout",
     "output_type": "stream",
     "text": [
      "torch.Size([3260, 64, 41])\n",
      "Adjusted output shape: torch.Size([64, 3260, 41])\n"
     ]
    },
    {
     "name": "stderr",
     "output_type": "stream",
     "text": [
      "Val:  56%|█████▌    | 24/43 [00:15<00:13,  1.46it/s, dist=5.4238, loss=0.2983]"
     ]
    },
    {
     "name": "stdout",
     "output_type": "stream",
     "text": [
      "torch.Size([3210, 64, 41])\n",
      "Adjusted output shape: torch.Size([64, 3210, 41])\n"
     ]
    },
    {
     "name": "stderr",
     "output_type": "stream",
     "text": [
      "Val:  58%|█████▊    | 25/43 [00:15<00:12,  1.42it/s, dist=5.4719, loss=0.2999]"
     ]
    },
    {
     "name": "stdout",
     "output_type": "stream",
     "text": [
      "torch.Size([2084, 64, 41])\n",
      "Adjusted output shape: torch.Size([64, 2084, 41])\n"
     ]
    },
    {
     "name": "stderr",
     "output_type": "stream",
     "text": [
      "Val:  60%|██████    | 26/43 [00:16<00:11,  1.49it/s, dist=5.5889, loss=0.3014]"
     ]
    },
    {
     "name": "stdout",
     "output_type": "stream",
     "text": [
      "torch.Size([2158, 64, 41])\n",
      "Adjusted output shape: torch.Size([64, 2158, 41])\n"
     ]
    },
    {
     "name": "stderr",
     "output_type": "stream",
     "text": [
      "Val:  63%|██████▎   | 27/43 [00:17<00:09,  1.61it/s, dist=5.5706, loss=0.3035]"
     ]
    },
    {
     "name": "stdout",
     "output_type": "stream",
     "text": [
      "torch.Size([1591, 64, 41])\n",
      "Adjusted output shape: torch.Size([64, 1591, 41])\n"
     ]
    },
    {
     "name": "stderr",
     "output_type": "stream",
     "text": [
      "Val:  65%|██████▌   | 28/43 [00:17<00:08,  1.75it/s, dist=5.5123, loss=0.3032]"
     ]
    },
    {
     "name": "stdout",
     "output_type": "stream",
     "text": [
      "torch.Size([1783, 64, 41])\n",
      "Adjusted output shape: torch.Size([64, 1783, 41])\n"
     ]
    },
    {
     "name": "stderr",
     "output_type": "stream",
     "text": [
      "Val:  67%|██████▋   | 29/43 [00:17<00:07,  1.88it/s, dist=5.4192, loss=0.3005]"
     ]
    },
    {
     "name": "stdout",
     "output_type": "stream",
     "text": [
      "torch.Size([1776, 64, 41])\n",
      "Adjusted output shape: torch.Size([64, 1776, 41])\n"
     ]
    },
    {
     "name": "stderr",
     "output_type": "stream",
     "text": [
      "Val:  70%|██████▉   | 30/43 [00:18<00:06,  1.94it/s, dist=5.4172, loss=0.3017]"
     ]
    },
    {
     "name": "stdout",
     "output_type": "stream",
     "text": [
      "torch.Size([2078, 64, 41])\n",
      "Adjusted output shape: torch.Size([64, 2078, 41])\n"
     ]
    },
    {
     "name": "stderr",
     "output_type": "stream",
     "text": [
      "Val:  72%|███████▏  | 31/43 [00:18<00:06,  1.93it/s, dist=5.3528, loss=0.3010]"
     ]
    },
    {
     "name": "stdout",
     "output_type": "stream",
     "text": [
      "torch.Size([1443, 64, 41])\n",
      "Adjusted output shape: torch.Size([64, 1443, 41])\n"
     ]
    },
    {
     "name": "stderr",
     "output_type": "stream",
     "text": [
      "Val:  74%|███████▍  | 32/43 [00:19<00:05,  2.05it/s, dist=5.4482, loss=0.3093]"
     ]
    },
    {
     "name": "stdout",
     "output_type": "stream",
     "text": [
      "torch.Size([1906, 64, 41])\n",
      "Adjusted output shape: torch.Size([64, 1906, 41])\n"
     ]
    },
    {
     "name": "stderr",
     "output_type": "stream",
     "text": [
      "Val:  77%|███████▋  | 33/43 [00:19<00:05,  1.99it/s, dist=5.4735, loss=0.3128]"
     ]
    },
    {
     "name": "stdout",
     "output_type": "stream",
     "text": [
      "torch.Size([2189, 64, 41])\n",
      "Adjusted output shape: torch.Size([64, 2189, 41])\n"
     ]
    },
    {
     "name": "stderr",
     "output_type": "stream",
     "text": [
      "Val:  79%|███████▉  | 34/43 [00:20<00:04,  1.96it/s, dist=5.4044, loss=0.3097]"
     ]
    },
    {
     "name": "stdout",
     "output_type": "stream",
     "text": [
      "torch.Size([2095, 64, 41])\n",
      "Adjusted output shape: torch.Size([64, 2095, 41])\n"
     ]
    },
    {
     "name": "stderr",
     "output_type": "stream",
     "text": [
      "Val:  81%|████████▏ | 35/43 [00:21<00:04,  1.88it/s, dist=5.4339, loss=0.3099]"
     ]
    },
    {
     "name": "stdout",
     "output_type": "stream",
     "text": [
      "torch.Size([1511, 64, 41])\n",
      "Adjusted output shape: torch.Size([64, 1511, 41])\n"
     ]
    },
    {
     "name": "stderr",
     "output_type": "stream",
     "text": [
      "Val:  84%|████████▎ | 36/43 [00:21<00:03,  1.94it/s, dist=5.4770, loss=0.3141]"
     ]
    },
    {
     "name": "stdout",
     "output_type": "stream",
     "text": [
      "torch.Size([1813, 64, 41])\n",
      "Adjusted output shape: torch.Size([64, 1813, 41])\n"
     ]
    },
    {
     "name": "stderr",
     "output_type": "stream",
     "text": [
      "Val:  86%|████████▌ | 37/43 [00:21<00:02,  2.03it/s, dist=5.5177, loss=0.3185]"
     ]
    },
    {
     "name": "stdout",
     "output_type": "stream",
     "text": [
      "torch.Size([2890, 64, 41])\n",
      "Adjusted output shape: torch.Size([64, 2890, 41])\n"
     ]
    },
    {
     "name": "stderr",
     "output_type": "stream",
     "text": [
      "Val:  88%|████████▊ | 38/43 [00:22<00:02,  1.84it/s, dist=5.4852, loss=0.3178]"
     ]
    },
    {
     "name": "stdout",
     "output_type": "stream",
     "text": [
      "torch.Size([1518, 64, 41])\n",
      "Adjusted output shape: torch.Size([64, 1518, 41])\n"
     ]
    },
    {
     "name": "stderr",
     "output_type": "stream",
     "text": [
      "Val:  91%|█████████ | 39/43 [00:23<00:02,  1.94it/s, dist=5.4463, loss=0.3165]"
     ]
    },
    {
     "name": "stdout",
     "output_type": "stream",
     "text": [
      "torch.Size([1804, 64, 41])\n",
      "Adjusted output shape: torch.Size([64, 1804, 41])\n"
     ]
    },
    {
     "name": "stderr",
     "output_type": "stream",
     "text": [
      "Val:  93%|█████████▎| 40/43 [00:23<00:01,  1.96it/s, dist=5.3934, loss=0.3135]"
     ]
    },
    {
     "name": "stdout",
     "output_type": "stream",
     "text": [
      "torch.Size([1592, 64, 41])\n",
      "Adjusted output shape: torch.Size([64, 1592, 41])\n"
     ]
    },
    {
     "name": "stderr",
     "output_type": "stream",
     "text": [
      "Val:  95%|█████████▌| 41/43 [00:24<00:01,  1.99it/s, dist=5.3761, loss=0.3128]"
     ]
    },
    {
     "name": "stdout",
     "output_type": "stream",
     "text": [
      "torch.Size([2340, 64, 41])\n",
      "Adjusted output shape: torch.Size([64, 2340, 41])\n"
     ]
    },
    {
     "name": "stderr",
     "output_type": "stream",
     "text": [
      "Val: 100%|██████████| 43/43 [00:25<00:00,  1.91it/s, dist=5.5177, loss=0.3197]"
     ]
    },
    {
     "name": "stdout",
     "output_type": "stream",
     "text": [
      "torch.Size([3166, 15, 41])\n",
      "Adjusted output shape: torch.Size([15, 3166, 41])\n"
     ]
    },
    {
     "name": "stderr",
     "output_type": "stream",
     "text": [
      "                                                                              \r"
     ]
    },
    {
     "name": "stdout",
     "output_type": "stream",
     "text": [
      "\tTrain Loss 0.1008\t Learning Rate 0.0000625\n",
      "\tVal Dist 5.5177%\t Val Loss 0.3197\n",
      "Saved epoch model\n",
      "\n",
      "Epoch: 39/50\n"
     ]
    },
    {
     "name": "stderr",
     "output_type": "stream",
     "text": [
      "Val:   0%|          | 0/43 [00:00<?, ?it/s]                                       "
     ]
    },
    {
     "name": "stdout",
     "output_type": "stream",
     "text": [
      "torch.Size([2936, 64, 41])\n",
      "Adjusted output shape: torch.Size([64, 2936, 41])\n"
     ]
    },
    {
     "name": "stderr",
     "output_type": "stream",
     "text": [
      "Val:   2%|▏         | 1/43 [00:01<00:52,  1.26s/it, dist=7.6406, loss=0.5402]"
     ]
    },
    {
     "name": "stdout",
     "output_type": "stream",
     "text": [
      "torch.Size([1631, 64, 41])\n",
      "Adjusted output shape: torch.Size([64, 1631, 41])\n"
     ]
    },
    {
     "name": "stderr",
     "output_type": "stream",
     "text": [
      "Val:   5%|▍         | 2/43 [00:01<00:32,  1.25it/s, dist=6.0781, loss=0.4302]"
     ]
    },
    {
     "name": "stdout",
     "output_type": "stream",
     "text": [
      "torch.Size([1987, 64, 41])\n",
      "Adjusted output shape: torch.Size([64, 1987, 41])\n"
     ]
    },
    {
     "name": "stderr",
     "output_type": "stream",
     "text": [
      "Val:   7%|▋         | 3/43 [00:02<00:28,  1.41it/s, dist=6.0052, loss=0.3763]"
     ]
    },
    {
     "name": "stdout",
     "output_type": "stream",
     "text": [
      "torch.Size([2707, 64, 41])\n",
      "Adjusted output shape: torch.Size([64, 2707, 41])\n"
     ]
    },
    {
     "name": "stderr",
     "output_type": "stream",
     "text": [
      "Val:   9%|▉         | 4/43 [00:03<00:27,  1.40it/s, dist=6.2539, loss=0.3731]"
     ]
    },
    {
     "name": "stdout",
     "output_type": "stream",
     "text": [
      "torch.Size([2658, 64, 41])\n",
      "Adjusted output shape: torch.Size([64, 2658, 41])\n"
     ]
    },
    {
     "name": "stderr",
     "output_type": "stream",
     "text": [
      "Val:  12%|█▏        | 5/43 [00:03<00:26,  1.43it/s, dist=6.1188, loss=0.3544]"
     ]
    },
    {
     "name": "stdout",
     "output_type": "stream",
     "text": [
      "torch.Size([2282, 64, 41])\n",
      "Adjusted output shape: torch.Size([64, 2282, 41])\n"
     ]
    },
    {
     "name": "stderr",
     "output_type": "stream",
     "text": [
      "Val:  14%|█▍        | 6/43 [00:04<00:24,  1.48it/s, dist=6.2005, loss=0.3498]"
     ]
    },
    {
     "name": "stdout",
     "output_type": "stream",
     "text": [
      "torch.Size([2784, 64, 41])\n",
      "Adjusted output shape: torch.Size([64, 2784, 41])\n"
     ]
    },
    {
     "name": "stderr",
     "output_type": "stream",
     "text": [
      "Val:  16%|█▋        | 7/43 [00:04<00:23,  1.53it/s, dist=6.0424, loss=0.3504]"
     ]
    },
    {
     "name": "stdout",
     "output_type": "stream",
     "text": [
      "torch.Size([2052, 64, 41])\n",
      "Adjusted output shape: torch.Size([64, 2052, 41])\n"
     ]
    },
    {
     "name": "stderr",
     "output_type": "stream",
     "text": [
      "Val:  19%|█▊        | 8/43 [00:05<00:20,  1.69it/s, dist=5.7520, loss=0.3505]"
     ]
    },
    {
     "name": "stdout",
     "output_type": "stream",
     "text": [
      "torch.Size([3133, 64, 41])\n",
      "Adjusted output shape: torch.Size([64, 3133, 41])\n"
     ]
    },
    {
     "name": "stderr",
     "output_type": "stream",
     "text": [
      "Val:  21%|██        | 9/43 [00:06<00:22,  1.53it/s, dist=5.6649, loss=0.3411]"
     ]
    },
    {
     "name": "stdout",
     "output_type": "stream",
     "text": [
      "torch.Size([2277, 64, 41])\n",
      "Adjusted output shape: torch.Size([64, 2277, 41])\n"
     ]
    },
    {
     "name": "stderr",
     "output_type": "stream",
     "text": [
      "Val:  23%|██▎       | 10/43 [00:06<00:21,  1.53it/s, dist=5.7516, loss=0.3360]"
     ]
    },
    {
     "name": "stdout",
     "output_type": "stream",
     "text": [
      "torch.Size([1546, 64, 41])\n",
      "Adjusted output shape: torch.Size([64, 1546, 41])\n"
     ]
    },
    {
     "name": "stderr",
     "output_type": "stream",
     "text": [
      "Val:  26%|██▌       | 11/43 [00:07<00:18,  1.70it/s, dist=5.4886, loss=0.3222]"
     ]
    },
    {
     "name": "stdout",
     "output_type": "stream",
     "text": [
      "torch.Size([2264, 64, 41])\n",
      "Adjusted output shape: torch.Size([64, 2264, 41])\n"
     ]
    },
    {
     "name": "stderr",
     "output_type": "stream",
     "text": [
      "Val:  28%|██▊       | 12/43 [00:07<00:18,  1.70it/s, dist=5.5482, loss=0.3212]"
     ]
    },
    {
     "name": "stdout",
     "output_type": "stream",
     "text": [
      "torch.Size([1757, 64, 41])\n",
      "Adjusted output shape: torch.Size([64, 1757, 41])\n"
     ]
    },
    {
     "name": "stderr",
     "output_type": "stream",
     "text": [
      "Val:  30%|███       | 13/43 [00:08<00:16,  1.79it/s, dist=5.5457, loss=0.3172]"
     ]
    },
    {
     "name": "stdout",
     "output_type": "stream",
     "text": [
      "torch.Size([1641, 64, 41])\n",
      "Adjusted output shape: torch.Size([64, 1641, 41])\n"
     ]
    },
    {
     "name": "stderr",
     "output_type": "stream",
     "text": [
      "Val:  33%|███▎      | 14/43 [00:08<00:15,  1.93it/s, dist=5.3315, loss=0.3068]"
     ]
    },
    {
     "name": "stdout",
     "output_type": "stream",
     "text": [
      "torch.Size([2476, 64, 41])\n",
      "Adjusted output shape: torch.Size([64, 2476, 41])\n"
     ]
    },
    {
     "name": "stderr",
     "output_type": "stream",
     "text": [
      "Val:  35%|███▍      | 15/43 [00:09<00:14,  1.88it/s, dist=5.2021, loss=0.2988]"
     ]
    },
    {
     "name": "stdout",
     "output_type": "stream",
     "text": [
      "torch.Size([2465, 64, 41])\n",
      "Adjusted output shape: torch.Size([64, 2465, 41])\n"
     ]
    },
    {
     "name": "stderr",
     "output_type": "stream",
     "text": [
      "Val:  37%|███▋      | 16/43 [00:10<00:15,  1.73it/s, dist=5.3184, loss=0.3058]"
     ]
    },
    {
     "name": "stdout",
     "output_type": "stream",
     "text": [
      "torch.Size([3244, 64, 41])\n",
      "Adjusted output shape: torch.Size([64, 3244, 41])\n"
     ]
    },
    {
     "name": "stderr",
     "output_type": "stream",
     "text": [
      "Val:  40%|███▉      | 17/43 [00:11<00:18,  1.44it/s, dist=5.4430, loss=0.3044]"
     ]
    },
    {
     "name": "stdout",
     "output_type": "stream",
     "text": [
      "torch.Size([2853, 64, 41])\n",
      "Adjusted output shape: torch.Size([64, 2853, 41])\n"
     ]
    },
    {
     "name": "stderr",
     "output_type": "stream",
     "text": [
      "Val:  42%|████▏     | 18/43 [00:11<00:17,  1.46it/s, dist=5.3394, loss=0.2999]"
     ]
    },
    {
     "name": "stdout",
     "output_type": "stream",
     "text": [
      "torch.Size([2795, 64, 41])\n",
      "Adjusted output shape: torch.Size([64, 2795, 41])\n"
     ]
    },
    {
     "name": "stderr",
     "output_type": "stream",
     "text": [
      "Val:  44%|████▍     | 19/43 [00:12<00:16,  1.45it/s, dist=5.3117, loss=0.3022]"
     ]
    },
    {
     "name": "stdout",
     "output_type": "stream",
     "text": [
      "torch.Size([2027, 64, 41])\n",
      "Adjusted output shape: torch.Size([64, 2027, 41])\n"
     ]
    },
    {
     "name": "stderr",
     "output_type": "stream",
     "text": [
      "Val:  47%|████▋     | 20/43 [00:13<00:15,  1.46it/s, dist=5.2922, loss=0.2982]"
     ]
    },
    {
     "name": "stdout",
     "output_type": "stream",
     "text": [
      "torch.Size([2686, 64, 41])\n",
      "Adjusted output shape: torch.Size([64, 2686, 41])\n"
     ]
    },
    {
     "name": "stderr",
     "output_type": "stream",
     "text": [
      "Val:  49%|████▉     | 21/43 [00:13<00:15,  1.43it/s, dist=5.3728, loss=0.3007]"
     ]
    },
    {
     "name": "stdout",
     "output_type": "stream",
     "text": [
      "torch.Size([2068, 64, 41])\n",
      "Adjusted output shape: torch.Size([64, 2068, 41])\n"
     ]
    },
    {
     "name": "stderr",
     "output_type": "stream",
     "text": [
      "Val:  51%|█████     | 22/43 [00:14<00:13,  1.56it/s, dist=5.2763, loss=0.2979]"
     ]
    },
    {
     "name": "stdout",
     "output_type": "stream",
     "text": [
      "torch.Size([1543, 64, 41])\n",
      "Adjusted output shape: torch.Size([64, 1543, 41])\n"
     ]
    },
    {
     "name": "stderr",
     "output_type": "stream",
     "text": [
      "Val:  53%|█████▎    | 23/43 [00:14<00:11,  1.70it/s, dist=5.2323, loss=0.2981]"
     ]
    },
    {
     "name": "stdout",
     "output_type": "stream",
     "text": [
      "torch.Size([3260, 64, 41])\n",
      "Adjusted output shape: torch.Size([64, 3260, 41])\n"
     ]
    },
    {
     "name": "stderr",
     "output_type": "stream",
     "text": [
      "Val:  56%|█████▌    | 24/43 [00:15<00:13,  1.44it/s, dist=5.4160, loss=0.2991]"
     ]
    },
    {
     "name": "stdout",
     "output_type": "stream",
     "text": [
      "torch.Size([3210, 64, 41])\n",
      "Adjusted output shape: torch.Size([64, 3210, 41])\n"
     ]
    },
    {
     "name": "stderr",
     "output_type": "stream",
     "text": [
      "Val:  58%|█████▊    | 25/43 [00:16<00:12,  1.39it/s, dist=5.4656, loss=0.3005]"
     ]
    },
    {
     "name": "stdout",
     "output_type": "stream",
     "text": [
      "torch.Size([2084, 64, 41])\n",
      "Adjusted output shape: torch.Size([64, 2084, 41])\n"
     ]
    },
    {
     "name": "stderr",
     "output_type": "stream",
     "text": [
      "Val:  60%|██████    | 26/43 [00:17<00:11,  1.46it/s, dist=5.5799, loss=0.3021]"
     ]
    },
    {
     "name": "stdout",
     "output_type": "stream",
     "text": [
      "torch.Size([2158, 64, 41])\n",
      "Adjusted output shape: torch.Size([64, 2158, 41])\n"
     ]
    },
    {
     "name": "stderr",
     "output_type": "stream",
     "text": [
      "Val:  63%|██████▎   | 27/43 [00:17<00:10,  1.55it/s, dist=5.5579, loss=0.3041]"
     ]
    },
    {
     "name": "stdout",
     "output_type": "stream",
     "text": [
      "torch.Size([1591, 64, 41])\n",
      "Adjusted output shape: torch.Size([64, 1591, 41])\n"
     ]
    },
    {
     "name": "stderr",
     "output_type": "stream",
     "text": [
      "Val:  65%|██████▌   | 28/43 [00:18<00:08,  1.68it/s, dist=5.4939, loss=0.3039]"
     ]
    },
    {
     "name": "stdout",
     "output_type": "stream",
     "text": [
      "torch.Size([1783, 64, 41])\n",
      "Adjusted output shape: torch.Size([64, 1783, 41])\n"
     ]
    },
    {
     "name": "stderr",
     "output_type": "stream",
     "text": [
      "Val:  67%|██████▋   | 29/43 [00:18<00:07,  1.78it/s, dist=5.4036, loss=0.3012]"
     ]
    },
    {
     "name": "stdout",
     "output_type": "stream",
     "text": [
      "torch.Size([1776, 64, 41])\n",
      "Adjusted output shape: torch.Size([64, 1776, 41])\n"
     ]
    },
    {
     "name": "stderr",
     "output_type": "stream",
     "text": [
      "Val:  70%|██████▉   | 30/43 [00:19<00:07,  1.80it/s, dist=5.4073, loss=0.3026]"
     ]
    },
    {
     "name": "stdout",
     "output_type": "stream",
     "text": [
      "torch.Size([2078, 64, 41])\n",
      "Adjusted output shape: torch.Size([64, 2078, 41])\n"
     ]
    },
    {
     "name": "stderr",
     "output_type": "stream",
     "text": [
      "Val:  72%|███████▏  | 31/43 [00:19<00:06,  1.84it/s, dist=5.3432, loss=0.3021]"
     ]
    },
    {
     "name": "stdout",
     "output_type": "stream",
     "text": [
      "torch.Size([1443, 64, 41])\n",
      "Adjusted output shape: torch.Size([64, 1443, 41])\n"
     ]
    },
    {
     "name": "stderr",
     "output_type": "stream",
     "text": [
      "Val:  74%|███████▍  | 32/43 [00:20<00:05,  1.99it/s, dist=5.4453, loss=0.3107]"
     ]
    },
    {
     "name": "stdout",
     "output_type": "stream",
     "text": [
      "torch.Size([1906, 64, 41])\n",
      "Adjusted output shape: torch.Size([64, 1906, 41])\n"
     ]
    },
    {
     "name": "stderr",
     "output_type": "stream",
     "text": [
      "Val:  77%|███████▋  | 33/43 [00:20<00:05,  1.89it/s, dist=5.4711, loss=0.3143]"
     ]
    },
    {
     "name": "stdout",
     "output_type": "stream",
     "text": [
      "torch.Size([2189, 64, 41])\n",
      "Adjusted output shape: torch.Size([64, 2189, 41])\n"
     ]
    },
    {
     "name": "stderr",
     "output_type": "stream",
     "text": [
      "Val:  79%|███████▉  | 34/43 [00:21<00:04,  1.86it/s, dist=5.4026, loss=0.3113]"
     ]
    },
    {
     "name": "stdout",
     "output_type": "stream",
     "text": [
      "torch.Size([2095, 64, 41])\n",
      "Adjusted output shape: torch.Size([64, 2095, 41])\n"
     ]
    },
    {
     "name": "stderr",
     "output_type": "stream",
     "text": [
      "Val:  81%|████████▏ | 35/43 [00:21<00:04,  1.81it/s, dist=5.4313, loss=0.3113]"
     ]
    },
    {
     "name": "stdout",
     "output_type": "stream",
     "text": [
      "torch.Size([1511, 64, 41])\n",
      "Adjusted output shape: torch.Size([64, 1511, 41])\n"
     ]
    },
    {
     "name": "stderr",
     "output_type": "stream",
     "text": [
      "Val:  84%|████████▎ | 36/43 [00:22<00:03,  1.88it/s, dist=5.4692, loss=0.3155]"
     ]
    },
    {
     "name": "stdout",
     "output_type": "stream",
     "text": [
      "torch.Size([1813, 64, 41])\n",
      "Adjusted output shape: torch.Size([64, 1813, 41])\n"
     ]
    },
    {
     "name": "stderr",
     "output_type": "stream",
     "text": [
      "Val:  86%|████████▌ | 37/43 [00:22<00:03,  1.90it/s, dist=5.5093, loss=0.3199]"
     ]
    },
    {
     "name": "stdout",
     "output_type": "stream",
     "text": [
      "torch.Size([2890, 64, 41])\n",
      "Adjusted output shape: torch.Size([64, 2890, 41])\n"
     ]
    },
    {
     "name": "stderr",
     "output_type": "stream",
     "text": [
      "Val:  88%|████████▊ | 38/43 [00:23<00:02,  1.78it/s, dist=5.4716, loss=0.3192]"
     ]
    },
    {
     "name": "stdout",
     "output_type": "stream",
     "text": [
      "torch.Size([1518, 64, 41])\n",
      "Adjusted output shape: torch.Size([64, 1518, 41])\n"
     ]
    },
    {
     "name": "stderr",
     "output_type": "stream",
     "text": [
      "Val:  91%|█████████ | 39/43 [00:23<00:02,  1.91it/s, dist=5.4331, loss=0.3179]"
     ]
    },
    {
     "name": "stdout",
     "output_type": "stream",
     "text": [
      "torch.Size([1804, 64, 41])\n",
      "Adjusted output shape: torch.Size([64, 1804, 41])\n"
     ]
    },
    {
     "name": "stderr",
     "output_type": "stream",
     "text": [
      "Val:  93%|█████████▎| 40/43 [00:24<00:01,  1.95it/s, dist=5.3789, loss=0.3150]"
     ]
    },
    {
     "name": "stdout",
     "output_type": "stream",
     "text": [
      "torch.Size([1592, 64, 41])\n",
      "Adjusted output shape: torch.Size([64, 1592, 41])\n"
     ]
    },
    {
     "name": "stderr",
     "output_type": "stream",
     "text": [
      "Val:  95%|█████████▌| 41/43 [00:24<00:01,  1.94it/s, dist=5.3613, loss=0.3143]"
     ]
    },
    {
     "name": "stdout",
     "output_type": "stream",
     "text": [
      "torch.Size([2340, 64, 41])\n",
      "Adjusted output shape: torch.Size([64, 2340, 41])\n"
     ]
    },
    {
     "name": "stderr",
     "output_type": "stream",
     "text": [
      "Val: 100%|██████████| 43/43 [00:26<00:00,  1.85it/s, dist=5.5016, loss=0.3214]"
     ]
    },
    {
     "name": "stdout",
     "output_type": "stream",
     "text": [
      "torch.Size([3166, 15, 41])\n",
      "Adjusted output shape: torch.Size([15, 3166, 41])\n"
     ]
    },
    {
     "name": "stderr",
     "output_type": "stream",
     "text": [
      "                                                                              \r"
     ]
    },
    {
     "name": "stdout",
     "output_type": "stream",
     "text": [
      "\tTrain Loss 0.0887\t Learning Rate 0.0000313\n",
      "\tVal Dist 5.5016%\t Val Loss 0.3214\n",
      "Saved epoch model\n",
      "\n",
      "Epoch: 40/50\n"
     ]
    },
    {
     "name": "stderr",
     "output_type": "stream",
     "text": [
      "Val:   0%|          | 0/43 [00:00<?, ?it/s]                                       "
     ]
    },
    {
     "name": "stdout",
     "output_type": "stream",
     "text": [
      "torch.Size([2936, 64, 41])\n",
      "Adjusted output shape: torch.Size([64, 2936, 41])\n"
     ]
    },
    {
     "name": "stderr",
     "output_type": "stream",
     "text": [
      "Val:   2%|▏         | 1/43 [00:01<00:48,  1.15s/it, dist=7.8594, loss=0.5373]"
     ]
    },
    {
     "name": "stdout",
     "output_type": "stream",
     "text": [
      "torch.Size([1631, 64, 41])\n",
      "Adjusted output shape: torch.Size([64, 1631, 41])\n"
     ]
    },
    {
     "name": "stderr",
     "output_type": "stream",
     "text": [
      "Val:   5%|▍         | 2/43 [00:01<00:30,  1.35it/s, dist=6.2031, loss=0.4310]"
     ]
    },
    {
     "name": "stdout",
     "output_type": "stream",
     "text": [
      "torch.Size([1987, 64, 41])\n",
      "Adjusted output shape: torch.Size([64, 1987, 41])\n"
     ]
    },
    {
     "name": "stderr",
     "output_type": "stream",
     "text": [
      "Val:   7%|▋         | 3/43 [00:02<00:26,  1.52it/s, dist=6.0833, loss=0.3787]"
     ]
    },
    {
     "name": "stdout",
     "output_type": "stream",
     "text": [
      "torch.Size([2707, 64, 41])\n",
      "Adjusted output shape: torch.Size([64, 2707, 41])\n"
     ]
    },
    {
     "name": "stderr",
     "output_type": "stream",
     "text": [
      "Val:   9%|▉         | 4/43 [00:02<00:26,  1.50it/s, dist=6.2695, loss=0.3762]"
     ]
    },
    {
     "name": "stdout",
     "output_type": "stream",
     "text": [
      "torch.Size([2658, 64, 41])\n",
      "Adjusted output shape: torch.Size([64, 2658, 41])\n"
     ]
    },
    {
     "name": "stderr",
     "output_type": "stream",
     "text": [
      "Val:  12%|█▏        | 5/43 [00:03<00:25,  1.49it/s, dist=6.1156, loss=0.3571]"
     ]
    },
    {
     "name": "stdout",
     "output_type": "stream",
     "text": [
      "torch.Size([2282, 64, 41])\n",
      "Adjusted output shape: torch.Size([64, 2282, 41])\n"
     ]
    },
    {
     "name": "stderr",
     "output_type": "stream",
     "text": [
      "Val:  14%|█▍        | 6/43 [00:04<00:23,  1.56it/s, dist=6.2188, loss=0.3525]"
     ]
    },
    {
     "name": "stdout",
     "output_type": "stream",
     "text": [
      "torch.Size([2784, 64, 41])\n",
      "Adjusted output shape: torch.Size([64, 2784, 41])\n"
     ]
    },
    {
     "name": "stderr",
     "output_type": "stream",
     "text": [
      "Val:  16%|█▋        | 7/43 [00:05<00:23,  1.56it/s, dist=5.7637, loss=0.3521]"
     ]
    },
    {
     "name": "stdout",
     "output_type": "stream",
     "text": [
      "torch.Size([2052, 64, 41])\n",
      "Adjusted output shape: torch.Size([64, 2052, 41])\n"
     ]
    },
    {
     "name": "stderr",
     "output_type": "stream",
     "text": [
      "Val:  19%|█▊        | 8/43 [00:05<00:20,  1.72it/s, dist=5.7637, loss=0.3521]"
     ]
    },
    {
     "name": "stdout",
     "output_type": "stream",
     "text": [
      "torch.Size([3133, 64, 41])\n",
      "Adjusted output shape: torch.Size([64, 3133, 41])\n"
     ]
    },
    {
     "name": "stderr",
     "output_type": "stream",
     "text": [
      "Val:  21%|██        | 9/43 [00:06<00:22,  1.54it/s, dist=5.6875, loss=0.3426]"
     ]
    },
    {
     "name": "stdout",
     "output_type": "stream",
     "text": [
      "torch.Size([2277, 64, 41])\n",
      "Adjusted output shape: torch.Size([64, 2277, 41])\n"
     ]
    },
    {
     "name": "stderr",
     "output_type": "stream",
     "text": [
      "Val:  23%|██▎       | 10/43 [00:06<00:21,  1.56it/s, dist=5.7797, loss=0.3376]"
     ]
    },
    {
     "name": "stdout",
     "output_type": "stream",
     "text": [
      "torch.Size([1546, 64, 41])\n",
      "Adjusted output shape: torch.Size([64, 1546, 41])\n"
     ]
    },
    {
     "name": "stderr",
     "output_type": "stream",
     "text": [
      "Val:  26%|██▌       | 11/43 [00:07<00:18,  1.76it/s, dist=5.5199, loss=0.3242]"
     ]
    },
    {
     "name": "stdout",
     "output_type": "stream",
     "text": [
      "torch.Size([2264, 64, 41])\n",
      "Adjusted output shape: torch.Size([64, 2264, 41])\n"
     ]
    },
    {
     "name": "stderr",
     "output_type": "stream",
     "text": [
      "Val:  28%|██▊       | 12/43 [00:07<00:17,  1.75it/s, dist=5.5768, loss=0.3233]"
     ]
    },
    {
     "name": "stdout",
     "output_type": "stream",
     "text": [
      "torch.Size([1757, 64, 41])\n",
      "Adjusted output shape: torch.Size([64, 1757, 41])\n"
     ]
    },
    {
     "name": "stderr",
     "output_type": "stream",
     "text": [
      "Val:  30%|███       | 13/43 [00:08<00:16,  1.82it/s, dist=5.5601, loss=0.3195]"
     ]
    },
    {
     "name": "stdout",
     "output_type": "stream",
     "text": [
      "torch.Size([1641, 64, 41])\n",
      "Adjusted output shape: torch.Size([64, 1641, 41])\n"
     ]
    },
    {
     "name": "stderr",
     "output_type": "stream",
     "text": [
      "Val:  33%|███▎      | 14/43 [00:08<00:14,  1.93it/s, dist=5.3438, loss=0.3091]"
     ]
    },
    {
     "name": "stdout",
     "output_type": "stream",
     "text": [
      "torch.Size([2476, 64, 41])\n",
      "Adjusted output shape: torch.Size([64, 2476, 41])\n"
     ]
    },
    {
     "name": "stderr",
     "output_type": "stream",
     "text": [
      "Val:  35%|███▍      | 15/43 [00:09<00:15,  1.82it/s, dist=5.2146, loss=0.3005]"
     ]
    },
    {
     "name": "stdout",
     "output_type": "stream",
     "text": [
      "torch.Size([2465, 64, 41])\n",
      "Adjusted output shape: torch.Size([64, 2465, 41])\n"
     ]
    },
    {
     "name": "stderr",
     "output_type": "stream",
     "text": [
      "Val:  37%|███▋      | 16/43 [00:09<00:15,  1.73it/s, dist=5.3223, loss=0.3075]"
     ]
    },
    {
     "name": "stdout",
     "output_type": "stream",
     "text": [
      "torch.Size([3244, 64, 41])\n",
      "Adjusted output shape: torch.Size([64, 3244, 41])\n"
     ]
    },
    {
     "name": "stderr",
     "output_type": "stream",
     "text": [
      "Val:  40%|███▉      | 17/43 [00:10<00:17,  1.51it/s, dist=5.4430, loss=0.3060]"
     ]
    },
    {
     "name": "stdout",
     "output_type": "stream",
     "text": [
      "torch.Size([2853, 64, 41])\n",
      "Adjusted output shape: torch.Size([64, 2853, 41])\n"
     ]
    },
    {
     "name": "stderr",
     "output_type": "stream",
     "text": [
      "Val:  42%|████▏     | 18/43 [00:11<00:16,  1.52it/s, dist=5.3411, loss=0.3013]"
     ]
    },
    {
     "name": "stdout",
     "output_type": "stream",
     "text": [
      "torch.Size([2795, 64, 41])\n",
      "Adjusted output shape: torch.Size([64, 2795, 41])\n"
     ]
    },
    {
     "name": "stderr",
     "output_type": "stream",
     "text": [
      "Val:  44%|████▍     | 19/43 [00:11<00:15,  1.53it/s, dist=5.3026, loss=0.3036]"
     ]
    },
    {
     "name": "stdout",
     "output_type": "stream",
     "text": [
      "torch.Size([2027, 64, 41])\n",
      "Adjusted output shape: torch.Size([64, 2027, 41])\n"
     ]
    },
    {
     "name": "stderr",
     "output_type": "stream",
     "text": [
      "Val:  47%|████▋     | 20/43 [00:12<00:15,  1.52it/s, dist=5.2758, loss=0.2994]"
     ]
    },
    {
     "name": "stdout",
     "output_type": "stream",
     "text": [
      "torch.Size([2686, 64, 41])\n",
      "Adjusted output shape: torch.Size([64, 2686, 41])\n"
     ]
    },
    {
     "name": "stderr",
     "output_type": "stream",
     "text": [
      "Val:  49%|████▉     | 21/43 [00:13<00:15,  1.45it/s, dist=5.3557, loss=0.3019]"
     ]
    },
    {
     "name": "stdout",
     "output_type": "stream",
     "text": [
      "torch.Size([2068, 64, 41])\n",
      "Adjusted output shape: torch.Size([64, 2068, 41])\n"
     ]
    },
    {
     "name": "stderr",
     "output_type": "stream",
     "text": [
      "Val:  51%|█████     | 22/43 [00:13<00:13,  1.58it/s, dist=5.2607, loss=0.2988]"
     ]
    },
    {
     "name": "stdout",
     "output_type": "stream",
     "text": [
      "torch.Size([1543, 64, 41])\n",
      "Adjusted output shape: torch.Size([64, 1543, 41])\n"
     ]
    },
    {
     "name": "stderr",
     "output_type": "stream",
     "text": [
      "Val:  53%|█████▎    | 23/43 [00:14<00:11,  1.73it/s, dist=5.2181, loss=0.2989]"
     ]
    },
    {
     "name": "stdout",
     "output_type": "stream",
     "text": [
      "torch.Size([3260, 64, 41])\n",
      "Adjusted output shape: torch.Size([64, 3260, 41])\n"
     ]
    },
    {
     "name": "stderr",
     "output_type": "stream",
     "text": [
      "Val:  56%|█████▌    | 24/43 [00:15<00:13,  1.45it/s, dist=5.3945, loss=0.3002]"
     ]
    },
    {
     "name": "stdout",
     "output_type": "stream",
     "text": [
      "torch.Size([3210, 64, 41])\n",
      "Adjusted output shape: torch.Size([64, 3210, 41])\n"
     ]
    },
    {
     "name": "stderr",
     "output_type": "stream",
     "text": [
      "Val:  58%|█████▊    | 25/43 [00:16<00:12,  1.41it/s, dist=5.4481, loss=0.3016]"
     ]
    },
    {
     "name": "stdout",
     "output_type": "stream",
     "text": [
      "torch.Size([2084, 64, 41])\n",
      "Adjusted output shape: torch.Size([64, 2084, 41])\n"
     ]
    },
    {
     "name": "stderr",
     "output_type": "stream",
     "text": [
      "Val:  60%|██████    | 26/43 [00:16<00:11,  1.49it/s, dist=5.5679, loss=0.3033]"
     ]
    },
    {
     "name": "stdout",
     "output_type": "stream",
     "text": [
      "torch.Size([2158, 64, 41])\n",
      "Adjusted output shape: torch.Size([64, 2158, 41])\n"
     ]
    },
    {
     "name": "stderr",
     "output_type": "stream",
     "text": [
      "Val:  63%|██████▎   | 27/43 [00:17<00:09,  1.61it/s, dist=5.5463, loss=0.3052]"
     ]
    },
    {
     "name": "stdout",
     "output_type": "stream",
     "text": [
      "torch.Size([1591, 64, 41])\n",
      "Adjusted output shape: torch.Size([64, 1591, 41])\n"
     ]
    },
    {
     "name": "stderr",
     "output_type": "stream",
     "text": [
      "Val:  65%|██████▌   | 28/43 [00:17<00:08,  1.73it/s, dist=5.4827, loss=0.3051]"
     ]
    },
    {
     "name": "stdout",
     "output_type": "stream",
     "text": [
      "torch.Size([1783, 64, 41])\n",
      "Adjusted output shape: torch.Size([64, 1783, 41])\n"
     ]
    },
    {
     "name": "stderr",
     "output_type": "stream",
     "text": [
      "Val:  67%|██████▋   | 29/43 [00:18<00:07,  1.85it/s, dist=5.3939, loss=0.3022]"
     ]
    },
    {
     "name": "stdout",
     "output_type": "stream",
     "text": [
      "torch.Size([1776, 64, 41])\n",
      "Adjusted output shape: torch.Size([64, 1776, 41])\n"
     ]
    },
    {
     "name": "stderr",
     "output_type": "stream",
     "text": [
      "Val:  70%|██████▉   | 30/43 [00:18<00:06,  1.90it/s, dist=5.3964, loss=0.3036]"
     ]
    },
    {
     "name": "stdout",
     "output_type": "stream",
     "text": [
      "torch.Size([2078, 64, 41])\n",
      "Adjusted output shape: torch.Size([64, 2078, 41])\n"
     ]
    },
    {
     "name": "stderr",
     "output_type": "stream",
     "text": [
      "Val:  74%|███████▍  | 32/43 [00:19<00:05,  2.15it/s, dist=5.4268, loss=0.3113]"
     ]
    },
    {
     "name": "stdout",
     "output_type": "stream",
     "text": [
      "torch.Size([1443, 64, 41])\n",
      "Adjusted output shape: torch.Size([64, 1443, 41])\n",
      "torch.Size([1906, 64, 41])\n",
      "Adjusted output shape: torch.Size([64, 1906, 41])\n"
     ]
    },
    {
     "name": "stderr",
     "output_type": "stream",
     "text": [
      "Val:  77%|███████▋  | 33/43 [00:19<00:04,  2.07it/s, dist=5.4541, loss=0.3150]"
     ]
    },
    {
     "name": "stdout",
     "output_type": "stream",
     "text": [
      "torch.Size([2189, 64, 41])\n",
      "Adjusted output shape: torch.Size([64, 2189, 41])\n"
     ]
    },
    {
     "name": "stderr",
     "output_type": "stream",
     "text": [
      "Val:  79%|███████▉  | 34/43 [00:20<00:04,  2.03it/s, dist=5.3888, loss=0.3120]"
     ]
    },
    {
     "name": "stdout",
     "output_type": "stream",
     "text": [
      "torch.Size([2095, 64, 41])\n",
      "Adjusted output shape: torch.Size([64, 2095, 41])\n"
     ]
    },
    {
     "name": "stderr",
     "output_type": "stream",
     "text": [
      "Val:  81%|████████▏ | 35/43 [00:21<00:04,  1.92it/s, dist=5.4188, loss=0.3122]"
     ]
    },
    {
     "name": "stdout",
     "output_type": "stream",
     "text": [
      "torch.Size([1511, 64, 41])\n",
      "Adjusted output shape: torch.Size([64, 1511, 41])\n"
     ]
    },
    {
     "name": "stderr",
     "output_type": "stream",
     "text": [
      "Val:  84%|████████▎ | 36/43 [00:21<00:03,  1.99it/s, dist=5.4588, loss=0.3165]"
     ]
    },
    {
     "name": "stdout",
     "output_type": "stream",
     "text": [
      "torch.Size([1813, 64, 41])\n",
      "Adjusted output shape: torch.Size([64, 1813, 41])\n"
     ]
    },
    {
     "name": "stderr",
     "output_type": "stream",
     "text": [
      "Val:  86%|████████▌ | 37/43 [00:21<00:02,  2.06it/s, dist=5.4987, loss=0.3209]"
     ]
    },
    {
     "name": "stdout",
     "output_type": "stream",
     "text": [
      "torch.Size([2890, 64, 41])\n",
      "Adjusted output shape: torch.Size([64, 2890, 41])\n"
     ]
    },
    {
     "name": "stderr",
     "output_type": "stream",
     "text": [
      "Val:  88%|████████▊ | 38/43 [00:22<00:02,  1.89it/s, dist=5.4663, loss=0.3201]"
     ]
    },
    {
     "name": "stdout",
     "output_type": "stream",
     "text": [
      "torch.Size([1518, 64, 41])\n",
      "Adjusted output shape: torch.Size([64, 1518, 41])\n"
     ]
    },
    {
     "name": "stderr",
     "output_type": "stream",
     "text": [
      "Val:  91%|█████████ | 39/43 [00:22<00:01,  2.01it/s, dist=5.4311, loss=0.3188]"
     ]
    },
    {
     "name": "stdout",
     "output_type": "stream",
     "text": [
      "torch.Size([1804, 64, 41])\n",
      "Adjusted output shape: torch.Size([64, 1804, 41])\n"
     ]
    },
    {
     "name": "stderr",
     "output_type": "stream",
     "text": [
      "Val:  93%|█████████▎| 40/43 [00:23<00:01,  2.08it/s, dist=5.3809, loss=0.3159]"
     ]
    },
    {
     "name": "stdout",
     "output_type": "stream",
     "text": [
      "torch.Size([1592, 64, 41])\n",
      "Adjusted output shape: torch.Size([64, 1592, 41])\n"
     ]
    },
    {
     "name": "stderr",
     "output_type": "stream",
     "text": [
      "Val:  95%|█████████▌| 41/43 [00:23<00:00,  2.12it/s, dist=5.3639, loss=0.3152]"
     ]
    },
    {
     "name": "stdout",
     "output_type": "stream",
     "text": [
      "torch.Size([2340, 64, 41])\n",
      "Adjusted output shape: torch.Size([64, 2340, 41])\n"
     ]
    },
    {
     "name": "stderr",
     "output_type": "stream",
     "text": [
      "Val: 100%|██████████| 43/43 [00:24<00:00,  1.98it/s, dist=5.5058, loss=0.3225]"
     ]
    },
    {
     "name": "stdout",
     "output_type": "stream",
     "text": [
      "torch.Size([3166, 15, 41])\n",
      "Adjusted output shape: torch.Size([15, 3166, 41])\n"
     ]
    },
    {
     "name": "stderr",
     "output_type": "stream",
     "text": [
      "                                                                              \r"
     ]
    },
    {
     "name": "stdout",
     "output_type": "stream",
     "text": [
      "\tTrain Loss 0.0880\t Learning Rate 0.0000313\n",
      "\tVal Dist 5.5058%\t Val Loss 0.3225\n",
      "Saved epoch model\n",
      "\n",
      "Epoch: 41/50\n"
     ]
    },
    {
     "name": "stderr",
     "output_type": "stream",
     "text": [
      "Val:   0%|          | 0/43 [00:00<?, ?it/s]                                       "
     ]
    },
    {
     "name": "stdout",
     "output_type": "stream",
     "text": [
      "torch.Size([2936, 64, 41])\n",
      "Adjusted output shape: torch.Size([64, 2936, 41])\n"
     ]
    },
    {
     "name": "stderr",
     "output_type": "stream",
     "text": [
      "Val:   2%|▏         | 1/43 [00:01<00:46,  1.11s/it, dist=7.7031, loss=0.5418]"
     ]
    },
    {
     "name": "stdout",
     "output_type": "stream",
     "text": [
      "torch.Size([1631, 64, 41])\n",
      "Adjusted output shape: torch.Size([64, 1631, 41])\n"
     ]
    },
    {
     "name": "stderr",
     "output_type": "stream",
     "text": [
      "Val:   5%|▍         | 2/43 [00:01<00:28,  1.43it/s, dist=6.1406, loss=0.4321]"
     ]
    },
    {
     "name": "stdout",
     "output_type": "stream",
     "text": [
      "torch.Size([1987, 64, 41])\n",
      "Adjusted output shape: torch.Size([64, 1987, 41])\n"
     ]
    },
    {
     "name": "stderr",
     "output_type": "stream",
     "text": [
      "Val:   7%|▋         | 3/43 [00:02<00:24,  1.61it/s, dist=6.0521, loss=0.3787]"
     ]
    },
    {
     "name": "stdout",
     "output_type": "stream",
     "text": [
      "torch.Size([2707, 64, 41])\n",
      "Adjusted output shape: torch.Size([64, 2707, 41])\n"
     ]
    },
    {
     "name": "stderr",
     "output_type": "stream",
     "text": [
      "Val:   9%|▉         | 4/43 [00:02<00:24,  1.61it/s, dist=6.3086, loss=0.3772]"
     ]
    },
    {
     "name": "stdout",
     "output_type": "stream",
     "text": [
      "torch.Size([2658, 64, 41])\n",
      "Adjusted output shape: torch.Size([64, 2658, 41])\n"
     ]
    },
    {
     "name": "stderr",
     "output_type": "stream",
     "text": [
      "Val:  12%|█▏        | 5/43 [00:03<00:23,  1.63it/s, dist=6.1719, loss=0.3581]"
     ]
    },
    {
     "name": "stdout",
     "output_type": "stream",
     "text": [
      "torch.Size([2282, 64, 41])\n",
      "Adjusted output shape: torch.Size([64, 2282, 41])\n"
     ]
    },
    {
     "name": "stderr",
     "output_type": "stream",
     "text": [
      "Val:  14%|█▍        | 6/43 [00:03<00:22,  1.65it/s, dist=6.2656, loss=0.3537]"
     ]
    },
    {
     "name": "stdout",
     "output_type": "stream",
     "text": [
      "torch.Size([2784, 64, 41])\n",
      "Adjusted output shape: torch.Size([64, 2784, 41])\n"
     ]
    },
    {
     "name": "stderr",
     "output_type": "stream",
     "text": [
      "Val:  16%|█▋        | 7/43 [00:04<00:21,  1.65it/s, dist=6.1116, loss=0.3548]"
     ]
    },
    {
     "name": "stdout",
     "output_type": "stream",
     "text": [
      "torch.Size([2052, 64, 41])\n",
      "Adjusted output shape: torch.Size([64, 2052, 41])\n"
     ]
    },
    {
     "name": "stderr",
     "output_type": "stream",
     "text": [
      "Val:  19%|█▊        | 8/43 [00:04<00:19,  1.78it/s, dist=5.8145, loss=0.3549]"
     ]
    },
    {
     "name": "stdout",
     "output_type": "stream",
     "text": [
      "torch.Size([3133, 64, 41])\n",
      "Adjusted output shape: torch.Size([64, 3133, 41])\n"
     ]
    },
    {
     "name": "stderr",
     "output_type": "stream",
     "text": [
      "Val:  21%|██        | 9/43 [00:05<00:21,  1.60it/s, dist=5.7378, loss=0.3453]"
     ]
    },
    {
     "name": "stdout",
     "output_type": "stream",
     "text": [
      "torch.Size([2277, 64, 41])\n",
      "Adjusted output shape: torch.Size([64, 2277, 41])\n"
     ]
    },
    {
     "name": "stderr",
     "output_type": "stream",
     "text": [
      "Val:  23%|██▎       | 10/43 [00:06<00:20,  1.58it/s, dist=5.8078, loss=0.3399]"
     ]
    },
    {
     "name": "stdout",
     "output_type": "stream",
     "text": [
      "torch.Size([1546, 64, 41])\n",
      "Adjusted output shape: torch.Size([64, 1546, 41])\n"
     ]
    },
    {
     "name": "stderr",
     "output_type": "stream",
     "text": [
      "Val:  26%|██▌       | 11/43 [00:06<00:18,  1.78it/s, dist=5.5455, loss=0.3263]"
     ]
    },
    {
     "name": "stdout",
     "output_type": "stream",
     "text": [
      "torch.Size([2264, 64, 41])\n",
      "Adjusted output shape: torch.Size([64, 2264, 41])\n"
     ]
    },
    {
     "name": "stderr",
     "output_type": "stream",
     "text": [
      "Val:  28%|██▊       | 12/43 [00:07<00:17,  1.78it/s, dist=5.5964, loss=0.3253]"
     ]
    },
    {
     "name": "stdout",
     "output_type": "stream",
     "text": [
      "torch.Size([1757, 64, 41])\n",
      "Adjusted output shape: torch.Size([64, 1757, 41])\n"
     ]
    },
    {
     "name": "stderr",
     "output_type": "stream",
     "text": [
      "Val:  30%|███       | 13/43 [00:07<00:16,  1.85it/s, dist=5.5889, loss=0.3212]"
     ]
    },
    {
     "name": "stdout",
     "output_type": "stream",
     "text": [
      "torch.Size([1641, 64, 41])\n",
      "Adjusted output shape: torch.Size([64, 1641, 41])\n"
     ]
    },
    {
     "name": "stderr",
     "output_type": "stream",
     "text": [
      "Val:  33%|███▎      | 14/43 [00:08<00:14,  1.94it/s, dist=5.3705, loss=0.3107]"
     ]
    },
    {
     "name": "stdout",
     "output_type": "stream",
     "text": [
      "torch.Size([2476, 64, 41])\n",
      "Adjusted output shape: torch.Size([64, 2476, 41])\n"
     ]
    },
    {
     "name": "stderr",
     "output_type": "stream",
     "text": [
      "Val:  35%|███▍      | 15/43 [00:08<00:15,  1.84it/s, dist=5.2417, loss=0.3025]"
     ]
    },
    {
     "name": "stdout",
     "output_type": "stream",
     "text": [
      "torch.Size([2465, 64, 41])\n",
      "Adjusted output shape: torch.Size([64, 2465, 41])\n"
     ]
    },
    {
     "name": "stderr",
     "output_type": "stream",
     "text": [
      "Val:  37%|███▋      | 16/43 [00:09<00:15,  1.73it/s, dist=5.3477, loss=0.3096]"
     ]
    },
    {
     "name": "stdout",
     "output_type": "stream",
     "text": [
      "torch.Size([3244, 64, 41])\n",
      "Adjusted output shape: torch.Size([64, 3244, 41])\n"
     ]
    },
    {
     "name": "stderr",
     "output_type": "stream",
     "text": [
      "Val:  40%|███▉      | 17/43 [00:10<00:17,  1.49it/s, dist=5.4632, loss=0.3081]"
     ]
    },
    {
     "name": "stdout",
     "output_type": "stream",
     "text": [
      "torch.Size([2853, 64, 41])\n",
      "Adjusted output shape: torch.Size([64, 2853, 41])\n"
     ]
    },
    {
     "name": "stderr",
     "output_type": "stream",
     "text": [
      "Val:  42%|████▏     | 18/43 [00:11<00:16,  1.52it/s, dist=5.3637, loss=0.3036]"
     ]
    },
    {
     "name": "stdout",
     "output_type": "stream",
     "text": [
      "torch.Size([2795, 64, 41])\n",
      "Adjusted output shape: torch.Size([64, 2795, 41])\n"
     ]
    },
    {
     "name": "stderr",
     "output_type": "stream",
     "text": [
      "Val:  44%|████▍     | 19/43 [00:11<00:15,  1.58it/s, dist=5.3298, loss=0.3060]"
     ]
    },
    {
     "name": "stdout",
     "output_type": "stream",
     "text": [
      "torch.Size([2027, 64, 41])\n",
      "Adjusted output shape: torch.Size([64, 2027, 41])\n"
     ]
    },
    {
     "name": "stderr",
     "output_type": "stream",
     "text": [
      "Val:  47%|████▋     | 20/43 [00:12<00:14,  1.57it/s, dist=5.3039, loss=0.3017]"
     ]
    },
    {
     "name": "stdout",
     "output_type": "stream",
     "text": [
      "torch.Size([2686, 64, 41])\n",
      "Adjusted output shape: torch.Size([64, 2686, 41])\n"
     ]
    },
    {
     "name": "stderr",
     "output_type": "stream",
     "text": [
      "Val:  49%|████▉     | 21/43 [00:12<00:14,  1.55it/s, dist=5.3884, loss=0.3044]"
     ]
    },
    {
     "name": "stdout",
     "output_type": "stream",
     "text": [
      "torch.Size([2068, 64, 41])\n",
      "Adjusted output shape: torch.Size([64, 2068, 41])\n"
     ]
    },
    {
     "name": "stderr",
     "output_type": "stream",
     "text": [
      "Val:  51%|█████     | 22/43 [00:13<00:12,  1.67it/s, dist=5.2990, loss=0.3015]"
     ]
    },
    {
     "name": "stdout",
     "output_type": "stream",
     "text": [
      "torch.Size([1543, 64, 41])\n",
      "Adjusted output shape: torch.Size([64, 1543, 41])\n"
     ]
    },
    {
     "name": "stderr",
     "output_type": "stream",
     "text": [
      "Val:  53%|█████▎    | 23/43 [00:13<00:10,  1.82it/s, dist=5.2527, loss=0.3014]"
     ]
    },
    {
     "name": "stdout",
     "output_type": "stream",
     "text": [
      "torch.Size([3260, 64, 41])\n",
      "Adjusted output shape: torch.Size([64, 3260, 41])\n"
     ]
    },
    {
     "name": "stderr",
     "output_type": "stream",
     "text": [
      "Val:  56%|█████▌    | 24/43 [00:14<00:12,  1.56it/s, dist=5.4264, loss=0.3025]"
     ]
    },
    {
     "name": "stdout",
     "output_type": "stream",
     "text": [
      "torch.Size([3210, 64, 41])\n",
      "Adjusted output shape: torch.Size([64, 3210, 41])\n"
     ]
    },
    {
     "name": "stderr",
     "output_type": "stream",
     "text": [
      "Val:  58%|█████▊    | 25/43 [00:15<00:11,  1.52it/s, dist=5.4737, loss=0.3040]"
     ]
    },
    {
     "name": "stdout",
     "output_type": "stream",
     "text": [
      "torch.Size([2084, 64, 41])\n",
      "Adjusted output shape: torch.Size([64, 2084, 41])\n"
     ]
    },
    {
     "name": "stderr",
     "output_type": "stream",
     "text": [
      "Val:  60%|██████    | 26/43 [00:16<00:10,  1.56it/s, dist=5.5974, loss=0.3057]"
     ]
    },
    {
     "name": "stdout",
     "output_type": "stream",
     "text": [
      "torch.Size([2158, 64, 41])\n",
      "Adjusted output shape: torch.Size([64, 2158, 41])\n"
     ]
    },
    {
     "name": "stderr",
     "output_type": "stream",
     "text": [
      "Val:  63%|██████▎   | 27/43 [00:16<00:09,  1.70it/s, dist=5.5729, loss=0.3077]"
     ]
    },
    {
     "name": "stdout",
     "output_type": "stream",
     "text": [
      "torch.Size([1591, 64, 41])\n",
      "Adjusted output shape: torch.Size([64, 1591, 41])\n"
     ]
    },
    {
     "name": "stderr",
     "output_type": "stream",
     "text": [
      "Val:  65%|██████▌   | 28/43 [00:16<00:08,  1.83it/s, dist=5.5100, loss=0.3075]"
     ]
    },
    {
     "name": "stdout",
     "output_type": "stream",
     "text": [
      "torch.Size([1783, 64, 41])\n",
      "Adjusted output shape: torch.Size([64, 1783, 41])\n"
     ]
    },
    {
     "name": "stderr",
     "output_type": "stream",
     "text": [
      "Val:  67%|██████▋   | 29/43 [00:17<00:07,  1.93it/s, dist=5.4230, loss=0.3046]"
     ]
    },
    {
     "name": "stdout",
     "output_type": "stream",
     "text": [
      "torch.Size([1776, 64, 41])\n",
      "Adjusted output shape: torch.Size([64, 1776, 41])\n"
     ]
    },
    {
     "name": "stderr",
     "output_type": "stream",
     "text": [
      "Val:  70%|██████▉   | 30/43 [00:17<00:06,  1.96it/s, dist=5.4245, loss=0.3061]"
     ]
    },
    {
     "name": "stdout",
     "output_type": "stream",
     "text": [
      "torch.Size([2078, 64, 41])\n",
      "Adjusted output shape: torch.Size([64, 2078, 41])\n"
     ]
    },
    {
     "name": "stderr",
     "output_type": "stream",
     "text": [
      "Val:  72%|███████▏  | 31/43 [00:18<00:06,  2.00it/s, dist=5.3619, loss=0.3055]"
     ]
    },
    {
     "name": "stdout",
     "output_type": "stream",
     "text": [
      "torch.Size([1443, 64, 41])\n",
      "Adjusted output shape: torch.Size([64, 1443, 41])\n"
     ]
    },
    {
     "name": "stderr",
     "output_type": "stream",
     "text": [
      "Val:  74%|███████▍  | 32/43 [00:18<00:05,  2.13it/s, dist=5.4590, loss=0.3142]"
     ]
    },
    {
     "name": "stdout",
     "output_type": "stream",
     "text": [
      "torch.Size([1906, 64, 41])\n",
      "Adjusted output shape: torch.Size([64, 1906, 41])\n"
     ]
    },
    {
     "name": "stderr",
     "output_type": "stream",
     "text": [
      "Val:  77%|███████▋  | 33/43 [00:19<00:04,  2.01it/s, dist=5.4839, loss=0.3179]"
     ]
    },
    {
     "name": "stdout",
     "output_type": "stream",
     "text": [
      "torch.Size([2189, 64, 41])\n",
      "Adjusted output shape: torch.Size([64, 2189, 41])\n"
     ]
    },
    {
     "name": "stderr",
     "output_type": "stream",
     "text": [
      "Val:  79%|███████▉  | 34/43 [00:19<00:04,  2.01it/s, dist=5.4191, loss=0.3149]"
     ]
    },
    {
     "name": "stdout",
     "output_type": "stream",
     "text": [
      "torch.Size([2095, 64, 41])\n",
      "Adjusted output shape: torch.Size([64, 2095, 41])\n"
     ]
    },
    {
     "name": "stderr",
     "output_type": "stream",
     "text": [
      "Val:  81%|████████▏ | 35/43 [00:20<00:04,  1.95it/s, dist=5.4446, loss=0.3150]"
     ]
    },
    {
     "name": "stdout",
     "output_type": "stream",
     "text": [
      "torch.Size([1511, 64, 41])\n",
      "Adjusted output shape: torch.Size([64, 1511, 41])\n"
     ]
    },
    {
     "name": "stderr",
     "output_type": "stream",
     "text": [
      "Val:  84%|████████▎ | 36/43 [00:20<00:03,  2.05it/s, dist=5.4800, loss=0.3192]"
     ]
    },
    {
     "name": "stdout",
     "output_type": "stream",
     "text": [
      "torch.Size([1813, 64, 41])\n",
      "Adjusted output shape: torch.Size([64, 1813, 41])\n"
     ]
    },
    {
     "name": "stderr",
     "output_type": "stream",
     "text": [
      "Val:  86%|████████▌ | 37/43 [00:21<00:02,  2.03it/s, dist=5.5190, loss=0.3236]"
     ]
    },
    {
     "name": "stdout",
     "output_type": "stream",
     "text": [
      "torch.Size([2890, 64, 41])\n",
      "Adjusted output shape: torch.Size([64, 2890, 41])\n"
     ]
    },
    {
     "name": "stderr",
     "output_type": "stream",
     "text": [
      "Val:  88%|████████▊ | 38/43 [00:21<00:02,  1.86it/s, dist=5.4856, loss=0.3229]"
     ]
    },
    {
     "name": "stdout",
     "output_type": "stream",
     "text": [
      "torch.Size([1518, 64, 41])\n",
      "Adjusted output shape: torch.Size([64, 1518, 41])\n"
     ]
    },
    {
     "name": "stderr",
     "output_type": "stream",
     "text": [
      "Val:  91%|█████████ | 39/43 [00:22<00:02,  1.97it/s, dist=5.4475, loss=0.3217]"
     ]
    },
    {
     "name": "stdout",
     "output_type": "stream",
     "text": [
      "torch.Size([1804, 64, 41])\n",
      "Adjusted output shape: torch.Size([64, 1804, 41])\n"
     ]
    },
    {
     "name": "stderr",
     "output_type": "stream",
     "text": [
      "Val:  93%|█████████▎| 40/43 [00:22<00:01,  1.99it/s, dist=5.3945, loss=0.3186]"
     ]
    },
    {
     "name": "stdout",
     "output_type": "stream",
     "text": [
      "torch.Size([1592, 64, 41])\n",
      "Adjusted output shape: torch.Size([64, 1592, 41])\n"
     ]
    },
    {
     "name": "stderr",
     "output_type": "stream",
     "text": [
      "Val:  95%|█████████▌| 41/43 [00:23<00:01,  1.98it/s, dist=5.3758, loss=0.3179]"
     ]
    },
    {
     "name": "stdout",
     "output_type": "stream",
     "text": [
      "torch.Size([2340, 64, 41])\n",
      "Adjusted output shape: torch.Size([64, 2340, 41])\n"
     ]
    },
    {
     "name": "stderr",
     "output_type": "stream",
     "text": [
      "Val: 100%|██████████| 43/43 [00:24<00:00,  1.91it/s, dist=5.5089, loss=0.3251]"
     ]
    },
    {
     "name": "stdout",
     "output_type": "stream",
     "text": [
      "torch.Size([3166, 15, 41])\n",
      "Adjusted output shape: torch.Size([15, 3166, 41])\n"
     ]
    },
    {
     "name": "stderr",
     "output_type": "stream",
     "text": [
      "                                                                              \r"
     ]
    },
    {
     "name": "stdout",
     "output_type": "stream",
     "text": [
      "\tTrain Loss 0.0894\t Learning Rate 0.0000156\n",
      "\tVal Dist 5.5089%\t Val Loss 0.3251\n",
      "Saved epoch model\n",
      "\n",
      "Epoch: 42/50\n"
     ]
    },
    {
     "name": "stderr",
     "output_type": "stream",
     "text": [
      "Val:   0%|          | 0/43 [00:00<?, ?it/s]                                       "
     ]
    },
    {
     "name": "stdout",
     "output_type": "stream",
     "text": [
      "torch.Size([2936, 64, 41])\n",
      "Adjusted output shape: torch.Size([64, 2936, 41])\n"
     ]
    },
    {
     "name": "stderr",
     "output_type": "stream",
     "text": [
      "Val:   2%|▏         | 1/43 [00:01<00:48,  1.15s/it, dist=7.8594, loss=0.5261]"
     ]
    },
    {
     "name": "stdout",
     "output_type": "stream",
     "text": [
      "torch.Size([1631, 64, 41])\n",
      "Adjusted output shape: torch.Size([64, 1631, 41])\n"
     ]
    },
    {
     "name": "stderr",
     "output_type": "stream",
     "text": [
      "Val:   5%|▍         | 2/43 [00:01<00:30,  1.36it/s, dist=6.1562, loss=0.4233]"
     ]
    },
    {
     "name": "stdout",
     "output_type": "stream",
     "text": [
      "torch.Size([1987, 64, 41])\n",
      "Adjusted output shape: torch.Size([64, 1987, 41])\n"
     ]
    },
    {
     "name": "stderr",
     "output_type": "stream",
     "text": [
      "Val:   7%|▋         | 3/43 [00:02<00:27,  1.47it/s, dist=6.0833, loss=0.3731]"
     ]
    },
    {
     "name": "stdout",
     "output_type": "stream",
     "text": [
      "torch.Size([2707, 64, 41])\n",
      "Adjusted output shape: torch.Size([64, 2707, 41])\n"
     ]
    },
    {
     "name": "stderr",
     "output_type": "stream",
     "text": [
      "Val:   9%|▉         | 4/43 [00:02<00:26,  1.45it/s, dist=6.2695, loss=0.3713]"
     ]
    },
    {
     "name": "stdout",
     "output_type": "stream",
     "text": [
      "torch.Size([2658, 64, 41])\n",
      "Adjusted output shape: torch.Size([64, 2658, 41])\n"
     ]
    },
    {
     "name": "stderr",
     "output_type": "stream",
     "text": [
      "Val:  12%|█▏        | 5/43 [00:03<00:25,  1.49it/s, dist=6.1125, loss=0.3526]"
     ]
    },
    {
     "name": "stdout",
     "output_type": "stream",
     "text": [
      "torch.Size([2282, 64, 41])\n",
      "Adjusted output shape: torch.Size([64, 2282, 41])\n"
     ]
    },
    {
     "name": "stderr",
     "output_type": "stream",
     "text": [
      "Val:  14%|█▍        | 6/43 [00:04<00:23,  1.58it/s, dist=6.1927, loss=0.3474]"
     ]
    },
    {
     "name": "stdout",
     "output_type": "stream",
     "text": [
      "torch.Size([2784, 64, 41])\n",
      "Adjusted output shape: torch.Size([64, 2784, 41])\n"
     ]
    },
    {
     "name": "stderr",
     "output_type": "stream",
     "text": [
      "Val:  16%|█▋        | 7/43 [00:04<00:22,  1.59it/s, dist=6.0357, loss=0.3485]"
     ]
    },
    {
     "name": "stdout",
     "output_type": "stream",
     "text": [
      "torch.Size([2052, 64, 41])\n",
      "Adjusted output shape: torch.Size([64, 2052, 41])\n"
     ]
    },
    {
     "name": "stderr",
     "output_type": "stream",
     "text": [
      "Val:  19%|█▊        | 8/43 [00:05<00:20,  1.71it/s, dist=5.7246, loss=0.3473]"
     ]
    },
    {
     "name": "stdout",
     "output_type": "stream",
     "text": [
      "torch.Size([3133, 64, 41])\n",
      "Adjusted output shape: torch.Size([64, 3133, 41])\n"
     ]
    },
    {
     "name": "stderr",
     "output_type": "stream",
     "text": [
      "Val:  21%|██        | 9/43 [00:05<00:21,  1.56it/s, dist=5.6510, loss=0.3380]"
     ]
    },
    {
     "name": "stdout",
     "output_type": "stream",
     "text": [
      "torch.Size([2277, 64, 41])\n",
      "Adjusted output shape: torch.Size([64, 2277, 41])\n"
     ]
    },
    {
     "name": "stderr",
     "output_type": "stream",
     "text": [
      "Val:  23%|██▎       | 10/43 [00:06<00:21,  1.56it/s, dist=5.7453, loss=0.3333]"
     ]
    },
    {
     "name": "stdout",
     "output_type": "stream",
     "text": [
      "torch.Size([1546, 64, 41])\n",
      "Adjusted output shape: torch.Size([64, 1546, 41])\n"
     ]
    },
    {
     "name": "stderr",
     "output_type": "stream",
     "text": [
      "Val:  26%|██▌       | 11/43 [00:07<00:18,  1.76it/s, dist=5.4929, loss=0.3204]"
     ]
    },
    {
     "name": "stdout",
     "output_type": "stream",
     "text": [
      "torch.Size([2264, 64, 41])\n",
      "Adjusted output shape: torch.Size([64, 2264, 41])\n"
     ]
    },
    {
     "name": "stderr",
     "output_type": "stream",
     "text": [
      "Val:  28%|██▊       | 12/43 [00:07<00:17,  1.77it/s, dist=5.5508, loss=0.3194]"
     ]
    },
    {
     "name": "stdout",
     "output_type": "stream",
     "text": [
      "torch.Size([1757, 64, 41])\n",
      "Adjusted output shape: torch.Size([64, 1757, 41])\n"
     ]
    },
    {
     "name": "stderr",
     "output_type": "stream",
     "text": [
      "Val:  30%|███       | 13/43 [00:08<00:16,  1.86it/s, dist=5.5276, loss=0.3155]"
     ]
    },
    {
     "name": "stdout",
     "output_type": "stream",
     "text": [
      "torch.Size([1641, 64, 41])\n",
      "Adjusted output shape: torch.Size([64, 1641, 41])\n"
     ]
    },
    {
     "name": "stderr",
     "output_type": "stream",
     "text": [
      "Val:  33%|███▎      | 14/43 [00:08<00:14,  1.99it/s, dist=5.3114, loss=0.3050]"
     ]
    },
    {
     "name": "stdout",
     "output_type": "stream",
     "text": [
      "torch.Size([2476, 64, 41])\n",
      "Adjusted output shape: torch.Size([64, 2476, 41])\n"
     ]
    },
    {
     "name": "stderr",
     "output_type": "stream",
     "text": [
      "Val:  35%|███▍      | 15/43 [00:09<00:14,  1.89it/s, dist=5.1760, loss=0.2963]"
     ]
    },
    {
     "name": "stdout",
     "output_type": "stream",
     "text": [
      "torch.Size([2465, 64, 41])\n",
      "Adjusted output shape: torch.Size([64, 2465, 41])\n"
     ]
    },
    {
     "name": "stderr",
     "output_type": "stream",
     "text": [
      "Val:  37%|███▋      | 16/43 [00:09<00:15,  1.74it/s, dist=5.2725, loss=0.3031]"
     ]
    },
    {
     "name": "stdout",
     "output_type": "stream",
     "text": [
      "torch.Size([3244, 64, 41])\n",
      "Adjusted output shape: torch.Size([64, 3244, 41])\n"
     ]
    },
    {
     "name": "stderr",
     "output_type": "stream",
     "text": [
      "Val:  40%|███▉      | 17/43 [00:10<00:17,  1.47it/s, dist=5.3961, loss=0.3018]"
     ]
    },
    {
     "name": "stdout",
     "output_type": "stream",
     "text": [
      "torch.Size([2853, 64, 41])\n",
      "Adjusted output shape: torch.Size([64, 2853, 41])\n"
     ]
    },
    {
     "name": "stderr",
     "output_type": "stream",
     "text": [
      "Val:  42%|████▏     | 18/43 [00:11<00:16,  1.54it/s, dist=5.2995, loss=0.2973]"
     ]
    },
    {
     "name": "stdout",
     "output_type": "stream",
     "text": [
      "torch.Size([2795, 64, 41])\n",
      "Adjusted output shape: torch.Size([64, 2795, 41])\n"
     ]
    },
    {
     "name": "stderr",
     "output_type": "stream",
     "text": [
      "Val:  44%|████▍     | 19/43 [00:11<00:15,  1.56it/s, dist=5.2648, loss=0.2993]"
     ]
    },
    {
     "name": "stdout",
     "output_type": "stream",
     "text": [
      "torch.Size([2027, 64, 41])\n",
      "Adjusted output shape: torch.Size([64, 2027, 41])\n"
     ]
    },
    {
     "name": "stderr",
     "output_type": "stream",
     "text": [
      "Val:  47%|████▋     | 20/43 [00:12<00:14,  1.58it/s, dist=5.2430, loss=0.2953]"
     ]
    },
    {
     "name": "stdout",
     "output_type": "stream",
     "text": [
      "torch.Size([2686, 64, 41])\n",
      "Adjusted output shape: torch.Size([64, 2686, 41])\n"
     ]
    },
    {
     "name": "stderr",
     "output_type": "stream",
     "text": [
      "Val:  49%|████▉     | 21/43 [00:13<00:14,  1.56it/s, dist=5.3311, loss=0.2977]"
     ]
    },
    {
     "name": "stdout",
     "output_type": "stream",
     "text": [
      "torch.Size([2068, 64, 41])\n",
      "Adjusted output shape: torch.Size([64, 2068, 41])\n"
     ]
    },
    {
     "name": "stderr",
     "output_type": "stream",
     "text": [
      "Val:  51%|█████     | 22/43 [00:13<00:12,  1.69it/s, dist=5.2330, loss=0.2948]"
     ]
    },
    {
     "name": "stdout",
     "output_type": "stream",
     "text": [
      "torch.Size([1543, 64, 41])\n",
      "Adjusted output shape: torch.Size([64, 1543, 41])\n"
     ]
    },
    {
     "name": "stderr",
     "output_type": "stream",
     "text": [
      "Val:  53%|█████▎    | 23/43 [00:14<00:10,  1.86it/s, dist=5.1855, loss=0.2947]"
     ]
    },
    {
     "name": "stdout",
     "output_type": "stream",
     "text": [
      "torch.Size([3260, 64, 41])\n",
      "Adjusted output shape: torch.Size([64, 3260, 41])\n"
     ]
    },
    {
     "name": "stderr",
     "output_type": "stream",
     "text": [
      "Val:  56%|█████▌    | 24/43 [00:14<00:12,  1.52it/s, dist=5.3620, loss=0.2961]"
     ]
    },
    {
     "name": "stdout",
     "output_type": "stream",
     "text": [
      "torch.Size([3210, 64, 41])\n",
      "Adjusted output shape: torch.Size([64, 3210, 41])\n"
     ]
    },
    {
     "name": "stderr",
     "output_type": "stream",
     "text": [
      "Val:  58%|█████▊    | 25/43 [00:15<00:12,  1.50it/s, dist=5.4062, loss=0.2975]"
     ]
    },
    {
     "name": "stdout",
     "output_type": "stream",
     "text": [
      "torch.Size([2084, 64, 41])\n",
      "Adjusted output shape: torch.Size([64, 2084, 41])\n"
     ]
    },
    {
     "name": "stderr",
     "output_type": "stream",
     "text": [
      "Val:  60%|██████    | 26/43 [00:16<00:10,  1.59it/s, dist=5.5325, loss=0.2992]"
     ]
    },
    {
     "name": "stdout",
     "output_type": "stream",
     "text": [
      "torch.Size([2158, 64, 41])\n",
      "Adjusted output shape: torch.Size([64, 2158, 41])\n"
     ]
    },
    {
     "name": "stderr",
     "output_type": "stream",
     "text": [
      "Val:  63%|██████▎   | 27/43 [00:16<00:09,  1.71it/s, dist=5.5104, loss=0.3011]"
     ]
    },
    {
     "name": "stdout",
     "output_type": "stream",
     "text": [
      "torch.Size([1591, 64, 41])\n",
      "Adjusted output shape: torch.Size([64, 1591, 41])\n"
     ]
    },
    {
     "name": "stderr",
     "output_type": "stream",
     "text": [
      "Val:  65%|██████▌   | 28/43 [00:17<00:08,  1.81it/s, dist=5.4515, loss=0.3010]"
     ]
    },
    {
     "name": "stdout",
     "output_type": "stream",
     "text": [
      "torch.Size([1783, 64, 41])\n",
      "Adjusted output shape: torch.Size([64, 1783, 41])\n"
     ]
    },
    {
     "name": "stderr",
     "output_type": "stream",
     "text": [
      "Val:  67%|██████▋   | 29/43 [00:17<00:07,  1.93it/s, dist=5.3637, loss=0.2983]"
     ]
    },
    {
     "name": "stdout",
     "output_type": "stream",
     "text": [
      "torch.Size([1776, 64, 41])\n",
      "Adjusted output shape: torch.Size([64, 1776, 41])\n"
     ]
    },
    {
     "name": "stderr",
     "output_type": "stream",
     "text": [
      "Val:  70%|██████▉   | 30/43 [00:18<00:06,  1.95it/s, dist=5.3646, loss=0.2996]"
     ]
    },
    {
     "name": "stdout",
     "output_type": "stream",
     "text": [
      "torch.Size([2078, 64, 41])\n",
      "Adjusted output shape: torch.Size([64, 2078, 41])\n"
     ]
    },
    {
     "name": "stderr",
     "output_type": "stream",
     "text": [
      "Val:  72%|███████▏  | 31/43 [00:18<00:06,  1.97it/s, dist=5.2954, loss=0.2988]"
     ]
    },
    {
     "name": "stdout",
     "output_type": "stream",
     "text": [
      "torch.Size([1443, 64, 41])\n",
      "Adjusted output shape: torch.Size([64, 1443, 41])\n"
     ]
    },
    {
     "name": "stderr",
     "output_type": "stream",
     "text": [
      "Val:  74%|███████▍  | 32/43 [00:19<00:05,  2.08it/s, dist=5.3921, loss=0.3072]"
     ]
    },
    {
     "name": "stdout",
     "output_type": "stream",
     "text": [
      "torch.Size([1906, 64, 41])\n",
      "Adjusted output shape: torch.Size([64, 1906, 41])\n"
     ]
    },
    {
     "name": "stderr",
     "output_type": "stream",
     "text": [
      "Val:  77%|███████▋  | 33/43 [00:19<00:05,  1.96it/s, dist=5.4167, loss=0.3108]"
     ]
    },
    {
     "name": "stdout",
     "output_type": "stream",
     "text": [
      "torch.Size([2189, 64, 41])\n",
      "Adjusted output shape: torch.Size([64, 2189, 41])\n"
     ]
    },
    {
     "name": "stderr",
     "output_type": "stream",
     "text": [
      "Val:  79%|███████▉  | 34/43 [00:20<00:04,  1.91it/s, dist=5.3493, loss=0.3078]"
     ]
    },
    {
     "name": "stdout",
     "output_type": "stream",
     "text": [
      "torch.Size([2095, 64, 41])\n",
      "Adjusted output shape: torch.Size([64, 2095, 41])\n"
     ]
    },
    {
     "name": "stderr",
     "output_type": "stream",
     "text": [
      "Val:  81%|████████▏ | 35/43 [00:20<00:04,  1.86it/s, dist=5.3795, loss=0.3081]"
     ]
    },
    {
     "name": "stdout",
     "output_type": "stream",
     "text": [
      "torch.Size([1511, 64, 41])\n",
      "Adjusted output shape: torch.Size([64, 1511, 41])\n"
     ]
    },
    {
     "name": "stderr",
     "output_type": "stream",
     "text": [
      "Val:  84%|████████▎ | 36/43 [00:21<00:03,  1.93it/s, dist=5.4223, loss=0.3125]"
     ]
    },
    {
     "name": "stdout",
     "output_type": "stream",
     "text": [
      "torch.Size([1813, 64, 41])\n",
      "Adjusted output shape: torch.Size([64, 1813, 41])\n"
     ]
    },
    {
     "name": "stderr",
     "output_type": "stream",
     "text": [
      "Val:  86%|████████▌ | 37/43 [00:21<00:03,  1.96it/s, dist=5.4645, loss=0.3170]"
     ]
    },
    {
     "name": "stdout",
     "output_type": "stream",
     "text": [
      "torch.Size([2890, 64, 41])\n",
      "Adjusted output shape: torch.Size([64, 2890, 41])\n"
     ]
    },
    {
     "name": "stderr",
     "output_type": "stream",
     "text": [
      "Val:  88%|████████▊ | 38/43 [00:22<00:02,  1.75it/s, dist=5.4322, loss=0.3163]"
     ]
    },
    {
     "name": "stdout",
     "output_type": "stream",
     "text": [
      "torch.Size([1518, 64, 41])\n",
      "Adjusted output shape: torch.Size([64, 1518, 41])\n"
     ]
    },
    {
     "name": "stderr",
     "output_type": "stream",
     "text": [
      "Val:  91%|█████████ | 39/43 [00:22<00:02,  1.89it/s, dist=5.3930, loss=0.3149]"
     ]
    },
    {
     "name": "stdout",
     "output_type": "stream",
     "text": [
      "torch.Size([1804, 64, 41])\n",
      "Adjusted output shape: torch.Size([64, 1804, 41])\n"
     ]
    },
    {
     "name": "stderr",
     "output_type": "stream",
     "text": [
      "Val:  93%|█████████▎| 40/43 [00:23<00:01,  1.99it/s, dist=5.3430, loss=0.3121]"
     ]
    },
    {
     "name": "stdout",
     "output_type": "stream",
     "text": [
      "torch.Size([1592, 64, 41])\n",
      "Adjusted output shape: torch.Size([64, 1592, 41])\n"
     ]
    },
    {
     "name": "stderr",
     "output_type": "stream",
     "text": [
      "Val:  95%|█████████▌| 41/43 [00:23<00:00,  2.01it/s, dist=5.3270, loss=0.3114]"
     ]
    },
    {
     "name": "stdout",
     "output_type": "stream",
     "text": [
      "torch.Size([2340, 64, 41])\n",
      "Adjusted output shape: torch.Size([64, 2340, 41])\n"
     ]
    },
    {
     "name": "stderr",
     "output_type": "stream",
     "text": [
      "Val: 100%|██████████| 43/43 [00:24<00:00,  1.93it/s, dist=5.4686, loss=0.3188]"
     ]
    },
    {
     "name": "stdout",
     "output_type": "stream",
     "text": [
      "torch.Size([3166, 15, 41])\n",
      "Adjusted output shape: torch.Size([15, 3166, 41])\n"
     ]
    },
    {
     "name": "stderr",
     "output_type": "stream",
     "text": [
      "                                                                              \r"
     ]
    },
    {
     "name": "stdout",
     "output_type": "stream",
     "text": [
      "\tTrain Loss 0.0924\t Learning Rate 0.0000156\n",
      "\tVal Dist 5.4686%\t Val Loss 0.3188\n",
      "Saved epoch model\n",
      "Saved best model\n",
      "\n",
      "Epoch: 43/50\n"
     ]
    },
    {
     "name": "stderr",
     "output_type": "stream",
     "text": [
      "Val:   0%|          | 0/43 [00:00<?, ?it/s]                                       "
     ]
    },
    {
     "name": "stdout",
     "output_type": "stream",
     "text": [
      "torch.Size([2936, 64, 41])\n",
      "Adjusted output shape: torch.Size([64, 2936, 41])\n"
     ]
    },
    {
     "name": "stderr",
     "output_type": "stream",
     "text": [
      "Val:   2%|▏         | 1/43 [00:01<00:50,  1.19s/it, dist=7.8750, loss=0.5366]"
     ]
    },
    {
     "name": "stdout",
     "output_type": "stream",
     "text": [
      "torch.Size([1631, 64, 41])\n",
      "Adjusted output shape: torch.Size([64, 1631, 41])\n"
     ]
    },
    {
     "name": "stderr",
     "output_type": "stream",
     "text": [
      "Val:   5%|▍         | 2/43 [00:01<00:31,  1.32it/s, dist=6.1875, loss=0.4291]"
     ]
    },
    {
     "name": "stdout",
     "output_type": "stream",
     "text": [
      "torch.Size([1987, 64, 41])\n",
      "Adjusted output shape: torch.Size([64, 1987, 41])\n"
     ]
    },
    {
     "name": "stderr",
     "output_type": "stream",
     "text": [
      "Val:   7%|▋         | 3/43 [00:02<00:26,  1.50it/s, dist=6.0781, loss=0.3763]"
     ]
    },
    {
     "name": "stdout",
     "output_type": "stream",
     "text": [
      "torch.Size([2707, 64, 41])\n",
      "Adjusted output shape: torch.Size([64, 2707, 41])\n"
     ]
    },
    {
     "name": "stderr",
     "output_type": "stream",
     "text": [
      "Val:   9%|▉         | 4/43 [00:02<00:25,  1.53it/s, dist=6.2891, loss=0.3770]"
     ]
    },
    {
     "name": "stdout",
     "output_type": "stream",
     "text": [
      "torch.Size([2658, 64, 41])\n",
      "Adjusted output shape: torch.Size([64, 2658, 41])\n"
     ]
    },
    {
     "name": "stderr",
     "output_type": "stream",
     "text": [
      "Val:  12%|█▏        | 5/43 [00:03<00:24,  1.55it/s, dist=6.1063, loss=0.3571]"
     ]
    },
    {
     "name": "stdout",
     "output_type": "stream",
     "text": [
      "torch.Size([2282, 64, 41])\n",
      "Adjusted output shape: torch.Size([64, 2282, 41])\n"
     ]
    },
    {
     "name": "stderr",
     "output_type": "stream",
     "text": [
      "Val:  14%|█▍        | 6/43 [00:04<00:23,  1.59it/s, dist=6.1823, loss=0.3520]"
     ]
    },
    {
     "name": "stdout",
     "output_type": "stream",
     "text": [
      "torch.Size([2784, 64, 41])\n",
      "Adjusted output shape: torch.Size([64, 2784, 41])\n"
     ]
    },
    {
     "name": "stderr",
     "output_type": "stream",
     "text": [
      "Val:  16%|█▋        | 7/43 [00:04<00:22,  1.61it/s, dist=6.0201, loss=0.3511]"
     ]
    },
    {
     "name": "stdout",
     "output_type": "stream",
     "text": [
      "torch.Size([2052, 64, 41])\n",
      "Adjusted output shape: torch.Size([64, 2052, 41])\n"
     ]
    },
    {
     "name": "stderr",
     "output_type": "stream",
     "text": [
      "Val:  19%|█▊        | 8/43 [00:05<00:20,  1.74it/s, dist=5.7168, loss=0.3501]"
     ]
    },
    {
     "name": "stdout",
     "output_type": "stream",
     "text": [
      "torch.Size([3133, 64, 41])\n",
      "Adjusted output shape: torch.Size([64, 3133, 41])\n"
     ]
    },
    {
     "name": "stderr",
     "output_type": "stream",
     "text": [
      "Val:  21%|██        | 9/43 [00:05<00:21,  1.59it/s, dist=5.6458, loss=0.3410]"
     ]
    },
    {
     "name": "stdout",
     "output_type": "stream",
     "text": [
      "torch.Size([2277, 64, 41])\n",
      "Adjusted output shape: torch.Size([64, 2277, 41])\n"
     ]
    },
    {
     "name": "stderr",
     "output_type": "stream",
     "text": [
      "Val:  23%|██▎       | 10/43 [00:06<00:21,  1.55it/s, dist=5.7188, loss=0.3360]"
     ]
    },
    {
     "name": "stdout",
     "output_type": "stream",
     "text": [
      "torch.Size([1546, 64, 41])\n",
      "Adjusted output shape: torch.Size([64, 1546, 41])\n"
     ]
    },
    {
     "name": "stderr",
     "output_type": "stream",
     "text": [
      "Val:  26%|██▌       | 11/43 [00:07<00:18,  1.72it/s, dist=5.4645, loss=0.3230]"
     ]
    },
    {
     "name": "stdout",
     "output_type": "stream",
     "text": [
      "torch.Size([2264, 64, 41])\n",
      "Adjusted output shape: torch.Size([64, 2264, 41])\n"
     ]
    },
    {
     "name": "stderr",
     "output_type": "stream",
     "text": [
      "Val:  28%|██▊       | 12/43 [00:07<00:17,  1.74it/s, dist=5.5208, loss=0.3219]"
     ]
    },
    {
     "name": "stdout",
     "output_type": "stream",
     "text": [
      "torch.Size([1757, 64, 41])\n",
      "Adjusted output shape: torch.Size([64, 1757, 41])\n"
     ]
    },
    {
     "name": "stderr",
     "output_type": "stream",
     "text": [
      "Val:  30%|███       | 13/43 [00:08<00:16,  1.83it/s, dist=5.5108, loss=0.3179]"
     ]
    },
    {
     "name": "stdout",
     "output_type": "stream",
     "text": [
      "torch.Size([1641, 64, 41])\n",
      "Adjusted output shape: torch.Size([64, 1641, 41])\n"
     ]
    },
    {
     "name": "stderr",
     "output_type": "stream",
     "text": [
      "Val:  33%|███▎      | 14/43 [00:08<00:14,  1.97it/s, dist=5.2958, loss=0.3076]"
     ]
    },
    {
     "name": "stdout",
     "output_type": "stream",
     "text": [
      "torch.Size([2476, 64, 41])\n",
      "Adjusted output shape: torch.Size([64, 2476, 41])\n"
     ]
    },
    {
     "name": "stderr",
     "output_type": "stream",
     "text": [
      "Val:  35%|███▍      | 15/43 [00:09<00:14,  1.93it/s, dist=5.1708, loss=0.2992]"
     ]
    },
    {
     "name": "stdout",
     "output_type": "stream",
     "text": [
      "torch.Size([2465, 64, 41])\n",
      "Adjusted output shape: torch.Size([64, 2465, 41])\n"
     ]
    },
    {
     "name": "stderr",
     "output_type": "stream",
     "text": [
      "Val:  37%|███▋      | 16/43 [00:09<00:15,  1.78it/s, dist=5.2812, loss=0.3063]"
     ]
    },
    {
     "name": "stdout",
     "output_type": "stream",
     "text": [
      "torch.Size([3244, 64, 41])\n",
      "Adjusted output shape: torch.Size([64, 3244, 41])\n"
     ]
    },
    {
     "name": "stderr",
     "output_type": "stream",
     "text": [
      "Val:  40%|███▉      | 17/43 [00:10<00:17,  1.49it/s, dist=5.4099, loss=0.3050]"
     ]
    },
    {
     "name": "stdout",
     "output_type": "stream",
     "text": [
      "torch.Size([2853, 64, 41])\n",
      "Adjusted output shape: torch.Size([64, 2853, 41])\n"
     ]
    },
    {
     "name": "stderr",
     "output_type": "stream",
     "text": [
      "Val:  42%|████▏     | 18/43 [00:11<00:16,  1.52it/s, dist=5.3125, loss=0.3009]"
     ]
    },
    {
     "name": "stdout",
     "output_type": "stream",
     "text": [
      "torch.Size([2795, 64, 41])\n",
      "Adjusted output shape: torch.Size([64, 2795, 41])\n"
     ]
    },
    {
     "name": "stderr",
     "output_type": "stream",
     "text": [
      "Val:  44%|████▍     | 19/43 [00:11<00:15,  1.54it/s, dist=5.2771, loss=0.3034]"
     ]
    },
    {
     "name": "stdout",
     "output_type": "stream",
     "text": [
      "torch.Size([2027, 64, 41])\n",
      "Adjusted output shape: torch.Size([64, 2027, 41])\n"
     ]
    },
    {
     "name": "stderr",
     "output_type": "stream",
     "text": [
      "Val:  47%|████▋     | 20/43 [00:12<00:15,  1.53it/s, dist=5.2555, loss=0.2992]"
     ]
    },
    {
     "name": "stdout",
     "output_type": "stream",
     "text": [
      "torch.Size([2686, 64, 41])\n",
      "Adjusted output shape: torch.Size([64, 2686, 41])\n"
     ]
    },
    {
     "name": "stderr",
     "output_type": "stream",
     "text": [
      "Val:  49%|████▉     | 21/43 [00:13<00:14,  1.48it/s, dist=5.3385, loss=0.3018]"
     ]
    },
    {
     "name": "stdout",
     "output_type": "stream",
     "text": [
      "torch.Size([2068, 64, 41])\n",
      "Adjusted output shape: torch.Size([64, 2068, 41])\n"
     ]
    },
    {
     "name": "stderr",
     "output_type": "stream",
     "text": [
      "Val:  51%|█████     | 22/43 [00:13<00:13,  1.59it/s, dist=5.2464, loss=0.2988]"
     ]
    },
    {
     "name": "stdout",
     "output_type": "stream",
     "text": [
      "torch.Size([1543, 64, 41])\n",
      "Adjusted output shape: torch.Size([64, 1543, 41])\n"
     ]
    },
    {
     "name": "stderr",
     "output_type": "stream",
     "text": [
      "Val:  53%|█████▎    | 23/43 [00:14<00:11,  1.77it/s, dist=5.1990, loss=0.2988]"
     ]
    },
    {
     "name": "stdout",
     "output_type": "stream",
     "text": [
      "torch.Size([3260, 64, 41])\n",
      "Adjusted output shape: torch.Size([64, 3260, 41])\n"
     ]
    },
    {
     "name": "stderr",
     "output_type": "stream",
     "text": [
      "Val:  56%|█████▌    | 24/43 [00:15<00:12,  1.49it/s, dist=5.3750, loss=0.3001]"
     ]
    },
    {
     "name": "stdout",
     "output_type": "stream",
     "text": [
      "torch.Size([3210, 64, 41])\n",
      "Adjusted output shape: torch.Size([64, 3210, 41])\n"
     ]
    },
    {
     "name": "stderr",
     "output_type": "stream",
     "text": [
      "Val:  58%|█████▊    | 25/43 [00:15<00:12,  1.43it/s, dist=5.4275, loss=0.3015]"
     ]
    },
    {
     "name": "stdout",
     "output_type": "stream",
     "text": [
      "torch.Size([2084, 64, 41])\n",
      "Adjusted output shape: torch.Size([64, 2084, 41])\n"
     ]
    },
    {
     "name": "stderr",
     "output_type": "stream",
     "text": [
      "Val:  60%|██████    | 26/43 [00:16<00:11,  1.49it/s, dist=5.5529, loss=0.3034]"
     ]
    },
    {
     "name": "stdout",
     "output_type": "stream",
     "text": [
      "torch.Size([2158, 64, 41])\n",
      "Adjusted output shape: torch.Size([64, 2158, 41])\n"
     ]
    },
    {
     "name": "stderr",
     "output_type": "stream",
     "text": [
      "Val:  63%|██████▎   | 27/43 [00:16<00:09,  1.61it/s, dist=5.5353, loss=0.3054]"
     ]
    },
    {
     "name": "stdout",
     "output_type": "stream",
     "text": [
      "torch.Size([1591, 64, 41])\n",
      "Adjusted output shape: torch.Size([64, 1591, 41])\n"
     ]
    },
    {
     "name": "stderr",
     "output_type": "stream",
     "text": [
      "Val:  65%|██████▌   | 28/43 [00:17<00:08,  1.72it/s, dist=5.4721, loss=0.3052]"
     ]
    },
    {
     "name": "stdout",
     "output_type": "stream",
     "text": [
      "torch.Size([1783, 64, 41])\n",
      "Adjusted output shape: torch.Size([64, 1783, 41])\n"
     ]
    },
    {
     "name": "stderr",
     "output_type": "stream",
     "text": [
      "Val:  67%|██████▋   | 29/43 [00:17<00:07,  1.85it/s, dist=5.3836, loss=0.3024]"
     ]
    },
    {
     "name": "stdout",
     "output_type": "stream",
     "text": [
      "torch.Size([1776, 64, 41])\n",
      "Adjusted output shape: torch.Size([64, 1776, 41])\n"
     ]
    },
    {
     "name": "stderr",
     "output_type": "stream",
     "text": [
      "Val:  70%|██████▉   | 30/43 [00:18<00:06,  1.90it/s, dist=5.3844, loss=0.3037]"
     ]
    },
    {
     "name": "stdout",
     "output_type": "stream",
     "text": [
      "torch.Size([2078, 64, 41])\n",
      "Adjusted output shape: torch.Size([64, 2078, 41])\n"
     ]
    },
    {
     "name": "stderr",
     "output_type": "stream",
     "text": [
      "Val:  72%|███████▏  | 31/43 [00:18<00:06,  1.91it/s, dist=5.3180, loss=0.3031]"
     ]
    },
    {
     "name": "stdout",
     "output_type": "stream",
     "text": [
      "torch.Size([1443, 64, 41])\n",
      "Adjusted output shape: torch.Size([64, 1443, 41])\n"
     ]
    },
    {
     "name": "stderr",
     "output_type": "stream",
     "text": [
      "Val:  74%|███████▍  | 32/43 [00:19<00:05,  2.03it/s, dist=5.4121, loss=0.3115]"
     ]
    },
    {
     "name": "stdout",
     "output_type": "stream",
     "text": [
      "torch.Size([1906, 64, 41])\n",
      "Adjusted output shape: torch.Size([64, 1906, 41])\n"
     ]
    },
    {
     "name": "stderr",
     "output_type": "stream",
     "text": [
      "Val:  77%|███████▋  | 33/43 [00:19<00:05,  1.96it/s, dist=5.4375, loss=0.3152]"
     ]
    },
    {
     "name": "stdout",
     "output_type": "stream",
     "text": [
      "torch.Size([2189, 64, 41])\n",
      "Adjusted output shape: torch.Size([64, 2189, 41])\n"
     ]
    },
    {
     "name": "stderr",
     "output_type": "stream",
     "text": [
      "Val:  79%|███████▉  | 34/43 [00:20<00:04,  1.93it/s, dist=5.3727, loss=0.3121]"
     ]
    },
    {
     "name": "stdout",
     "output_type": "stream",
     "text": [
      "torch.Size([2095, 64, 41])\n",
      "Adjusted output shape: torch.Size([64, 2095, 41])\n"
     ]
    },
    {
     "name": "stderr",
     "output_type": "stream",
     "text": [
      "Val:  81%|████████▏ | 35/43 [00:21<00:04,  1.85it/s, dist=5.4045, loss=0.3124]"
     ]
    },
    {
     "name": "stdout",
     "output_type": "stream",
     "text": [
      "torch.Size([1511, 64, 41])\n",
      "Adjusted output shape: torch.Size([64, 1511, 41])\n"
     ]
    },
    {
     "name": "stderr",
     "output_type": "stream",
     "text": [
      "Val:  84%|████████▎ | 36/43 [00:21<00:03,  1.92it/s, dist=5.4457, loss=0.3165]"
     ]
    },
    {
     "name": "stdout",
     "output_type": "stream",
     "text": [
      "torch.Size([1813, 64, 41])\n",
      "Adjusted output shape: torch.Size([64, 1813, 41])\n"
     ]
    },
    {
     "name": "stderr",
     "output_type": "stream",
     "text": [
      "Val:  86%|████████▌ | 37/43 [00:21<00:03,  1.98it/s, dist=5.4856, loss=0.3210]"
     ]
    },
    {
     "name": "stdout",
     "output_type": "stream",
     "text": [
      "torch.Size([2890, 64, 41])\n",
      "Adjusted output shape: torch.Size([64, 2890, 41])\n"
     ]
    },
    {
     "name": "stderr",
     "output_type": "stream",
     "text": [
      "Val:  88%|████████▊ | 38/43 [00:22<00:02,  1.82it/s, dist=5.4544, loss=0.3204]"
     ]
    },
    {
     "name": "stdout",
     "output_type": "stream",
     "text": [
      "torch.Size([1518, 64, 41])\n",
      "Adjusted output shape: torch.Size([64, 1518, 41])\n"
     ]
    },
    {
     "name": "stderr",
     "output_type": "stream",
     "text": [
      "Val:  91%|█████████ | 39/43 [00:23<00:02,  1.93it/s, dist=5.4175, loss=0.3190]"
     ]
    },
    {
     "name": "stdout",
     "output_type": "stream",
     "text": [
      "torch.Size([1804, 64, 41])\n",
      "Adjusted output shape: torch.Size([64, 1804, 41])\n"
     ]
    },
    {
     "name": "stderr",
     "output_type": "stream",
     "text": [
      "Val:  93%|█████████▎| 40/43 [00:23<00:01,  1.98it/s, dist=5.3656, loss=0.3161]"
     ]
    },
    {
     "name": "stdout",
     "output_type": "stream",
     "text": [
      "torch.Size([1592, 64, 41])\n",
      "Adjusted output shape: torch.Size([64, 1592, 41])\n"
     ]
    },
    {
     "name": "stderr",
     "output_type": "stream",
     "text": [
      "Val:  95%|█████████▌| 41/43 [00:24<00:01,  1.99it/s, dist=5.3502, loss=0.3154]"
     ]
    },
    {
     "name": "stdout",
     "output_type": "stream",
     "text": [
      "torch.Size([2340, 64, 41])\n",
      "Adjusted output shape: torch.Size([64, 2340, 41])\n"
     ]
    },
    {
     "name": "stderr",
     "output_type": "stream",
     "text": [
      "Val: 100%|██████████| 43/43 [00:25<00:00,  1.87it/s, dist=5.4940, loss=0.3228]"
     ]
    },
    {
     "name": "stdout",
     "output_type": "stream",
     "text": [
      "torch.Size([3166, 15, 41])\n",
      "Adjusted output shape: torch.Size([15, 3166, 41])\n"
     ]
    },
    {
     "name": "stderr",
     "output_type": "stream",
     "text": [
      "                                                                              \r"
     ]
    },
    {
     "name": "stdout",
     "output_type": "stream",
     "text": [
      "\tTrain Loss 0.0942\t Learning Rate 0.0000078\n",
      "\tVal Dist 5.4940%\t Val Loss 0.3228\n",
      "Saved epoch model\n",
      "\n",
      "Epoch: 44/50\n"
     ]
    },
    {
     "name": "stderr",
     "output_type": "stream",
     "text": [
      "Val:   0%|          | 0/43 [00:00<?, ?it/s]                                       "
     ]
    },
    {
     "name": "stdout",
     "output_type": "stream",
     "text": [
      "torch.Size([2936, 64, 41])\n",
      "Adjusted output shape: torch.Size([64, 2936, 41])\n"
     ]
    },
    {
     "name": "stderr",
     "output_type": "stream",
     "text": [
      "Val:   2%|▏         | 1/43 [00:01<00:52,  1.24s/it, dist=7.7656, loss=0.5274]"
     ]
    },
    {
     "name": "stdout",
     "output_type": "stream",
     "text": [
      "torch.Size([1631, 64, 41])\n",
      "Adjusted output shape: torch.Size([64, 1631, 41])\n"
     ]
    },
    {
     "name": "stderr",
     "output_type": "stream",
     "text": [
      "Val:   5%|▍         | 2/43 [00:01<00:31,  1.28it/s, dist=6.1484, loss=0.4248]"
     ]
    },
    {
     "name": "stdout",
     "output_type": "stream",
     "text": [
      "torch.Size([1987, 64, 41])\n",
      "Adjusted output shape: torch.Size([64, 1987, 41])\n"
     ]
    },
    {
     "name": "stderr",
     "output_type": "stream",
     "text": [
      "Val:   7%|▋         | 3/43 [00:02<00:27,  1.47it/s, dist=6.0573, loss=0.3739]"
     ]
    },
    {
     "name": "stdout",
     "output_type": "stream",
     "text": [
      "torch.Size([2707, 64, 41])\n",
      "Adjusted output shape: torch.Size([64, 2707, 41])\n"
     ]
    },
    {
     "name": "stderr",
     "output_type": "stream",
     "text": [
      "Val:   9%|▉         | 4/43 [00:02<00:26,  1.49it/s, dist=6.2695, loss=0.3729]"
     ]
    },
    {
     "name": "stdout",
     "output_type": "stream",
     "text": [
      "torch.Size([2658, 64, 41])\n",
      "Adjusted output shape: torch.Size([64, 2658, 41])\n"
     ]
    },
    {
     "name": "stderr",
     "output_type": "stream",
     "text": [
      "Val:  12%|█▏        | 5/43 [00:03<00:25,  1.51it/s, dist=6.0969, loss=0.3532]"
     ]
    },
    {
     "name": "stdout",
     "output_type": "stream",
     "text": [
      "torch.Size([2282, 64, 41])\n",
      "Adjusted output shape: torch.Size([64, 2282, 41])\n"
     ]
    },
    {
     "name": "stderr",
     "output_type": "stream",
     "text": [
      "Val:  14%|█▍        | 6/43 [00:04<00:23,  1.58it/s, dist=6.1823, loss=0.3482]"
     ]
    },
    {
     "name": "stdout",
     "output_type": "stream",
     "text": [
      "torch.Size([2784, 64, 41])\n",
      "Adjusted output shape: torch.Size([64, 2784, 41])\n"
     ]
    },
    {
     "name": "stderr",
     "output_type": "stream",
     "text": [
      "Val:  16%|█▋        | 7/43 [00:04<00:22,  1.62it/s, dist=6.0335, loss=0.3479]"
     ]
    },
    {
     "name": "stdout",
     "output_type": "stream",
     "text": [
      "torch.Size([2052, 64, 41])\n",
      "Adjusted output shape: torch.Size([64, 2052, 41])\n"
     ]
    },
    {
     "name": "stderr",
     "output_type": "stream",
     "text": [
      "Val:  19%|█▊        | 8/43 [00:05<00:19,  1.78it/s, dist=5.7344, loss=0.3472]"
     ]
    },
    {
     "name": "stdout",
     "output_type": "stream",
     "text": [
      "torch.Size([3133, 64, 41])\n",
      "Adjusted output shape: torch.Size([64, 3133, 41])\n"
     ]
    },
    {
     "name": "stderr",
     "output_type": "stream",
     "text": [
      "Val:  21%|██        | 9/43 [00:05<00:21,  1.61it/s, dist=5.6667, loss=0.3378]"
     ]
    },
    {
     "name": "stdout",
     "output_type": "stream",
     "text": [
      "torch.Size([2277, 64, 41])\n",
      "Adjusted output shape: torch.Size([64, 2277, 41])\n"
     ]
    },
    {
     "name": "stderr",
     "output_type": "stream",
     "text": [
      "Val:  23%|██▎       | 10/43 [00:06<00:21,  1.56it/s, dist=5.7609, loss=0.3331]"
     ]
    },
    {
     "name": "stdout",
     "output_type": "stream",
     "text": [
      "torch.Size([1546, 64, 41])\n",
      "Adjusted output shape: torch.Size([64, 1546, 41])\n"
     ]
    },
    {
     "name": "stderr",
     "output_type": "stream",
     "text": [
      "Val:  26%|██▌       | 11/43 [00:07<00:18,  1.70it/s, dist=5.5142, loss=0.3203]"
     ]
    },
    {
     "name": "stdout",
     "output_type": "stream",
     "text": [
      "torch.Size([2264, 64, 41])\n",
      "Adjusted output shape: torch.Size([64, 2264, 41])\n"
     ]
    },
    {
     "name": "stderr",
     "output_type": "stream",
     "text": [
      "Val:  28%|██▊       | 12/43 [00:07<00:18,  1.70it/s, dist=5.5742, loss=0.3194]"
     ]
    },
    {
     "name": "stdout",
     "output_type": "stream",
     "text": [
      "torch.Size([1757, 64, 41])\n",
      "Adjusted output shape: torch.Size([64, 1757, 41])\n"
     ]
    },
    {
     "name": "stderr",
     "output_type": "stream",
     "text": [
      "Val:  30%|███       | 13/43 [00:08<00:17,  1.75it/s, dist=5.5649, loss=0.3156]"
     ]
    },
    {
     "name": "stdout",
     "output_type": "stream",
     "text": [
      "torch.Size([1641, 64, 41])\n",
      "Adjusted output shape: torch.Size([64, 1641, 41])\n"
     ]
    },
    {
     "name": "stderr",
     "output_type": "stream",
     "text": [
      "Val:  33%|███▎      | 14/43 [00:08<00:15,  1.87it/s, dist=5.3415, loss=0.3050]"
     ]
    },
    {
     "name": "stdout",
     "output_type": "stream",
     "text": [
      "torch.Size([2476, 64, 41])\n",
      "Adjusted output shape: torch.Size([64, 2476, 41])\n"
     ]
    },
    {
     "name": "stderr",
     "output_type": "stream",
     "text": [
      "Val:  35%|███▍      | 15/43 [00:09<00:15,  1.76it/s, dist=5.2135, loss=0.2966]"
     ]
    },
    {
     "name": "stdout",
     "output_type": "stream",
     "text": [
      "torch.Size([2465, 64, 41])\n",
      "Adjusted output shape: torch.Size([64, 2465, 41])\n"
     ]
    },
    {
     "name": "stderr",
     "output_type": "stream",
     "text": [
      "Val:  37%|███▋      | 16/43 [00:09<00:16,  1.66it/s, dist=5.3135, loss=0.3034]"
     ]
    },
    {
     "name": "stdout",
     "output_type": "stream",
     "text": [
      "torch.Size([3244, 64, 41])\n",
      "Adjusted output shape: torch.Size([64, 3244, 41])\n"
     ]
    },
    {
     "name": "stderr",
     "output_type": "stream",
     "text": [
      "Val:  40%|███▉      | 17/43 [00:10<00:18,  1.42it/s, dist=5.4292, loss=0.3022]"
     ]
    },
    {
     "name": "stdout",
     "output_type": "stream",
     "text": [
      "torch.Size([2853, 64, 41])\n",
      "Adjusted output shape: torch.Size([64, 2853, 41])\n"
     ]
    },
    {
     "name": "stderr",
     "output_type": "stream",
     "text": [
      "Val:  42%|████▏     | 18/43 [00:11<00:17,  1.44it/s, dist=5.3238, loss=0.2977]"
     ]
    },
    {
     "name": "stdout",
     "output_type": "stream",
     "text": [
      "torch.Size([2795, 64, 41])\n",
      "Adjusted output shape: torch.Size([64, 2795, 41])\n"
     ]
    },
    {
     "name": "stderr",
     "output_type": "stream",
     "text": [
      "Val:  44%|████▍     | 19/43 [00:12<00:16,  1.48it/s, dist=5.2895, loss=0.2999]"
     ]
    },
    {
     "name": "stdout",
     "output_type": "stream",
     "text": [
      "torch.Size([2027, 64, 41])\n",
      "Adjusted output shape: torch.Size([64, 2027, 41])\n"
     ]
    },
    {
     "name": "stderr",
     "output_type": "stream",
     "text": [
      "Val:  47%|████▋     | 20/43 [00:12<00:15,  1.49it/s, dist=5.2586, loss=0.2958]"
     ]
    },
    {
     "name": "stdout",
     "output_type": "stream",
     "text": [
      "torch.Size([2686, 64, 41])\n",
      "Adjusted output shape: torch.Size([64, 2686, 41])\n"
     ]
    },
    {
     "name": "stderr",
     "output_type": "stream",
     "text": [
      "Val:  49%|████▉     | 21/43 [00:13<00:15,  1.45it/s, dist=5.3490, loss=0.2983]"
     ]
    },
    {
     "name": "stdout",
     "output_type": "stream",
     "text": [
      "torch.Size([2068, 64, 41])\n",
      "Adjusted output shape: torch.Size([64, 2068, 41])\n"
     ]
    },
    {
     "name": "stderr",
     "output_type": "stream",
     "text": [
      "Val:  51%|█████     | 22/43 [00:14<00:13,  1.57it/s, dist=5.2550, loss=0.2953]"
     ]
    },
    {
     "name": "stdout",
     "output_type": "stream",
     "text": [
      "torch.Size([1543, 64, 41])\n",
      "Adjusted output shape: torch.Size([64, 1543, 41])\n"
     ]
    },
    {
     "name": "stderr",
     "output_type": "stream",
     "text": [
      "Val:  53%|█████▎    | 23/43 [00:14<00:11,  1.72it/s, dist=5.2106, loss=0.2952]"
     ]
    },
    {
     "name": "stdout",
     "output_type": "stream",
     "text": [
      "torch.Size([3260, 64, 41])\n",
      "Adjusted output shape: torch.Size([64, 3260, 41])\n"
     ]
    },
    {
     "name": "stderr",
     "output_type": "stream",
     "text": [
      "Val:  56%|█████▌    | 24/43 [00:15<00:13,  1.44it/s, dist=5.3861, loss=0.2964]"
     ]
    },
    {
     "name": "stdout",
     "output_type": "stream",
     "text": [
      "torch.Size([3210, 64, 41])\n",
      "Adjusted output shape: torch.Size([64, 3210, 41])\n"
     ]
    },
    {
     "name": "stderr",
     "output_type": "stream",
     "text": [
      "Val:  58%|█████▊    | 25/43 [00:16<00:12,  1.39it/s, dist=5.4350, loss=0.2979]"
     ]
    },
    {
     "name": "stdout",
     "output_type": "stream",
     "text": [
      "torch.Size([2084, 64, 41])\n",
      "Adjusted output shape: torch.Size([64, 2084, 41])\n"
     ]
    },
    {
     "name": "stderr",
     "output_type": "stream",
     "text": [
      "Val:  60%|██████    | 26/43 [00:16<00:11,  1.47it/s, dist=5.5535, loss=0.2996]"
     ]
    },
    {
     "name": "stdout",
     "output_type": "stream",
     "text": [
      "torch.Size([2158, 64, 41])\n",
      "Adjusted output shape: torch.Size([64, 2158, 41])\n"
     ]
    },
    {
     "name": "stderr",
     "output_type": "stream",
     "text": [
      "Val:  63%|██████▎   | 27/43 [00:17<00:10,  1.60it/s, dist=5.5307, loss=0.3016]"
     ]
    },
    {
     "name": "stdout",
     "output_type": "stream",
     "text": [
      "torch.Size([1591, 64, 41])\n",
      "Adjusted output shape: torch.Size([64, 1591, 41])\n"
     ]
    },
    {
     "name": "stderr",
     "output_type": "stream",
     "text": [
      "Val:  65%|██████▌   | 28/43 [00:17<00:08,  1.72it/s, dist=5.4688, loss=0.3014]"
     ]
    },
    {
     "name": "stdout",
     "output_type": "stream",
     "text": [
      "torch.Size([1783, 64, 41])\n",
      "Adjusted output shape: torch.Size([64, 1783, 41])\n"
     ]
    },
    {
     "name": "stderr",
     "output_type": "stream",
     "text": [
      "Val:  67%|██████▋   | 29/43 [00:18<00:07,  1.84it/s, dist=5.3825, loss=0.2987]"
     ]
    },
    {
     "name": "stdout",
     "output_type": "stream",
     "text": [
      "torch.Size([1776, 64, 41])\n",
      "Adjusted output shape: torch.Size([64, 1776, 41])\n"
     ]
    },
    {
     "name": "stderr",
     "output_type": "stream",
     "text": [
      "Val:  70%|██████▉   | 30/43 [00:18<00:06,  1.90it/s, dist=5.3844, loss=0.3002]"
     ]
    },
    {
     "name": "stdout",
     "output_type": "stream",
     "text": [
      "torch.Size([2078, 64, 41])\n",
      "Adjusted output shape: torch.Size([64, 2078, 41])\n"
     ]
    },
    {
     "name": "stderr",
     "output_type": "stream",
     "text": [
      "Val:  72%|███████▏  | 31/43 [00:19<00:06,  1.94it/s, dist=5.3175, loss=0.2995]"
     ]
    },
    {
     "name": "stdout",
     "output_type": "stream",
     "text": [
      "torch.Size([1443, 64, 41])\n",
      "Adjusted output shape: torch.Size([64, 1443, 41])\n"
     ]
    },
    {
     "name": "stderr",
     "output_type": "stream",
     "text": [
      "Val:  74%|███████▍  | 32/43 [00:19<00:05,  2.08it/s, dist=5.4136, loss=0.3079]"
     ]
    },
    {
     "name": "stdout",
     "output_type": "stream",
     "text": [
      "torch.Size([1906, 64, 41])\n",
      "Adjusted output shape: torch.Size([64, 1906, 41])\n"
     ]
    },
    {
     "name": "stderr",
     "output_type": "stream",
     "text": [
      "Val:  77%|███████▋  | 33/43 [00:20<00:05,  1.90it/s, dist=5.4347, loss=0.3116]"
     ]
    },
    {
     "name": "stdout",
     "output_type": "stream",
     "text": [
      "torch.Size([2189, 64, 41])\n",
      "Adjusted output shape: torch.Size([64, 2189, 41])\n"
     ]
    },
    {
     "name": "stderr",
     "output_type": "stream",
     "text": [
      "Val:  79%|███████▉  | 34/43 [00:20<00:04,  1.86it/s, dist=5.3690, loss=0.3087]"
     ]
    },
    {
     "name": "stdout",
     "output_type": "stream",
     "text": [
      "torch.Size([2095, 64, 41])\n",
      "Adjusted output shape: torch.Size([64, 2095, 41])\n"
     ]
    },
    {
     "name": "stderr",
     "output_type": "stream",
     "text": [
      "Val:  81%|████████▏ | 35/43 [00:21<00:04,  1.81it/s, dist=5.3973, loss=0.3089]"
     ]
    },
    {
     "name": "stdout",
     "output_type": "stream",
     "text": [
      "torch.Size([1511, 64, 41])\n",
      "Adjusted output shape: torch.Size([64, 1511, 41])\n"
     ]
    },
    {
     "name": "stderr",
     "output_type": "stream",
     "text": [
      "Val:  84%|████████▎ | 36/43 [00:21<00:03,  1.87it/s, dist=5.4401, loss=0.3132]"
     ]
    },
    {
     "name": "stdout",
     "output_type": "stream",
     "text": [
      "torch.Size([1813, 64, 41])\n",
      "Adjusted output shape: torch.Size([64, 1813, 41])\n"
     ]
    },
    {
     "name": "stderr",
     "output_type": "stream",
     "text": [
      "Val:  86%|████████▌ | 37/43 [00:22<00:03,  1.93it/s, dist=5.4810, loss=0.3177]"
     ]
    },
    {
     "name": "stdout",
     "output_type": "stream",
     "text": [
      "torch.Size([2890, 64, 41])\n",
      "Adjusted output shape: torch.Size([64, 2890, 41])\n"
     ]
    },
    {
     "name": "stderr",
     "output_type": "stream",
     "text": [
      "Val:  88%|████████▊ | 38/43 [00:23<00:02,  1.78it/s, dist=5.4490, loss=0.3170]"
     ]
    },
    {
     "name": "stdout",
     "output_type": "stream",
     "text": [
      "torch.Size([1518, 64, 41])\n",
      "Adjusted output shape: torch.Size([64, 1518, 41])\n"
     ]
    },
    {
     "name": "stderr",
     "output_type": "stream",
     "text": [
      "Val:  91%|█████████ | 39/43 [00:23<00:02,  1.90it/s, dist=5.4103, loss=0.3157]"
     ]
    },
    {
     "name": "stdout",
     "output_type": "stream",
     "text": [
      "torch.Size([1804, 64, 41])\n",
      "Adjusted output shape: torch.Size([64, 1804, 41])\n"
     ]
    },
    {
     "name": "stderr",
     "output_type": "stream",
     "text": [
      "Val:  93%|█████████▎| 40/43 [00:24<00:01,  1.89it/s, dist=5.3609, loss=0.3129]"
     ]
    },
    {
     "name": "stdout",
     "output_type": "stream",
     "text": [
      "torch.Size([1592, 64, 41])\n",
      "Adjusted output shape: torch.Size([64, 1592, 41])\n"
     ]
    },
    {
     "name": "stderr",
     "output_type": "stream",
     "text": [
      "Val:  95%|█████████▌| 41/43 [00:24<00:01,  1.96it/s, dist=5.3434, loss=0.3122]"
     ]
    },
    {
     "name": "stdout",
     "output_type": "stream",
     "text": [
      "torch.Size([2340, 64, 41])\n",
      "Adjusted output shape: torch.Size([64, 2340, 41])\n"
     ]
    },
    {
     "name": "stderr",
     "output_type": "stream",
     "text": [
      "Val: 100%|██████████| 43/43 [00:25<00:00,  1.90it/s, dist=5.4839, loss=0.3195]"
     ]
    },
    {
     "name": "stdout",
     "output_type": "stream",
     "text": [
      "torch.Size([3166, 15, 41])\n",
      "Adjusted output shape: torch.Size([15, 3166, 41])\n"
     ]
    },
    {
     "name": "stderr",
     "output_type": "stream",
     "text": [
      "                                                                              \r"
     ]
    },
    {
     "name": "stdout",
     "output_type": "stream",
     "text": [
      "\tTrain Loss 0.0885\t Learning Rate 0.0000078\n",
      "\tVal Dist 5.4839%\t Val Loss 0.3195\n",
      "Saved epoch model\n",
      "\n",
      "Epoch: 45/50\n"
     ]
    },
    {
     "name": "stderr",
     "output_type": "stream",
     "text": [
      "Val:   0%|          | 0/43 [00:00<?, ?it/s]                                       "
     ]
    },
    {
     "name": "stdout",
     "output_type": "stream",
     "text": [
      "torch.Size([2936, 64, 41])\n",
      "Adjusted output shape: torch.Size([64, 2936, 41])\n"
     ]
    },
    {
     "name": "stderr",
     "output_type": "stream",
     "text": [
      "Val:   2%|▏         | 1/43 [00:01<00:47,  1.13s/it, dist=7.8750, loss=0.5295]"
     ]
    },
    {
     "name": "stdout",
     "output_type": "stream",
     "text": [
      "torch.Size([1631, 64, 41])\n",
      "Adjusted output shape: torch.Size([64, 1631, 41])\n"
     ]
    },
    {
     "name": "stderr",
     "output_type": "stream",
     "text": [
      "Val:   5%|▍         | 2/43 [00:01<00:29,  1.37it/s, dist=6.2188, loss=0.4254]"
     ]
    },
    {
     "name": "stdout",
     "output_type": "stream",
     "text": [
      "torch.Size([1987, 64, 41])\n",
      "Adjusted output shape: torch.Size([64, 1987, 41])\n"
     ]
    },
    {
     "name": "stderr",
     "output_type": "stream",
     "text": [
      "Val:   7%|▋         | 3/43 [00:02<00:25,  1.56it/s, dist=6.1250, loss=0.3748]"
     ]
    },
    {
     "name": "stdout",
     "output_type": "stream",
     "text": [
      "torch.Size([2707, 64, 41])\n",
      "Adjusted output shape: torch.Size([64, 2707, 41])\n"
     ]
    },
    {
     "name": "stderr",
     "output_type": "stream",
     "text": [
      "Val:   9%|▉         | 4/43 [00:02<00:24,  1.57it/s, dist=6.3164, loss=0.3721]"
     ]
    },
    {
     "name": "stdout",
     "output_type": "stream",
     "text": [
      "torch.Size([2658, 64, 41])\n",
      "Adjusted output shape: torch.Size([64, 2658, 41])\n"
     ]
    },
    {
     "name": "stderr",
     "output_type": "stream",
     "text": [
      "Val:  12%|█▏        | 5/43 [00:03<00:24,  1.58it/s, dist=6.1500, loss=0.3527]"
     ]
    },
    {
     "name": "stdout",
     "output_type": "stream",
     "text": [
      "torch.Size([2282, 64, 41])\n",
      "Adjusted output shape: torch.Size([64, 2282, 41])\n"
     ]
    },
    {
     "name": "stderr",
     "output_type": "stream",
     "text": [
      "Val:  14%|█▍        | 6/43 [00:03<00:23,  1.60it/s, dist=6.2266, loss=0.3482]"
     ]
    },
    {
     "name": "stdout",
     "output_type": "stream",
     "text": [
      "torch.Size([2784, 64, 41])\n",
      "Adjusted output shape: torch.Size([64, 2784, 41])\n"
     ]
    },
    {
     "name": "stderr",
     "output_type": "stream",
     "text": [
      "Val:  16%|█▋        | 7/43 [00:04<00:22,  1.59it/s, dist=6.0737, loss=0.3486]"
     ]
    },
    {
     "name": "stdout",
     "output_type": "stream",
     "text": [
      "torch.Size([2052, 64, 41])\n",
      "Adjusted output shape: torch.Size([64, 2052, 41])\n"
     ]
    },
    {
     "name": "stderr",
     "output_type": "stream",
     "text": [
      "Val:  19%|█▊        | 8/43 [00:05<00:20,  1.73it/s, dist=5.7617, loss=0.3480]"
     ]
    },
    {
     "name": "stdout",
     "output_type": "stream",
     "text": [
      "torch.Size([3133, 64, 41])\n",
      "Adjusted output shape: torch.Size([64, 3133, 41])\n"
     ]
    },
    {
     "name": "stderr",
     "output_type": "stream",
     "text": [
      "Val:  21%|██        | 9/43 [00:05<00:21,  1.57it/s, dist=5.6736, loss=0.3380]"
     ]
    },
    {
     "name": "stdout",
     "output_type": "stream",
     "text": [
      "torch.Size([2277, 64, 41])\n",
      "Adjusted output shape: torch.Size([64, 2277, 41])\n"
     ]
    },
    {
     "name": "stderr",
     "output_type": "stream",
     "text": [
      "Val:  23%|██▎       | 10/43 [00:06<00:21,  1.55it/s, dist=5.7609, loss=0.3332]"
     ]
    },
    {
     "name": "stdout",
     "output_type": "stream",
     "text": [
      "torch.Size([1546, 64, 41])\n",
      "Adjusted output shape: torch.Size([64, 1546, 41])\n"
     ]
    },
    {
     "name": "stderr",
     "output_type": "stream",
     "text": [
      "Val:  26%|██▌       | 11/43 [00:06<00:18,  1.73it/s, dist=5.5057, loss=0.3201]"
     ]
    },
    {
     "name": "stdout",
     "output_type": "stream",
     "text": [
      "torch.Size([2264, 64, 41])\n",
      "Adjusted output shape: torch.Size([64, 2264, 41])\n"
     ]
    },
    {
     "name": "stderr",
     "output_type": "stream",
     "text": [
      "Val:  28%|██▊       | 12/43 [00:07<00:17,  1.73it/s, dist=5.5638, loss=0.3192]"
     ]
    },
    {
     "name": "stdout",
     "output_type": "stream",
     "text": [
      "torch.Size([1757, 64, 41])\n",
      "Adjusted output shape: torch.Size([64, 1757, 41])\n"
     ]
    },
    {
     "name": "stderr",
     "output_type": "stream",
     "text": [
      "Val:  33%|███▎      | 14/43 [00:08<00:14,  1.99it/s, dist=5.3259, loss=0.3048]"
     ]
    },
    {
     "name": "stdout",
     "output_type": "stream",
     "text": [
      "torch.Size([1641, 64, 41])\n",
      "Adjusted output shape: torch.Size([64, 1641, 41])\n",
      "torch.Size([2476, 64, 41])\n",
      "Adjusted output shape: torch.Size([64, 2476, 41])\n"
     ]
    },
    {
     "name": "stderr",
     "output_type": "stream",
     "text": [
      "Val:  35%|███▍      | 15/43 [00:08<00:14,  1.94it/s, dist=5.1906, loss=0.2964]"
     ]
    },
    {
     "name": "stdout",
     "output_type": "stream",
     "text": [
      "torch.Size([2465, 64, 41])\n",
      "Adjusted output shape: torch.Size([64, 2465, 41])\n"
     ]
    },
    {
     "name": "stderr",
     "output_type": "stream",
     "text": [
      "Val:  37%|███▋      | 16/43 [00:09<00:15,  1.77it/s, dist=5.2891, loss=0.3030]"
     ]
    },
    {
     "name": "stdout",
     "output_type": "stream",
     "text": [
      "torch.Size([3244, 64, 41])\n",
      "Adjusted output shape: torch.Size([64, 3244, 41])\n"
     ]
    },
    {
     "name": "stderr",
     "output_type": "stream",
     "text": [
      "Val:  40%|███▉      | 17/43 [00:10<00:17,  1.50it/s, dist=5.4145, loss=0.3017]"
     ]
    },
    {
     "name": "stdout",
     "output_type": "stream",
     "text": [
      "torch.Size([2853, 64, 41])\n",
      "Adjusted output shape: torch.Size([64, 2853, 41])\n"
     ]
    },
    {
     "name": "stderr",
     "output_type": "stream",
     "text": [
      "Val:  42%|████▏     | 18/43 [00:11<00:16,  1.50it/s, dist=5.3090, loss=0.2972]"
     ]
    },
    {
     "name": "stdout",
     "output_type": "stream",
     "text": [
      "torch.Size([2795, 64, 41])\n",
      "Adjusted output shape: torch.Size([64, 2795, 41])\n"
     ]
    },
    {
     "name": "stderr",
     "output_type": "stream",
     "text": [
      "Val:  44%|████▍     | 19/43 [00:11<00:15,  1.58it/s, dist=5.2681, loss=0.2994]"
     ]
    },
    {
     "name": "stdout",
     "output_type": "stream",
     "text": [
      "torch.Size([2027, 64, 41])\n",
      "Adjusted output shape: torch.Size([64, 2027, 41])\n"
     ]
    },
    {
     "name": "stderr",
     "output_type": "stream",
     "text": [
      "Val:  47%|████▋     | 20/43 [00:12<00:14,  1.58it/s, dist=5.2414, loss=0.2953]"
     ]
    },
    {
     "name": "stdout",
     "output_type": "stream",
     "text": [
      "torch.Size([2686, 64, 41])\n",
      "Adjusted output shape: torch.Size([64, 2686, 41])\n"
     ]
    },
    {
     "name": "stderr",
     "output_type": "stream",
     "text": [
      "Val:  49%|████▉     | 21/43 [00:13<00:14,  1.56it/s, dist=5.3274, loss=0.2979]"
     ]
    },
    {
     "name": "stdout",
     "output_type": "stream",
     "text": [
      "torch.Size([2068, 64, 41])\n",
      "Adjusted output shape: torch.Size([64, 2068, 41])\n"
     ]
    },
    {
     "name": "stderr",
     "output_type": "stream",
     "text": [
      "Val:  51%|█████     | 22/43 [00:13<00:12,  1.70it/s, dist=5.2315, loss=0.2947]"
     ]
    },
    {
     "name": "stdout",
     "output_type": "stream",
     "text": [
      "torch.Size([1543, 64, 41])\n",
      "Adjusted output shape: torch.Size([64, 1543, 41])\n"
     ]
    },
    {
     "name": "stderr",
     "output_type": "stream",
     "text": [
      "Val:  53%|█████▎    | 23/43 [00:13<00:10,  1.84it/s, dist=5.1923, loss=0.2945]"
     ]
    },
    {
     "name": "stdout",
     "output_type": "stream",
     "text": [
      "torch.Size([3260, 64, 41])\n",
      "Adjusted output shape: torch.Size([64, 3260, 41])\n"
     ]
    },
    {
     "name": "stderr",
     "output_type": "stream",
     "text": [
      "Val:  56%|█████▌    | 24/43 [00:14<00:11,  1.61it/s, dist=5.3704, loss=0.2958]"
     ]
    },
    {
     "name": "stdout",
     "output_type": "stream",
     "text": [
      "torch.Size([3210, 64, 41])\n",
      "Adjusted output shape: torch.Size([64, 3210, 41])\n"
     ]
    },
    {
     "name": "stderr",
     "output_type": "stream",
     "text": [
      "Val:  58%|█████▊    | 25/43 [00:15<00:11,  1.53it/s, dist=5.4125, loss=0.2972]"
     ]
    },
    {
     "name": "stdout",
     "output_type": "stream",
     "text": [
      "torch.Size([2084, 64, 41])\n",
      "Adjusted output shape: torch.Size([64, 2084, 41])\n"
     ]
    },
    {
     "name": "stderr",
     "output_type": "stream",
     "text": [
      "Val:  63%|██████▎   | 27/43 [00:16<00:09,  1.78it/s, dist=5.5150, loss=0.3009]"
     ]
    },
    {
     "name": "stdout",
     "output_type": "stream",
     "text": [
      "torch.Size([2158, 64, 41])\n",
      "Adjusted output shape: torch.Size([64, 2158, 41])\n",
      "torch.Size([1591, 64, 41])\n",
      "Adjusted output shape: torch.Size([64, 1591, 41])\n"
     ]
    },
    {
     "name": "stderr",
     "output_type": "stream",
     "text": [
      "Val:  65%|██████▌   | 28/43 [00:16<00:07,  1.93it/s, dist=5.4515, loss=0.3009]"
     ]
    },
    {
     "name": "stdout",
     "output_type": "stream",
     "text": [
      "torch.Size([1783, 64, 41])\n",
      "Adjusted output shape: torch.Size([64, 1783, 41])\n"
     ]
    },
    {
     "name": "stderr",
     "output_type": "stream",
     "text": [
      "Val:  67%|██████▋   | 29/43 [00:17<00:06,  2.07it/s, dist=5.3637, loss=0.2982]"
     ]
    },
    {
     "name": "stdout",
     "output_type": "stream",
     "text": [
      "torch.Size([1776, 64, 41])\n",
      "Adjusted output shape: torch.Size([64, 1776, 41])\n"
     ]
    },
    {
     "name": "stderr",
     "output_type": "stream",
     "text": [
      "Val:  70%|██████▉   | 30/43 [00:17<00:06,  2.12it/s, dist=5.3661, loss=0.2998]"
     ]
    },
    {
     "name": "stdout",
     "output_type": "stream",
     "text": [
      "torch.Size([2078, 64, 41])\n",
      "Adjusted output shape: torch.Size([64, 2078, 41])\n"
     ]
    },
    {
     "name": "stderr",
     "output_type": "stream",
     "text": [
      "Val:  74%|███████▍  | 32/43 [00:18<00:04,  2.25it/s, dist=5.3955, loss=0.3076]"
     ]
    },
    {
     "name": "stdout",
     "output_type": "stream",
     "text": [
      "torch.Size([1443, 64, 41])\n",
      "Adjusted output shape: torch.Size([64, 1443, 41])\n",
      "torch.Size([1906, 64, 41])\n",
      "Adjusted output shape: torch.Size([64, 1906, 41])\n"
     ]
    },
    {
     "name": "stderr",
     "output_type": "stream",
     "text": [
      "Val:  77%|███████▋  | 33/43 [00:19<00:04,  2.17it/s, dist=5.4228, loss=0.3114]"
     ]
    },
    {
     "name": "stdout",
     "output_type": "stream",
     "text": [
      "torch.Size([2189, 64, 41])\n",
      "Adjusted output shape: torch.Size([64, 2189, 41])\n"
     ]
    },
    {
     "name": "stderr",
     "output_type": "stream",
     "text": [
      "Val:  79%|███████▉  | 34/43 [00:19<00:04,  2.13it/s, dist=5.3552, loss=0.3084]"
     ]
    },
    {
     "name": "stdout",
     "output_type": "stream",
     "text": [
      "torch.Size([2095, 64, 41])\n",
      "Adjusted output shape: torch.Size([64, 2095, 41])\n"
     ]
    },
    {
     "name": "stderr",
     "output_type": "stream",
     "text": [
      "Val:  81%|████████▏ | 35/43 [00:20<00:03,  2.04it/s, dist=5.3848, loss=0.3085]"
     ]
    },
    {
     "name": "stdout",
     "output_type": "stream",
     "text": [
      "torch.Size([1511, 64, 41])\n",
      "Adjusted output shape: torch.Size([64, 1511, 41])\n"
     ]
    },
    {
     "name": "stderr",
     "output_type": "stream",
     "text": [
      "Val:  84%|████████▎ | 36/43 [00:20<00:03,  2.15it/s, dist=5.4266, loss=0.3129]"
     ]
    },
    {
     "name": "stdout",
     "output_type": "stream",
     "text": [
      "torch.Size([1813, 64, 41])\n",
      "Adjusted output shape: torch.Size([64, 1813, 41])\n"
     ]
    },
    {
     "name": "stderr",
     "output_type": "stream",
     "text": [
      "Val:  86%|████████▌ | 37/43 [00:20<00:02,  2.23it/s, dist=5.4679, loss=0.3174]"
     ]
    },
    {
     "name": "stdout",
     "output_type": "stream",
     "text": [
      "torch.Size([2890, 64, 41])\n",
      "Adjusted output shape: torch.Size([64, 2890, 41])\n"
     ]
    },
    {
     "name": "stderr",
     "output_type": "stream",
     "text": [
      "Val:  88%|████████▊ | 38/43 [00:21<00:02,  2.09it/s, dist=5.4371, loss=0.3167]"
     ]
    },
    {
     "name": "stdout",
     "output_type": "stream",
     "text": [
      "torch.Size([1518, 64, 41])\n",
      "Adjusted output shape: torch.Size([64, 1518, 41])\n"
     ]
    },
    {
     "name": "stderr",
     "output_type": "stream",
     "text": [
      "Val:  91%|█████████ | 39/43 [00:21<00:01,  2.15it/s, dist=5.3986, loss=0.3154]"
     ]
    },
    {
     "name": "stdout",
     "output_type": "stream",
     "text": [
      "torch.Size([1804, 64, 41])\n",
      "Adjusted output shape: torch.Size([64, 1804, 41])\n"
     ]
    },
    {
     "name": "stderr",
     "output_type": "stream",
     "text": [
      "Val:  93%|█████████▎| 40/43 [00:22<00:01,  2.18it/s, dist=5.3484, loss=0.3125]"
     ]
    },
    {
     "name": "stdout",
     "output_type": "stream",
     "text": [
      "torch.Size([1592, 64, 41])\n",
      "Adjusted output shape: torch.Size([64, 1592, 41])\n"
     ]
    },
    {
     "name": "stderr",
     "output_type": "stream",
     "text": [
      "Val:  95%|█████████▌| 41/43 [00:22<00:00,  2.15it/s, dist=5.3335, loss=0.3118]"
     ]
    },
    {
     "name": "stdout",
     "output_type": "stream",
     "text": [
      "torch.Size([2340, 64, 41])\n",
      "Adjusted output shape: torch.Size([64, 2340, 41])\n"
     ]
    },
    {
     "name": "stderr",
     "output_type": "stream",
     "text": [
      "Val: 100%|██████████| 43/43 [00:23<00:00,  2.14it/s, dist=5.4785, loss=0.3194]"
     ]
    },
    {
     "name": "stdout",
     "output_type": "stream",
     "text": [
      "torch.Size([3166, 15, 41])\n",
      "Adjusted output shape: torch.Size([15, 3166, 41])\n"
     ]
    },
    {
     "name": "stderr",
     "output_type": "stream",
     "text": [
      "                                                                              \r"
     ]
    },
    {
     "name": "stdout",
     "output_type": "stream",
     "text": [
      "\tTrain Loss 0.0845\t Learning Rate 0.0000039\n",
      "\tVal Dist 5.4785%\t Val Loss 0.3194\n",
      "Saved epoch model\n",
      "\n",
      "Epoch: 46/50\n"
     ]
    },
    {
     "name": "stderr",
     "output_type": "stream",
     "text": [
      "Val:   0%|          | 0/43 [00:00<?, ?it/s]                                       "
     ]
    },
    {
     "name": "stdout",
     "output_type": "stream",
     "text": [
      "torch.Size([2936, 64, 41])\n",
      "Adjusted output shape: torch.Size([64, 2936, 41])\n"
     ]
    },
    {
     "name": "stderr",
     "output_type": "stream",
     "text": [
      "Val:   2%|▏         | 1/43 [00:01<00:52,  1.24s/it, dist=7.7188, loss=0.5233]"
     ]
    },
    {
     "name": "stdout",
     "output_type": "stream",
     "text": [
      "torch.Size([1631, 64, 41])\n",
      "Adjusted output shape: torch.Size([64, 1631, 41])\n"
     ]
    },
    {
     "name": "stderr",
     "output_type": "stream",
     "text": [
      "Val:   5%|▍         | 2/43 [00:01<00:32,  1.26it/s, dist=6.1094, loss=0.4208]"
     ]
    },
    {
     "name": "stdout",
     "output_type": "stream",
     "text": [
      "torch.Size([1987, 64, 41])\n",
      "Adjusted output shape: torch.Size([64, 1987, 41])\n"
     ]
    },
    {
     "name": "stderr",
     "output_type": "stream",
     "text": [
      "Val:   7%|▋         | 3/43 [00:02<00:27,  1.43it/s, dist=6.0625, loss=0.3718]"
     ]
    },
    {
     "name": "stdout",
     "output_type": "stream",
     "text": [
      "torch.Size([2707, 64, 41])\n",
      "Adjusted output shape: torch.Size([64, 2707, 41])\n"
     ]
    },
    {
     "name": "stderr",
     "output_type": "stream",
     "text": [
      "Val:   9%|▉         | 4/43 [00:03<00:27,  1.41it/s, dist=6.2578, loss=0.3685]"
     ]
    },
    {
     "name": "stdout",
     "output_type": "stream",
     "text": [
      "torch.Size([2658, 64, 41])\n",
      "Adjusted output shape: torch.Size([64, 2658, 41])\n"
     ]
    },
    {
     "name": "stderr",
     "output_type": "stream",
     "text": [
      "Val:  12%|█▏        | 5/43 [00:03<00:27,  1.40it/s, dist=6.1031, loss=0.3501]"
     ]
    },
    {
     "name": "stdout",
     "output_type": "stream",
     "text": [
      "torch.Size([2282, 64, 41])\n",
      "Adjusted output shape: torch.Size([64, 2282, 41])\n"
     ]
    },
    {
     "name": "stderr",
     "output_type": "stream",
     "text": [
      "Val:  14%|█▍        | 6/43 [00:04<00:25,  1.45it/s, dist=6.1901, loss=0.3457]"
     ]
    },
    {
     "name": "stdout",
     "output_type": "stream",
     "text": [
      "torch.Size([2784, 64, 41])\n",
      "Adjusted output shape: torch.Size([64, 2784, 41])\n"
     ]
    },
    {
     "name": "stderr",
     "output_type": "stream",
     "text": [
      "Val:  16%|█▋        | 7/43 [00:05<00:25,  1.43it/s, dist=6.0469, loss=0.3472]"
     ]
    },
    {
     "name": "stdout",
     "output_type": "stream",
     "text": [
      "torch.Size([2052, 64, 41])\n",
      "Adjusted output shape: torch.Size([64, 2052, 41])\n"
     ]
    },
    {
     "name": "stderr",
     "output_type": "stream",
     "text": [
      "Val:  19%|█▊        | 8/43 [00:05<00:22,  1.53it/s, dist=5.7480, loss=0.3467]"
     ]
    },
    {
     "name": "stdout",
     "output_type": "stream",
     "text": [
      "torch.Size([3133, 64, 41])\n",
      "Adjusted output shape: torch.Size([64, 3133, 41])\n"
     ]
    },
    {
     "name": "stderr",
     "output_type": "stream",
     "text": [
      "Val:  21%|██        | 9/43 [00:06<00:23,  1.46it/s, dist=5.6649, loss=0.3368]"
     ]
    },
    {
     "name": "stdout",
     "output_type": "stream",
     "text": [
      "torch.Size([2277, 64, 41])\n",
      "Adjusted output shape: torch.Size([64, 2277, 41])\n"
     ]
    },
    {
     "name": "stderr",
     "output_type": "stream",
     "text": [
      "Val:  23%|██▎       | 10/43 [00:07<00:22,  1.45it/s, dist=5.7500, loss=0.3323]"
     ]
    },
    {
     "name": "stdout",
     "output_type": "stream",
     "text": [
      "torch.Size([1546, 64, 41])\n",
      "Adjusted output shape: torch.Size([64, 1546, 41])\n"
     ]
    },
    {
     "name": "stderr",
     "output_type": "stream",
     "text": [
      "Val:  26%|██▌       | 11/43 [00:07<00:19,  1.62it/s, dist=5.4972, loss=0.3193]"
     ]
    },
    {
     "name": "stdout",
     "output_type": "stream",
     "text": [
      "torch.Size([2264, 64, 41])\n",
      "Adjusted output shape: torch.Size([64, 2264, 41])\n"
     ]
    },
    {
     "name": "stderr",
     "output_type": "stream",
     "text": [
      "Val:  28%|██▊       | 12/43 [00:08<00:19,  1.61it/s, dist=5.5495, loss=0.3185]"
     ]
    },
    {
     "name": "stdout",
     "output_type": "stream",
     "text": [
      "torch.Size([1757, 64, 41])\n",
      "Adjusted output shape: torch.Size([64, 1757, 41])\n"
     ]
    },
    {
     "name": "stderr",
     "output_type": "stream",
     "text": [
      "Val:  30%|███       | 13/43 [00:08<00:17,  1.70it/s, dist=5.5349, loss=0.3147]"
     ]
    },
    {
     "name": "stdout",
     "output_type": "stream",
     "text": [
      "torch.Size([1641, 64, 41])\n",
      "Adjusted output shape: torch.Size([64, 1641, 41])\n"
     ]
    },
    {
     "name": "stderr",
     "output_type": "stream",
     "text": [
      "Val:  33%|███▎      | 14/43 [00:09<00:15,  1.85it/s, dist=5.3147, loss=0.3041]"
     ]
    },
    {
     "name": "stdout",
     "output_type": "stream",
     "text": [
      "torch.Size([2476, 64, 41])\n",
      "Adjusted output shape: torch.Size([64, 2476, 41])\n"
     ]
    },
    {
     "name": "stderr",
     "output_type": "stream",
     "text": [
      "Val:  35%|███▍      | 15/43 [00:09<00:15,  1.83it/s, dist=5.1781, loss=0.2955]"
     ]
    },
    {
     "name": "stdout",
     "output_type": "stream",
     "text": [
      "torch.Size([2465, 64, 41])\n",
      "Adjusted output shape: torch.Size([64, 2465, 41])\n"
     ]
    },
    {
     "name": "stderr",
     "output_type": "stream",
     "text": [
      "Val:  37%|███▋      | 16/43 [00:10<00:15,  1.70it/s, dist=5.2695, loss=0.3022]"
     ]
    },
    {
     "name": "stdout",
     "output_type": "stream",
     "text": [
      "torch.Size([3244, 64, 41])\n",
      "Adjusted output shape: torch.Size([64, 3244, 41])\n"
     ]
    },
    {
     "name": "stderr",
     "output_type": "stream",
     "text": [
      "Val:  40%|███▉      | 17/43 [00:11<00:17,  1.45it/s, dist=5.3888, loss=0.3008]"
     ]
    },
    {
     "name": "stdout",
     "output_type": "stream",
     "text": [
      "torch.Size([2853, 64, 41])\n",
      "Adjusted output shape: torch.Size([64, 2853, 41])\n"
     ]
    },
    {
     "name": "stderr",
     "output_type": "stream",
     "text": [
      "Val:  42%|████▏     | 18/43 [00:12<00:17,  1.45it/s, dist=5.2882, loss=0.2963]"
     ]
    },
    {
     "name": "stdout",
     "output_type": "stream",
     "text": [
      "torch.Size([2795, 64, 41])\n",
      "Adjusted output shape: torch.Size([64, 2795, 41])\n"
     ]
    },
    {
     "name": "stderr",
     "output_type": "stream",
     "text": [
      "Val:  44%|████▍     | 19/43 [00:12<00:16,  1.45it/s, dist=5.2525, loss=0.2983]"
     ]
    },
    {
     "name": "stdout",
     "output_type": "stream",
     "text": [
      "torch.Size([2027, 64, 41])\n",
      "Adjusted output shape: torch.Size([64, 2027, 41])\n"
     ]
    },
    {
     "name": "stderr",
     "output_type": "stream",
     "text": [
      "Val:  47%|████▋     | 20/43 [00:13<00:15,  1.47it/s, dist=5.2289, loss=0.2943]"
     ]
    },
    {
     "name": "stdout",
     "output_type": "stream",
     "text": [
      "torch.Size([2686, 64, 41])\n",
      "Adjusted output shape: torch.Size([64, 2686, 41])\n"
     ]
    },
    {
     "name": "stderr",
     "output_type": "stream",
     "text": [
      "Val:  49%|████▉     | 21/43 [00:14<00:15,  1.42it/s, dist=5.3132, loss=0.2967]"
     ]
    },
    {
     "name": "stdout",
     "output_type": "stream",
     "text": [
      "torch.Size([2068, 64, 41])\n",
      "Adjusted output shape: torch.Size([64, 2068, 41])\n"
     ]
    },
    {
     "name": "stderr",
     "output_type": "stream",
     "text": [
      "Val:  51%|█████     | 22/43 [00:14<00:13,  1.54it/s, dist=5.2202, loss=0.2935]"
     ]
    },
    {
     "name": "stdout",
     "output_type": "stream",
     "text": [
      "torch.Size([1543, 64, 41])\n",
      "Adjusted output shape: torch.Size([64, 1543, 41])\n"
     ]
    },
    {
     "name": "stderr",
     "output_type": "stream",
     "text": [
      "Val:  53%|█████▎    | 23/43 [00:15<00:12,  1.64it/s, dist=5.1773, loss=0.2934]"
     ]
    },
    {
     "name": "stdout",
     "output_type": "stream",
     "text": [
      "torch.Size([3260, 64, 41])\n",
      "Adjusted output shape: torch.Size([64, 3260, 41])\n"
     ]
    },
    {
     "name": "stderr",
     "output_type": "stream",
     "text": [
      "Val:  56%|█████▌    | 24/43 [00:16<00:14,  1.35it/s, dist=5.3587, loss=0.2948]"
     ]
    },
    {
     "name": "stdout",
     "output_type": "stream",
     "text": [
      "torch.Size([3210, 64, 41])\n",
      "Adjusted output shape: torch.Size([64, 3210, 41])\n"
     ]
    },
    {
     "name": "stderr",
     "output_type": "stream",
     "text": [
      "Val:  58%|█████▊    | 25/43 [00:16<00:13,  1.34it/s, dist=5.4025, loss=0.2962]"
     ]
    },
    {
     "name": "stdout",
     "output_type": "stream",
     "text": [
      "torch.Size([2084, 64, 41])\n",
      "Adjusted output shape: torch.Size([64, 2084, 41])\n"
     ]
    },
    {
     "name": "stderr",
     "output_type": "stream",
     "text": [
      "Val:  60%|██████    | 26/43 [00:17<00:12,  1.40it/s, dist=5.5282, loss=0.2980]"
     ]
    },
    {
     "name": "stdout",
     "output_type": "stream",
     "text": [
      "torch.Size([2158, 64, 41])\n",
      "Adjusted output shape: torch.Size([64, 2158, 41])\n"
     ]
    },
    {
     "name": "stderr",
     "output_type": "stream",
     "text": [
      "Val:  63%|██████▎   | 27/43 [00:18<00:10,  1.52it/s, dist=5.5110, loss=0.2999]"
     ]
    },
    {
     "name": "stdout",
     "output_type": "stream",
     "text": [
      "torch.Size([1591, 64, 41])\n",
      "Adjusted output shape: torch.Size([64, 1591, 41])\n"
     ]
    },
    {
     "name": "stderr",
     "output_type": "stream",
     "text": [
      "Val:  65%|██████▌   | 28/43 [00:18<00:09,  1.64it/s, dist=5.4526, loss=0.2998]"
     ]
    },
    {
     "name": "stdout",
     "output_type": "stream",
     "text": [
      "torch.Size([1783, 64, 41])\n",
      "Adjusted output shape: torch.Size([64, 1783, 41])\n"
     ]
    },
    {
     "name": "stderr",
     "output_type": "stream",
     "text": [
      "Val:  67%|██████▋   | 29/43 [00:19<00:08,  1.74it/s, dist=5.3669, loss=0.2971]"
     ]
    },
    {
     "name": "stdout",
     "output_type": "stream",
     "text": [
      "torch.Size([1776, 64, 41])\n",
      "Adjusted output shape: torch.Size([64, 1776, 41])\n"
     ]
    },
    {
     "name": "stderr",
     "output_type": "stream",
     "text": [
      "Val:  70%|██████▉   | 30/43 [00:19<00:07,  1.79it/s, dist=5.3672, loss=0.2987]"
     ]
    },
    {
     "name": "stdout",
     "output_type": "stream",
     "text": [
      "torch.Size([2078, 64, 41])\n",
      "Adjusted output shape: torch.Size([64, 2078, 41])\n"
     ]
    },
    {
     "name": "stderr",
     "output_type": "stream",
     "text": [
      "Val:  72%|███████▏  | 31/43 [00:20<00:06,  1.77it/s, dist=5.2994, loss=0.2980]"
     ]
    },
    {
     "name": "stdout",
     "output_type": "stream",
     "text": [
      "torch.Size([1443, 64, 41])\n",
      "Adjusted output shape: torch.Size([64, 1443, 41])\n"
     ]
    },
    {
     "name": "stderr",
     "output_type": "stream",
     "text": [
      "Val:  74%|███████▍  | 32/43 [00:20<00:05,  1.93it/s, dist=5.3916, loss=0.3063]"
     ]
    },
    {
     "name": "stdout",
     "output_type": "stream",
     "text": [
      "torch.Size([1906, 64, 41])\n",
      "Adjusted output shape: torch.Size([64, 1906, 41])\n"
     ]
    },
    {
     "name": "stderr",
     "output_type": "stream",
     "text": [
      "Val:  77%|███████▋  | 33/43 [00:21<00:05,  1.85it/s, dist=5.4138, loss=0.3100]"
     ]
    },
    {
     "name": "stdout",
     "output_type": "stream",
     "text": [
      "torch.Size([2189, 64, 41])\n",
      "Adjusted output shape: torch.Size([64, 2189, 41])\n"
     ]
    },
    {
     "name": "stderr",
     "output_type": "stream",
     "text": [
      "Val:  79%|███████▉  | 34/43 [00:21<00:04,  1.85it/s, dist=5.3493, loss=0.3071]"
     ]
    },
    {
     "name": "stdout",
     "output_type": "stream",
     "text": [
      "torch.Size([2095, 64, 41])\n",
      "Adjusted output shape: torch.Size([64, 2095, 41])\n"
     ]
    },
    {
     "name": "stderr",
     "output_type": "stream",
     "text": [
      "Val:  81%|████████▏ | 35/43 [00:22<00:04,  1.83it/s, dist=5.3781, loss=0.3073]"
     ]
    },
    {
     "name": "stdout",
     "output_type": "stream",
     "text": [
      "torch.Size([1511, 64, 41])\n",
      "Adjusted output shape: torch.Size([64, 1511, 41])\n"
     ]
    },
    {
     "name": "stderr",
     "output_type": "stream",
     "text": [
      "Val:  84%|████████▎ | 36/43 [00:22<00:03,  1.90it/s, dist=5.4184, loss=0.3116]"
     ]
    },
    {
     "name": "stdout",
     "output_type": "stream",
     "text": [
      "torch.Size([1813, 64, 41])\n",
      "Adjusted output shape: torch.Size([64, 1813, 41])\n"
     ]
    },
    {
     "name": "stderr",
     "output_type": "stream",
     "text": [
      "Val:  86%|████████▌ | 37/43 [00:23<00:03,  1.95it/s, dist=5.4633, loss=0.3161]"
     ]
    },
    {
     "name": "stdout",
     "output_type": "stream",
     "text": [
      "torch.Size([2890, 64, 41])\n",
      "Adjusted output shape: torch.Size([64, 2890, 41])\n"
     ]
    },
    {
     "name": "stderr",
     "output_type": "stream",
     "text": [
      "Val:  88%|████████▊ | 38/43 [00:23<00:02,  1.80it/s, dist=5.4313, loss=0.3154]"
     ]
    },
    {
     "name": "stdout",
     "output_type": "stream",
     "text": [
      "torch.Size([1518, 64, 41])\n",
      "Adjusted output shape: torch.Size([64, 1518, 41])\n"
     ]
    },
    {
     "name": "stderr",
     "output_type": "stream",
     "text": [
      "Val:  91%|█████████ | 39/43 [00:24<00:02,  1.88it/s, dist=5.3926, loss=0.3141]"
     ]
    },
    {
     "name": "stdout",
     "output_type": "stream",
     "text": [
      "torch.Size([1804, 64, 41])\n",
      "Adjusted output shape: torch.Size([64, 1804, 41])\n"
     ]
    },
    {
     "name": "stderr",
     "output_type": "stream",
     "text": [
      "Val:  93%|█████████▎| 40/43 [00:24<00:01,  1.89it/s, dist=5.3418, loss=0.3113]"
     ]
    },
    {
     "name": "stdout",
     "output_type": "stream",
     "text": [
      "torch.Size([1592, 64, 41])\n",
      "Adjusted output shape: torch.Size([64, 1592, 41])\n"
     ]
    },
    {
     "name": "stderr",
     "output_type": "stream",
     "text": [
      "Val:  95%|█████████▌| 41/43 [00:25<00:01,  1.91it/s, dist=5.3258, loss=0.3106]"
     ]
    },
    {
     "name": "stdout",
     "output_type": "stream",
     "text": [
      "torch.Size([2340, 64, 41])\n",
      "Adjusted output shape: torch.Size([64, 2340, 41])\n"
     ]
    },
    {
     "name": "stderr",
     "output_type": "stream",
     "text": [
      "Val: 100%|██████████| 43/43 [00:26<00:00,  1.88it/s, dist=5.4655, loss=0.3179]"
     ]
    },
    {
     "name": "stdout",
     "output_type": "stream",
     "text": [
      "torch.Size([3166, 15, 41])\n",
      "Adjusted output shape: torch.Size([15, 3166, 41])\n"
     ]
    },
    {
     "name": "stderr",
     "output_type": "stream",
     "text": [
      "                                                                              \r"
     ]
    },
    {
     "name": "stdout",
     "output_type": "stream",
     "text": [
      "\tTrain Loss 0.0899\t Learning Rate 0.0000039\n",
      "\tVal Dist 5.4655%\t Val Loss 0.3179\n",
      "Saved epoch model\n",
      "Saved best model\n",
      "\n",
      "Epoch: 47/50\n"
     ]
    },
    {
     "name": "stderr",
     "output_type": "stream",
     "text": [
      "Val:   0%|          | 0/43 [00:00<?, ?it/s]                                       "
     ]
    },
    {
     "name": "stdout",
     "output_type": "stream",
     "text": [
      "torch.Size([2936, 64, 41])\n",
      "Adjusted output shape: torch.Size([64, 2936, 41])\n"
     ]
    },
    {
     "name": "stderr",
     "output_type": "stream",
     "text": [
      "Val:   2%|▏         | 1/43 [00:01<00:51,  1.22s/it, dist=7.7656, loss=0.5328]"
     ]
    },
    {
     "name": "stdout",
     "output_type": "stream",
     "text": [
      "torch.Size([1631, 64, 41])\n",
      "Adjusted output shape: torch.Size([64, 1631, 41])\n"
     ]
    },
    {
     "name": "stderr",
     "output_type": "stream",
     "text": [
      "Val:   5%|▍         | 2/43 [00:01<00:32,  1.27it/s, dist=6.1719, loss=0.4292]"
     ]
    },
    {
     "name": "stdout",
     "output_type": "stream",
     "text": [
      "torch.Size([1987, 64, 41])\n",
      "Adjusted output shape: torch.Size([64, 1987, 41])\n"
     ]
    },
    {
     "name": "stderr",
     "output_type": "stream",
     "text": [
      "Val:   7%|▋         | 3/43 [00:02<00:28,  1.42it/s, dist=6.0729, loss=0.3774]"
     ]
    },
    {
     "name": "stdout",
     "output_type": "stream",
     "text": [
      "torch.Size([2707, 64, 41])\n",
      "Adjusted output shape: torch.Size([64, 2707, 41])\n"
     ]
    },
    {
     "name": "stderr",
     "output_type": "stream",
     "text": [
      "Val:   9%|▉         | 4/43 [00:02<00:27,  1.43it/s, dist=6.2930, loss=0.3759]"
     ]
    },
    {
     "name": "stdout",
     "output_type": "stream",
     "text": [
      "torch.Size([2658, 64, 41])\n",
      "Adjusted output shape: torch.Size([64, 2658, 41])\n"
     ]
    },
    {
     "name": "stderr",
     "output_type": "stream",
     "text": [
      "Val:  12%|█▏        | 5/43 [00:03<00:26,  1.46it/s, dist=6.1250, loss=0.3554]"
     ]
    },
    {
     "name": "stdout",
     "output_type": "stream",
     "text": [
      "torch.Size([2282, 64, 41])\n",
      "Adjusted output shape: torch.Size([64, 2282, 41])\n"
     ]
    },
    {
     "name": "stderr",
     "output_type": "stream",
     "text": [
      "Val:  14%|█▍        | 6/43 [00:04<00:24,  1.50it/s, dist=6.2083, loss=0.3505]"
     ]
    },
    {
     "name": "stdout",
     "output_type": "stream",
     "text": [
      "torch.Size([2784, 64, 41])\n",
      "Adjusted output shape: torch.Size([64, 2784, 41])\n"
     ]
    },
    {
     "name": "stderr",
     "output_type": "stream",
     "text": [
      "Val:  16%|█▋        | 7/43 [00:04<00:24,  1.50it/s, dist=6.0446, loss=0.3502]"
     ]
    },
    {
     "name": "stdout",
     "output_type": "stream",
     "text": [
      "torch.Size([2052, 64, 41])\n",
      "Adjusted output shape: torch.Size([64, 2052, 41])\n"
     ]
    },
    {
     "name": "stderr",
     "output_type": "stream",
     "text": [
      "Val:  19%|█▊        | 8/43 [00:05<00:21,  1.61it/s, dist=5.7402, loss=0.3498]"
     ]
    },
    {
     "name": "stdout",
     "output_type": "stream",
     "text": [
      "torch.Size([3133, 64, 41])\n",
      "Adjusted output shape: torch.Size([64, 3133, 41])\n"
     ]
    },
    {
     "name": "stderr",
     "output_type": "stream",
     "text": [
      "Val:  21%|██        | 9/43 [00:06<00:22,  1.49it/s, dist=5.6615, loss=0.3401]"
     ]
    },
    {
     "name": "stdout",
     "output_type": "stream",
     "text": [
      "torch.Size([2277, 64, 41])\n",
      "Adjusted output shape: torch.Size([64, 2277, 41])\n"
     ]
    },
    {
     "name": "stderr",
     "output_type": "stream",
     "text": [
      "Val:  23%|██▎       | 10/43 [00:06<00:22,  1.49it/s, dist=5.7453, loss=0.3352]"
     ]
    },
    {
     "name": "stdout",
     "output_type": "stream",
     "text": [
      "torch.Size([1546, 64, 41])\n",
      "Adjusted output shape: torch.Size([64, 1546, 41])\n"
     ]
    },
    {
     "name": "stderr",
     "output_type": "stream",
     "text": [
      "Val:  26%|██▌       | 11/43 [00:07<00:19,  1.66it/s, dist=5.4858, loss=0.3221]"
     ]
    },
    {
     "name": "stdout",
     "output_type": "stream",
     "text": [
      "torch.Size([2264, 64, 41])\n",
      "Adjusted output shape: torch.Size([64, 2264, 41])\n"
     ]
    },
    {
     "name": "stderr",
     "output_type": "stream",
     "text": [
      "Val:  28%|██▊       | 12/43 [00:07<00:18,  1.67it/s, dist=5.5391, loss=0.3211]"
     ]
    },
    {
     "name": "stdout",
     "output_type": "stream",
     "text": [
      "torch.Size([1757, 64, 41])\n",
      "Adjusted output shape: torch.Size([64, 1757, 41])\n"
     ]
    },
    {
     "name": "stderr",
     "output_type": "stream",
     "text": [
      "Val:  30%|███       | 13/43 [00:08<00:17,  1.73it/s, dist=5.5180, loss=0.3169]"
     ]
    },
    {
     "name": "stdout",
     "output_type": "stream",
     "text": [
      "torch.Size([1641, 64, 41])\n",
      "Adjusted output shape: torch.Size([64, 1641, 41])\n"
     ]
    },
    {
     "name": "stderr",
     "output_type": "stream",
     "text": [
      "Val:  33%|███▎      | 14/43 [00:08<00:15,  1.86it/s, dist=5.2991, loss=0.3063]"
     ]
    },
    {
     "name": "stdout",
     "output_type": "stream",
     "text": [
      "torch.Size([2476, 64, 41])\n",
      "Adjusted output shape: torch.Size([64, 2476, 41])\n"
     ]
    },
    {
     "name": "stderr",
     "output_type": "stream",
     "text": [
      "Val:  35%|███▍      | 15/43 [00:09<00:15,  1.80it/s, dist=5.1719, loss=0.2981]"
     ]
    },
    {
     "name": "stdout",
     "output_type": "stream",
     "text": [
      "torch.Size([2465, 64, 41])\n",
      "Adjusted output shape: torch.Size([64, 2465, 41])\n"
     ]
    },
    {
     "name": "stderr",
     "output_type": "stream",
     "text": [
      "Val:  37%|███▋      | 16/43 [00:10<00:15,  1.71it/s, dist=5.2754, loss=0.3049]"
     ]
    },
    {
     "name": "stdout",
     "output_type": "stream",
     "text": [
      "torch.Size([3244, 64, 41])\n",
      "Adjusted output shape: torch.Size([64, 3244, 41])\n"
     ]
    },
    {
     "name": "stderr",
     "output_type": "stream",
     "text": [
      "Val:  40%|███▉      | 17/43 [00:11<00:18,  1.44it/s, dist=5.3980, loss=0.3035]"
     ]
    },
    {
     "name": "stdout",
     "output_type": "stream",
     "text": [
      "torch.Size([2853, 64, 41])\n",
      "Adjusted output shape: torch.Size([64, 2853, 41])\n"
     ]
    },
    {
     "name": "stderr",
     "output_type": "stream",
     "text": [
      "Val:  42%|████▏     | 18/43 [00:11<00:17,  1.41it/s, dist=5.2934, loss=0.2990]"
     ]
    },
    {
     "name": "stdout",
     "output_type": "stream",
     "text": [
      "torch.Size([2795, 64, 41])\n",
      "Adjusted output shape: torch.Size([64, 2795, 41])\n"
     ]
    },
    {
     "name": "stderr",
     "output_type": "stream",
     "text": [
      "Val:  44%|████▍     | 19/43 [00:12<00:16,  1.45it/s, dist=5.2590, loss=0.3013]"
     ]
    },
    {
     "name": "stdout",
     "output_type": "stream",
     "text": [
      "torch.Size([2027, 64, 41])\n",
      "Adjusted output shape: torch.Size([64, 2027, 41])\n"
     ]
    },
    {
     "name": "stderr",
     "output_type": "stream",
     "text": [
      "Val:  47%|████▋     | 20/43 [00:13<00:15,  1.46it/s, dist=5.2359, loss=0.2973]"
     ]
    },
    {
     "name": "stdout",
     "output_type": "stream",
     "text": [
      "torch.Size([2686, 64, 41])\n",
      "Adjusted output shape: torch.Size([64, 2686, 41])\n"
     ]
    },
    {
     "name": "stderr",
     "output_type": "stream",
     "text": [
      "Val:  49%|████▉     | 21/43 [00:13<00:15,  1.41it/s, dist=5.3222, loss=0.2998]"
     ]
    },
    {
     "name": "stdout",
     "output_type": "stream",
     "text": [
      "torch.Size([2068, 64, 41])\n",
      "Adjusted output shape: torch.Size([64, 2068, 41])\n"
     ]
    },
    {
     "name": "stderr",
     "output_type": "stream",
     "text": [
      "Val:  51%|█████     | 22/43 [00:14<00:13,  1.54it/s, dist=5.2287, loss=0.2967]"
     ]
    },
    {
     "name": "stdout",
     "output_type": "stream",
     "text": [
      "torch.Size([1543, 64, 41])\n",
      "Adjusted output shape: torch.Size([64, 1543, 41])\n"
     ]
    },
    {
     "name": "stderr",
     "output_type": "stream",
     "text": [
      "Val:  53%|█████▎    | 23/43 [00:14<00:11,  1.72it/s, dist=5.1916, loss=0.2966]"
     ]
    },
    {
     "name": "stdout",
     "output_type": "stream",
     "text": [
      "torch.Size([3260, 64, 41])\n",
      "Adjusted output shape: torch.Size([64, 3260, 41])\n"
     ]
    },
    {
     "name": "stderr",
     "output_type": "stream",
     "text": [
      "Val:  56%|█████▌    | 24/43 [00:15<00:13,  1.40it/s, dist=5.3698, loss=0.2977]"
     ]
    },
    {
     "name": "stdout",
     "output_type": "stream",
     "text": [
      "torch.Size([3210, 64, 41])\n",
      "Adjusted output shape: torch.Size([64, 3210, 41])\n"
     ]
    },
    {
     "name": "stderr",
     "output_type": "stream",
     "text": [
      "Val:  58%|█████▊    | 25/43 [00:16<00:13,  1.36it/s, dist=5.4188, loss=0.2991]"
     ]
    },
    {
     "name": "stdout",
     "output_type": "stream",
     "text": [
      "torch.Size([2084, 64, 41])\n",
      "Adjusted output shape: torch.Size([64, 2084, 41])\n"
     ]
    },
    {
     "name": "stderr",
     "output_type": "stream",
     "text": [
      "Val:  60%|██████    | 26/43 [00:17<00:11,  1.44it/s, dist=5.5397, loss=0.3008]"
     ]
    },
    {
     "name": "stdout",
     "output_type": "stream",
     "text": [
      "torch.Size([2158, 64, 41])\n",
      "Adjusted output shape: torch.Size([64, 2158, 41])\n"
     ]
    },
    {
     "name": "stderr",
     "output_type": "stream",
     "text": [
      "Val:  63%|██████▎   | 27/43 [00:17<00:10,  1.56it/s, dist=5.5208, loss=0.3027]"
     ]
    },
    {
     "name": "stdout",
     "output_type": "stream",
     "text": [
      "torch.Size([1591, 64, 41])\n",
      "Adjusted output shape: torch.Size([64, 1591, 41])\n"
     ]
    },
    {
     "name": "stderr",
     "output_type": "stream",
     "text": [
      "Val:  65%|██████▌   | 28/43 [00:18<00:09,  1.66it/s, dist=5.4581, loss=0.3026]"
     ]
    },
    {
     "name": "stdout",
     "output_type": "stream",
     "text": [
      "torch.Size([1783, 64, 41])\n",
      "Adjusted output shape: torch.Size([64, 1783, 41])\n"
     ]
    },
    {
     "name": "stderr",
     "output_type": "stream",
     "text": [
      "Val:  67%|██████▋   | 29/43 [00:18<00:08,  1.75it/s, dist=5.3718, loss=0.2999]"
     ]
    },
    {
     "name": "stdout",
     "output_type": "stream",
     "text": [
      "torch.Size([1776, 64, 41])\n",
      "Adjusted output shape: torch.Size([64, 1776, 41])\n"
     ]
    },
    {
     "name": "stderr",
     "output_type": "stream",
     "text": [
      "Val:  70%|██████▉   | 30/43 [00:19<00:07,  1.79it/s, dist=5.3760, loss=0.3015]"
     ]
    },
    {
     "name": "stdout",
     "output_type": "stream",
     "text": [
      "torch.Size([2078, 64, 41])\n",
      "Adjusted output shape: torch.Size([64, 2078, 41])\n"
     ]
    },
    {
     "name": "stderr",
     "output_type": "stream",
     "text": [
      "Val:  72%|███████▏  | 31/43 [00:19<00:06,  1.82it/s, dist=5.3070, loss=0.3009]"
     ]
    },
    {
     "name": "stdout",
     "output_type": "stream",
     "text": [
      "torch.Size([1443, 64, 41])\n",
      "Adjusted output shape: torch.Size([64, 1443, 41])\n"
     ]
    },
    {
     "name": "stderr",
     "output_type": "stream",
     "text": [
      "Val:  74%|███████▍  | 32/43 [00:20<00:05,  1.98it/s, dist=5.4058, loss=0.3093]"
     ]
    },
    {
     "name": "stdout",
     "output_type": "stream",
     "text": [
      "torch.Size([1906, 64, 41])\n",
      "Adjusted output shape: torch.Size([64, 1906, 41])\n"
     ]
    },
    {
     "name": "stderr",
     "output_type": "stream",
     "text": [
      "Val:  77%|███████▋  | 33/43 [00:20<00:05,  1.90it/s, dist=5.4271, loss=0.3131]"
     ]
    },
    {
     "name": "stdout",
     "output_type": "stream",
     "text": [
      "torch.Size([2189, 64, 41])\n",
      "Adjusted output shape: torch.Size([64, 2189, 41])\n"
     ]
    },
    {
     "name": "stderr",
     "output_type": "stream",
     "text": [
      "Val:  79%|███████▉  | 34/43 [00:21<00:04,  1.86it/s, dist=5.3617, loss=0.3101]"
     ]
    },
    {
     "name": "stdout",
     "output_type": "stream",
     "text": [
      "torch.Size([2095, 64, 41])\n",
      "Adjusted output shape: torch.Size([64, 2095, 41])\n"
     ]
    },
    {
     "name": "stderr",
     "output_type": "stream",
     "text": [
      "Val:  81%|████████▏ | 35/43 [00:22<00:04,  1.78it/s, dist=5.3893, loss=0.3103]"
     ]
    },
    {
     "name": "stdout",
     "output_type": "stream",
     "text": [
      "torch.Size([1511, 64, 41])\n",
      "Adjusted output shape: torch.Size([64, 1511, 41])\n"
     ]
    },
    {
     "name": "stderr",
     "output_type": "stream",
     "text": [
      "Val:  84%|████████▎ | 36/43 [00:22<00:03,  1.86it/s, dist=5.4266, loss=0.3145]"
     ]
    },
    {
     "name": "stdout",
     "output_type": "stream",
     "text": [
      "torch.Size([1813, 64, 41])\n",
      "Adjusted output shape: torch.Size([64, 1813, 41])\n"
     ]
    },
    {
     "name": "stderr",
     "output_type": "stream",
     "text": [
      "Val:  86%|████████▌ | 37/43 [00:23<00:03,  1.90it/s, dist=5.4683, loss=0.3190]"
     ]
    },
    {
     "name": "stdout",
     "output_type": "stream",
     "text": [
      "torch.Size([2890, 64, 41])\n",
      "Adjusted output shape: torch.Size([64, 2890, 41])\n"
     ]
    },
    {
     "name": "stderr",
     "output_type": "stream",
     "text": [
      "Val:  88%|████████▊ | 38/43 [00:23<00:02,  1.71it/s, dist=5.4359, loss=0.3183]"
     ]
    },
    {
     "name": "stdout",
     "output_type": "stream",
     "text": [
      "torch.Size([1518, 64, 41])\n",
      "Adjusted output shape: torch.Size([64, 1518, 41])\n"
     ]
    },
    {
     "name": "stderr",
     "output_type": "stream",
     "text": [
      "Val:  91%|█████████ | 39/43 [00:24<00:02,  1.83it/s, dist=5.3978, loss=0.3170]"
     ]
    },
    {
     "name": "stdout",
     "output_type": "stream",
     "text": [
      "torch.Size([1804, 64, 41])\n",
      "Adjusted output shape: torch.Size([64, 1804, 41])\n"
     ]
    },
    {
     "name": "stderr",
     "output_type": "stream",
     "text": [
      "Val:  93%|█████████▎| 40/43 [00:24<00:01,  1.87it/s, dist=5.3438, loss=0.3140]"
     ]
    },
    {
     "name": "stdout",
     "output_type": "stream",
     "text": [
      "torch.Size([1592, 64, 41])\n",
      "Adjusted output shape: torch.Size([64, 1592, 41])\n"
     ]
    },
    {
     "name": "stderr",
     "output_type": "stream",
     "text": [
      "Val:  95%|█████████▌| 41/43 [00:25<00:01,  1.91it/s, dist=5.3258, loss=0.3133]"
     ]
    },
    {
     "name": "stdout",
     "output_type": "stream",
     "text": [
      "torch.Size([2340, 64, 41])\n",
      "Adjusted output shape: torch.Size([64, 2340, 41])\n"
     ]
    },
    {
     "name": "stderr",
     "output_type": "stream",
     "text": [
      "Val: 100%|██████████| 43/43 [00:26<00:00,  1.82it/s, dist=5.4731, loss=0.3209]"
     ]
    },
    {
     "name": "stdout",
     "output_type": "stream",
     "text": [
      "torch.Size([3166, 15, 41])\n",
      "Adjusted output shape: torch.Size([15, 3166, 41])\n"
     ]
    },
    {
     "name": "stderr",
     "output_type": "stream",
     "text": [
      "                                                                              \r"
     ]
    },
    {
     "name": "stdout",
     "output_type": "stream",
     "text": [
      "\tTrain Loss 0.0931\t Learning Rate 0.0000020\n",
      "\tVal Dist 5.4731%\t Val Loss 0.3209\n",
      "Saved epoch model\n",
      "\n",
      "Epoch: 48/50\n"
     ]
    },
    {
     "name": "stderr",
     "output_type": "stream",
     "text": [
      "Val:   0%|          | 0/43 [00:00<?, ?it/s]                                       "
     ]
    },
    {
     "name": "stdout",
     "output_type": "stream",
     "text": [
      "torch.Size([2936, 64, 41])\n",
      "Adjusted output shape: torch.Size([64, 2936, 41])\n"
     ]
    },
    {
     "name": "stderr",
     "output_type": "stream",
     "text": [
      "Val:   2%|▏         | 1/43 [00:01<00:54,  1.30s/it, dist=7.9062, loss=0.5258]"
     ]
    },
    {
     "name": "stdout",
     "output_type": "stream",
     "text": [
      "torch.Size([1631, 64, 41])\n",
      "Adjusted output shape: torch.Size([64, 1631, 41])\n"
     ]
    },
    {
     "name": "stderr",
     "output_type": "stream",
     "text": [
      "Val:   5%|▍         | 2/43 [00:01<00:33,  1.21it/s, dist=6.2188, loss=0.4228]"
     ]
    },
    {
     "name": "stdout",
     "output_type": "stream",
     "text": [
      "torch.Size([1987, 64, 41])\n",
      "Adjusted output shape: torch.Size([64, 1987, 41])\n"
     ]
    },
    {
     "name": "stderr",
     "output_type": "stream",
     "text": [
      "Val:   7%|▋         | 3/43 [00:02<00:29,  1.38it/s, dist=6.1146, loss=0.3728]"
     ]
    },
    {
     "name": "stdout",
     "output_type": "stream",
     "text": [
      "torch.Size([2707, 64, 41])\n",
      "Adjusted output shape: torch.Size([64, 2707, 41])\n"
     ]
    },
    {
     "name": "stderr",
     "output_type": "stream",
     "text": [
      "Val:   9%|▉         | 4/43 [00:03<00:27,  1.41it/s, dist=6.3047, loss=0.3709]"
     ]
    },
    {
     "name": "stdout",
     "output_type": "stream",
     "text": [
      "torch.Size([2658, 64, 41])\n",
      "Adjusted output shape: torch.Size([64, 2658, 41])\n"
     ]
    },
    {
     "name": "stderr",
     "output_type": "stream",
     "text": [
      "Val:  12%|█▏        | 5/43 [00:03<00:26,  1.44it/s, dist=6.1344, loss=0.3520]"
     ]
    },
    {
     "name": "stdout",
     "output_type": "stream",
     "text": [
      "torch.Size([2282, 64, 41])\n",
      "Adjusted output shape: torch.Size([64, 2282, 41])\n"
     ]
    },
    {
     "name": "stderr",
     "output_type": "stream",
     "text": [
      "Val:  14%|█▍        | 6/43 [00:04<00:24,  1.52it/s, dist=6.2318, loss=0.3479]"
     ]
    },
    {
     "name": "stdout",
     "output_type": "stream",
     "text": [
      "torch.Size([2784, 64, 41])\n",
      "Adjusted output shape: torch.Size([64, 2784, 41])\n"
     ]
    },
    {
     "name": "stderr",
     "output_type": "stream",
     "text": [
      "Val:  16%|█▋        | 7/43 [00:05<00:23,  1.52it/s, dist=6.0781, loss=0.3492]"
     ]
    },
    {
     "name": "stdout",
     "output_type": "stream",
     "text": [
      "torch.Size([2052, 64, 41])\n",
      "Adjusted output shape: torch.Size([64, 2052, 41])\n"
     ]
    },
    {
     "name": "stderr",
     "output_type": "stream",
     "text": [
      "Val:  19%|█▊        | 8/43 [00:05<00:21,  1.62it/s, dist=5.7773, loss=0.3486]"
     ]
    },
    {
     "name": "stdout",
     "output_type": "stream",
     "text": [
      "torch.Size([3133, 64, 41])\n",
      "Adjusted output shape: torch.Size([64, 3133, 41])\n"
     ]
    },
    {
     "name": "stderr",
     "output_type": "stream",
     "text": [
      "Val:  21%|██        | 9/43 [00:06<00:22,  1.51it/s, dist=5.6944, loss=0.3389]"
     ]
    },
    {
     "name": "stdout",
     "output_type": "stream",
     "text": [
      "torch.Size([2277, 64, 41])\n",
      "Adjusted output shape: torch.Size([64, 2277, 41])\n"
     ]
    },
    {
     "name": "stderr",
     "output_type": "stream",
     "text": [
      "Val:  23%|██▎       | 10/43 [00:06<00:21,  1.52it/s, dist=5.7797, loss=0.3342]"
     ]
    },
    {
     "name": "stdout",
     "output_type": "stream",
     "text": [
      "torch.Size([1546, 64, 41])\n",
      "Adjusted output shape: torch.Size([64, 1546, 41])\n"
     ]
    },
    {
     "name": "stderr",
     "output_type": "stream",
     "text": [
      "Val:  26%|██▌       | 11/43 [00:07<00:18,  1.71it/s, dist=5.5241, loss=0.3210]"
     ]
    },
    {
     "name": "stdout",
     "output_type": "stream",
     "text": [
      "torch.Size([2264, 64, 41])\n",
      "Adjusted output shape: torch.Size([64, 2264, 41])\n"
     ]
    },
    {
     "name": "stderr",
     "output_type": "stream",
     "text": [
      "Val:  28%|██▊       | 12/43 [00:07<00:17,  1.74it/s, dist=5.5781, loss=0.3203]"
     ]
    },
    {
     "name": "stdout",
     "output_type": "stream",
     "text": [
      "torch.Size([1757, 64, 41])\n",
      "Adjusted output shape: torch.Size([64, 1757, 41])\n"
     ]
    },
    {
     "name": "stderr",
     "output_type": "stream",
     "text": [
      "Val:  30%|███       | 13/43 [00:08<00:16,  1.83it/s, dist=5.5649, loss=0.3164]"
     ]
    },
    {
     "name": "stdout",
     "output_type": "stream",
     "text": [
      "torch.Size([1641, 64, 41])\n",
      "Adjusted output shape: torch.Size([64, 1641, 41])\n"
     ]
    },
    {
     "name": "stderr",
     "output_type": "stream",
     "text": [
      "Val:  33%|███▎      | 14/43 [00:08<00:14,  1.96it/s, dist=5.3482, loss=0.3061]"
     ]
    },
    {
     "name": "stdout",
     "output_type": "stream",
     "text": [
      "torch.Size([2476, 64, 41])\n",
      "Adjusted output shape: torch.Size([64, 2476, 41])\n"
     ]
    },
    {
     "name": "stderr",
     "output_type": "stream",
     "text": [
      "Val:  35%|███▍      | 15/43 [00:09<00:14,  1.91it/s, dist=5.2135, loss=0.2977]"
     ]
    },
    {
     "name": "stdout",
     "output_type": "stream",
     "text": [
      "torch.Size([2465, 64, 41])\n",
      "Adjusted output shape: torch.Size([64, 2465, 41])\n"
     ]
    },
    {
     "name": "stderr",
     "output_type": "stream",
     "text": [
      "Val:  37%|███▋      | 16/43 [00:10<00:15,  1.71it/s, dist=5.3135, loss=0.3044]"
     ]
    },
    {
     "name": "stdout",
     "output_type": "stream",
     "text": [
      "torch.Size([3244, 64, 41])\n",
      "Adjusted output shape: torch.Size([64, 3244, 41])\n"
     ]
    },
    {
     "name": "stderr",
     "output_type": "stream",
     "text": [
      "Val:  40%|███▉      | 17/43 [00:10<00:17,  1.49it/s, dist=5.4375, loss=0.3031]"
     ]
    },
    {
     "name": "stdout",
     "output_type": "stream",
     "text": [
      "torch.Size([2853, 64, 41])\n",
      "Adjusted output shape: torch.Size([64, 2853, 41])\n"
     ]
    },
    {
     "name": "stderr",
     "output_type": "stream",
     "text": [
      "Val:  42%|████▏     | 18/43 [00:11<00:16,  1.52it/s, dist=5.3325, loss=0.2986]"
     ]
    },
    {
     "name": "stdout",
     "output_type": "stream",
     "text": [
      "torch.Size([2795, 64, 41])\n",
      "Adjusted output shape: torch.Size([64, 2795, 41])\n"
     ]
    },
    {
     "name": "stderr",
     "output_type": "stream",
     "text": [
      "Val:  44%|████▍     | 19/43 [00:12<00:15,  1.55it/s, dist=5.2961, loss=0.3008]"
     ]
    },
    {
     "name": "stdout",
     "output_type": "stream",
     "text": [
      "torch.Size([2027, 64, 41])\n",
      "Adjusted output shape: torch.Size([64, 2027, 41])\n"
     ]
    },
    {
     "name": "stderr",
     "output_type": "stream",
     "text": [
      "Val:  47%|████▋     | 20/43 [00:12<00:14,  1.57it/s, dist=5.2695, loss=0.2967]"
     ]
    },
    {
     "name": "stdout",
     "output_type": "stream",
     "text": [
      "torch.Size([2686, 64, 41])\n",
      "Adjusted output shape: torch.Size([64, 2686, 41])\n"
     ]
    },
    {
     "name": "stderr",
     "output_type": "stream",
     "text": [
      "Val:  49%|████▉     | 21/43 [00:13<00:14,  1.53it/s, dist=5.3542, loss=0.2992]"
     ]
    },
    {
     "name": "stdout",
     "output_type": "stream",
     "text": [
      "torch.Size([2068, 64, 41])\n",
      "Adjusted output shape: torch.Size([64, 2068, 41])\n"
     ]
    },
    {
     "name": "stderr",
     "output_type": "stream",
     "text": [
      "Val:  51%|█████     | 22/43 [00:14<00:12,  1.66it/s, dist=5.2571, loss=0.2960]"
     ]
    },
    {
     "name": "stdout",
     "output_type": "stream",
     "text": [
      "torch.Size([1543, 64, 41])\n",
      "Adjusted output shape: torch.Size([64, 1543, 41])\n"
     ]
    },
    {
     "name": "stderr",
     "output_type": "stream",
     "text": [
      "Val:  53%|█████▎    | 23/43 [00:14<00:10,  1.82it/s, dist=5.2140, loss=0.2959]"
     ]
    },
    {
     "name": "stdout",
     "output_type": "stream",
     "text": [
      "torch.Size([3260, 64, 41])\n",
      "Adjusted output shape: torch.Size([64, 3260, 41])\n"
     ]
    },
    {
     "name": "stderr",
     "output_type": "stream",
     "text": [
      "Val:  56%|█████▌    | 24/43 [00:15<00:12,  1.51it/s, dist=5.3906, loss=0.2972]"
     ]
    },
    {
     "name": "stdout",
     "output_type": "stream",
     "text": [
      "torch.Size([3210, 64, 41])\n",
      "Adjusted output shape: torch.Size([64, 3210, 41])\n"
     ]
    },
    {
     "name": "stderr",
     "output_type": "stream",
     "text": [
      "Val:  58%|█████▊    | 25/43 [00:16<00:12,  1.47it/s, dist=5.4375, loss=0.2987]"
     ]
    },
    {
     "name": "stdout",
     "output_type": "stream",
     "text": [
      "torch.Size([2084, 64, 41])\n",
      "Adjusted output shape: torch.Size([64, 2084, 41])\n"
     ]
    },
    {
     "name": "stderr",
     "output_type": "stream",
     "text": [
      "Val:  60%|██████    | 26/43 [00:16<00:10,  1.56it/s, dist=5.5595, loss=0.3005]"
     ]
    },
    {
     "name": "stdout",
     "output_type": "stream",
     "text": [
      "torch.Size([2158, 64, 41])\n",
      "Adjusted output shape: torch.Size([64, 2158, 41])\n"
     ]
    },
    {
     "name": "stderr",
     "output_type": "stream",
     "text": [
      "Val:  63%|██████▎   | 27/43 [00:17<00:09,  1.70it/s, dist=5.5394, loss=0.3024]"
     ]
    },
    {
     "name": "stdout",
     "output_type": "stream",
     "text": [
      "torch.Size([1591, 64, 41])\n",
      "Adjusted output shape: torch.Size([64, 1591, 41])\n"
     ]
    },
    {
     "name": "stderr",
     "output_type": "stream",
     "text": [
      "Val:  65%|██████▌   | 28/43 [00:17<00:08,  1.85it/s, dist=5.4794, loss=0.3023]"
     ]
    },
    {
     "name": "stdout",
     "output_type": "stream",
     "text": [
      "torch.Size([1783, 64, 41])\n",
      "Adjusted output shape: torch.Size([64, 1783, 41])\n"
     ]
    },
    {
     "name": "stderr",
     "output_type": "stream",
     "text": [
      "Val:  67%|██████▋   | 29/43 [00:17<00:07,  1.98it/s, dist=5.3917, loss=0.2996]"
     ]
    },
    {
     "name": "stdout",
     "output_type": "stream",
     "text": [
      "torch.Size([1776, 64, 41])\n",
      "Adjusted output shape: torch.Size([64, 1776, 41])\n"
     ]
    },
    {
     "name": "stderr",
     "output_type": "stream",
     "text": [
      "Val:  70%|██████▉   | 30/43 [00:18<00:06,  2.01it/s, dist=5.3917, loss=0.3011]"
     ]
    },
    {
     "name": "stdout",
     "output_type": "stream",
     "text": [
      "torch.Size([2078, 64, 41])\n",
      "Adjusted output shape: torch.Size([64, 2078, 41])\n"
     ]
    },
    {
     "name": "stderr",
     "output_type": "stream",
     "text": [
      "Val:  72%|███████▏  | 31/43 [00:18<00:05,  2.03it/s, dist=5.3221, loss=0.3004]"
     ]
    },
    {
     "name": "stdout",
     "output_type": "stream",
     "text": [
      "torch.Size([1443, 64, 41])\n",
      "Adjusted output shape: torch.Size([64, 1443, 41])\n"
     ]
    },
    {
     "name": "stderr",
     "output_type": "stream",
     "text": [
      "Val:  74%|███████▍  | 32/43 [00:19<00:05,  2.17it/s, dist=5.4170, loss=0.3087]"
     ]
    },
    {
     "name": "stdout",
     "output_type": "stream",
     "text": [
      "torch.Size([1906, 64, 41])\n",
      "Adjusted output shape: torch.Size([64, 1906, 41])\n"
     ]
    },
    {
     "name": "stderr",
     "output_type": "stream",
     "text": [
      "Val:  77%|███████▋  | 33/43 [00:19<00:04,  2.04it/s, dist=5.4418, loss=0.3125]"
     ]
    },
    {
     "name": "stdout",
     "output_type": "stream",
     "text": [
      "torch.Size([2189, 64, 41])\n",
      "Adjusted output shape: torch.Size([64, 2189, 41])\n"
     ]
    },
    {
     "name": "stderr",
     "output_type": "stream",
     "text": [
      "Val:  79%|███████▉  | 34/43 [00:20<00:04,  2.04it/s, dist=5.3736, loss=0.3095]"
     ]
    },
    {
     "name": "stdout",
     "output_type": "stream",
     "text": [
      "torch.Size([2095, 64, 41])\n",
      "Adjusted output shape: torch.Size([64, 2095, 41])\n"
     ]
    },
    {
     "name": "stderr",
     "output_type": "stream",
     "text": [
      "Val:  81%|████████▏ | 35/43 [00:20<00:04,  1.94it/s, dist=5.4018, loss=0.3097]"
     ]
    },
    {
     "name": "stdout",
     "output_type": "stream",
     "text": [
      "torch.Size([1511, 64, 41])\n",
      "Adjusted output shape: torch.Size([64, 1511, 41])\n"
     ]
    },
    {
     "name": "stderr",
     "output_type": "stream",
     "text": [
      "Val:  84%|████████▎ | 36/43 [00:21<00:03,  2.00it/s, dist=5.4449, loss=0.3140]"
     ]
    },
    {
     "name": "stdout",
     "output_type": "stream",
     "text": [
      "torch.Size([1813, 64, 41])\n",
      "Adjusted output shape: torch.Size([64, 1813, 41])\n"
     ]
    },
    {
     "name": "stderr",
     "output_type": "stream",
     "text": [
      "Val:  86%|████████▌ | 37/43 [00:21<00:02,  2.04it/s, dist=5.4865, loss=0.3185]"
     ]
    },
    {
     "name": "stdout",
     "output_type": "stream",
     "text": [
      "torch.Size([2890, 64, 41])\n",
      "Adjusted output shape: torch.Size([64, 2890, 41])\n"
     ]
    },
    {
     "name": "stderr",
     "output_type": "stream",
     "text": [
      "Val:  88%|████████▊ | 38/43 [00:22<00:02,  1.91it/s, dist=5.4539, loss=0.3178]"
     ]
    },
    {
     "name": "stdout",
     "output_type": "stream",
     "text": [
      "torch.Size([1518, 64, 41])\n",
      "Adjusted output shape: torch.Size([64, 1518, 41])\n"
     ]
    },
    {
     "name": "stderr",
     "output_type": "stream",
     "text": [
      "Val:  91%|█████████ | 39/43 [00:22<00:01,  2.02it/s, dist=5.4171, loss=0.3165]"
     ]
    },
    {
     "name": "stdout",
     "output_type": "stream",
     "text": [
      "torch.Size([1804, 64, 41])\n",
      "Adjusted output shape: torch.Size([64, 1804, 41])\n"
     ]
    },
    {
     "name": "stderr",
     "output_type": "stream",
     "text": [
      "Val:  93%|█████████▎| 40/43 [00:23<00:01,  2.04it/s, dist=5.3664, loss=0.3136]"
     ]
    },
    {
     "name": "stdout",
     "output_type": "stream",
     "text": [
      "torch.Size([1592, 64, 41])\n",
      "Adjusted output shape: torch.Size([64, 1592, 41])\n"
     ]
    },
    {
     "name": "stderr",
     "output_type": "stream",
     "text": [
      "Val:  95%|█████████▌| 41/43 [00:23<00:00,  2.01it/s, dist=5.3487, loss=0.3129]"
     ]
    },
    {
     "name": "stdout",
     "output_type": "stream",
     "text": [
      "torch.Size([2340, 64, 41])\n",
      "Adjusted output shape: torch.Size([64, 2340, 41])\n"
     ]
    },
    {
     "name": "stderr",
     "output_type": "stream",
     "text": [
      "Val: 100%|██████████| 43/43 [00:24<00:00,  2.02it/s, dist=5.4958, loss=0.3203]"
     ]
    },
    {
     "name": "stdout",
     "output_type": "stream",
     "text": [
      "torch.Size([3166, 15, 41])\n",
      "Adjusted output shape: torch.Size([15, 3166, 41])\n"
     ]
    },
    {
     "name": "stderr",
     "output_type": "stream",
     "text": [
      "                                                                              \r"
     ]
    },
    {
     "name": "stdout",
     "output_type": "stream",
     "text": [
      "\tTrain Loss 0.0923\t Learning Rate 0.0000020\n",
      "\tVal Dist 5.4958%\t Val Loss 0.3203\n",
      "Saved epoch model\n",
      "\n",
      "Epoch: 49/50\n"
     ]
    },
    {
     "name": "stderr",
     "output_type": "stream",
     "text": [
      "Val:   0%|          | 0/43 [00:00<?, ?it/s]                                       "
     ]
    },
    {
     "name": "stdout",
     "output_type": "stream",
     "text": [
      "torch.Size([2936, 64, 41])\n",
      "Adjusted output shape: torch.Size([64, 2936, 41])\n"
     ]
    },
    {
     "name": "stderr",
     "output_type": "stream",
     "text": [
      "Val:   2%|▏         | 1/43 [00:01<00:53,  1.28s/it, dist=7.8594, loss=0.5282]"
     ]
    },
    {
     "name": "stdout",
     "output_type": "stream",
     "text": [
      "torch.Size([1631, 64, 41])\n",
      "Adjusted output shape: torch.Size([64, 1631, 41])\n"
     ]
    },
    {
     "name": "stderr",
     "output_type": "stream",
     "text": [
      "Val:   5%|▍         | 2/43 [00:01<00:32,  1.26it/s, dist=6.2344, loss=0.4260]"
     ]
    },
    {
     "name": "stdout",
     "output_type": "stream",
     "text": [
      "torch.Size([1987, 64, 41])\n",
      "Adjusted output shape: torch.Size([64, 1987, 41])\n"
     ]
    },
    {
     "name": "stderr",
     "output_type": "stream",
     "text": [
      "Val:   7%|▋         | 3/43 [00:02<00:27,  1.44it/s, dist=6.1302, loss=0.3748]"
     ]
    },
    {
     "name": "stdout",
     "output_type": "stream",
     "text": [
      "torch.Size([2707, 64, 41])\n",
      "Adjusted output shape: torch.Size([64, 2707, 41])\n"
     ]
    },
    {
     "name": "stderr",
     "output_type": "stream",
     "text": [
      "Val:   9%|▉         | 4/43 [00:02<00:26,  1.45it/s, dist=6.3281, loss=0.3725]"
     ]
    },
    {
     "name": "stdout",
     "output_type": "stream",
     "text": [
      "torch.Size([2658, 64, 41])\n",
      "Adjusted output shape: torch.Size([64, 2658, 41])\n"
     ]
    },
    {
     "name": "stderr",
     "output_type": "stream",
     "text": [
      "Val:  12%|█▏        | 5/43 [00:03<00:25,  1.48it/s, dist=6.1469, loss=0.3535]"
     ]
    },
    {
     "name": "stdout",
     "output_type": "stream",
     "text": [
      "torch.Size([2282, 64, 41])\n",
      "Adjusted output shape: torch.Size([64, 2282, 41])\n"
     ]
    },
    {
     "name": "stderr",
     "output_type": "stream",
     "text": [
      "Val:  14%|█▍        | 6/43 [00:04<00:23,  1.55it/s, dist=6.2370, loss=0.3494]"
     ]
    },
    {
     "name": "stdout",
     "output_type": "stream",
     "text": [
      "torch.Size([2784, 64, 41])\n",
      "Adjusted output shape: torch.Size([64, 2784, 41])\n"
     ]
    },
    {
     "name": "stderr",
     "output_type": "stream",
     "text": [
      "Val:  16%|█▋        | 7/43 [00:04<00:22,  1.57it/s, dist=6.0848, loss=0.3501]"
     ]
    },
    {
     "name": "stdout",
     "output_type": "stream",
     "text": [
      "torch.Size([2052, 64, 41])\n",
      "Adjusted output shape: torch.Size([64, 2052, 41])\n"
     ]
    },
    {
     "name": "stderr",
     "output_type": "stream",
     "text": [
      "Val:  19%|█▊        | 8/43 [00:05<00:20,  1.69it/s, dist=5.7891, loss=0.3499]"
     ]
    },
    {
     "name": "stdout",
     "output_type": "stream",
     "text": [
      "torch.Size([3133, 64, 41])\n",
      "Adjusted output shape: torch.Size([64, 3133, 41])\n"
     ]
    },
    {
     "name": "stderr",
     "output_type": "stream",
     "text": [
      "Val:  21%|██        | 9/43 [00:06<00:21,  1.55it/s, dist=5.7031, loss=0.3401]"
     ]
    },
    {
     "name": "stdout",
     "output_type": "stream",
     "text": [
      "torch.Size([2277, 64, 41])\n",
      "Adjusted output shape: torch.Size([64, 2277, 41])\n"
     ]
    },
    {
     "name": "stderr",
     "output_type": "stream",
     "text": [
      "Val:  23%|██▎       | 10/43 [00:06<00:21,  1.54it/s, dist=5.7844, loss=0.3350]"
     ]
    },
    {
     "name": "stdout",
     "output_type": "stream",
     "text": [
      "torch.Size([1546, 64, 41])\n",
      "Adjusted output shape: torch.Size([64, 1546, 41])\n"
     ]
    },
    {
     "name": "stderr",
     "output_type": "stream",
     "text": [
      "Val:  26%|██▌       | 11/43 [00:07<00:18,  1.72it/s, dist=5.5213, loss=0.3218]"
     ]
    },
    {
     "name": "stdout",
     "output_type": "stream",
     "text": [
      "torch.Size([2264, 64, 41])\n",
      "Adjusted output shape: torch.Size([64, 2264, 41])\n"
     ]
    },
    {
     "name": "stderr",
     "output_type": "stream",
     "text": [
      "Val:  28%|██▊       | 12/43 [00:07<00:17,  1.74it/s, dist=5.5742, loss=0.3210]"
     ]
    },
    {
     "name": "stdout",
     "output_type": "stream",
     "text": [
      "torch.Size([1757, 64, 41])\n",
      "Adjusted output shape: torch.Size([64, 1757, 41])\n"
     ]
    },
    {
     "name": "stderr",
     "output_type": "stream",
     "text": [
      "Val:  30%|███       | 13/43 [00:08<00:16,  1.82it/s, dist=5.5613, loss=0.3170]"
     ]
    },
    {
     "name": "stdout",
     "output_type": "stream",
     "text": [
      "torch.Size([1641, 64, 41])\n",
      "Adjusted output shape: torch.Size([64, 1641, 41])\n"
     ]
    },
    {
     "name": "stderr",
     "output_type": "stream",
     "text": [
      "Val:  33%|███▎      | 14/43 [00:08<00:14,  1.97it/s, dist=5.3393, loss=0.3065]"
     ]
    },
    {
     "name": "stdout",
     "output_type": "stream",
     "text": [
      "torch.Size([2476, 64, 41])\n",
      "Adjusted output shape: torch.Size([64, 2476, 41])\n"
     ]
    },
    {
     "name": "stderr",
     "output_type": "stream",
     "text": [
      "Val:  35%|███▍      | 15/43 [00:09<00:14,  1.90it/s, dist=5.2104, loss=0.2983]"
     ]
    },
    {
     "name": "stdout",
     "output_type": "stream",
     "text": [
      "torch.Size([2465, 64, 41])\n",
      "Adjusted output shape: torch.Size([64, 2465, 41])\n"
     ]
    },
    {
     "name": "stderr",
     "output_type": "stream",
     "text": [
      "Val:  37%|███▋      | 16/43 [00:09<00:15,  1.76it/s, dist=5.3086, loss=0.3051]"
     ]
    },
    {
     "name": "stdout",
     "output_type": "stream",
     "text": [
      "torch.Size([3244, 64, 41])\n",
      "Adjusted output shape: torch.Size([64, 3244, 41])\n"
     ]
    },
    {
     "name": "stderr",
     "output_type": "stream",
     "text": [
      "Val:  40%|███▉      | 17/43 [00:10<00:17,  1.48it/s, dist=5.4311, loss=0.3037]"
     ]
    },
    {
     "name": "stdout",
     "output_type": "stream",
     "text": [
      "torch.Size([2853, 64, 41])\n",
      "Adjusted output shape: torch.Size([64, 2853, 41])\n"
     ]
    },
    {
     "name": "stderr",
     "output_type": "stream",
     "text": [
      "Val:  42%|████▏     | 18/43 [00:11<00:16,  1.49it/s, dist=5.3299, loss=0.2992]"
     ]
    },
    {
     "name": "stdout",
     "output_type": "stream",
     "text": [
      "torch.Size([2795, 64, 41])\n",
      "Adjusted output shape: torch.Size([64, 2795, 41])\n"
     ]
    },
    {
     "name": "stderr",
     "output_type": "stream",
     "text": [
      "Val:  44%|████▍     | 19/43 [00:12<00:15,  1.53it/s, dist=5.2969, loss=0.3015]"
     ]
    },
    {
     "name": "stdout",
     "output_type": "stream",
     "text": [
      "torch.Size([2027, 64, 41])\n",
      "Adjusted output shape: torch.Size([64, 2027, 41])\n"
     ]
    },
    {
     "name": "stderr",
     "output_type": "stream",
     "text": [
      "Val:  47%|████▋     | 20/43 [00:12<00:15,  1.52it/s, dist=5.2703, loss=0.2974]"
     ]
    },
    {
     "name": "stdout",
     "output_type": "stream",
     "text": [
      "torch.Size([2686, 64, 41])\n",
      "Adjusted output shape: torch.Size([64, 2686, 41])\n"
     ]
    },
    {
     "name": "stderr",
     "output_type": "stream",
     "text": [
      "Val:  49%|████▉     | 21/43 [00:13<00:15,  1.44it/s, dist=5.3534, loss=0.2999]"
     ]
    },
    {
     "name": "stdout",
     "output_type": "stream",
     "text": [
      "torch.Size([2068, 64, 41])\n",
      "Adjusted output shape: torch.Size([64, 2068, 41])\n"
     ]
    },
    {
     "name": "stderr",
     "output_type": "stream",
     "text": [
      "Val:  51%|█████     | 22/43 [00:14<00:13,  1.57it/s, dist=5.2578, loss=0.2968]"
     ]
    },
    {
     "name": "stdout",
     "output_type": "stream",
     "text": [
      "torch.Size([1543, 64, 41])\n",
      "Adjusted output shape: torch.Size([64, 1543, 41])\n"
     ]
    },
    {
     "name": "stderr",
     "output_type": "stream",
     "text": [
      "Val:  53%|█████▎    | 23/43 [00:14<00:11,  1.69it/s, dist=5.2133, loss=0.2967]"
     ]
    },
    {
     "name": "stdout",
     "output_type": "stream",
     "text": [
      "torch.Size([3260, 64, 41])\n",
      "Adjusted output shape: torch.Size([64, 3260, 41])\n"
     ]
    },
    {
     "name": "stderr",
     "output_type": "stream",
     "text": [
      "Val:  56%|█████▌    | 24/43 [00:15<00:13,  1.44it/s, dist=5.3848, loss=0.2979]"
     ]
    },
    {
     "name": "stdout",
     "output_type": "stream",
     "text": [
      "torch.Size([3210, 64, 41])\n",
      "Adjusted output shape: torch.Size([64, 3210, 41])\n"
     ]
    },
    {
     "name": "stderr",
     "output_type": "stream",
     "text": [
      "Val:  58%|█████▊    | 25/43 [00:16<00:12,  1.42it/s, dist=5.4325, loss=0.2993]"
     ]
    },
    {
     "name": "stdout",
     "output_type": "stream",
     "text": [
      "torch.Size([2084, 64, 41])\n",
      "Adjusted output shape: torch.Size([64, 2084, 41])\n"
     ]
    },
    {
     "name": "stderr",
     "output_type": "stream",
     "text": [
      "Val:  60%|██████    | 26/43 [00:16<00:11,  1.52it/s, dist=5.5517, loss=0.3011]"
     ]
    },
    {
     "name": "stdout",
     "output_type": "stream",
     "text": [
      "torch.Size([2158, 64, 41])\n",
      "Adjusted output shape: torch.Size([64, 2158, 41])\n"
     ]
    },
    {
     "name": "stderr",
     "output_type": "stream",
     "text": [
      "Val:  63%|██████▎   | 27/43 [00:17<00:09,  1.64it/s, dist=5.5341, loss=0.3031]"
     ]
    },
    {
     "name": "stdout",
     "output_type": "stream",
     "text": [
      "torch.Size([1591, 64, 41])\n",
      "Adjusted output shape: torch.Size([64, 1591, 41])\n"
     ]
    },
    {
     "name": "stderr",
     "output_type": "stream",
     "text": [
      "Val:  65%|██████▌   | 28/43 [00:17<00:08,  1.77it/s, dist=5.4715, loss=0.3030]"
     ]
    },
    {
     "name": "stdout",
     "output_type": "stream",
     "text": [
      "torch.Size([1783, 64, 41])\n",
      "Adjusted output shape: torch.Size([64, 1783, 41])\n"
     ]
    },
    {
     "name": "stderr",
     "output_type": "stream",
     "text": [
      "Val:  67%|██████▋   | 29/43 [00:18<00:07,  1.85it/s, dist=5.3847, loss=0.3002]"
     ]
    },
    {
     "name": "stdout",
     "output_type": "stream",
     "text": [
      "torch.Size([1776, 64, 41])\n",
      "Adjusted output shape: torch.Size([64, 1776, 41])\n"
     ]
    },
    {
     "name": "stderr",
     "output_type": "stream",
     "text": [
      "Val:  70%|██████▉   | 30/43 [00:18<00:06,  1.91it/s, dist=5.3854, loss=0.3019]"
     ]
    },
    {
     "name": "stdout",
     "output_type": "stream",
     "text": [
      "torch.Size([2078, 64, 41])\n",
      "Adjusted output shape: torch.Size([64, 2078, 41])\n"
     ]
    },
    {
     "name": "stderr",
     "output_type": "stream",
     "text": [
      "Val:  72%|███████▏  | 31/43 [00:19<00:06,  1.95it/s, dist=5.3191, loss=0.3013]"
     ]
    },
    {
     "name": "stdout",
     "output_type": "stream",
     "text": [
      "torch.Size([1443, 64, 41])\n",
      "Adjusted output shape: torch.Size([64, 1443, 41])\n"
     ]
    },
    {
     "name": "stderr",
     "output_type": "stream",
     "text": [
      "Val:  74%|███████▍  | 32/43 [00:19<00:05,  2.08it/s, dist=5.4170, loss=0.3098]"
     ]
    },
    {
     "name": "stdout",
     "output_type": "stream",
     "text": [
      "torch.Size([1906, 64, 41])\n",
      "Adjusted output shape: torch.Size([64, 1906, 41])\n"
     ]
    },
    {
     "name": "stderr",
     "output_type": "stream",
     "text": [
      "Val:  77%|███████▋  | 33/43 [00:20<00:04,  2.02it/s, dist=5.4422, loss=0.3135]"
     ]
    },
    {
     "name": "stdout",
     "output_type": "stream",
     "text": [
      "torch.Size([2189, 64, 41])\n",
      "Adjusted output shape: torch.Size([64, 2189, 41])\n"
     ]
    },
    {
     "name": "stderr",
     "output_type": "stream",
     "text": [
      "Val:  79%|███████▉  | 34/43 [00:20<00:04,  2.00it/s, dist=5.3759, loss=0.3106]"
     ]
    },
    {
     "name": "stdout",
     "output_type": "stream",
     "text": [
      "torch.Size([2095, 64, 41])\n",
      "Adjusted output shape: torch.Size([64, 2095, 41])\n"
     ]
    },
    {
     "name": "stderr",
     "output_type": "stream",
     "text": [
      "Val:  81%|████████▏ | 35/43 [00:21<00:04,  1.91it/s, dist=5.4036, loss=0.3107]"
     ]
    },
    {
     "name": "stdout",
     "output_type": "stream",
     "text": [
      "torch.Size([1511, 64, 41])\n",
      "Adjusted output shape: torch.Size([64, 1511, 41])\n"
     ]
    },
    {
     "name": "stderr",
     "output_type": "stream",
     "text": [
      "Val:  84%|████████▎ | 36/43 [00:21<00:03,  2.02it/s, dist=5.4444, loss=0.3151]"
     ]
    },
    {
     "name": "stdout",
     "output_type": "stream",
     "text": [
      "torch.Size([1813, 64, 41])\n",
      "Adjusted output shape: torch.Size([64, 1813, 41])\n"
     ]
    },
    {
     "name": "stderr",
     "output_type": "stream",
     "text": [
      "Val:  86%|████████▌ | 37/43 [00:22<00:02,  2.12it/s, dist=5.4827, loss=0.3195]"
     ]
    },
    {
     "name": "stdout",
     "output_type": "stream",
     "text": [
      "torch.Size([2890, 64, 41])\n",
      "Adjusted output shape: torch.Size([64, 2890, 41])\n"
     ]
    },
    {
     "name": "stderr",
     "output_type": "stream",
     "text": [
      "Val:  88%|████████▊ | 38/43 [00:22<00:02,  1.98it/s, dist=5.4519, loss=0.3188]"
     ]
    },
    {
     "name": "stdout",
     "output_type": "stream",
     "text": [
      "torch.Size([1518, 64, 41])\n",
      "Adjusted output shape: torch.Size([64, 1518, 41])\n"
     ]
    },
    {
     "name": "stderr",
     "output_type": "stream",
     "text": [
      "Val:  91%|█████████ | 39/43 [00:23<00:01,  2.03it/s, dist=5.4159, loss=0.3175]"
     ]
    },
    {
     "name": "stdout",
     "output_type": "stream",
     "text": [
      "torch.Size([1804, 64, 41])\n",
      "Adjusted output shape: torch.Size([64, 1804, 41])\n"
     ]
    },
    {
     "name": "stderr",
     "output_type": "stream",
     "text": [
      "Val:  93%|█████████▎| 40/43 [00:23<00:01,  2.04it/s, dist=5.3605, loss=0.3145]"
     ]
    },
    {
     "name": "stdout",
     "output_type": "stream",
     "text": [
      "torch.Size([1592, 64, 41])\n",
      "Adjusted output shape: torch.Size([64, 1592, 41])\n"
     ]
    },
    {
     "name": "stderr",
     "output_type": "stream",
     "text": [
      "Val:  95%|█████████▌| 41/43 [00:24<00:00,  2.04it/s, dist=5.3415, loss=0.3138]"
     ]
    },
    {
     "name": "stdout",
     "output_type": "stream",
     "text": [
      "torch.Size([2340, 64, 41])\n",
      "Adjusted output shape: torch.Size([64, 2340, 41])\n"
     ]
    },
    {
     "name": "stderr",
     "output_type": "stream",
     "text": [
      "Val: 100%|██████████| 43/43 [00:25<00:00,  2.00it/s, dist=5.4812, loss=0.3214]"
     ]
    },
    {
     "name": "stdout",
     "output_type": "stream",
     "text": [
      "torch.Size([3166, 15, 41])\n",
      "Adjusted output shape: torch.Size([15, 3166, 41])\n"
     ]
    },
    {
     "name": "stderr",
     "output_type": "stream",
     "text": [
      "                                                                              \r"
     ]
    },
    {
     "name": "stdout",
     "output_type": "stream",
     "text": [
      "\tTrain Loss 0.0887\t Learning Rate 0.0000010\n",
      "\tVal Dist 5.4812%\t Val Loss 0.3214\n",
      "Saved epoch model\n",
      "\n",
      "Epoch: 50/50\n"
     ]
    },
    {
     "name": "stderr",
     "output_type": "stream",
     "text": [
      "Val:   0%|          | 0/43 [00:00<?, ?it/s]                                       "
     ]
    },
    {
     "name": "stdout",
     "output_type": "stream",
     "text": [
      "torch.Size([2936, 64, 41])\n",
      "Adjusted output shape: torch.Size([64, 2936, 41])\n"
     ]
    },
    {
     "name": "stderr",
     "output_type": "stream",
     "text": [
      "Val:   2%|▏         | 1/43 [00:01<00:51,  1.22s/it, dist=7.7344, loss=0.5319]"
     ]
    },
    {
     "name": "stdout",
     "output_type": "stream",
     "text": [
      "torch.Size([1631, 64, 41])\n",
      "Adjusted output shape: torch.Size([64, 1631, 41])\n"
     ]
    },
    {
     "name": "stderr",
     "output_type": "stream",
     "text": [
      "Val:   5%|▍         | 2/43 [00:01<00:30,  1.35it/s, dist=6.1406, loss=0.4286]"
     ]
    },
    {
     "name": "stdout",
     "output_type": "stream",
     "text": [
      "torch.Size([1987, 64, 41])\n",
      "Adjusted output shape: torch.Size([64, 1987, 41])\n"
     ]
    },
    {
     "name": "stderr",
     "output_type": "stream",
     "text": [
      "Val:   7%|▋         | 3/43 [00:02<00:25,  1.57it/s, dist=6.0885, loss=0.3767]"
     ]
    },
    {
     "name": "stdout",
     "output_type": "stream",
     "text": [
      "torch.Size([2707, 64, 41])\n",
      "Adjusted output shape: torch.Size([64, 2707, 41])\n"
     ]
    },
    {
     "name": "stderr",
     "output_type": "stream",
     "text": [
      "Val:   9%|▉         | 4/43 [00:02<00:24,  1.59it/s, dist=6.2812, loss=0.3741]"
     ]
    },
    {
     "name": "stdout",
     "output_type": "stream",
     "text": [
      "torch.Size([2658, 64, 41])\n",
      "Adjusted output shape: torch.Size([64, 2658, 41])\n"
     ]
    },
    {
     "name": "stderr",
     "output_type": "stream",
     "text": [
      "Val:  12%|█▏        | 5/43 [00:03<00:23,  1.60it/s, dist=6.1219, loss=0.3546]"
     ]
    },
    {
     "name": "stdout",
     "output_type": "stream",
     "text": [
      "torch.Size([2282, 64, 41])\n",
      "Adjusted output shape: torch.Size([64, 2282, 41])\n"
     ]
    },
    {
     "name": "stderr",
     "output_type": "stream",
     "text": [
      "Val:  14%|█▍        | 6/43 [00:03<00:22,  1.67it/s, dist=6.1979, loss=0.3500]"
     ]
    },
    {
     "name": "stdout",
     "output_type": "stream",
     "text": [
      "torch.Size([2784, 64, 41])\n",
      "Adjusted output shape: torch.Size([64, 2784, 41])\n"
     ]
    },
    {
     "name": "stderr",
     "output_type": "stream",
     "text": [
      "Val:  19%|█▊        | 8/43 [00:04<00:19,  1.82it/s, dist=5.7559, loss=0.3494]"
     ]
    },
    {
     "name": "stdout",
     "output_type": "stream",
     "text": [
      "torch.Size([2052, 64, 41])\n",
      "Adjusted output shape: torch.Size([64, 2052, 41])\n",
      "torch.Size([3133, 64, 41])\n",
      "Adjusted output shape: torch.Size([64, 3133, 41])\n"
     ]
    },
    {
     "name": "stderr",
     "output_type": "stream",
     "text": [
      "Val:  21%|██        | 9/43 [00:05<00:20,  1.65it/s, dist=5.6753, loss=0.3398]"
     ]
    },
    {
     "name": "stdout",
     "output_type": "stream",
     "text": [
      "torch.Size([2277, 64, 41])\n",
      "Adjusted output shape: torch.Size([64, 2277, 41])\n"
     ]
    },
    {
     "name": "stderr",
     "output_type": "stream",
     "text": [
      "Val:  23%|██▎       | 10/43 [00:06<00:20,  1.61it/s, dist=5.7562, loss=0.3347]"
     ]
    },
    {
     "name": "stdout",
     "output_type": "stream",
     "text": [
      "torch.Size([1546, 64, 41])\n",
      "Adjusted output shape: torch.Size([64, 1546, 41])\n"
     ]
    },
    {
     "name": "stderr",
     "output_type": "stream",
     "text": [
      "Val:  26%|██▌       | 11/43 [00:06<00:17,  1.79it/s, dist=5.4986, loss=0.3215]"
     ]
    },
    {
     "name": "stdout",
     "output_type": "stream",
     "text": [
      "torch.Size([2264, 64, 41])\n",
      "Adjusted output shape: torch.Size([64, 2264, 41])\n"
     ]
    },
    {
     "name": "stderr",
     "output_type": "stream",
     "text": [
      "Val:  28%|██▊       | 12/43 [00:07<00:17,  1.78it/s, dist=5.5508, loss=0.3206]"
     ]
    },
    {
     "name": "stdout",
     "output_type": "stream",
     "text": [
      "torch.Size([1757, 64, 41])\n",
      "Adjusted output shape: torch.Size([64, 1757, 41])\n"
     ]
    },
    {
     "name": "stderr",
     "output_type": "stream",
     "text": [
      "Val:  30%|███       | 13/43 [00:07<00:16,  1.81it/s, dist=5.5397, loss=0.3163]"
     ]
    },
    {
     "name": "stdout",
     "output_type": "stream",
     "text": [
      "torch.Size([1641, 64, 41])\n",
      "Adjusted output shape: torch.Size([64, 1641, 41])\n"
     ]
    },
    {
     "name": "stderr",
     "output_type": "stream",
     "text": [
      "Val:  33%|███▎      | 14/43 [00:08<00:15,  1.91it/s, dist=5.3203, loss=0.3058]"
     ]
    },
    {
     "name": "stdout",
     "output_type": "stream",
     "text": [
      "torch.Size([2476, 64, 41])\n",
      "Adjusted output shape: torch.Size([64, 2476, 41])\n"
     ]
    },
    {
     "name": "stderr",
     "output_type": "stream",
     "text": [
      "Val:  35%|███▍      | 15/43 [00:08<00:14,  1.90it/s, dist=5.1906, loss=0.2977]"
     ]
    },
    {
     "name": "stdout",
     "output_type": "stream",
     "text": [
      "torch.Size([2465, 64, 41])\n",
      "Adjusted output shape: torch.Size([64, 2465, 41])\n"
     ]
    },
    {
     "name": "stderr",
     "output_type": "stream",
     "text": [
      "Val:  37%|███▋      | 16/43 [00:09<00:15,  1.78it/s, dist=5.2979, loss=0.3046]"
     ]
    },
    {
     "name": "stdout",
     "output_type": "stream",
     "text": [
      "torch.Size([3244, 64, 41])\n",
      "Adjusted output shape: torch.Size([64, 3244, 41])\n"
     ]
    },
    {
     "name": "stderr",
     "output_type": "stream",
     "text": [
      "Val:  40%|███▉      | 17/43 [00:10<00:17,  1.51it/s, dist=5.4164, loss=0.3032]"
     ]
    },
    {
     "name": "stdout",
     "output_type": "stream",
     "text": [
      "torch.Size([2853, 64, 41])\n",
      "Adjusted output shape: torch.Size([64, 2853, 41])\n"
     ]
    },
    {
     "name": "stderr",
     "output_type": "stream",
     "text": [
      "Val:  42%|████▏     | 18/43 [00:11<00:16,  1.54it/s, dist=5.3134, loss=0.2988]"
     ]
    },
    {
     "name": "stdout",
     "output_type": "stream",
     "text": [
      "torch.Size([2795, 64, 41])\n",
      "Adjusted output shape: torch.Size([64, 2795, 41])\n"
     ]
    },
    {
     "name": "stderr",
     "output_type": "stream",
     "text": [
      "Val:  44%|████▍     | 19/43 [00:11<00:15,  1.55it/s, dist=5.2788, loss=0.3011]"
     ]
    },
    {
     "name": "stdout",
     "output_type": "stream",
     "text": [
      "torch.Size([2027, 64, 41])\n",
      "Adjusted output shape: torch.Size([64, 2027, 41])\n"
     ]
    },
    {
     "name": "stderr",
     "output_type": "stream",
     "text": [
      "Val:  47%|████▋     | 20/43 [00:12<00:14,  1.54it/s, dist=5.2508, loss=0.2971]"
     ]
    },
    {
     "name": "stdout",
     "output_type": "stream",
     "text": [
      "torch.Size([2686, 64, 41])\n",
      "Adjusted output shape: torch.Size([64, 2686, 41])\n"
     ]
    },
    {
     "name": "stderr",
     "output_type": "stream",
     "text": [
      "Val:  49%|████▉     | 21/43 [00:13<00:14,  1.48it/s, dist=5.3438, loss=0.2997]"
     ]
    },
    {
     "name": "stdout",
     "output_type": "stream",
     "text": [
      "torch.Size([2068, 64, 41])\n",
      "Adjusted output shape: torch.Size([64, 2068, 41])\n"
     ]
    },
    {
     "name": "stderr",
     "output_type": "stream",
     "text": [
      "Val:  51%|█████     | 22/43 [00:13<00:13,  1.60it/s, dist=5.2493, loss=0.2966]"
     ]
    },
    {
     "name": "stdout",
     "output_type": "stream",
     "text": [
      "torch.Size([1543, 64, 41])\n",
      "Adjusted output shape: torch.Size([64, 1543, 41])\n"
     ]
    },
    {
     "name": "stderr",
     "output_type": "stream",
     "text": [
      "Val:  53%|█████▎    | 23/43 [00:13<00:11,  1.76it/s, dist=5.2058, loss=0.2966]"
     ]
    },
    {
     "name": "stdout",
     "output_type": "stream",
     "text": [
      "torch.Size([3260, 64, 41])\n",
      "Adjusted output shape: torch.Size([64, 3260, 41])\n"
     ]
    },
    {
     "name": "stderr",
     "output_type": "stream",
     "text": [
      "Val:  56%|█████▌    | 24/43 [00:14<00:12,  1.47it/s, dist=5.3796, loss=0.2978]"
     ]
    },
    {
     "name": "stdout",
     "output_type": "stream",
     "text": [
      "torch.Size([3210, 64, 41])\n",
      "Adjusted output shape: torch.Size([64, 3210, 41])\n"
     ]
    },
    {
     "name": "stderr",
     "output_type": "stream",
     "text": [
      "Val:  58%|█████▊    | 25/43 [00:15<00:12,  1.43it/s, dist=5.4287, loss=0.2992]"
     ]
    },
    {
     "name": "stdout",
     "output_type": "stream",
     "text": [
      "torch.Size([2084, 64, 41])\n",
      "Adjusted output shape: torch.Size([64, 2084, 41])\n"
     ]
    },
    {
     "name": "stderr",
     "output_type": "stream",
     "text": [
      "Val:  60%|██████    | 26/43 [00:16<00:11,  1.51it/s, dist=5.5511, loss=0.3009]"
     ]
    },
    {
     "name": "stdout",
     "output_type": "stream",
     "text": [
      "torch.Size([2158, 64, 41])\n",
      "Adjusted output shape: torch.Size([64, 2158, 41])\n"
     ]
    },
    {
     "name": "stderr",
     "output_type": "stream",
     "text": [
      "Val:  63%|██████▎   | 27/43 [00:16<00:09,  1.63it/s, dist=5.5330, loss=0.3028]"
     ]
    },
    {
     "name": "stdout",
     "output_type": "stream",
     "text": [
      "torch.Size([1591, 64, 41])\n",
      "Adjusted output shape: torch.Size([64, 1591, 41])\n"
     ]
    },
    {
     "name": "stderr",
     "output_type": "stream",
     "text": [
      "Val:  65%|██████▌   | 28/43 [00:17<00:08,  1.76it/s, dist=5.4699, loss=0.3027]"
     ]
    },
    {
     "name": "stdout",
     "output_type": "stream",
     "text": [
      "torch.Size([1783, 64, 41])\n",
      "Adjusted output shape: torch.Size([64, 1783, 41])\n"
     ]
    },
    {
     "name": "stderr",
     "output_type": "stream",
     "text": [
      "Val:  67%|██████▋   | 29/43 [00:17<00:07,  1.87it/s, dist=5.3852, loss=0.3000]"
     ]
    },
    {
     "name": "stdout",
     "output_type": "stream",
     "text": [
      "torch.Size([1776, 64, 41])\n",
      "Adjusted output shape: torch.Size([64, 1776, 41])\n"
     ]
    },
    {
     "name": "stderr",
     "output_type": "stream",
     "text": [
      "Val:  70%|██████▉   | 30/43 [00:18<00:06,  1.91it/s, dist=5.3859, loss=0.3016]"
     ]
    },
    {
     "name": "stdout",
     "output_type": "stream",
     "text": [
      "torch.Size([2078, 64, 41])\n",
      "Adjusted output shape: torch.Size([64, 2078, 41])\n"
     ]
    },
    {
     "name": "stderr",
     "output_type": "stream",
     "text": [
      "Val:  72%|███████▏  | 31/43 [00:18<00:06,  1.92it/s, dist=5.3191, loss=0.3011]"
     ]
    },
    {
     "name": "stdout",
     "output_type": "stream",
     "text": [
      "torch.Size([1443, 64, 41])\n",
      "Adjusted output shape: torch.Size([64, 1443, 41])\n"
     ]
    },
    {
     "name": "stderr",
     "output_type": "stream",
     "text": [
      "Val:  74%|███████▍  | 32/43 [00:19<00:05,  2.06it/s, dist=5.4165, loss=0.3095]"
     ]
    },
    {
     "name": "stdout",
     "output_type": "stream",
     "text": [
      "torch.Size([1906, 64, 41])\n",
      "Adjusted output shape: torch.Size([64, 1906, 41])\n"
     ]
    },
    {
     "name": "stderr",
     "output_type": "stream",
     "text": [
      "Val:  77%|███████▋  | 33/43 [00:19<00:04,  2.01it/s, dist=5.4403, loss=0.3133]"
     ]
    },
    {
     "name": "stdout",
     "output_type": "stream",
     "text": [
      "torch.Size([2189, 64, 41])\n",
      "Adjusted output shape: torch.Size([64, 2189, 41])\n"
     ]
    },
    {
     "name": "stderr",
     "output_type": "stream",
     "text": [
      "Val:  79%|███████▉  | 34/43 [00:20<00:04,  1.98it/s, dist=5.3745, loss=0.3103]"
     ]
    },
    {
     "name": "stdout",
     "output_type": "stream",
     "text": [
      "torch.Size([2095, 64, 41])\n",
      "Adjusted output shape: torch.Size([64, 2095, 41])\n"
     ]
    },
    {
     "name": "stderr",
     "output_type": "stream",
     "text": [
      "Val:  81%|████████▏ | 35/43 [00:20<00:04,  1.89it/s, dist=5.4004, loss=0.3104]"
     ]
    },
    {
     "name": "stdout",
     "output_type": "stream",
     "text": [
      "torch.Size([1511, 64, 41])\n",
      "Adjusted output shape: torch.Size([64, 1511, 41])\n"
     ]
    },
    {
     "name": "stderr",
     "output_type": "stream",
     "text": [
      "Val:  84%|████████▎ | 36/43 [00:21<00:03,  1.96it/s, dist=5.4375, loss=0.3147]"
     ]
    },
    {
     "name": "stdout",
     "output_type": "stream",
     "text": [
      "torch.Size([1813, 64, 41])\n",
      "Adjusted output shape: torch.Size([64, 1813, 41])\n"
     ]
    },
    {
     "name": "stderr",
     "output_type": "stream",
     "text": [
      "Val:  86%|████████▌ | 37/43 [00:21<00:02,  2.01it/s, dist=5.4755, loss=0.3192]"
     ]
    },
    {
     "name": "stdout",
     "output_type": "stream",
     "text": [
      "torch.Size([2890, 64, 41])\n",
      "Adjusted output shape: torch.Size([64, 2890, 41])\n"
     ]
    },
    {
     "name": "stderr",
     "output_type": "stream",
     "text": [
      "Val:  88%|████████▊ | 38/43 [00:22<00:02,  1.85it/s, dist=5.4428, loss=0.3185]"
     ]
    },
    {
     "name": "stdout",
     "output_type": "stream",
     "text": [
      "torch.Size([1518, 64, 41])\n",
      "Adjusted output shape: torch.Size([64, 1518, 41])\n"
     ]
    },
    {
     "name": "stderr",
     "output_type": "stream",
     "text": [
      "Val:  91%|█████████ | 39/43 [00:22<00:02,  1.96it/s, dist=5.4046, loss=0.3172]"
     ]
    },
    {
     "name": "stdout",
     "output_type": "stream",
     "text": [
      "torch.Size([1804, 64, 41])\n",
      "Adjusted output shape: torch.Size([64, 1804, 41])\n"
     ]
    },
    {
     "name": "stderr",
     "output_type": "stream",
     "text": [
      "Val:  93%|█████████▎| 40/43 [00:23<00:01,  1.99it/s, dist=5.3508, loss=0.3143]"
     ]
    },
    {
     "name": "stdout",
     "output_type": "stream",
     "text": [
      "torch.Size([1592, 64, 41])\n",
      "Adjusted output shape: torch.Size([64, 1592, 41])\n"
     ]
    },
    {
     "name": "stderr",
     "output_type": "stream",
     "text": [
      "Val:  95%|█████████▌| 41/43 [00:23<00:00,  2.04it/s, dist=5.3327, loss=0.3136]"
     ]
    },
    {
     "name": "stdout",
     "output_type": "stream",
     "text": [
      "torch.Size([2340, 64, 41])\n",
      "Adjusted output shape: torch.Size([64, 2340, 41])\n"
     ]
    },
    {
     "name": "stderr",
     "output_type": "stream",
     "text": [
      "Val: 100%|██████████| 43/43 [00:24<00:00,  1.94it/s, dist=5.4739, loss=0.3211]"
     ]
    },
    {
     "name": "stdout",
     "output_type": "stream",
     "text": [
      "torch.Size([3166, 15, 41])\n",
      "Adjusted output shape: torch.Size([15, 3166, 41])\n"
     ]
    },
    {
     "name": "stderr",
     "output_type": "stream",
     "text": [
      "                                                                              \r"
     ]
    },
    {
     "name": "stdout",
     "output_type": "stream",
     "text": [
      "\tTrain Loss 0.0971\t Learning Rate 0.0000010\n",
      "\tVal Dist 5.4739%\t Val Loss 0.3211\n",
      "Saved epoch model\n"
     ]
    },
    {
     "data": {
      "application/vnd.jupyter.widget-view+json": {
       "model_id": "",
       "version_major": 2,
       "version_minor": 0
      },
      "text/plain": [
       "VBox(children=(Label(value='158.798 MB of 311.441 MB uploaded\\r'), FloatProgress(value=0.5098800892033151, max…"
      ]
     },
     "metadata": {},
     "output_type": "display_data"
    },
    {
     "data": {
      "text/html": [
       "<style>\n",
       "    table.wandb td:nth-child(1) { padding: 0 10px; text-align: left ; width: auto;} td:nth-child(2) {text-align: left ; width: 100%}\n",
       "    .wandb-row { display: flex; flex-direction: row; flex-wrap: wrap; justify-content: flex-start; width: 100% }\n",
       "    .wandb-col { display: flex; flex-direction: column; flex-basis: 100%; flex: 1; padding: 10px; }\n",
       "    </style>\n",
       "<div class=\"wandb-row\"><div class=\"wandb-col\"><h3>Run history:</h3><br/><table class=\"wandb\"><tr><td>lr</td><td>██▄▄▃▃▃▂▂▁▁▁▁▁▁▁▁▁▁</td></tr><tr><td>train_loss</td><td>█▇▆█▅▂▅▂▂▂▃▃▂▁▂▃▃▂▄</td></tr><tr><td>valid_dist</td><td>▇▇██▂▂▅▄▄▄▁▃▂▂▁▂▃▂▂</td></tr><tr><td>valid_loss</td><td>▁▂▅▅▃▅▆▇▇█▅▇▆▆▅▆▆▇▆</td></tr></table><br/></div><div class=\"wandb-col\"><h3>Run summary:</h3><br/><table class=\"wandb\"><tr><td>lr</td><td>0.0</td></tr><tr><td>train_loss</td><td>0.09712</td></tr><tr><td>valid_dist</td><td>5.47386</td></tr><tr><td>valid_loss</td><td>0.3211</td></tr></table><br/></div></div>"
      ],
      "text/plain": [
       "<IPython.core.display.HTML object>"
      ]
     },
     "metadata": {},
     "output_type": "display_data"
    },
    {
     "data": {
      "text/html": [
       " View run <strong style=\"color:#cdcd00\">cnn_lstm_1_continue2</strong> at: <a href='https://wandb.ai/huiyanx/hw3p2-ablations/runs/748pdj5f' target=\"_blank\">https://wandb.ai/huiyanx/hw3p2-ablations/runs/748pdj5f</a><br/>Synced 5 W&B file(s), 0 media file(s), 0 artifact file(s) and 2 other file(s)"
      ],
      "text/plain": [
       "<IPython.core.display.HTML object>"
      ]
     },
     "metadata": {},
     "output_type": "display_data"
    },
    {
     "data": {
      "text/html": [
       "Find logs at: <code>./wandb/run-20240324_030511-748pdj5f/logs</code>"
      ],
      "text/plain": [
       "<IPython.core.display.HTML object>"
      ]
     },
     "metadata": {},
     "output_type": "display_data"
    }
   ],
   "source": [
    "torch.cuda.empty_cache()\n",
    "gc.collect()\n",
    "\n",
    "#TODO: Please complete the training loop\n",
    "\n",
    "for epoch in range(start, config['epochs']):\n",
    "\n",
    "    print(\"\\nEpoch: {}/{}\".format(epoch+1, config['epochs']))\n",
    "\n",
    "    curr_lr = float(optimizer.param_groups[0]['lr'])\n",
    "\n",
    "    train_loss              = train_model(model, train_loader, criterion, optimizer)\n",
    "    valid_loss, valid_dist  = validate_model(model, val_loader, decoder, phoneme_map= LABELS)\n",
    "    scheduler.step(valid_dist)\n",
    "\n",
    "    print(\"\\tTrain Loss {:.04f}\\t Learning Rate {:.07f}\".format(train_loss, curr_lr))\n",
    "    print(\"\\tVal Dist {:.04f}%\\t Val Loss {:.04f}\".format(valid_dist, valid_loss))\n",
    "\n",
    "\n",
    "    wandb.log({\n",
    "        'train_loss': train_loss,\n",
    "        'valid_dist': valid_dist,\n",
    "        'valid_loss': valid_loss,\n",
    "        'lr'        : curr_lr\n",
    "    })\n",
    "\n",
    "    save_model(model, optimizer, scheduler, ['valid_dist', valid_dist], epoch, epoch_model_path)\n",
    "    wandb.save(epoch_model_path)\n",
    "    print(\"Saved epoch model\")\n",
    "\n",
    "    if valid_dist <= best_lev_dist:\n",
    "        best_lev_dist = valid_dist\n",
    "        save_model(model, optimizer, scheduler, ['valid_dist', valid_dist], epoch, best_model_path)\n",
    "        wandb.save(best_model_path)\n",
    "        print(\"Saved best model\")\n",
    "      # You may find it interesting to exlplore Wandb Artifcats to version your models\n",
    "run.finish()"
   ]
  },
  {
   "cell_type": "code",
   "execution_count": 30,
   "metadata": {
    "colab": {
     "base_uri": "https://localhost:8080/",
     "height": 252,
     "referenced_widgets": [
      "5abbc1a347e647c191945d278ec97d33",
      "a7b108ca434f4f82bbe7a7a3564cab55",
      "7031ec2838a942278fde109a3b79cff7",
      "64fbd180f6a2404689ae2d698a513170",
      "b90df38d48e24c0eb6e9527600174209",
      "2a9c448d82cb4c11879a43c255379881",
      "578d0f5dd36443d1af25172d59663666",
      "7a551a5db57b4956802f4e534ddfc064"
     ]
    },
    "id": "MTDi-2fRTKfq",
    "outputId": "6ed19b1f-6416-4fec-8cf9-a1dec9e65683"
   },
   "outputs": [
    {
     "data": {
      "application/vnd.jupyter.widget-view+json": {
       "model_id": "",
       "version_major": 2,
       "version_minor": 0
      },
      "text/plain": [
       "VBox(children=(Label(value='89.186 MB of 311.441 MB uploaded\\r'), FloatProgress(value=0.2863637686198801, max=…"
      ]
     },
     "metadata": {},
     "output_type": "display_data"
    },
    {
     "data": {
      "text/html": [
       "<style>\n",
       "    table.wandb td:nth-child(1) { padding: 0 10px; text-align: left ; width: auto;} td:nth-child(2) {text-align: left ; width: 100%}\n",
       "    .wandb-row { display: flex; flex-direction: row; flex-wrap: wrap; justify-content: flex-start; width: 100% }\n",
       "    .wandb-col { display: flex; flex-direction: column; flex-basis: 100%; flex: 1; padding: 10px; }\n",
       "    </style>\n",
       "<div class=\"wandb-row\"><div class=\"wandb-col\"><h3>Run history:</h3><br/><table class=\"wandb\"><tr><td>lr</td><td>████▄▄▄▄▂▂▂▁</td></tr><tr><td>train_loss</td><td>▇█▆▆▄▄▃▃▂▂▁▁</td></tr><tr><td>valid_dist</td><td>█▇█▇▃▃▃▃▂▂▁▁</td></tr><tr><td>valid_loss</td><td>█▆█▇▁▁▁▂▁▂▂▂</td></tr></table><br/></div><div class=\"wandb-col\"><h3>Run summary:</h3><br/><table class=\"wandb\"><tr><td>lr</td><td>0.00025</td></tr><tr><td>train_loss</td><td>0.12455</td></tr><tr><td>valid_dist</td><td>5.57052</td></tr><tr><td>valid_loss</td><td>0.30276</td></tr></table><br/></div></div>"
      ],
      "text/plain": [
       "<IPython.core.display.HTML object>"
      ]
     },
     "metadata": {},
     "output_type": "display_data"
    },
    {
     "data": {
      "text/html": [
       " View run <strong style=\"color:#cdcd00\">cnn_lstm_1_continue</strong> at: <a href='https://wandb.ai/huiyanx/hw3p2-ablations/runs/qnz11lty' target=\"_blank\">https://wandb.ai/huiyanx/hw3p2-ablations/runs/qnz11lty</a><br/>Synced 5 W&B file(s), 0 media file(s), 0 artifact file(s) and 2 other file(s)"
      ],
      "text/plain": [
       "<IPython.core.display.HTML object>"
      ]
     },
     "metadata": {},
     "output_type": "display_data"
    },
    {
     "data": {
      "text/html": [
       "Find logs at: <code>./wandb/run-20240324_015049-qnz11lty/logs</code>"
      ],
      "text/plain": [
       "<IPython.core.display.HTML object>"
      ]
     },
     "metadata": {},
     "output_type": "display_data"
    }
   ],
   "source": [
    "run.finish()"
   ]
  },
  {
   "cell_type": "markdown",
   "metadata": {
    "id": "M2H4EEj-sD32"
   },
   "source": [
    "# Generate Predictions and Submit to Kaggle"
   ]
  },
  {
   "cell_type": "code",
   "execution_count": 70,
   "metadata": {
    "id": "tIgpulUhilWW"
   },
   "outputs": [],
   "source": [
    "best = load_model(best_model_path,model,'valid_dist')\n",
    "model = best[0]"
   ]
  },
  {
   "cell_type": "code",
   "execution_count": 43,
   "metadata": {
    "colab": {
     "base_uri": "https://localhost:8080/",
     "height": 373
    },
    "id": "2moYJhTWsOG-",
    "outputId": "e22e287c-2caa-4261-a7e7-f580fddbfa99"
   },
   "outputs": [
    {
     "name": "stdout",
     "output_type": "stream",
     "text": [
      "Testing\n"
     ]
    }
   ],
   "source": [
    "#TODO: Make predictions\n",
    "\n",
    "# Follow the steps below:\n",
    "# 1. Create a new object for CTCBeamDecoder with larger (why?) number of beams\n",
    "# 2. Get prediction string by decoding the results of the beam decoder\n",
    "TEST_BEAM_WIDTH = 5\n",
    "\n",
    "test_decoder = CTCBeamDecoder(LABELS, beam_width=TEST_BEAM_WIDTH, log_probs_input=True)\n",
    "results = []\n",
    "\n",
    "model.eval()\n",
    "print(\"Testing\")\n",
    "\n",
    "for data in test_loader:\n",
    "    x, lx = data\n",
    "    x = x.to(device)\n",
    "\n",
    "    with torch.no_grad():\n",
    "        h, lh = model(x, lx)\n",
    "\n",
    "    #h = torch.permute(h, (1, 0, 2))\n",
    "    prediction_string = decode_prediction(h, lh, test_decoder)\n",
    "    results.extend(prediction_string)\n",
    "\n",
    "    del x, lx, h, lh\n",
    "    torch.cuda.empty_cache()\n"
   ]
  },
  {
   "cell_type": "code",
   "execution_count": 44,
   "metadata": {
    "colab": {
     "base_uri": "https://localhost:8080/"
    },
    "id": "PBbkdXUJlhrP",
    "outputId": "2046177e-0273-49e7-f7a4-d10e6f1c3eda"
   },
   "outputs": [
    {
     "name": "stdout",
     "output_type": "stream",
     "text": [
      "-hihoptDErwUdbistufcrdInR-tRnApsAndkErAtsAndbruzdpAtetozAndf@tmAtAnpisAztubiledAldWtAndTIk-pEpRdflWRf@tAndscs-\n"
     ]
    }
   ],
   "source": [
    "print(results[0])"
   ]
  },
  {
   "cell_type": "code",
   "execution_count": 45,
   "metadata": {
    "id": "d70dvu_lsMlv"
   },
   "outputs": [],
   "source": [
    "data_dir = f\"{root}/test-clean/random_submission.csv\"\n",
    "df = pd.read_csv(data_dir)\n",
    "df.label = results\n",
    "df.to_csv('submission_f2.csv', index = False)"
   ]
  },
  {
   "cell_type": "code",
   "execution_count": null,
   "metadata": {
    "id": "m1sZmEIs4yIz"
   },
   "outputs": [],
   "source": [
    "!kaggle competitions submit -c hw3p2asr-s24 -f submission.csv -m \"I made it!\""
   ]
  }
 ],
 "metadata": {
  "accelerator": "GPU",
  "colab": {
   "collapsed_sections": [
    "rd5aNaLVoR_g",
    "qpYExu4vT4_g",
    "M2H4EEj-sD32"
   ],
   "provenance": []
  },
  "kernelspec": {
   "display_name": "Python 3 (ipykernel)",
   "language": "python",
   "name": "python3"
  },
  "language_info": {
   "codemirror_mode": {
    "name": "ipython",
    "version": 3
   },
   "file_extension": ".py",
   "mimetype": "text/x-python",
   "name": "python",
   "nbconvert_exporter": "python",
   "pygments_lexer": "ipython3",
   "version": "3.8.10"
  },
  "vscode": {
   "interpreter": {
    "hash": "bd385fe162c5ca0c84973b7dd5c518456272446b2b64e67c2a69f949ca7a1754"
   }
  },
  "widgets": {
   "application/vnd.jupyter.widget-state+json": {
    "2a9c448d82cb4c11879a43c255379881": {
     "model_module": "@jupyter-widgets/controls",
     "model_module_version": "1.5.0",
     "model_name": "DescriptionStyleModel",
     "state": {
      "_model_module": "@jupyter-widgets/controls",
      "_model_module_version": "1.5.0",
      "_model_name": "DescriptionStyleModel",
      "_view_count": null,
      "_view_module": "@jupyter-widgets/base",
      "_view_module_version": "1.2.0",
      "_view_name": "StyleView",
      "description_width": ""
     }
    },
    "578d0f5dd36443d1af25172d59663666": {
     "model_module": "@jupyter-widgets/base",
     "model_module_version": "1.2.0",
     "model_name": "LayoutModel",
     "state": {
      "_model_module": "@jupyter-widgets/base",
      "_model_module_version": "1.2.0",
      "_model_name": "LayoutModel",
      "_view_count": null,
      "_view_module": "@jupyter-widgets/base",
      "_view_module_version": "1.2.0",
      "_view_name": "LayoutView",
      "align_content": null,
      "align_items": null,
      "align_self": null,
      "border": null,
      "bottom": null,
      "display": null,
      "flex": null,
      "flex_flow": null,
      "grid_area": null,
      "grid_auto_columns": null,
      "grid_auto_flow": null,
      "grid_auto_rows": null,
      "grid_column": null,
      "grid_gap": null,
      "grid_row": null,
      "grid_template_areas": null,
      "grid_template_columns": null,
      "grid_template_rows": null,
      "height": null,
      "justify_content": null,
      "justify_items": null,
      "left": null,
      "margin": null,
      "max_height": null,
      "max_width": null,
      "min_height": null,
      "min_width": null,
      "object_fit": null,
      "object_position": null,
      "order": null,
      "overflow": null,
      "overflow_x": null,
      "overflow_y": null,
      "padding": null,
      "right": null,
      "top": null,
      "visibility": null,
      "width": null
     }
    },
    "5abbc1a347e647c191945d278ec97d33": {
     "model_module": "@jupyter-widgets/controls",
     "model_module_version": "1.5.0",
     "model_name": "VBoxModel",
     "state": {
      "_dom_classes": [],
      "_model_module": "@jupyter-widgets/controls",
      "_model_module_version": "1.5.0",
      "_model_name": "VBoxModel",
      "_view_count": null,
      "_view_module": "@jupyter-widgets/controls",
      "_view_module_version": "1.5.0",
      "_view_name": "VBoxView",
      "box_style": "",
      "children": [
       "IPY_MODEL_a7b108ca434f4f82bbe7a7a3564cab55",
       "IPY_MODEL_7031ec2838a942278fde109a3b79cff7"
      ],
      "layout": "IPY_MODEL_64fbd180f6a2404689ae2d698a513170"
     }
    },
    "64fbd180f6a2404689ae2d698a513170": {
     "model_module": "@jupyter-widgets/base",
     "model_module_version": "1.2.0",
     "model_name": "LayoutModel",
     "state": {
      "_model_module": "@jupyter-widgets/base",
      "_model_module_version": "1.2.0",
      "_model_name": "LayoutModel",
      "_view_count": null,
      "_view_module": "@jupyter-widgets/base",
      "_view_module_version": "1.2.0",
      "_view_name": "LayoutView",
      "align_content": null,
      "align_items": null,
      "align_self": null,
      "border": null,
      "bottom": null,
      "display": null,
      "flex": null,
      "flex_flow": null,
      "grid_area": null,
      "grid_auto_columns": null,
      "grid_auto_flow": null,
      "grid_auto_rows": null,
      "grid_column": null,
      "grid_gap": null,
      "grid_row": null,
      "grid_template_areas": null,
      "grid_template_columns": null,
      "grid_template_rows": null,
      "height": null,
      "justify_content": null,
      "justify_items": null,
      "left": null,
      "margin": null,
      "max_height": null,
      "max_width": null,
      "min_height": null,
      "min_width": null,
      "object_fit": null,
      "object_position": null,
      "order": null,
      "overflow": null,
      "overflow_x": null,
      "overflow_y": null,
      "padding": null,
      "right": null,
      "top": null,
      "visibility": null,
      "width": null
     }
    },
    "7031ec2838a942278fde109a3b79cff7": {
     "model_module": "@jupyter-widgets/controls",
     "model_module_version": "1.5.0",
     "model_name": "FloatProgressModel",
     "state": {
      "_dom_classes": [],
      "_model_module": "@jupyter-widgets/controls",
      "_model_module_version": "1.5.0",
      "_model_name": "FloatProgressModel",
      "_view_count": null,
      "_view_module": "@jupyter-widgets/controls",
      "_view_module_version": "1.5.0",
      "_view_name": "ProgressView",
      "bar_style": "",
      "description": "",
      "description_tooltip": null,
      "layout": "IPY_MODEL_578d0f5dd36443d1af25172d59663666",
      "max": 1,
      "min": 0,
      "orientation": "horizontal",
      "style": "IPY_MODEL_7a551a5db57b4956802f4e534ddfc064",
      "value": 1
     }
    },
    "7a551a5db57b4956802f4e534ddfc064": {
     "model_module": "@jupyter-widgets/controls",
     "model_module_version": "1.5.0",
     "model_name": "ProgressStyleModel",
     "state": {
      "_model_module": "@jupyter-widgets/controls",
      "_model_module_version": "1.5.0",
      "_model_name": "ProgressStyleModel",
      "_view_count": null,
      "_view_module": "@jupyter-widgets/base",
      "_view_module_version": "1.2.0",
      "_view_name": "StyleView",
      "bar_color": null,
      "description_width": ""
     }
    },
    "a7b108ca434f4f82bbe7a7a3564cab55": {
     "model_module": "@jupyter-widgets/controls",
     "model_module_version": "1.5.0",
     "model_name": "LabelModel",
     "state": {
      "_dom_classes": [],
      "_model_module": "@jupyter-widgets/controls",
      "_model_module_version": "1.5.0",
      "_model_name": "LabelModel",
      "_view_count": null,
      "_view_module": "@jupyter-widgets/controls",
      "_view_module_version": "1.5.0",
      "_view_name": "LabelView",
      "description": "",
      "description_tooltip": null,
      "layout": "IPY_MODEL_b90df38d48e24c0eb6e9527600174209",
      "placeholder": "​",
      "style": "IPY_MODEL_2a9c448d82cb4c11879a43c255379881",
      "value": "311.439 MB of 311.439 MB uploaded\r"
     }
    },
    "b90df38d48e24c0eb6e9527600174209": {
     "model_module": "@jupyter-widgets/base",
     "model_module_version": "1.2.0",
     "model_name": "LayoutModel",
     "state": {
      "_model_module": "@jupyter-widgets/base",
      "_model_module_version": "1.2.0",
      "_model_name": "LayoutModel",
      "_view_count": null,
      "_view_module": "@jupyter-widgets/base",
      "_view_module_version": "1.2.0",
      "_view_name": "LayoutView",
      "align_content": null,
      "align_items": null,
      "align_self": null,
      "border": null,
      "bottom": null,
      "display": null,
      "flex": null,
      "flex_flow": null,
      "grid_area": null,
      "grid_auto_columns": null,
      "grid_auto_flow": null,
      "grid_auto_rows": null,
      "grid_column": null,
      "grid_gap": null,
      "grid_row": null,
      "grid_template_areas": null,
      "grid_template_columns": null,
      "grid_template_rows": null,
      "height": null,
      "justify_content": null,
      "justify_items": null,
      "left": null,
      "margin": null,
      "max_height": null,
      "max_width": null,
      "min_height": null,
      "min_width": null,
      "object_fit": null,
      "object_position": null,
      "order": null,
      "overflow": null,
      "overflow_x": null,
      "overflow_y": null,
      "padding": null,
      "right": null,
      "top": null,
      "visibility": null,
      "width": null
     }
    }
   }
  }
 },
 "nbformat": 4,
 "nbformat_minor": 4
}
